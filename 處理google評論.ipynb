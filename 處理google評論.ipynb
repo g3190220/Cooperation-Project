{
 "cells": [
  {
   "cell_type": "markdown",
   "id": "fe494475-d9ac-4caf-87a2-4c56cb59d0aa",
   "metadata": {
    "tags": []
   },
   "source": [
    "## import 套件"
   ]
  },
  {
   "cell_type": "code",
   "execution_count": 29,
   "id": "4a5fb651-1001-4c03-9b6f-dd1d4229fa46",
   "metadata": {},
   "outputs": [],
   "source": [
    "import pandas as pd\n",
    "import json"
   ]
  },
  {
   "cell_type": "markdown",
   "id": "27b68d84-41d4-46a7-897f-2a564aef7eb1",
   "metadata": {},
   "source": [
    "## 設定file_name"
   ]
  },
  {
   "cell_type": "code",
   "execution_count": 55,
   "id": "751c0fd2-54c7-4caa-aefc-d448598fcb15",
   "metadata": {},
   "outputs": [
    {
     "data": {
      "text/plain": [
       "'google_hotel_data(中文)/google_hotel_data20211025.json'"
      ]
     },
     "execution_count": 55,
     "metadata": {},
     "output_type": "execute_result"
    }
   ],
   "source": [
    "file_name = 'google_hotel_data20211025'\n",
    "path = 'google_hotel_data(中文)/'+ file_name + '.json'"
   ]
  },
  {
   "cell_type": "markdown",
   "id": "1e64b9d5-2ad4-4f51-8e7d-349a4201ef6d",
   "metadata": {
    "tags": []
   },
   "source": [
    "## 處理資料"
   ]
  },
  {
   "cell_type": "code",
   "execution_count": null,
   "id": "37be83df-f969-4333-afd1-a45791ad5d2d",
   "metadata": {},
   "outputs": [],
   "source": [
    "df = pd.read_json(path,lines=True)\n",
    "# df[0]"
   ]
  },
  {
   "cell_type": "code",
   "execution_count": null,
   "id": "51508db0-104b-4e8a-815a-8bfc5b72decc",
   "metadata": {},
   "outputs": [],
   "source": [
    "df2 = pd.json_normalize(df[0])\n",
    "# df2"
   ]
  },
  {
   "cell_type": "markdown",
   "id": "bc5c342a-c542-45fb-8f6e-cf8d04404028",
   "metadata": {
    "tags": []
   },
   "source": [
    "## 存檔"
   ]
  },
  {
   "cell_type": "code",
   "execution_count": 60,
   "id": "80a0d73e-2ddc-4f84-85d2-e33f12bca8d5",
   "metadata": {},
   "outputs": [
    {
     "name": "stdout",
     "output_type": "stream",
     "text": [
      "clean_data/google_hotel_data20211025.csv\n"
     ]
    }
   ],
   "source": [
    "path = 'clean_data/'+ file_name +'.csv'\n",
    "print(path)\n",
    "df2.to_csv(path, index=False, encoding='utf_8_sig') #忽略索引"
   ]
  },
  {
   "cell_type": "code",
   "execution_count": 62,
   "id": "9b6b7369-2f51-4e81-835b-4e697be43683",
   "metadata": {},
   "outputs": [],
   "source": [
    "# df3 = pd.read_csv(path)\n",
    "# df3"
   ]
  },
  {
   "cell_type": "markdown",
   "id": "e01412fc-c483-45b4-b6bf-82af8b7f70c8",
   "metadata": {},
   "source": [
    "## Code"
   ]
  },
  {
   "cell_type": "code",
   "execution_count": 66,
   "id": "d50ef87d-1e0b-4490-bee2-bf8089c86eca",
   "metadata": {},
   "outputs": [],
   "source": [
    "def run(file):\n",
    "    file_name = file\n",
    "    path = 'google_hotel_data(中文)/'+ file_name + '.json'\n",
    "    df = pd.read_json(path,lines=True)\n",
    "    df2 = pd.json_normalize(df[0])\n",
    "    path = 'clean_data/'+ file_name +'.csv'\n",
    "    df2.to_csv(path, index=False, encoding='utf_8_sig') #忽略索引\n",
    "    print('save'+ path)"
   ]
  },
  {
   "cell_type": "code",
   "execution_count": 67,
   "id": "a8237181-6a0a-4b4a-9d12-0041f10a8d52",
   "metadata": {},
   "outputs": [
    {
     "data": {
      "text/plain": [
       "9"
      ]
     },
     "execution_count": 67,
     "metadata": {},
     "output_type": "execute_result"
    }
   ],
   "source": [
    "file_list = ['google_hotel_data20211025','google_hotel_data20211025_2','google_hotel_data20211025_3','google_hotel_data20211026','google_hotel_data20211026_2','google_hotel_data20211026_3','google_hotel_data20211027','google_hotel_data20211027_2','google_hotel_data20211027_3']\n",
    "len(file_list)"
   ]
  },
  {
   "cell_type": "code",
   "execution_count": 68,
   "id": "dc6fb55b-94fa-4909-abe1-aa85959a0b3d",
   "metadata": {},
   "outputs": [
    {
     "name": "stdout",
     "output_type": "stream",
     "text": [
      "saveclean_data/google_hotel_data20211025.csv\n",
      "saveclean_data/google_hotel_data20211025_2.csv\n",
      "saveclean_data/google_hotel_data20211025_3.csv\n",
      "saveclean_data/google_hotel_data20211026.csv\n",
      "saveclean_data/google_hotel_data20211026_2.csv\n",
      "saveclean_data/google_hotel_data20211026_3.csv\n",
      "saveclean_data/google_hotel_data20211027.csv\n",
      "saveclean_data/google_hotel_data20211027_2.csv\n",
      "saveclean_data/google_hotel_data20211027_3.csv\n",
      "done\n"
     ]
    }
   ],
   "source": [
    "for i in file_list:\n",
    "    run(i)\n",
    "print('done')"
   ]
  },
  {
   "cell_type": "code",
   "execution_count": 70,
   "id": "699afda1-5597-47b3-9c5e-21332bce47d1",
   "metadata": {},
   "outputs": [
    {
     "data": {
      "text/html": [
       "<div>\n",
       "<style scoped>\n",
       "    .dataframe tbody tr th:only-of-type {\n",
       "        vertical-align: middle;\n",
       "    }\n",
       "\n",
       "    .dataframe tbody tr th {\n",
       "        vertical-align: top;\n",
       "    }\n",
       "\n",
       "    .dataframe thead th {\n",
       "        text-align: right;\n",
       "    }\n",
       "</style>\n",
       "<table border=\"1\" class=\"dataframe\">\n",
       "  <thead>\n",
       "    <tr style=\"text-align: right;\">\n",
       "      <th></th>\n",
       "      <th>hotelName</th>\n",
       "      <th>hotelDetail</th>\n",
       "      <th>comment_tag</th>\n",
       "      <th>summary</th>\n",
       "      <th>summery_description</th>\n",
       "      <th>summery_special_tag</th>\n",
       "      <th>summary_score_tag</th>\n",
       "      <th>summary_reviews</th>\n",
       "    </tr>\n",
       "  </thead>\n",
       "  <tbody>\n",
       "    <tr>\n",
       "      <th>0</th>\n",
       "      <td>瑞穗檳城休閒渡假農莊</td>\n",
       "      <td>978台灣花蓮縣瑞穗鄉中山路二段111號•+886 972 507 182</td>\n",
       "      <td>[]</td>\n",
       "      <td>在 38 則評論中，獲得 4.1 顆星 (滿分為 5 顆星)。很好。</td>\n",
       "      <td>NaN</td>\n",
       "      <td>['可攜帶寵物 : 在附近類似的飯店中，只有 4% 允許攜帶寵物', '地點絕佳 : 房客喜...</td>\n",
       "      <td>['', '4.1很好\\xa0|\\xa038 則評論']</td>\n",
       "      <td>['陳遊客\"價格合理 舒適的房間 老闆娘人很好還會自己做早餐給旅客 重點是早餐吃到飽\"', ...</td>\n",
       "    </tr>\n",
       "    <tr>\n",
       "      <th>1</th>\n",
       "      <td>Easy Life 簡單生活。民宿</td>\n",
       "      <td>950台灣台東縣台東市中華路一段892巷136號</td>\n",
       "      <td>['廚房廚房在 24 則 Google 評論中有提到92% 的評論持正面評價 ', '停車場...</td>\n",
       "      <td>在 385 則評論中，獲得 4.6 顆星 (滿分為 5 顆星)。非常好。</td>\n",
       "      <td>NaN</td>\n",
       "      <td>['評分最高 : 這間飯店的使用者評分在這個地區名列前茅', '評價絕佳的衛浴設備 : 房客...</td>\n",
       "      <td>['', '4.6非常好\\xa0|\\xa0385 則評論']</td>\n",
       "      <td>['Kenji\"房子設計的很棒 房間採光很好 大廳挑高氣派 房價合理 台東必住民宿\"', '...</td>\n",
       "    </tr>\n",
       "    <tr>\n",
       "      <th>2</th>\n",
       "      <td>Hai Sheng Wei B&amp;B</td>\n",
       "      <td>3 星級飯店No.91, Qixing St., Xincheng Township, 新城...</td>\n",
       "      <td>[]</td>\n",
       "      <td>在 1 則評論中，獲得 5.0 顆星 (滿分為 5 顆星)。非常好。</td>\n",
       "      <td>NaN</td>\n",
       "      <td>['評分最高 : 這間飯店的使用者評分在這個地區名列前茅', '地點絕佳 : 房客喜歡這間飯...</td>\n",
       "      <td>['', '5.0非常好\\xa0|\\xa01 則評論']</td>\n",
       "      <td>[]</td>\n",
       "    </tr>\n",
       "    <tr>\n",
       "      <th>3</th>\n",
       "      <td>力麗哲園 - 日潭館</td>\n",
       "      <td>4 星級飯店555台灣南投縣魚池鄉水秀街7號•+886 4 9285 0022</td>\n",
       "      <td>['大自然大自然在 48 則 Google 評論中有提到88% 的評論持正面評價 ', '設...</td>\n",
       "      <td>在 608 則評論中，獲得 4.2 顆星 (滿分為 5 顆星)。很好。</td>\n",
       "      <td>NaN</td>\n",
       "      <td>['免費停車場 : 在附近類似的飯店中，有 66% 提供免費停車', '地點絕佳 : 房客喜...</td>\n",
       "      <td>['', '4.2很好\\xa0|\\xa0608 則評論']</td>\n",
       "      <td>['黃彬哲\"風景幽美，靠近湖邊的地方，地點適中，房間優雅清潔衛生，服務親切，高貴不貴。\"',...</td>\n",
       "    </tr>\n",
       "    <tr>\n",
       "      <th>4</th>\n",
       "      <td>逢甲S+</td>\n",
       "      <td>407台灣台中市西屯區西屯路二段湳仔巷9-11號•+886 929 583 637</td>\n",
       "      <td>[]</td>\n",
       "      <td>在 2 則評論中，獲得 3.0 顆星 (滿分為 5 顆星)。一般。</td>\n",
       "      <td>NaN</td>\n",
       "      <td>[]</td>\n",
       "      <td>['', '3.0一般\\xa0|\\xa02 則評論']</td>\n",
       "      <td>[]</td>\n",
       "    </tr>\n",
       "    <tr>\n",
       "      <th>...</th>\n",
       "      <td>...</td>\n",
       "      <td>...</td>\n",
       "      <td>...</td>\n",
       "      <td>...</td>\n",
       "      <td>...</td>\n",
       "      <td>...</td>\n",
       "      <td>...</td>\n",
       "      <td>...</td>\n",
       "    </tr>\n",
       "    <tr>\n",
       "      <th>1182</th>\n",
       "      <td>大新大旅社</td>\n",
       "      <td>712台灣台南市新化區正新路206號•+886 6 590 5166</td>\n",
       "      <td>[]</td>\n",
       "      <td>在 21 則評論中，獲得 3.9 顆星 (滿分為 5 顆星)。良好。</td>\n",
       "      <td>NaN</td>\n",
       "      <td>[]</td>\n",
       "      <td>['', '3.9良好\\xa0|\\xa021 則評論']</td>\n",
       "      <td>['黃心怡\"環境還算蠻乾淨的，老闆娘跟老闆人也不錯\"', 'YungLong Du\"價格親民...</td>\n",
       "    </tr>\n",
       "    <tr>\n",
       "      <th>1183</th>\n",
       "      <td>H VILLA INN 清水漾</td>\n",
       "      <td>3 星級飯店702台灣台南市南區萬年二街61號•+886 6 296 5888</td>\n",
       "      <td>['氣氛氣氛在 55 則 Google 評論中有提到95% 的評論持正面評價 ', '夫妻/...</td>\n",
       "      <td>在 1,262 則評論中，獲得 4.1 顆星 (滿分為 5 顆星)。很好。</td>\n",
       "      <td>NaN</td>\n",
       "      <td>[]</td>\n",
       "      <td>['', '4.1很好\\xa0|\\xa01,262 則評論']</td>\n",
       "      <td>['鄧貞瑋\"酒店同價格，位置偏僻，戶外景觀池（有SPA功能）就在停車位旁邊。。\"', '陸怡...</td>\n",
       "    </tr>\n",
       "    <tr>\n",
       "      <th>1184</th>\n",
       "      <td>民生果園山莊</td>\n",
       "      <td>546台灣南投縣仁愛鄉仁和路171號•+886 4 9280 2364</td>\n",
       "      <td>['設施設施在 24 則 Google 評論中有提到54% 的評論持正面評價 ', '早餐早...</td>\n",
       "      <td>在 333 則評論中，獲得 3.7 顆星 (滿分為 5 顆星)。良好。</td>\n",
       "      <td>NaN</td>\n",
       "      <td>['免費停車場 : 在附近類似的飯店中，有 85% 提供免費停車', '可攜帶寵物 : 在附...</td>\n",
       "      <td>['', '3.7良好\\xa0|\\xa0333 則評論']</td>\n",
       "      <td>['黃芃滋\"民宿房間很乾淨。料理很好吃。民宿主人很客氣。風景很美。夜晚很安靜。\"', 'Yi...</td>\n",
       "    </tr>\n",
       "    <tr>\n",
       "      <th>1185</th>\n",
       "      <td>四重溪牡丹風情溫泉行館</td>\n",
       "      <td>3 星級飯店944台灣屏東縣車城鄉溫泉路251-68號•+886 8 882 3588</td>\n",
       "      <td>['健身健身在 163 則 Google 評論中有提到45% 的評論持正面評價 ', '游泳...</td>\n",
       "      <td>在 1,163 則評論中，獲得 3.6 顆星 (滿分為 5 顆星)。良好。</td>\n",
       "      <td>NaN</td>\n",
       "      <td>['游泳池 : 在附近類似的飯店中，只有 10% 設有游泳池', '免費停車場 : 在附近類...</td>\n",
       "      <td>['', '3.6良好\\xa0|\\xa01,163 則評論']</td>\n",
       "      <td>['陳俊諺\"餐點口味樣式很棒，可惜房間受限於環境較濕、蚊蟲較多。\"', 'PING\"餐廳有控...</td>\n",
       "    </tr>\n",
       "    <tr>\n",
       "      <th>1186</th>\n",
       "      <td>I Sky Villa</td>\n",
       "      <td>361台灣苗栗縣造橋鄉造橋村15鄰東坑9-3號•+886 3 754 0330</td>\n",
       "      <td>['早餐早餐在 20 則 Google 評論中有提到100% 的評論持正面評價 ', '服務...</td>\n",
       "      <td>在 108 則評論中，獲得 4.8 顆星 (滿分為 5 顆星)。非常好。</td>\n",
       "      <td>NaN</td>\n",
       "      <td>['評分最高 : 這間飯店的使用者評分在這個地區名列前茅', '評價絕佳的客房清潔服務 : ...</td>\n",
       "      <td>['', '4.8非常好\\xa0|\\xa0108 則評論']</td>\n",
       "      <td>['Joshua Fu\"很棒的民宿，主人親切有禮，環境舒適乾淨，早餐營養均衡，值得推薦！\"'...</td>\n",
       "    </tr>\n",
       "  </tbody>\n",
       "</table>\n",
       "<p>1187 rows × 8 columns</p>\n",
       "</div>"
      ],
      "text/plain": [
       "              hotelName                                        hotelDetail  \\\n",
       "0            瑞穗檳城休閒渡假農莊              978台灣花蓮縣瑞穗鄉中山路二段111號•+886 972 507 182   \n",
       "1     Easy Life 簡單生活。民宿                           950台灣台東縣台東市中華路一段892巷136號   \n",
       "2     Hai Sheng Wei B&B  3 星級飯店No.91, Qixing St., Xincheng Township, 新城...   \n",
       "3            力麗哲園 - 日潭館            4 星級飯店555台灣南投縣魚池鄉水秀街7號•+886 4 9285 0022   \n",
       "4                  逢甲S+          407台灣台中市西屯區西屯路二段湳仔巷9-11號•+886 929 583 637   \n",
       "...                 ...                                                ...   \n",
       "1182              大新大旅社                 712台灣台南市新化區正新路206號•+886 6 590 5166   \n",
       "1183    H VILLA INN 清水漾            3 星級飯店702台灣台南市南區萬年二街61號•+886 6 296 5888   \n",
       "1184             民生果園山莊                546台灣南投縣仁愛鄉仁和路171號•+886 4 9280 2364   \n",
       "1185        四重溪牡丹風情溫泉行館        3 星級飯店944台灣屏東縣車城鄉溫泉路251-68號•+886 8 882 3588   \n",
       "1186        I Sky Villa            361台灣苗栗縣造橋鄉造橋村15鄰東坑9-3號•+886 3 754 0330   \n",
       "\n",
       "                                            comment_tag  \\\n",
       "0                                                    []   \n",
       "1     ['廚房廚房在 24 則 Google 評論中有提到92% 的評論持正面評價 ', '停車場...   \n",
       "2                                                    []   \n",
       "3     ['大自然大自然在 48 則 Google 評論中有提到88% 的評論持正面評價 ', '設...   \n",
       "4                                                    []   \n",
       "...                                                 ...   \n",
       "1182                                                 []   \n",
       "1183  ['氣氛氣氛在 55 則 Google 評論中有提到95% 的評論持正面評價 ', '夫妻/...   \n",
       "1184  ['設施設施在 24 則 Google 評論中有提到54% 的評論持正面評價 ', '早餐早...   \n",
       "1185  ['健身健身在 163 則 Google 評論中有提到45% 的評論持正面評價 ', '游泳...   \n",
       "1186  ['早餐早餐在 20 則 Google 評論中有提到100% 的評論持正面評價 ', '服務...   \n",
       "\n",
       "                                    summary  summery_description  \\\n",
       "0        在 38 則評論中，獲得 4.1 顆星 (滿分為 5 顆星)。很好。                  NaN   \n",
       "1      在 385 則評論中，獲得 4.6 顆星 (滿分為 5 顆星)。非常好。                  NaN   \n",
       "2        在 1 則評論中，獲得 5.0 顆星 (滿分為 5 顆星)。非常好。                  NaN   \n",
       "3       在 608 則評論中，獲得 4.2 顆星 (滿分為 5 顆星)。很好。                  NaN   \n",
       "4         在 2 則評論中，獲得 3.0 顆星 (滿分為 5 顆星)。一般。                  NaN   \n",
       "...                                     ...                  ...   \n",
       "1182     在 21 則評論中，獲得 3.9 顆星 (滿分為 5 顆星)。良好。                  NaN   \n",
       "1183  在 1,262 則評論中，獲得 4.1 顆星 (滿分為 5 顆星)。很好。                  NaN   \n",
       "1184    在 333 則評論中，獲得 3.7 顆星 (滿分為 5 顆星)。良好。                  NaN   \n",
       "1185  在 1,163 則評論中，獲得 3.6 顆星 (滿分為 5 顆星)。良好。                  NaN   \n",
       "1186   在 108 則評論中，獲得 4.8 顆星 (滿分為 5 顆星)。非常好。                  NaN   \n",
       "\n",
       "                                    summery_special_tag  \\\n",
       "0     ['可攜帶寵物 : 在附近類似的飯店中，只有 4% 允許攜帶寵物', '地點絕佳 : 房客喜...   \n",
       "1     ['評分最高 : 這間飯店的使用者評分在這個地區名列前茅', '評價絕佳的衛浴設備 : 房客...   \n",
       "2     ['評分最高 : 這間飯店的使用者評分在這個地區名列前茅', '地點絕佳 : 房客喜歡這間飯...   \n",
       "3     ['免費停車場 : 在附近類似的飯店中，有 66% 提供免費停車', '地點絕佳 : 房客喜...   \n",
       "4                                                    []   \n",
       "...                                                 ...   \n",
       "1182                                                 []   \n",
       "1183                                                 []   \n",
       "1184  ['免費停車場 : 在附近類似的飯店中，有 85% 提供免費停車', '可攜帶寵物 : 在附...   \n",
       "1185  ['游泳池 : 在附近類似的飯店中，只有 10% 設有游泳池', '免費停車場 : 在附近類...   \n",
       "1186  ['評分最高 : 這間飯店的使用者評分在這個地區名列前茅', '評價絕佳的客房清潔服務 : ...   \n",
       "\n",
       "                    summary_score_tag  \\\n",
       "0        ['', '4.1很好\\xa0|\\xa038 則評論']   \n",
       "1      ['', '4.6非常好\\xa0|\\xa0385 則評論']   \n",
       "2        ['', '5.0非常好\\xa0|\\xa01 則評論']   \n",
       "3       ['', '4.2很好\\xa0|\\xa0608 則評論']   \n",
       "4         ['', '3.0一般\\xa0|\\xa02 則評論']   \n",
       "...                               ...   \n",
       "1182     ['', '3.9良好\\xa0|\\xa021 則評論']   \n",
       "1183  ['', '4.1很好\\xa0|\\xa01,262 則評論']   \n",
       "1184    ['', '3.7良好\\xa0|\\xa0333 則評論']   \n",
       "1185  ['', '3.6良好\\xa0|\\xa01,163 則評論']   \n",
       "1186   ['', '4.8非常好\\xa0|\\xa0108 則評論']   \n",
       "\n",
       "                                        summary_reviews  \n",
       "0     ['陳遊客\"價格合理 舒適的房間 老闆娘人很好還會自己做早餐給旅客 重點是早餐吃到飽\"', ...  \n",
       "1     ['Kenji\"房子設計的很棒 房間採光很好 大廳挑高氣派 房價合理 台東必住民宿\"', '...  \n",
       "2                                                    []  \n",
       "3     ['黃彬哲\"風景幽美，靠近湖邊的地方，地點適中，房間優雅清潔衛生，服務親切，高貴不貴。\"',...  \n",
       "4                                                    []  \n",
       "...                                                 ...  \n",
       "1182  ['黃心怡\"環境還算蠻乾淨的，老闆娘跟老闆人也不錯\"', 'YungLong Du\"價格親民...  \n",
       "1183  ['鄧貞瑋\"酒店同價格，位置偏僻，戶外景觀池（有SPA功能）就在停車位旁邊。。\"', '陸怡...  \n",
       "1184  ['黃芃滋\"民宿房間很乾淨。料理很好吃。民宿主人很客氣。風景很美。夜晚很安靜。\"', 'Yi...  \n",
       "1185  ['陳俊諺\"餐點口味樣式很棒，可惜房間受限於環境較濕、蚊蟲較多。\"', 'PING\"餐廳有控...  \n",
       "1186  ['Joshua Fu\"很棒的民宿，主人親切有禮，環境舒適乾淨，早餐營養均衡，值得推薦！\"'...  \n",
       "\n",
       "[1187 rows x 8 columns]"
      ]
     },
     "execution_count": 70,
     "metadata": {},
     "output_type": "execute_result"
    }
   ],
   "source": [
    "df3 = pd.read_csv('clean_data/google_hotel_data20211025.csv')\n",
    "df3"
   ]
  },
  {
   "cell_type": "code",
   "execution_count": null,
   "id": "0e8d3d48-4a76-4e85-b3b9-d655373f5c4f",
   "metadata": {},
   "outputs": [],
   "source": []
  }
 ],
 "metadata": {
  "kernelspec": {
   "display_name": "Python 3 (NLP)",
   "language": "python",
   "name": "nlp"
  },
  "language_info": {
   "codemirror_mode": {
    "name": "ipython",
    "version": 3
   },
   "file_extension": ".py",
   "mimetype": "text/x-python",
   "name": "python",
   "nbconvert_exporter": "python",
   "pygments_lexer": "ipython3",
   "version": "3.8.12"
  }
 },
 "nbformat": 4,
 "nbformat_minor": 5
}
