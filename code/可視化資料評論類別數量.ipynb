{
 "cells": [
  {
   "cell_type": "code",
   "execution_count": 1,
   "id": "204b8a56-04a6-43fa-b88d-4bc265d67b4d",
   "metadata": {},
   "outputs": [],
   "source": [
    "import matplotlib.pyplot as plt\n",
    "import os\n",
    "import pandas as pd\n",
    "import numpy as np"
   ]
  },
  {
   "cell_type": "code",
   "execution_count": 13,
   "id": "e658d28c-e6fc-443c-989c-68fc5b790f30",
   "metadata": {},
   "outputs": [
    {
     "name": "stdout",
     "output_type": "stream",
     "text": [
      "(1272, 7)\n"
     ]
    },
    {
     "data": {
      "text/html": [
       "<div>\n",
       "<style scoped>\n",
       "    .dataframe tbody tr th:only-of-type {\n",
       "        vertical-align: middle;\n",
       "    }\n",
       "\n",
       "    .dataframe tbody tr th {\n",
       "        vertical-align: top;\n",
       "    }\n",
       "\n",
       "    .dataframe thead th {\n",
       "        text-align: right;\n",
       "    }\n",
       "</style>\n",
       "<table border=\"1\" class=\"dataframe\">\n",
       "  <thead>\n",
       "    <tr style=\"text-align: right;\">\n",
       "      <th></th>\n",
       "      <th>reviews</th>\n",
       "      <th>value</th>\n",
       "      <th>comfort</th>\n",
       "      <th>location</th>\n",
       "      <th>cleanliness</th>\n",
       "      <th>service</th>\n",
       "      <th>facilities</th>\n",
       "    </tr>\n",
       "  </thead>\n",
       "  <tbody>\n",
       "    <tr>\n",
       "      <th>0</th>\n",
       "      <td>價格合理 舒適的房間 老闆娘人很好還會自己做早餐給旅客 重點是早餐吃到飽</td>\n",
       "      <td>1.0</td>\n",
       "      <td>1.0</td>\n",
       "      <td>0.0</td>\n",
       "      <td>0.0</td>\n",
       "      <td>1.0</td>\n",
       "      <td>0.0</td>\n",
       "    </tr>\n",
       "    <tr>\n",
       "      <th>1</th>\n",
       "      <td>內部房間滿乾淨的，還有大場地，可以讓團體來使用，我覺得很棒</td>\n",
       "      <td>0.0</td>\n",
       "      <td>0.0</td>\n",
       "      <td>0.0</td>\n",
       "      <td>1.0</td>\n",
       "      <td>0.0</td>\n",
       "      <td>1.0</td>\n",
       "    </tr>\n",
       "    <tr>\n",
       "      <th>2</th>\n",
       "      <td>隔音還可以，房間不小，但美中不足沒有乾濕分離</td>\n",
       "      <td>0.0</td>\n",
       "      <td>1.0</td>\n",
       "      <td>0.0</td>\n",
       "      <td>0.0</td>\n",
       "      <td>0.0</td>\n",
       "      <td>0.0</td>\n",
       "    </tr>\n",
       "    <tr>\n",
       "      <th>3</th>\n",
       "      <td>房子設計的很棒 房間採光很好 大廳挑高氣派 房價合理 台東必住民宿</td>\n",
       "      <td>1.0</td>\n",
       "      <td>1.0</td>\n",
       "      <td>0.0</td>\n",
       "      <td>0.0</td>\n",
       "      <td>0.0</td>\n",
       "      <td>1.0</td>\n",
       "    </tr>\n",
       "    <tr>\n",
       "      <th>4</th>\n",
       "      <td>Cp值高 乾淨舒適空間大 樓下有免費吐司和咖啡 老闆回復速度快</td>\n",
       "      <td>1.0</td>\n",
       "      <td>1.0</td>\n",
       "      <td>0.0</td>\n",
       "      <td>0.0</td>\n",
       "      <td>1.0</td>\n",
       "      <td>0.0</td>\n",
       "    </tr>\n",
       "  </tbody>\n",
       "</table>\n",
       "</div>"
      ],
      "text/plain": [
       "                                reviews  value  comfort  location  \\\n",
       "0  價格合理 舒適的房間 老闆娘人很好還會自己做早餐給旅客 重點是早餐吃到飽    1.0      1.0       0.0   \n",
       "1         內部房間滿乾淨的，還有大場地，可以讓團體來使用，我覺得很棒    0.0      0.0       0.0   \n",
       "2                隔音還可以，房間不小，但美中不足沒有乾濕分離    0.0      1.0       0.0   \n",
       "3     房子設計的很棒 房間採光很好 大廳挑高氣派 房價合理 台東必住民宿    1.0      1.0       0.0   \n",
       "4       Cp值高 乾淨舒適空間大 樓下有免費吐司和咖啡 老闆回復速度快    1.0      1.0       0.0   \n",
       "\n",
       "   cleanliness  service  facilities  \n",
       "0          0.0      1.0         0.0  \n",
       "1          1.0      0.0         1.0  \n",
       "2          0.0      0.0         0.0  \n",
       "3          0.0      0.0         1.0  \n",
       "4          0.0      1.0         0.0  "
      ]
     },
     "execution_count": 13,
     "metadata": {},
     "output_type": "execute_result"
    }
   ],
   "source": [
    "path = '../data/0414/review_dataset.csv'\n",
    "df = pd.read_csv(path)\n",
    "df = df[:1272]\n",
    "print(df.shape)\n",
    "df.head()"
   ]
  },
  {
   "cell_type": "code",
   "execution_count": 8,
   "id": "40f2d43d-91e5-448a-b8b9-c8c0bfb75d4c",
   "metadata": {},
   "outputs": [],
   "source": [
    "#path = '../data/0407/review_data(seg+pos+stopwords)_train_n+v+f+p.csv'\n",
    "#df_train = pd.read_csv(path)"
   ]
  },
  {
   "cell_type": "code",
   "execution_count": 14,
   "id": "73f652d4-1e0e-45a0-9c29-7be7c3bd5dba",
   "metadata": {},
   "outputs": [
    {
     "data": {
      "text/html": [
       "<div>\n",
       "<style scoped>\n",
       "    .dataframe tbody tr th:only-of-type {\n",
       "        vertical-align: middle;\n",
       "    }\n",
       "\n",
       "    .dataframe tbody tr th {\n",
       "        vertical-align: top;\n",
       "    }\n",
       "\n",
       "    .dataframe thead th {\n",
       "        text-align: right;\n",
       "    }\n",
       "</style>\n",
       "<table border=\"1\" class=\"dataframe\">\n",
       "  <thead>\n",
       "    <tr style=\"text-align: right;\">\n",
       "      <th></th>\n",
       "      <th>value</th>\n",
       "      <th>comfort</th>\n",
       "      <th>location</th>\n",
       "      <th>cleanliness</th>\n",
       "      <th>service</th>\n",
       "      <th>facilities</th>\n",
       "    </tr>\n",
       "  </thead>\n",
       "  <tbody>\n",
       "    <tr>\n",
       "      <th>0</th>\n",
       "      <td>1.0</td>\n",
       "      <td>1.0</td>\n",
       "      <td>0.0</td>\n",
       "      <td>0.0</td>\n",
       "      <td>1.0</td>\n",
       "      <td>0.0</td>\n",
       "    </tr>\n",
       "    <tr>\n",
       "      <th>1</th>\n",
       "      <td>0.0</td>\n",
       "      <td>0.0</td>\n",
       "      <td>0.0</td>\n",
       "      <td>1.0</td>\n",
       "      <td>0.0</td>\n",
       "      <td>1.0</td>\n",
       "    </tr>\n",
       "    <tr>\n",
       "      <th>2</th>\n",
       "      <td>0.0</td>\n",
       "      <td>1.0</td>\n",
       "      <td>0.0</td>\n",
       "      <td>0.0</td>\n",
       "      <td>0.0</td>\n",
       "      <td>0.0</td>\n",
       "    </tr>\n",
       "    <tr>\n",
       "      <th>3</th>\n",
       "      <td>1.0</td>\n",
       "      <td>1.0</td>\n",
       "      <td>0.0</td>\n",
       "      <td>0.0</td>\n",
       "      <td>0.0</td>\n",
       "      <td>1.0</td>\n",
       "    </tr>\n",
       "    <tr>\n",
       "      <th>4</th>\n",
       "      <td>1.0</td>\n",
       "      <td>1.0</td>\n",
       "      <td>0.0</td>\n",
       "      <td>0.0</td>\n",
       "      <td>1.0</td>\n",
       "      <td>0.0</td>\n",
       "    </tr>\n",
       "  </tbody>\n",
       "</table>\n",
       "</div>"
      ],
      "text/plain": [
       "   value  comfort  location  cleanliness  service  facilities\n",
       "0    1.0      1.0       0.0          0.0      1.0         0.0\n",
       "1    0.0      0.0       0.0          1.0      0.0         1.0\n",
       "2    0.0      1.0       0.0          0.0      0.0         0.0\n",
       "3    1.0      1.0       0.0          0.0      0.0         1.0\n",
       "4    1.0      1.0       0.0          0.0      1.0         0.0"
      ]
     },
     "execution_count": 14,
     "metadata": {},
     "output_type": "execute_result"
    }
   ],
   "source": [
    "df_labels = df[[\"value\", \"comfort\", \"location\", \"cleanliness\", \"service\",\"facilities\"]]\n",
    "df_labels.head()"
   ]
  },
  {
   "cell_type": "markdown",
   "id": "8457941a-ad04-4f7c-aa7b-1f2fab7a6b48",
   "metadata": {},
   "source": [
    "### 可視化資料：每個類別所擁有的評論筆數"
   ]
  },
  {
   "cell_type": "code",
   "execution_count": 15,
   "id": "b9225fbb-7299-4b96-9fc9-4b0fbf648ba8",
   "metadata": {},
   "outputs": [
    {
     "data": {
      "text/plain": [
       "<AxesSubplot:>"
      ]
     },
     "execution_count": 15,
     "metadata": {},
     "output_type": "execute_result"
    },
    {
     "data": {
      "image/png": "[encoded data removed]",
      "text/plain": [
       "<Figure size 720x576 with 1 Axes>"
      ]
     },
     "metadata": {
      "needs_background": "light"
     },
     "output_type": "display_data"
    }
   ],
   "source": [
    "fig_size = plt.rcParams[\"figure.figsize\"]\n",
    "fig_size[0] = 10\n",
    "fig_size[1] = 8\n",
    "plt.rcParams[\"figure.figsize\"] = fig_size\n",
    "\n",
    "df_labels.sum(axis=0).plot.bar() # Return the sum of the values over the requested axis."
   ]
  },
  {
   "cell_type": "code",
   "execution_count": 16,
   "id": "843ed1fd-a56a-4b0b-be29-d0a6aa779bf9",
   "metadata": {},
   "outputs": [
    {
     "name": "stdout",
     "output_type": "stream",
     "text": [
      "0.0    1049\n",
      "1.0     223\n",
      "Name: value, dtype: int64\n",
      "0.0    653\n",
      "1.0    619\n",
      "Name: comfort, dtype: int64\n",
      "0.0    896\n",
      "1.0    376\n",
      "Name: location, dtype: int64\n",
      "0.0    929\n",
      "1.0    343\n",
      "Name: cleanliness, dtype: int64\n",
      "1.0    793\n",
      "0.0    479\n",
      "Name: service, dtype: int64\n",
      "0.0    962\n",
      "1.0    310\n",
      "Name: facilities, dtype: int64\n"
     ]
    }
   ],
   "source": [
    "print(df_labels['value'].value_counts())\n",
    "print(df_labels['comfort'].value_counts())\n",
    "print(df_labels['location'].value_counts())\n",
    "print(df_labels['cleanliness'].value_counts())\n",
    "print(df_labels['service'].value_counts())\n",
    "print(df_labels['facilities'].value_counts())"
   ]
  },
  {
   "cell_type": "code",
   "execution_count": null,
   "id": "9a2ab911-2647-4322-a73c-f18a50c5aaf6",
   "metadata": {},
   "outputs": [],
   "source": []
  },
  {
   "cell_type": "code",
   "execution_count": null,
   "id": "88962ace-6583-4f91-ac08-8dce9c520464",
   "metadata": {},
   "outputs": [],
   "source": []
  }
 ],
 "metadata": {
  "kernelspec": {
   "display_name": "Python 3 (NLP)",
   "language": "python",
   "name": "nlp"
  },
  "language_info": {
   "codemirror_mode": {
    "name": "ipython",
    "version": 3
   },
   "file_extension": ".py",
   "mimetype": "text/x-python",
   "name": "python",
   "nbconvert_exporter": "python",
   "pygments_lexer": "ipython3",
   "version": "3.8.12"
  }
 },
 "nbformat": 4,
 "nbformat_minor": 5
}
