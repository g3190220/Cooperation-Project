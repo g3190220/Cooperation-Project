{
 "cells": [
  {
   "cell_type": "markdown",
   "id": "608f9531-d9c0-47a4-bf7b-fcfe91992f8e",
   "metadata": {
    "tags": []
   },
   "source": [
    "## 幾種思路"
   ]
  },
  {
   "cell_type": "markdown",
   "id": "aae267fd-f953-442a-88cc-e2bfb9aff87d",
   "metadata": {},
   "source": [
    "思路1：TF-IDF + 機器學習分類器\n",
    "直接使用TF-IDF對文本提取特徵，並使用分類器進行分類。在分類器的選擇上，可以使用SVM、LR、或者XGBoost。\n",
    "\n",
    "思路2：FastText\n",
    "FastText是入門款的詞向量，利用Facebook提供的FastText工具，可以快速構建出分類器。\n",
    "\n",
    "思路3：WordVec + 深度學習分類器\n",
    "WordVec是進階款的詞向量，並通過構建深度學習分類完成分類。深度學習分類的網絡結構可以選擇TextCNN、TextRNN或者BiLSTM。\n",
    "\n",
    "思路4：Bert詞向量\n",
    "Bert是高配款的詞向量，具有強大的建模學習能力。"
   ]
  },
  {
   "cell_type": "markdown",
   "id": "10abf616-467b-4883-8210-339068693e2b",
   "metadata": {
    "tags": []
   },
   "source": [
    "## 獲取6種模型的資料集"
   ]
  },
  {
   "cell_type": "code",
   "execution_count": 1,
   "id": "3f1556b9-10a8-4230-910e-2e0851184854",
   "metadata": {},
   "outputs": [],
   "source": [
    "import matplotlib.pyplot as plt\n",
    "import os\n",
    "import pandas as pd\n",
    "import numpy as np\n",
    "import re\n",
    "path = '../data/0414/review_data(seg+pos+stopwords)_n+v+f+p.csv'\n",
    "df = pd.read_csv(path)"
   ]
  },
  {
   "cell_type": "markdown",
   "id": "03134552-b205-4ba6-8b30-49d1b63f6e8d",
   "metadata": {
    "tags": []
   },
   "source": [
    "### 檢查重複值、空值"
   ]
  },
  {
   "cell_type": "code",
   "execution_count": 2,
   "id": "cf01f08b-66b4-48dc-b539-f963be31ec24",
   "metadata": {},
   "outputs": [
    {
     "name": "stdout",
     "output_type": "stream",
     "text": [
      "Empty DataFrame\n",
      "Columns: [reviews, value, comfort, location, cleanliness, service, facilities, ws_pos_reviews, filtered, filtered_word]\n",
      "Index: []\n"
     ]
    }
   ],
   "source": [
    "#印出重複資料\n",
    "print(df[df.duplicated()])"
   ]
  },
  {
   "cell_type": "code",
   "execution_count": 3,
   "id": "1fcd3385-74b6-4e0e-8a68-48f139e3161d",
   "metadata": {},
   "outputs": [],
   "source": [
    "#移除重複值\n",
    "#df = df.drop_duplicates()\n",
    "#print(df.shape)"
   ]
  },
  {
   "cell_type": "code",
   "execution_count": 4,
   "id": "57541fcf-3859-4b9d-a6af-68c3a1b7a1d7",
   "metadata": {},
   "outputs": [],
   "source": [
    "#印出空值資料\n",
    "#df_train[df_train.isnull().T.any()]"
   ]
  },
  {
   "cell_type": "markdown",
   "id": "9ef2dd09-a1d4-408b-af22-a11cdd6829a9",
   "metadata": {},
   "source": [
    "### 切分為6個資料集"
   ]
  },
  {
   "cell_type": "code",
   "execution_count": 5,
   "id": "e466b400-44e6-442f-914f-148dc9f2cd2c",
   "metadata": {},
   "outputs": [],
   "source": [
    "def split_df(df):\n",
    "    df_value = df[['value','filtered_word']]\n",
    "    df_value.rename(columns={'value': 'label'}, inplace=True)\n",
    "    df_comfort = df[['comfort','filtered_word']]\n",
    "    df_comfort.rename(columns={'comfort': 'label'}, inplace=True)\n",
    "    df_location = df[['location','filtered_word']]\n",
    "    df_location.rename(columns={'location': 'label'}, inplace=True)\n",
    "    df_cleanliness = df[['cleanliness','filtered_word']]\n",
    "    df_cleanliness.rename(columns={'cleanliness': 'label'}, inplace=True)\n",
    "    df_service = df[['service','filtered_word']]\n",
    "    df_service.rename(columns={'service': 'label'}, inplace=True)\n",
    "    df_facilities = df[['facilities','filtered_word']]\n",
    "    df_facilities.rename(columns={'facilities': 'label'}, inplace=True)\n",
    "    return df_value, df_comfort, df_location, df_cleanliness, df_service, df_facilities"
   ]
  },
  {
   "cell_type": "code",
   "execution_count": 6,
   "id": "f74887e2-a787-4bba-af45-b6824ebbf6e5",
   "metadata": {},
   "outputs": [
    {
     "name": "stderr",
     "output_type": "stream",
     "text": [
      "C:\\Users\\g3190\\AppData\\Local\\Temp/ipykernel_21928/3099386144.py:3: SettingWithCopyWarning: \n",
      "A value is trying to be set on a copy of a slice from a DataFrame\n",
      "\n",
      "See the caveats in the documentation: https://pandas.pydata.org/pandas-docs/stable/user_guide/indexing.html#returning-a-view-versus-a-copy\n",
      "  df_value.rename(columns={'value': 'label'}, inplace=True)\n",
      "C:\\Users\\g3190\\AppData\\Local\\Temp/ipykernel_21928/3099386144.py:5: SettingWithCopyWarning: \n",
      "A value is trying to be set on a copy of a slice from a DataFrame\n",
      "\n",
      "See the caveats in the documentation: https://pandas.pydata.org/pandas-docs/stable/user_guide/indexing.html#returning-a-view-versus-a-copy\n",
      "  df_comfort.rename(columns={'comfort': 'label'}, inplace=True)\n",
      "C:\\Users\\g3190\\AppData\\Local\\Temp/ipykernel_21928/3099386144.py:7: SettingWithCopyWarning: \n",
      "A value is trying to be set on a copy of a slice from a DataFrame\n",
      "\n",
      "See the caveats in the documentation: https://pandas.pydata.org/pandas-docs/stable/user_guide/indexing.html#returning-a-view-versus-a-copy\n",
      "  df_location.rename(columns={'location': 'label'}, inplace=True)\n",
      "C:\\Users\\g3190\\AppData\\Local\\Temp/ipykernel_21928/3099386144.py:9: SettingWithCopyWarning: \n",
      "A value is trying to be set on a copy of a slice from a DataFrame\n",
      "\n",
      "See the caveats in the documentation: https://pandas.pydata.org/pandas-docs/stable/user_guide/indexing.html#returning-a-view-versus-a-copy\n",
      "  df_cleanliness.rename(columns={'cleanliness': 'label'}, inplace=True)\n",
      "C:\\Users\\g3190\\AppData\\Local\\Temp/ipykernel_21928/3099386144.py:11: SettingWithCopyWarning: \n",
      "A value is trying to be set on a copy of a slice from a DataFrame\n",
      "\n",
      "See the caveats in the documentation: https://pandas.pydata.org/pandas-docs/stable/user_guide/indexing.html#returning-a-view-versus-a-copy\n",
      "  df_service.rename(columns={'service': 'label'}, inplace=True)\n",
      "C:\\Users\\g3190\\AppData\\Local\\Temp/ipykernel_21928/3099386144.py:13: SettingWithCopyWarning: \n",
      "A value is trying to be set on a copy of a slice from a DataFrame\n",
      "\n",
      "See the caveats in the documentation: https://pandas.pydata.org/pandas-docs/stable/user_guide/indexing.html#returning-a-view-versus-a-copy\n",
      "  df_facilities.rename(columns={'facilities': 'label'}, inplace=True)\n"
     ]
    }
   ],
   "source": [
    "#df_value_train, df_comfort_train, df_location_train, df_cleanliness_train, df_service_train ,df_facilities_train = split_df(df_train)\n",
    "#df_value_test, df_comfort_test, df_location_test, df_cleanliness_test, df_service_test, df_facilities_test = split_df(df_test)\n",
    "df_value, df_comfort, df_location, df_cleanliness, df_service ,df_facilities = split_df(df)"
   ]
  },
  {
   "cell_type": "code",
   "execution_count": 7,
   "id": "bbc20206-24d9-43f4-96c9-ab61f326eec8",
   "metadata": {},
   "outputs": [
    {
     "data": {
      "text/html": [
       "<div>\n",
       "<style scoped>\n",
       "    .dataframe tbody tr th:only-of-type {\n",
       "        vertical-align: middle;\n",
       "    }\n",
       "\n",
       "    .dataframe tbody tr th {\n",
       "        vertical-align: top;\n",
       "    }\n",
       "\n",
       "    .dataframe thead th {\n",
       "        text-align: right;\n",
       "    }\n",
       "</style>\n",
       "<table border=\"1\" class=\"dataframe\">\n",
       "  <thead>\n",
       "    <tr style=\"text-align: right;\">\n",
       "      <th></th>\n",
       "      <th>label</th>\n",
       "      <th>filtered_word</th>\n",
       "    </tr>\n",
       "  </thead>\n",
       "  <tbody>\n",
       "    <tr>\n",
       "      <th>0</th>\n",
       "      <td>1.0</td>\n",
       "      <td>價格(Na),合理(VH),舒適(VH),房間(Nc),老闆娘(Na),人(Na),好(VH...</td>\n",
       "    </tr>\n",
       "    <tr>\n",
       "      <th>1</th>\n",
       "      <td>0.0</td>\n",
       "      <td>內部(Ncd),房間(Nc),乾淨(VH),場地(Na),團體(Na),使用(VC),覺得(...</td>\n",
       "    </tr>\n",
       "    <tr>\n",
       "      <th>2</th>\n",
       "      <td>0.0</td>\n",
       "      <td>房間(Nc),小(VH),美中不足(VH),乾(VH),濕(VH),分離(VHC)</td>\n",
       "    </tr>\n",
       "    <tr>\n",
       "      <th>3</th>\n",
       "      <td>0.0</td>\n",
       "      <td>房子(Na),設計(VC),棒(VH),房間(Nc),採光(Na),好(VH),大廳(Nc)...</td>\n",
       "    </tr>\n",
       "    <tr>\n",
       "      <th>4</th>\n",
       "      <td>1.0</td>\n",
       "      <td>Cp值(FW),高(VH),乾淨(VH),舒適(VH),空間(Na),大樓(Na),下(Nc...</td>\n",
       "    </tr>\n",
       "    <tr>\n",
       "      <th>...</th>\n",
       "      <td>...</td>\n",
       "      <td>...</td>\n",
       "    </tr>\n",
       "    <tr>\n",
       "      <th>1267</th>\n",
       "      <td>1.0</td>\n",
       "      <td>港式(Na),飲茶(VA),餐廳(Nc),口味(Na),棒(VH),環境(Na),乾淨(VH...</td>\n",
       "    </tr>\n",
       "    <tr>\n",
       "      <th>1268</th>\n",
       "      <td>1.0</td>\n",
       "      <td>場地(Na),氣派(Na),丁香魚(Na),酥脆(VH),服務(VC),親切(VH),蠟味(...</td>\n",
       "    </tr>\n",
       "    <tr>\n",
       "      <th>1269</th>\n",
       "      <td>1.0</td>\n",
       "      <td>交通(Na),方便(VH),地下室(Nc),停車場(Nc),良好(VH),菜色(Na),好(...</td>\n",
       "    </tr>\n",
       "    <tr>\n",
       "      <th>1270</th>\n",
       "      <td>1.0</td>\n",
       "      <td>地點(Na),佳(VH),離(P),逢甲(Nb),夜市(Nc),老闆娘(Na),親切(VH)...</td>\n",
       "    </tr>\n",
       "    <tr>\n",
       "      <th>1271</th>\n",
       "      <td>1.0</td>\n",
       "      <td>房間(Nc),乾淨(VH),價格(Na),公道(VH),老闆娘(Na),親切(VH),逢甲(...</td>\n",
       "    </tr>\n",
       "  </tbody>\n",
       "</table>\n",
       "<p>1272 rows × 2 columns</p>\n",
       "</div>"
      ],
      "text/plain": [
       "      label                                      filtered_word\n",
       "0       1.0  價格(Na),合理(VH),舒適(VH),房間(Nc),老闆娘(Na),人(Na),好(VH...\n",
       "1       0.0  內部(Ncd),房間(Nc),乾淨(VH),場地(Na),團體(Na),使用(VC),覺得(...\n",
       "2       0.0          房間(Nc),小(VH),美中不足(VH),乾(VH),濕(VH),分離(VHC)\n",
       "3       0.0  房子(Na),設計(VC),棒(VH),房間(Nc),採光(Na),好(VH),大廳(Nc)...\n",
       "4       1.0  Cp值(FW),高(VH),乾淨(VH),舒適(VH),空間(Na),大樓(Na),下(Nc...\n",
       "...     ...                                                ...\n",
       "1267    1.0  港式(Na),飲茶(VA),餐廳(Nc),口味(Na),棒(VH),環境(Na),乾淨(VH...\n",
       "1268    1.0  場地(Na),氣派(Na),丁香魚(Na),酥脆(VH),服務(VC),親切(VH),蠟味(...\n",
       "1269    1.0  交通(Na),方便(VH),地下室(Nc),停車場(Nc),良好(VH),菜色(Na),好(...\n",
       "1270    1.0  地點(Na),佳(VH),離(P),逢甲(Nb),夜市(Nc),老闆娘(Na),親切(VH)...\n",
       "1271    1.0  房間(Nc),乾淨(VH),價格(Na),公道(VH),老闆娘(Na),親切(VH),逢甲(...\n",
       "\n",
       "[1272 rows x 2 columns]"
      ]
     },
     "execution_count": 7,
     "metadata": {},
     "output_type": "execute_result"
    }
   ],
   "source": [
    "df_service"
   ]
  },
  {
   "cell_type": "markdown",
   "id": "c59ec4bf-a42d-406c-a15e-54431ef328fd",
   "metadata": {
    "tags": []
   },
   "source": [
    "### 清理資料(移除詞性標註的文字)"
   ]
  },
  {
   "cell_type": "code",
   "execution_count": 8,
   "id": "2cb95288-72e7-4508-aa53-1684ff8a63e1",
   "metadata": {},
   "outputs": [],
   "source": [
    "def remove_N_comma(sentence):\n",
    "    # 把後面(N..)(V..)(F..)拿掉\n",
    "    sentence = str(sentence)\n",
    "    pattern = re.compile(r\"\\([N,V,F,P].*?\\)\") #移除詞性標示\n",
    "    sentence = re.sub(pattern, '', sentence)\n",
    "    pattern = re.compile(r\",\") #將逗號替換為空格\n",
    "    sentence = re.sub(pattern, ' ', sentence)\n",
    "    return sentence\n",
    "pd.options.mode.chained_assignment = None  # 忽略警告"
   ]
  },
  {
   "cell_type": "code",
   "execution_count": 9,
   "id": "f29d4e13-b275-406a-96c1-fd46f70772bc",
   "metadata": {},
   "outputs": [],
   "source": [
    "#訓練集\n",
    "df_service['filtered_word'] = df_service.apply(lambda x: remove_N_comma(x['filtered_word']),axis=1)"
   ]
  },
  {
   "cell_type": "code",
   "execution_count": 10,
   "id": "96657345-dcdf-40d4-b09b-2904f3ea0281",
   "metadata": {},
   "outputs": [
    {
     "name": "stdout",
     "output_type": "stream",
     "text": [
      "(1272, 2)\n"
     ]
    },
    {
     "data": {
      "text/html": [
       "<div>\n",
       "<style scoped>\n",
       "    .dataframe tbody tr th:only-of-type {\n",
       "        vertical-align: middle;\n",
       "    }\n",
       "\n",
       "    .dataframe tbody tr th {\n",
       "        vertical-align: top;\n",
       "    }\n",
       "\n",
       "    .dataframe thead th {\n",
       "        text-align: right;\n",
       "    }\n",
       "</style>\n",
       "<table border=\"1\" class=\"dataframe\">\n",
       "  <thead>\n",
       "    <tr style=\"text-align: right;\">\n",
       "      <th></th>\n",
       "      <th>label</th>\n",
       "      <th>filtered_word</th>\n",
       "    </tr>\n",
       "  </thead>\n",
       "  <tbody>\n",
       "    <tr>\n",
       "      <th>0</th>\n",
       "      <td>1.0</td>\n",
       "      <td>價格 合理 舒適 房間 老闆娘 人 好 做 早餐 旅客 重點 早餐 吃到飽</td>\n",
       "    </tr>\n",
       "    <tr>\n",
       "      <th>1</th>\n",
       "      <td>0.0</td>\n",
       "      <td>內部 房間 乾淨 場地 團體 使用 覺得 棒</td>\n",
       "    </tr>\n",
       "    <tr>\n",
       "      <th>2</th>\n",
       "      <td>0.0</td>\n",
       "      <td>房間 小 美中不足 乾 濕 分離</td>\n",
       "    </tr>\n",
       "    <tr>\n",
       "      <th>3</th>\n",
       "      <td>0.0</td>\n",
       "      <td>房子 設計 棒 房間 採光 好 大廳 挑高 氣派 房價 合理 台東 住 民宿</td>\n",
       "    </tr>\n",
       "    <tr>\n",
       "      <th>4</th>\n",
       "      <td>1.0</td>\n",
       "      <td>Cp值 高 乾淨 舒適 空間 大樓 下 免費 吐司 咖啡 老闆 回復 速度</td>\n",
       "    </tr>\n",
       "    <tr>\n",
       "      <th>...</th>\n",
       "      <td>...</td>\n",
       "      <td>...</td>\n",
       "    </tr>\n",
       "    <tr>\n",
       "      <th>1267</th>\n",
       "      <td>1.0</td>\n",
       "      <td>港式 飲茶 餐廳 口味 棒 環境 乾淨 機車 汽車 停車位 位於 高鐵 附近 適合 宴客</td>\n",
       "    </tr>\n",
       "    <tr>\n",
       "      <th>1268</th>\n",
       "      <td>1.0</td>\n",
       "      <td>場地 氣派 丁香魚 酥脆 服務 親切 蠟味 蘿蔔糕 份量 一些 好 牛肉粥 好吃</td>\n",
       "    </tr>\n",
       "    <tr>\n",
       "      <th>1269</th>\n",
       "      <td>1.0</td>\n",
       "      <td>交通 方便 地下室 停車場 良好 菜色 好 空間 設計好 說 一流 飯店</td>\n",
       "    </tr>\n",
       "    <tr>\n",
       "      <th>1270</th>\n",
       "      <td>1.0</td>\n",
       "      <td>地點 佳 離 逢甲 夜市 老闆娘 親切 服務 房間 舒適 浴室 乾淨</td>\n",
       "    </tr>\n",
       "    <tr>\n",
       "      <th>1271</th>\n",
       "      <td>1.0</td>\n",
       "      <td>房間 乾淨 價格 公道 老闆娘 親切 逢甲 推 民宿 推</td>\n",
       "    </tr>\n",
       "  </tbody>\n",
       "</table>\n",
       "<p>1272 rows × 2 columns</p>\n",
       "</div>"
      ],
      "text/plain": [
       "      label                                 filtered_word\n",
       "0       1.0         價格 合理 舒適 房間 老闆娘 人 好 做 早餐 旅客 重點 早餐 吃到飽\n",
       "1       0.0                        內部 房間 乾淨 場地 團體 使用 覺得 棒\n",
       "2       0.0                              房間 小 美中不足 乾 濕 分離\n",
       "3       0.0        房子 設計 棒 房間 採光 好 大廳 挑高 氣派 房價 合理 台東 住 民宿\n",
       "4       1.0         Cp值 高 乾淨 舒適 空間 大樓 下 免費 吐司 咖啡 老闆 回復 速度\n",
       "...     ...                                           ...\n",
       "1267    1.0  港式 飲茶 餐廳 口味 棒 環境 乾淨 機車 汽車 停車位 位於 高鐵 附近 適合 宴客\n",
       "1268    1.0      場地 氣派 丁香魚 酥脆 服務 親切 蠟味 蘿蔔糕 份量 一些 好 牛肉粥 好吃\n",
       "1269    1.0          交通 方便 地下室 停車場 良好 菜色 好 空間 設計好 說 一流 飯店\n",
       "1270    1.0            地點 佳 離 逢甲 夜市 老闆娘 親切 服務 房間 舒適 浴室 乾淨\n",
       "1271    1.0                  房間 乾淨 價格 公道 老闆娘 親切 逢甲 推 民宿 推\n",
       "\n",
       "[1272 rows x 2 columns]"
      ]
     },
     "execution_count": 10,
     "metadata": {},
     "output_type": "execute_result"
    }
   ],
   "source": [
    "print(df_service.shape)\n",
    "df_service"
   ]
  },
  {
   "cell_type": "markdown",
   "id": "41b21127-7864-4ea5-bbc6-872b5ce25697",
   "metadata": {
    "tags": []
   },
   "source": [
    "## 模型架構"
   ]
  },
  {
   "cell_type": "markdown",
   "id": "85f5dea5-298a-4819-8ac5-520b79eb20c2",
   "metadata": {
    "tags": []
   },
   "source": [
    "### 套件引用"
   ]
  },
  {
   "cell_type": "code",
   "execution_count": 11,
   "id": "9f68cb11-c4ef-4366-9a3f-9af34c9dd711",
   "metadata": {},
   "outputs": [],
   "source": [
    "#import package\n",
    "#轉向量用\n",
    "from sklearn.feature_extraction.text import CountVectorizer\n",
    "from sklearn.feature_extraction.text import TfidfTransformer\n",
    "from sklearn.feature_extraction.text import TfidfVectorizer \n",
    "from scipy.sparse import coo_matrix\n",
    "\n",
    "from imblearn.pipeline import Pipeline, make_pipeline\n",
    "from sklearn.model_selection import cross_validate\n",
    "import pickle #儲存模型用\n",
    "from sklearn.model_selection import train_test_split\n",
    "#類別採樣\n",
    "import imblearn.over_sampling as over_sampling\n",
    "import imblearn.under_sampling as under_sampling\n",
    "import imblearn.combine as combine\n",
    "from imblearn.pipeline import make_pipeline as make_pipeline_imb\n",
    "\n",
    "\n",
    "#模型\n",
    "from sklearn.metrics import classification_report\n",
    "from sklearn.linear_model import LogisticRegression\n",
    "from sklearn.ensemble import RandomForestClassifier\n",
    "from sklearn import svm\n",
    "from sklearn.ensemble import AdaBoostClassifier\n",
    "#from xgboost.sklearn import XGBClassifier\n",
    "\n",
    "#模型效能表現\n",
    "import sklearn.metrics as metrics"
   ]
  },
  {
   "cell_type": "markdown",
   "id": "05bca335-929e-46d6-b8e6-447621d41d8c",
   "metadata": {
    "tags": []
   },
   "source": [
    "### 顯示訓練結果"
   ]
  },
  {
   "cell_type": "code",
   "execution_count": 12,
   "id": "9ad34b64-c7c9-4cce-8b62-0a266a165a3e",
   "metadata": {},
   "outputs": [],
   "source": [
    "def classification_report(y_test, pre):\n",
    "    #混淆矩陣\n",
    "    confusion = metrics.confusion_matrix(y_test, pre)\n",
    "    TP = confusion[1,1]\n",
    "    TN = confusion[0,0]\n",
    "    FP = confusion[0,1]\n",
    "    FN = confusion[1,0]\n",
    "    print(\"TP:\",TP)\n",
    "    print(\"TN:\",TN)\n",
    "    print(\"FP:\",FP)\n",
    "    print(\"FN:\",FN)\n",
    "    #Accuracy\n",
    "    accuracy = (TP+TN)/float(TP+TN+FN+FP)\n",
    "    print(\"Accuracy：\", accuracy)\n",
    "    #Sensitivity(Recall)\n",
    "    recall = TP/float(TP+FN)\n",
    "    print(\"Recall：\", recall)\n",
    "    #Specificity\n",
    "    specificity = TN/float(TN+FP)\n",
    "    print(\"Specificity：\", specificity)\n",
    "    #Precision\n",
    "    precision = TP/float(TP+FP)\n",
    "    print(\"Precision：\", precision)\n",
    "    #f1-score\n",
    "    f1_score = ((2*precision*recall)/(precision+recall))\n",
    "    print(\"f1_score：\", f1_score)\n",
    "    #AUC\n",
    "    print(\"AUC：\", metrics.roc_auc_score(y_test, pre))"
   ]
  },
  {
   "cell_type": "code",
   "execution_count": 13,
   "id": "c37f894c-b179-4711-92b8-6e86c3c15e30",
   "metadata": {},
   "outputs": [
    {
     "data": {
      "text/html": [
       "<div>\n",
       "<style scoped>\n",
       "    .dataframe tbody tr th:only-of-type {\n",
       "        vertical-align: middle;\n",
       "    }\n",
       "\n",
       "    .dataframe tbody tr th {\n",
       "        vertical-align: top;\n",
       "    }\n",
       "\n",
       "    .dataframe thead th {\n",
       "        text-align: right;\n",
       "    }\n",
       "</style>\n",
       "<table border=\"1\" class=\"dataframe\">\n",
       "  <thead>\n",
       "    <tr style=\"text-align: right;\">\n",
       "      <th></th>\n",
       "      <th>label</th>\n",
       "      <th>filtered_word</th>\n",
       "    </tr>\n",
       "  </thead>\n",
       "  <tbody>\n",
       "    <tr>\n",
       "      <th>0</th>\n",
       "      <td>1.0</td>\n",
       "      <td>價格 合理 舒適 房間 老闆娘 人 好 做 早餐 旅客 重點 早餐 吃到飽</td>\n",
       "    </tr>\n",
       "    <tr>\n",
       "      <th>1</th>\n",
       "      <td>0.0</td>\n",
       "      <td>內部 房間 乾淨 場地 團體 使用 覺得 棒</td>\n",
       "    </tr>\n",
       "    <tr>\n",
       "      <th>2</th>\n",
       "      <td>0.0</td>\n",
       "      <td>房間 小 美中不足 乾 濕 分離</td>\n",
       "    </tr>\n",
       "    <tr>\n",
       "      <th>3</th>\n",
       "      <td>0.0</td>\n",
       "      <td>房子 設計 棒 房間 採光 好 大廳 挑高 氣派 房價 合理 台東 住 民宿</td>\n",
       "    </tr>\n",
       "    <tr>\n",
       "      <th>4</th>\n",
       "      <td>1.0</td>\n",
       "      <td>Cp值 高 乾淨 舒適 空間 大樓 下 免費 吐司 咖啡 老闆 回復 速度</td>\n",
       "    </tr>\n",
       "    <tr>\n",
       "      <th>...</th>\n",
       "      <td>...</td>\n",
       "      <td>...</td>\n",
       "    </tr>\n",
       "    <tr>\n",
       "      <th>1267</th>\n",
       "      <td>1.0</td>\n",
       "      <td>港式 飲茶 餐廳 口味 棒 環境 乾淨 機車 汽車 停車位 位於 高鐵 附近 適合 宴客</td>\n",
       "    </tr>\n",
       "    <tr>\n",
       "      <th>1268</th>\n",
       "      <td>1.0</td>\n",
       "      <td>場地 氣派 丁香魚 酥脆 服務 親切 蠟味 蘿蔔糕 份量 一些 好 牛肉粥 好吃</td>\n",
       "    </tr>\n",
       "    <tr>\n",
       "      <th>1269</th>\n",
       "      <td>1.0</td>\n",
       "      <td>交通 方便 地下室 停車場 良好 菜色 好 空間 設計好 說 一流 飯店</td>\n",
       "    </tr>\n",
       "    <tr>\n",
       "      <th>1270</th>\n",
       "      <td>1.0</td>\n",
       "      <td>地點 佳 離 逢甲 夜市 老闆娘 親切 服務 房間 舒適 浴室 乾淨</td>\n",
       "    </tr>\n",
       "    <tr>\n",
       "      <th>1271</th>\n",
       "      <td>1.0</td>\n",
       "      <td>房間 乾淨 價格 公道 老闆娘 親切 逢甲 推 民宿 推</td>\n",
       "    </tr>\n",
       "  </tbody>\n",
       "</table>\n",
       "<p>1272 rows × 2 columns</p>\n",
       "</div>"
      ],
      "text/plain": [
       "      label                                 filtered_word\n",
       "0       1.0         價格 合理 舒適 房間 老闆娘 人 好 做 早餐 旅客 重點 早餐 吃到飽\n",
       "1       0.0                        內部 房間 乾淨 場地 團體 使用 覺得 棒\n",
       "2       0.0                              房間 小 美中不足 乾 濕 分離\n",
       "3       0.0        房子 設計 棒 房間 採光 好 大廳 挑高 氣派 房價 合理 台東 住 民宿\n",
       "4       1.0         Cp值 高 乾淨 舒適 空間 大樓 下 免費 吐司 咖啡 老闆 回復 速度\n",
       "...     ...                                           ...\n",
       "1267    1.0  港式 飲茶 餐廳 口味 棒 環境 乾淨 機車 汽車 停車位 位於 高鐵 附近 適合 宴客\n",
       "1268    1.0      場地 氣派 丁香魚 酥脆 服務 親切 蠟味 蘿蔔糕 份量 一些 好 牛肉粥 好吃\n",
       "1269    1.0          交通 方便 地下室 停車場 良好 菜色 好 空間 設計好 說 一流 飯店\n",
       "1270    1.0            地點 佳 離 逢甲 夜市 老闆娘 親切 服務 房間 舒適 浴室 乾淨\n",
       "1271    1.0                  房間 乾淨 價格 公道 老闆娘 親切 逢甲 推 民宿 推\n",
       "\n",
       "[1272 rows x 2 columns]"
      ]
     },
     "execution_count": 13,
     "metadata": {},
     "output_type": "execute_result"
    }
   ],
   "source": [
    "df_service"
   ]
  },
  {
   "cell_type": "markdown",
   "id": "6b8636ec-e7a7-433b-a876-342010132df4",
   "metadata": {
    "tags": []
   },
   "source": [
    "### 切分訓練、測試數據"
   ]
  },
  {
   "cell_type": "code",
   "execution_count": 14,
   "id": "ce72c298-701c-4007-9cff-6555b3c30490",
   "metadata": {},
   "outputs": [],
   "source": [
    "from sklearn.model_selection import train_test_split\n",
    "def split_label(df,seed):\n",
    "    X = df.filtered_word.tolist()\n",
    "    y = df.label\n",
    "    X_train,X_test,y_train,y_test=train_test_split(X,y,test_size=1/3,random_state=seed)\n",
    "    return X_train,X_test,y_train,y_test"
   ]
  },
  {
   "cell_type": "code",
   "execution_count": 15,
   "id": "936320a6-0c24-47de-8acb-13d32d05d4f9",
   "metadata": {},
   "outputs": [],
   "source": [
    "X_train_1,X_test_1,y_train_1,y_test_1 = split_label(df_service,1)\n",
    "X_train_2,X_test_2,y_train_2,y_test_2 = split_label(df_service,2)\n",
    "X_train_3,X_test_3,y_train_3,y_test_3 = split_label(df_service,3)"
   ]
  },
  {
   "cell_type": "code",
   "execution_count": 16,
   "id": "25654090-f10c-4123-8506-d80314fa1c55",
   "metadata": {},
   "outputs": [
    {
     "name": "stdout",
     "output_type": "stream",
     "text": [
      "1.0    524\n",
      "0.0    324\n",
      "Name: label, dtype: int64\n",
      "1.0    526\n",
      "0.0    322\n",
      "Name: label, dtype: int64\n",
      "1.0    537\n",
      "0.0    311\n",
      "Name: label, dtype: int64\n"
     ]
    }
   ],
   "source": [
    "s1 = pd.Series(y_train_1)\n",
    "freq1 = s1.value_counts() \n",
    "print(freq1) \n",
    "s2 = pd.Series(y_train_2)\n",
    "freq2 = s2.value_counts() \n",
    "print(freq2) \n",
    "s3 = pd.Series(y_train_3)\n",
    "freq3 = s3.value_counts() \n",
    "print(freq3) "
   ]
  },
  {
   "cell_type": "markdown",
   "id": "6d0fee28-9feb-4801-bb55-f2e537ac12d8",
   "metadata": {
    "tags": []
   },
   "source": [
    "### 模型設計"
   ]
  },
  {
   "cell_type": "markdown",
   "id": "f5c74e39-1bbe-4c80-ad06-0e3074ae7329",
   "metadata": {
    "tags": []
   },
   "source": [
    "#### (1) baseline"
   ]
  },
  {
   "cell_type": "code",
   "execution_count": 17,
   "id": "4effeedd-3a62-4931-a963-d0cdae920390",
   "metadata": {},
   "outputs": [],
   "source": [
    "def SVM_model(X_train,X_test,y_train,y_test):\n",
    "    print(\"SVM baseline\")\n",
    "    #切分數據集\n",
    "    #X_train,y_train,X_test,y_test = split_label(df_train, df_test)\n",
    "    #模型架構\n",
    "    model = make_pipeline_imb(TfidfVectorizer(max_df=0.8,min_df=5,dtype=np.float32), svm.SVC(kernel='linear'))\n",
    "    model.fit(X_train, y_train)\n",
    "    #模型預測\n",
    "    pre = model.predict(X_test)\n",
    "    #麼行評估\n",
    "    classification_report(y_test, pre)\n",
    "    print(\"\\n\")"
   ]
  },
  {
   "cell_type": "code",
   "execution_count": 18,
   "id": "582d7fde-ba62-4a98-9725-9d770485c811",
   "metadata": {},
   "outputs": [],
   "source": [
    "def LR_model(X_train,X_test,y_train,y_test):\n",
    "    print(\"LR baseline\")\n",
    "    #切分數據集\n",
    "    #X_train,y_train,X_test,y_test = split_label(df_train, df_test)\n",
    "    #模型架構\n",
    "    model = make_pipeline_imb(TfidfVectorizer(max_df=0.8,min_df=5,dtype=np.float32), LogisticRegression(random_state=0))\n",
    "    model.fit(X_train, y_train)\n",
    "    #模型預測\n",
    "    pre = model.predict(X_test)\n",
    "    #麼行評估\n",
    "    classification_report(y_test, pre)\n",
    "    print(\"\\n\")"
   ]
  },
  {
   "cell_type": "code",
   "execution_count": 19,
   "id": "80043705-9df6-43de-a64a-bfa8f2ea4915",
   "metadata": {},
   "outputs": [],
   "source": [
    "def RF_model(X_train,X_test,y_train,y_test):\n",
    "    print(\"RF baseline\")\n",
    "    #切分數據集\n",
    "    #X_train,y_train,X_test,y_test = split_label(df_train, df_test)\n",
    "    #模型架構\n",
    "    model = make_pipeline_imb(TfidfVectorizer(max_df=0.8,min_df=5,dtype=np.float32), RandomForestClassifier(max_depth=2, random_state=0))\n",
    "    model.fit(X_train, y_train)\n",
    "    #模型預測\n",
    "    pre = model.predict(X_test)\n",
    "    #麼行評估\n",
    "    classification_report(y_test, pre)\n",
    "    print(\"\\n\")"
   ]
  },
  {
   "cell_type": "code",
   "execution_count": 20,
   "id": "ef4c1d09-9c26-489a-b946-f3eb16cdca9e",
   "metadata": {},
   "outputs": [],
   "source": [
    "def AdaBoost_model(X_train,X_test,y_train,y_test):\n",
    "    print(\"AdaBoost_model\")\n",
    "    #切分數據集\n",
    "    #X_train,y_train,X_test,y_test = split_label(df_train, df_test)\n",
    "    #模型架構\n",
    "    model = make_pipeline_imb(TfidfVectorizer(), AdaBoostClassifier(n_estimators=200))\n",
    "    model.fit(X_train, y_train)\n",
    "    #模型預測\n",
    "    pre = model.predict(X_test)\n",
    "    #麼行評估\n",
    "    classification_report(y_test, pre)\n",
    "    print(\"\\n\")"
   ]
  },
  {
   "cell_type": "markdown",
   "id": "0fd242fc-ed52-47a3-8e8e-950263def92b",
   "metadata": {
    "tags": []
   },
   "source": [
    "#### (2)執行採樣 => 解決類別不平衡 (SVM)"
   ]
  },
  {
   "cell_type": "code",
   "execution_count": 21,
   "id": "de9840cc-0b35-41a1-87fa-b57132a13672",
   "metadata": {},
   "outputs": [],
   "source": [
    "def SVM_model2(X_train,X_test,y_train,y_test):\n",
    "    print(\"ADASYN\")\n",
    "    #切分數據集\n",
    "    #X_train,y_train,X_test,y_test = split_label(df_train, df_test)\n",
    "    #模型架構\n",
    "    model = make_pipeline_imb(TfidfVectorizer(), over_sampling.ADASYN(), svm.SVC(kernel='linear'))\n",
    "    model.fit(X_train, y_train)\n",
    "    #模型預測\n",
    "    pre = model.predict(X_test)\n",
    "    #麼行評估\n",
    "    classification_report(y_test, pre)\n",
    "    print(\"\\n\")"
   ]
  },
  {
   "cell_type": "code",
   "execution_count": 22,
   "id": "b56f9250-4755-4aef-acbf-0a0e24dfefd8",
   "metadata": {},
   "outputs": [],
   "source": [
    "def SVM_model3(X_train,X_test,y_train,y_test):\n",
    "    print(\"SMOTE\")\n",
    "    #切分數據集\n",
    "    #X_train,y_train,X_test,y_test = split_label(df_train, df_test)\n",
    "    #模型架構\n",
    "    model = make_pipeline_imb(TfidfVectorizer(), over_sampling.SMOTE(), svm.SVC(kernel='linear'))\n",
    "    model.fit(X_train, y_train)\n",
    "    #模型預測\n",
    "    pre = model.predict(X_test)\n",
    "    #麼行評估\n",
    "    classification_report(y_test, pre)\n",
    "    print(\"\\n\")"
   ]
  },
  {
   "cell_type": "code",
   "execution_count": 23,
   "id": "17634123-3d47-49b6-aecd-e949c4226cd4",
   "metadata": {},
   "outputs": [],
   "source": [
    "def SVM_model4(X_train,X_test,y_train,y_test):\n",
    "    print(\"RandomOverSampler\")\n",
    "    #切分數據集\n",
    "    #X_train,y_train,X_test,y_test = split_label(df_train, df_test)\n",
    "    #模型架構\n",
    "    model = make_pipeline_imb(TfidfVectorizer(), over_sampling.RandomOverSampler(), svm.SVC(kernel='linear'))\n",
    "    model.fit(X_train, y_train)\n",
    "    #模型預測\n",
    "    pre = model.predict(X_test)\n",
    "    #麼行評估\n",
    "    classification_report(y_test, pre)\n",
    "    print(\"\\n\")"
   ]
  },
  {
   "cell_type": "code",
   "execution_count": 24,
   "id": "e0c4654d-5f7a-474a-adb0-e151c3eaffbd",
   "metadata": {},
   "outputs": [],
   "source": [
    "def SVM_model5(X_train,X_test,y_train,y_test):\n",
    "    print(\"RandomUnderSampler\")\n",
    "    #切分數據集\n",
    "    #X_train,y_train,X_test,y_test = split_label(df_train, df_test)\n",
    "    #模型架構\n",
    "    model = make_pipeline_imb(TfidfVectorizer(), under_sampling.RandomUnderSampler(), svm.SVC(kernel='linear'))\n",
    "    model.fit(X_train, y_train)\n",
    "    #模型預測\n",
    "    pre = model.predict(X_test)\n",
    "    #麼行評估\n",
    "    classification_report(y_test, pre)\n",
    "    print(\"\\n\")"
   ]
  },
  {
   "cell_type": "markdown",
   "id": "259a3f1f-a2b0-444d-8c27-09e25477c011",
   "metadata": {
    "tags": []
   },
   "source": [
    "#### (3)執行採樣 => 解決類別不平衡 (Adaboost)"
   ]
  },
  {
   "cell_type": "code",
   "execution_count": 25,
   "id": "9ccdebd6-b168-4328-b945-d6a3f5bb6727",
   "metadata": {},
   "outputs": [],
   "source": [
    "def AdaBoost_model2(X_train,X_test,y_train,y_test):\n",
    "    print(\"ADASYN\")\n",
    "    #切分數據集\n",
    "    #X_train,y_train,X_test,y_test = split_label(df_train, df_test)\n",
    "    #模型架構\n",
    "    model = make_pipeline_imb(TfidfVectorizer(), over_sampling.ADASYN(), AdaBoostClassifier(n_estimators=200))\n",
    "    model.fit(X_train, y_train)\n",
    "    #模型預測\n",
    "    pre = model.predict(X_test)\n",
    "    #麼行評估\n",
    "    classification_report(y_test, pre)\n",
    "    print(\"\\n\")"
   ]
  },
  {
   "cell_type": "code",
   "execution_count": 26,
   "id": "3c73e184-3030-4ca2-be1e-62bd33ccfbb7",
   "metadata": {},
   "outputs": [],
   "source": [
    "def AdaBoost_model3(X_train,X_test,y_train,y_test):\n",
    "    print(\"SMOTE\")\n",
    "    #切分數據集\n",
    "    #X_train,y_train,X_test,y_test = split_label(df_train, df_test)\n",
    "    #模型架構\n",
    "    model = make_pipeline_imb(TfidfVectorizer(), over_sampling.SMOTE(), AdaBoostClassifier(n_estimators=200))\n",
    "    model.fit(X_train, y_train)\n",
    "    #模型預測\n",
    "    pre = model.predict(X_test)\n",
    "    #麼行評估\n",
    "    classification_report(y_test, pre)\n",
    "    print(\"\\n\")"
   ]
  },
  {
   "cell_type": "code",
   "execution_count": 27,
   "id": "1284a043-f531-4f0c-b810-79505df5608d",
   "metadata": {},
   "outputs": [],
   "source": [
    "def AdaBoost_model4(X_train,X_test,y_train,y_test):\n",
    "    print(\"RandomOverSampler\")\n",
    "    #切分數據集\n",
    "    #X_train,y_train,X_test,y_test = split_label(df_train, df_test)\n",
    "    #模型架構\n",
    "    model = make_pipeline_imb(TfidfVectorizer(), over_sampling.RandomOverSampler(), AdaBoostClassifier(n_estimators=200))\n",
    "    model.fit(X_train, y_train)\n",
    "    #模型預測\n",
    "    pre = model.predict(X_test)\n",
    "    #麼行評估\n",
    "    classification_report(y_test, pre)\n",
    "    print(\"\\n\")"
   ]
  },
  {
   "cell_type": "code",
   "execution_count": 28,
   "id": "9bebfbf5-6b8f-4a97-b1b7-c7e664be046f",
   "metadata": {},
   "outputs": [],
   "source": [
    "def AdaBoost_model5(X_train,X_test,y_train,y_test):\n",
    "    print(\"RandomUnderSampler\")\n",
    "    #切分數據集\n",
    "    #X_train,y_train,X_test,y_test = split_label(df_train, df_test)\n",
    "    #模型架構\n",
    "    model = make_pipeline_imb(TfidfVectorizer(), under_sampling.RandomUnderSampler(), AdaBoostClassifier(n_estimators=200))\n",
    "    model.fit(X_train, y_train)\n",
    "    #模型預測\n",
    "    pre = model.predict(X_test)\n",
    "    #麼行評估\n",
    "    classification_report(y_test, pre)\n",
    "    print(\"\\n\")"
   ]
  },
  {
   "cell_type": "markdown",
   "id": "0b7d93f4-b593-4079-a7ee-50106af14326",
   "metadata": {
    "tags": []
   },
   "source": [
    "## 模型訓練&結果"
   ]
  },
  {
   "cell_type": "markdown",
   "id": "b87038cb-fcf0-487b-be81-3b9ed8ac340d",
   "metadata": {
    "tags": []
   },
   "source": [
    "### 資料集1"
   ]
  },
  {
   "cell_type": "markdown",
   "id": "307939ac-c4f2-4bfb-a2c3-4bd0022e34c7",
   "metadata": {
    "tags": []
   },
   "source": [
    "#### baseline"
   ]
  },
  {
   "cell_type": "code",
   "execution_count": 29,
   "id": "8a8b3b39-db3f-4b2f-b9b1-f160fc1c2338",
   "metadata": {},
   "outputs": [
    {
     "name": "stdout",
     "output_type": "stream",
     "text": [
      "SVM baseline\n",
      "TP: 237\n",
      "TN: 148\n",
      "FP: 7\n",
      "FN: 32\n",
      "Accuracy： 0.9080188679245284\n",
      "Recall： 0.8810408921933085\n",
      "Specificity： 0.9548387096774194\n",
      "Precision： 0.9713114754098361\n",
      "f1_score： 0.9239766081871346\n",
      "AUC： 0.917939800935364\n",
      "\n",
      "\n",
      "LR baseline\n",
      "TP: 247\n",
      "TN: 142\n",
      "FP: 13\n",
      "FN: 22\n",
      "Accuracy： 0.9174528301886793\n",
      "Recall： 0.9182156133828996\n",
      "Specificity： 0.9161290322580645\n",
      "Precision： 0.95\n",
      "f1_score： 0.9338374291115311\n",
      "AUC： 0.917172322820482\n",
      "\n",
      "\n",
      "RF baseline\n",
      "TP: 269\n",
      "TN: 0\n",
      "FP: 155\n",
      "FN: 0\n",
      "Accuracy： 0.6344339622641509\n",
      "Recall： 1.0\n",
      "Specificity： 0.0\n",
      "Precision： 0.6344339622641509\n",
      "f1_score： 0.7763347763347763\n",
      "AUC： 0.5\n",
      "\n",
      "\n",
      "AdaBoost_model\n",
      "TP: 231\n",
      "TN: 133\n",
      "FP: 22\n",
      "FN: 38\n",
      "Accuracy： 0.8584905660377359\n",
      "Recall： 0.8587360594795539\n",
      "Specificity： 0.8580645161290322\n",
      "Precision： 0.9130434782608695\n",
      "f1_score： 0.8850574712643678\n",
      "AUC： 0.8584002878042931\n",
      "\n",
      "\n"
     ]
    }
   ],
   "source": [
    "SVM_model(X_train_1,X_test_1,y_train_1,y_test_1)\n",
    "LR_model(X_train_1,X_test_1,y_train_1,y_test_1)\n",
    "RF_model(X_train_1,X_test_1,y_train_1,y_test_1)\n",
    "AdaBoost_model(X_train_1,X_test_1,y_train_1,y_test_1)"
   ]
  },
  {
   "cell_type": "markdown",
   "id": "4f57e29b-b5da-4c19-bd5f-66566b2866b2",
   "metadata": {
    "tags": []
   },
   "source": [
    "#### 處理類別不平衡(SVM)"
   ]
  },
  {
   "cell_type": "code",
   "execution_count": 30,
   "id": "8927158e-6bb9-4229-baa0-9375efea894d",
   "metadata": {},
   "outputs": [
    {
     "name": "stdout",
     "output_type": "stream",
     "text": [
      "ADASYN\n",
      "TP: 236\n",
      "TN: 149\n",
      "FP: 6\n",
      "FN: 33\n",
      "Accuracy： 0.9080188679245284\n",
      "Recall： 0.8773234200743495\n",
      "Specificity： 0.9612903225806452\n",
      "Precision： 0.9752066115702479\n",
      "f1_score： 0.923679060665362\n",
      "AUC： 0.9193068713274973\n",
      "\n",
      "\n",
      "SMOTE\n",
      "TP: 235\n",
      "TN: 146\n",
      "FP: 9\n",
      "FN: 34\n",
      "Accuracy： 0.8985849056603774\n",
      "Recall： 0.8736059479553904\n",
      "Specificity： 0.9419354838709677\n",
      "Precision： 0.9631147540983607\n",
      "f1_score： 0.9161793372319689\n",
      "AUC： 0.907770715913179\n",
      "\n",
      "\n",
      "RandomOverSampler\n",
      "TP: 235\n",
      "TN: 148\n",
      "FP: 7\n",
      "FN: 34\n",
      "Accuracy： 0.9033018867924528\n",
      "Recall： 0.8736059479553904\n",
      "Specificity： 0.9548387096774194\n",
      "Precision： 0.9710743801652892\n",
      "f1_score： 0.9197651663405088\n",
      "AUC： 0.9142223288164049\n",
      "\n",
      "\n",
      "RandomUnderSampler\n",
      "TP: 224\n",
      "TN: 151\n",
      "FP: 4\n",
      "FN: 45\n",
      "Accuracy： 0.8844339622641509\n",
      "Recall： 0.8327137546468402\n",
      "Specificity： 0.9741935483870968\n",
      "Precision： 0.9824561403508771\n",
      "f1_score： 0.9014084507042253\n",
      "AUC： 0.9034536515169684\n",
      "\n",
      "\n"
     ]
    }
   ],
   "source": [
    "SVM_model2(X_train_1,X_test_1,y_train_1,y_test_1)\n",
    "SVM_model3(X_train_1,X_test_1,y_train_1,y_test_1)\n",
    "SVM_model4(X_train_1,X_test_1,y_train_1,y_test_1)\n",
    "SVM_model5(X_train_1,X_test_1,y_train_1,y_test_1)"
   ]
  },
  {
   "cell_type": "markdown",
   "id": "2104f3fb-c135-4b1c-a4e9-f2523310eb9b",
   "metadata": {
    "tags": []
   },
   "source": [
    "#### 處理類別不平衡(Adaboost)"
   ]
  },
  {
   "cell_type": "code",
   "execution_count": 31,
   "id": "49c81a34-8472-4d71-bbef-d69983019057",
   "metadata": {},
   "outputs": [
    {
     "name": "stdout",
     "output_type": "stream",
     "text": [
      "ADASYN\n",
      "TP: 237\n",
      "TN: 134\n",
      "FP: 21\n",
      "FN: 32\n",
      "Accuracy： 0.875\n",
      "Recall： 0.8810408921933085\n",
      "Specificity： 0.864516129032258\n",
      "Precision： 0.9186046511627907\n",
      "f1_score： 0.8994307400379505\n",
      "AUC： 0.8727785106127833\n",
      "\n",
      "\n",
      "SMOTE\n",
      "TP: 233\n",
      "TN: 136\n",
      "FP: 19\n",
      "FN: 36\n",
      "Accuracy： 0.8702830188679245\n",
      "Recall： 0.8661710037174721\n",
      "Specificity： 0.8774193548387097\n",
      "Precision： 0.9246031746031746\n",
      "f1_score： 0.8944337811900193\n",
      "AUC： 0.8717951792780909\n",
      "\n",
      "\n",
      "RandomOverSampler\n",
      "TP: 236\n",
      "TN: 134\n",
      "FP: 21\n",
      "FN: 33\n",
      "Accuracy： 0.8726415094339622\n",
      "Recall： 0.8773234200743495\n",
      "Specificity： 0.864516129032258\n",
      "Precision： 0.9182879377431906\n",
      "f1_score： 0.8973384030418251\n",
      "AUC： 0.8709197745533038\n",
      "\n",
      "\n",
      "RandomUnderSampler\n",
      "TP: 219\n",
      "TN: 144\n",
      "FP: 11\n",
      "FN: 50\n",
      "Accuracy： 0.8561320754716981\n",
      "Recall： 0.8141263940520446\n",
      "Specificity： 0.9290322580645162\n",
      "Precision： 0.9521739130434783\n",
      "f1_score： 0.8777555110220441\n",
      "AUC： 0.8715793260582805\n",
      "\n",
      "\n"
     ]
    }
   ],
   "source": [
    "AdaBoost_model2(X_train_1,X_test_1,y_train_1,y_test_1)\n",
    "AdaBoost_model3(X_train_1,X_test_1,y_train_1,y_test_1)\n",
    "AdaBoost_model4(X_train_1,X_test_1,y_train_1,y_test_1)\n",
    "AdaBoost_model5(X_train_1,X_test_1,y_train_1,y_test_1)"
   ]
  },
  {
   "cell_type": "markdown",
   "id": "0d7cd266-8e91-4db7-97ca-3ceca34d9271",
   "metadata": {
    "tags": []
   },
   "source": [
    "### 資料集2"
   ]
  },
  {
   "cell_type": "markdown",
   "id": "a8465954-51b1-4f56-9650-9670379c1b3d",
   "metadata": {
    "tags": []
   },
   "source": [
    "#### baseline"
   ]
  },
  {
   "cell_type": "code",
   "execution_count": 32,
   "id": "f5165c90-95d3-4716-9efa-1a87bb69310a",
   "metadata": {},
   "outputs": [
    {
     "name": "stdout",
     "output_type": "stream",
     "text": [
      "SVM baseline\n",
      "TP: 232\n",
      "TN: 149\n",
      "FP: 8\n",
      "FN: 35\n",
      "Accuracy： 0.8985849056603774\n",
      "Recall： 0.8689138576779026\n",
      "Specificity： 0.9490445859872612\n",
      "Precision： 0.9666666666666667\n",
      "f1_score： 0.9151873767258383\n",
      "AUC： 0.9089792218325818\n",
      "\n",
      "\n",
      "LR baseline\n",
      "TP: 239\n",
      "TN: 133\n",
      "FP: 24\n",
      "FN: 28\n",
      "Accuracy： 0.8773584905660378\n",
      "Recall： 0.8951310861423221\n",
      "Specificity： 0.8471337579617835\n",
      "Precision： 0.908745247148289\n",
      "f1_score： 0.9018867924528302\n",
      "AUC： 0.8711324220520528\n",
      "\n",
      "\n",
      "RF baseline\n",
      "TP: 267\n",
      "TN: 0\n",
      "FP: 157\n",
      "FN: 0\n",
      "Accuracy： 0.6297169811320755\n",
      "Recall： 1.0\n",
      "Specificity： 0.0\n",
      "Precision： 0.6297169811320755\n",
      "f1_score： 0.7727930535455861\n",
      "AUC： 0.5\n",
      "\n",
      "\n",
      "AdaBoost_model\n",
      "TP: 235\n",
      "TN: 144\n",
      "FP: 13\n",
      "FN: 32\n",
      "Accuracy： 0.8938679245283019\n",
      "Recall： 0.8801498127340824\n",
      "Specificity： 0.9171974522292994\n",
      "Precision： 0.9475806451612904\n",
      "f1_score： 0.912621359223301\n",
      "AUC： 0.898673632481691\n",
      "\n",
      "\n"
     ]
    }
   ],
   "source": [
    "SVM_model(X_train_2,X_test_2,y_train_2,y_test_2)\n",
    "LR_model(X_train_2,X_test_2,y_train_2,y_test_2)\n",
    "RF_model(X_train_2,X_test_2,y_train_2,y_test_2)\n",
    "AdaBoost_model(X_train_2,X_test_2,y_train_2,y_test_2)"
   ]
  },
  {
   "cell_type": "markdown",
   "id": "0d71898e-545d-4724-90ee-4c55ed7cd8bd",
   "metadata": {
    "tags": []
   },
   "source": [
    "#### 處理類別不平衡(SVM)"
   ]
  },
  {
   "cell_type": "code",
   "execution_count": 33,
   "id": "17549184-0a46-42ae-9291-d1d6b9f1f725",
   "metadata": {},
   "outputs": [
    {
     "name": "stdout",
     "output_type": "stream",
     "text": [
      "ADASYN\n",
      "TP: 242\n",
      "TN: 142\n",
      "FP: 15\n",
      "FN: 25\n",
      "Accuracy： 0.9056603773584906\n",
      "Recall： 0.9063670411985019\n",
      "Specificity： 0.9044585987261147\n",
      "Precision： 0.9416342412451362\n",
      "f1_score： 0.9236641221374046\n",
      "AUC： 0.9054128199623084\n",
      "\n",
      "\n",
      "SMOTE\n",
      "TP: 243\n",
      "TN: 143\n",
      "FP: 14\n",
      "FN: 24\n",
      "Accuracy： 0.910377358490566\n",
      "Recall： 0.9101123595505618\n",
      "Specificity： 0.910828025477707\n",
      "Precision： 0.9455252918287937\n",
      "f1_score： 0.9274809160305344\n",
      "AUC： 0.9104701925141344\n",
      "\n",
      "\n",
      "RandomOverSampler\n",
      "TP: 242\n",
      "TN: 142\n",
      "FP: 15\n",
      "FN: 25\n",
      "Accuracy： 0.9056603773584906\n",
      "Recall： 0.9063670411985019\n",
      "Specificity： 0.9044585987261147\n",
      "Precision： 0.9416342412451362\n",
      "f1_score： 0.9236641221374046\n",
      "AUC： 0.9054128199623084\n",
      "\n",
      "\n",
      "RandomUnderSampler\n",
      "TP: 224\n",
      "TN: 149\n",
      "FP: 8\n",
      "FN: 43\n",
      "Accuracy： 0.8797169811320755\n",
      "Recall： 0.8389513108614233\n",
      "Specificity： 0.9490445859872612\n",
      "Precision： 0.9655172413793104\n",
      "f1_score： 0.8977955911823647\n",
      "AUC： 0.8939979484243422\n",
      "\n",
      "\n"
     ]
    }
   ],
   "source": [
    "SVM_model2(X_train_2,X_test_2,y_train_2,y_test_2)\n",
    "SVM_model3(X_train_2,X_test_2,y_train_2,y_test_2)\n",
    "SVM_model4(X_train_2,X_test_2,y_train_2,y_test_2)\n",
    "SVM_model5(X_train_2,X_test_2,y_train_2,y_test_2)"
   ]
  },
  {
   "cell_type": "markdown",
   "id": "991a1084-02ce-4dc5-85fd-3c65d6d8265c",
   "metadata": {
    "tags": []
   },
   "source": [
    "#### 處理類別不平衡(Adaboost)"
   ]
  },
  {
   "cell_type": "code",
   "execution_count": 34,
   "id": "5f696397-9819-49b2-99b8-58a2c9ccc5fa",
   "metadata": {
    "tags": []
   },
   "outputs": [
    {
     "name": "stdout",
     "output_type": "stream",
     "text": [
      "ADASYN\n",
      "TP: 232\n",
      "TN: 145\n",
      "FP: 12\n",
      "FN: 35\n",
      "Accuracy： 0.8891509433962265\n",
      "Recall： 0.8689138576779026\n",
      "Specificity： 0.9235668789808917\n",
      "Precision： 0.9508196721311475\n",
      "f1_score： 0.9080234833659491\n",
      "AUC： 0.8962403683293971\n",
      "\n",
      "\n",
      "SMOTE\n",
      "TP: 234\n",
      "TN: 147\n",
      "FP: 10\n",
      "FN: 33\n",
      "Accuracy： 0.8985849056603774\n",
      "Recall： 0.8764044943820225\n",
      "Specificity： 0.9363057324840764\n",
      "Precision： 0.9590163934426229\n",
      "f1_score： 0.9158512720156556\n",
      "AUC： 0.9063551134330494\n",
      "\n",
      "\n",
      "RandomOverSampler\n",
      "TP: 230\n",
      "TN: 145\n",
      "FP: 12\n",
      "FN: 37\n",
      "Accuracy： 0.8844339622641509\n",
      "Recall： 0.8614232209737828\n",
      "Specificity： 0.9235668789808917\n",
      "Precision： 0.9504132231404959\n",
      "f1_score： 0.9037328094302555\n",
      "AUC： 0.8924950499773372\n",
      "\n",
      "\n",
      "RandomUnderSampler\n",
      "TP: 216\n",
      "TN: 141\n",
      "FP: 16\n",
      "FN: 51\n",
      "Accuracy： 0.8419811320754716\n",
      "Recall： 0.8089887640449438\n",
      "Specificity： 0.8980891719745223\n",
      "Precision： 0.9310344827586207\n",
      "f1_score： 0.8657314629258516\n",
      "AUC： 0.8535389680097331\n",
      "\n",
      "\n"
     ]
    }
   ],
   "source": [
    "AdaBoost_model2(X_train_2,X_test_2,y_train_2,y_test_2)\n",
    "AdaBoost_model3(X_train_2,X_test_2,y_train_2,y_test_2)\n",
    "AdaBoost_model4(X_train_2,X_test_2,y_train_2,y_test_2)\n",
    "AdaBoost_model5(X_train_2,X_test_2,y_train_2,y_test_2)"
   ]
  },
  {
   "cell_type": "markdown",
   "id": "4a73c197-ac2c-42dd-808f-fd8fc66ba2e7",
   "metadata": {
    "tags": []
   },
   "source": [
    "### 資料集3"
   ]
  },
  {
   "cell_type": "markdown",
   "id": "8d18ad43-e437-40b1-97cf-4341df882d50",
   "metadata": {
    "tags": []
   },
   "source": [
    "#### baseline"
   ]
  },
  {
   "cell_type": "code",
   "execution_count": 35,
   "id": "1a7a8c07-7bd3-4541-8096-f7e3d59048b4",
   "metadata": {},
   "outputs": [
    {
     "name": "stdout",
     "output_type": "stream",
     "text": [
      "SVM baseline\n",
      "TP: 225\n",
      "TN: 148\n",
      "FP: 20\n",
      "FN: 31\n",
      "Accuracy： 0.8797169811320755\n",
      "Recall： 0.87890625\n",
      "Specificity： 0.8809523809523809\n",
      "Precision： 0.9183673469387755\n",
      "f1_score： 0.8982035928143713\n",
      "AUC： 0.8799293154761905\n",
      "\n",
      "\n",
      "LR baseline\n",
      "TP: 237\n",
      "TN: 135\n",
      "FP: 33\n",
      "FN: 19\n",
      "Accuracy： 0.8773584905660378\n",
      "Recall： 0.92578125\n",
      "Specificity： 0.8035714285714286\n",
      "Precision： 0.8777777777777778\n",
      "f1_score： 0.9011406844106464\n",
      "AUC： 0.8646763392857143\n",
      "\n",
      "\n",
      "RF baseline\n",
      "TP: 256\n",
      "TN: 0\n",
      "FP: 168\n",
      "FN: 0\n",
      "Accuracy： 0.6037735849056604\n",
      "Recall： 1.0\n",
      "Specificity： 0.0\n",
      "Precision： 0.6037735849056604\n",
      "f1_score： 0.7529411764705882\n",
      "AUC： 0.5\n",
      "\n",
      "\n",
      "AdaBoost_model\n",
      "TP: 233\n",
      "TN: 144\n",
      "FP: 24\n",
      "FN: 23\n",
      "Accuracy： 0.8891509433962265\n",
      "Recall： 0.91015625\n",
      "Specificity： 0.8571428571428571\n",
      "Precision： 0.9066147859922179\n",
      "f1_score： 0.9083820662768032\n",
      "AUC： 0.8836495535714286\n",
      "\n",
      "\n"
     ]
    }
   ],
   "source": [
    "SVM_model(X_train_3,X_test_3,y_train_3,y_test_3)\n",
    "LR_model(X_train_3,X_test_3,y_train_3,y_test_3)\n",
    "RF_model(X_train_3,X_test_3,y_train_3,y_test_3)\n",
    "AdaBoost_model(X_train_3,X_test_3,y_train_3,y_test_3)"
   ]
  },
  {
   "cell_type": "markdown",
   "id": "570e9a68-245f-4986-b075-297e19ec9c4f",
   "metadata": {
    "tags": []
   },
   "source": [
    "#### 處理類別不平衡(SVM)"
   ]
  },
  {
   "cell_type": "code",
   "execution_count": 36,
   "id": "497f4234-e09b-4844-aada-ebfb0d99164b",
   "metadata": {},
   "outputs": [
    {
     "name": "stdout",
     "output_type": "stream",
     "text": [
      "ADASYN\n",
      "TP: 231\n",
      "TN: 153\n",
      "FP: 15\n",
      "FN: 25\n",
      "Accuracy： 0.9056603773584906\n",
      "Recall： 0.90234375\n",
      "Specificity： 0.9107142857142857\n",
      "Precision： 0.9390243902439024\n",
      "f1_score： 0.9203187250996016\n",
      "AUC： 0.9065290178571428\n",
      "\n",
      "\n",
      "SMOTE\n",
      "TP: 231\n",
      "TN: 152\n",
      "FP: 16\n",
      "FN: 25\n",
      "Accuracy： 0.9033018867924528\n",
      "Recall： 0.90234375\n",
      "Specificity： 0.9047619047619048\n",
      "Precision： 0.9352226720647774\n",
      "f1_score： 0.9184890656063619\n",
      "AUC： 0.9035528273809524\n",
      "\n",
      "\n",
      "RandomOverSampler\n",
      "TP: 231\n",
      "TN: 152\n",
      "FP: 16\n",
      "FN: 25\n",
      "Accuracy： 0.9033018867924528\n",
      "Recall： 0.90234375\n",
      "Specificity： 0.9047619047619048\n",
      "Precision： 0.9352226720647774\n",
      "f1_score： 0.9184890656063619\n",
      "AUC： 0.9035528273809524\n",
      "\n",
      "\n",
      "RandomUnderSampler\n",
      "TP: 218\n",
      "TN: 161\n",
      "FP: 7\n",
      "FN: 38\n",
      "Accuracy： 0.8938679245283019\n",
      "Recall： 0.8515625\n",
      "Specificity： 0.9583333333333334\n",
      "Precision： 0.9688888888888889\n",
      "f1_score： 0.9064449064449064\n",
      "AUC： 0.9049479166666666\n",
      "\n",
      "\n"
     ]
    }
   ],
   "source": [
    "SVM_model2(X_train_3,X_test_3,y_train_3,y_test_3)\n",
    "SVM_model3(X_train_3,X_test_3,y_train_3,y_test_3)\n",
    "SVM_model4(X_train_3,X_test_3,y_train_3,y_test_3)\n",
    "SVM_model5(X_train_3,X_test_3,y_train_3,y_test_3)"
   ]
  },
  {
   "cell_type": "markdown",
   "id": "a324278d-a492-448e-8f16-8b40c028da72",
   "metadata": {
    "tags": []
   },
   "source": [
    "#### 處理類別不平衡(Adaboost)"
   ]
  },
  {
   "cell_type": "code",
   "execution_count": 37,
   "id": "0f492523-c149-4374-b132-e706f8a97e51",
   "metadata": {
    "tags": []
   },
   "outputs": [
    {
     "name": "stdout",
     "output_type": "stream",
     "text": [
      "ADASYN\n",
      "TP: 230\n",
      "TN: 144\n",
      "FP: 24\n",
      "FN: 26\n",
      "Accuracy： 0.8820754716981132\n",
      "Recall： 0.8984375\n",
      "Specificity： 0.8571428571428571\n",
      "Precision： 0.905511811023622\n",
      "f1_score： 0.9019607843137255\n",
      "AUC： 0.8777901785714286\n",
      "\n",
      "\n",
      "SMOTE\n",
      "TP: 224\n",
      "TN: 143\n",
      "FP: 25\n",
      "FN: 32\n",
      "Accuracy： 0.8655660377358491\n",
      "Recall： 0.875\n",
      "Specificity： 0.8511904761904762\n",
      "Precision： 0.8995983935742972\n",
      "f1_score： 0.8871287128712871\n",
      "AUC： 0.863095238095238\n",
      "\n",
      "\n",
      "RandomOverSampler\n",
      "TP: 224\n",
      "TN: 145\n",
      "FP: 23\n",
      "FN: 32\n",
      "Accuracy： 0.8702830188679245\n",
      "Recall： 0.875\n",
      "Specificity： 0.8630952380952381\n",
      "Precision： 0.9068825910931174\n",
      "f1_score： 0.8906560636182903\n",
      "AUC： 0.8690476190476192\n",
      "\n",
      "\n",
      "RandomUnderSampler\n",
      "TP: 229\n",
      "TN: 147\n",
      "FP: 21\n",
      "FN: 27\n",
      "Accuracy： 0.8867924528301887\n",
      "Recall： 0.89453125\n",
      "Specificity： 0.875\n",
      "Precision： 0.916\n",
      "f1_score： 0.9051383399209487\n",
      "AUC： 0.884765625\n",
      "\n",
      "\n"
     ]
    }
   ],
   "source": [
    "AdaBoost_model2(X_train_3,X_test_3,y_train_3,y_test_3)\n",
    "AdaBoost_model3(X_train_3,X_test_3,y_train_3,y_test_3)\n",
    "AdaBoost_model4(X_train_3,X_test_3,y_train_3,y_test_3)\n",
    "AdaBoost_model5(X_train_3,X_test_3,y_train_3,y_test_3)"
   ]
  },
  {
   "cell_type": "code",
   "execution_count": null,
   "id": "3f6c0668-fdc5-4c35-9400-f082ac358fd2",
   "metadata": {},
   "outputs": [],
   "source": []
  },
  {
   "cell_type": "code",
   "execution_count": null,
   "id": "a75a3728-3d7e-48d2-a00c-f37e46accedd",
   "metadata": {},
   "outputs": [],
   "source": []
  }
 ],
 "metadata": {
  "kernelspec": {
   "display_name": "Python 3 (ipykernel)",
   "language": "python",
   "name": "python3"
  },
  "language_info": {
   "codemirror_mode": {
    "name": "ipython",
    "version": 3
   },
   "file_extension": ".py",
   "mimetype": "text/x-python",
   "name": "python",
   "nbconvert_exporter": "python",
   "pygments_lexer": "ipython3",
   "version": "3.8.12"
  }
 },
 "nbformat": 4,
 "nbformat_minor": 5
}
