{
 "cells": [
  {
   "cell_type": "markdown",
   "id": "608f9531-d9c0-47a4-bf7b-fcfe91992f8e",
   "metadata": {
    "tags": []
   },
   "source": [
    "## 幾種思路"
   ]
  },
  {
   "cell_type": "markdown",
   "id": "aae267fd-f953-442a-88cc-e2bfb9aff87d",
   "metadata": {},
   "source": [
    "思路1：TF-IDF + 機器學習分類器\n",
    "直接使用TF-IDF對文本提取特徵，並使用分類器進行分類。在分類器的選擇上，可以使用SVM、LR、或者XGBoost。\n",
    "\n",
    "思路2：FastText\n",
    "FastText是入門款的詞向量，利用Facebook提供的FastText工具，可以快速構建出分類器。\n",
    "\n",
    "思路3：WordVec + 深度學習分類器\n",
    "WordVec是進階款的詞向量，並通過構建深度學習分類完成分類。深度學習分類的網絡結構可以選擇TextCNN、TextRNN或者BiLSTM。\n",
    "\n",
    "思路4：Bert詞向量\n",
    "Bert是高配款的詞向量，具有強大的建模學習能力。"
   ]
  },
  {
   "cell_type": "markdown",
   "id": "10abf616-467b-4883-8210-339068693e2b",
   "metadata": {
    "tags": []
   },
   "source": [
    "## 獲取6種模型的資料集"
   ]
  },
  {
   "cell_type": "code",
   "execution_count": 175,
   "id": "3f1556b9-10a8-4230-910e-2e0851184854",
   "metadata": {},
   "outputs": [],
   "source": [
    "import matplotlib.pyplot as plt\n",
    "import os\n",
    "import pandas as pd\n",
    "import numpy as np\n",
    "import re\n",
    "path = '../data/0414/review_data(seg+pos+stopwords)_a+n+v.csv'\n",
    "df = pd.read_csv(path)"
   ]
  },
  {
   "cell_type": "markdown",
   "id": "03134552-b205-4ba6-8b30-49d1b63f6e8d",
   "metadata": {
    "tags": []
   },
   "source": [
    "### 檢查重複值、空值"
   ]
  },
  {
   "cell_type": "code",
   "execution_count": 176,
   "id": "cf01f08b-66b4-48dc-b539-f963be31ec24",
   "metadata": {},
   "outputs": [
    {
     "name": "stdout",
     "output_type": "stream",
     "text": [
      "Empty DataFrame\n",
      "Columns: [reviews, value, comfort, location, cleanliness, service, facilities, ws_pos_reviews, filtered, filtered_word]\n",
      "Index: []\n"
     ]
    }
   ],
   "source": [
    "#印出重複資料\n",
    "print(df[df.duplicated()])"
   ]
  },
  {
   "cell_type": "code",
   "execution_count": 177,
   "id": "1fcd3385-74b6-4e0e-8a68-48f139e3161d",
   "metadata": {},
   "outputs": [],
   "source": [
    "#移除重複值\n",
    "#df = df.drop_duplicates()\n",
    "#print(df.shape)"
   ]
  },
  {
   "cell_type": "code",
   "execution_count": 178,
   "id": "57541fcf-3859-4b9d-a6af-68c3a1b7a1d7",
   "metadata": {},
   "outputs": [],
   "source": [
    "#印出空值資料\n",
    "#df_train[df_train.isnull().T.any()]"
   ]
  },
  {
   "cell_type": "markdown",
   "id": "9ef2dd09-a1d4-408b-af22-a11cdd6829a9",
   "metadata": {},
   "source": [
    "### 切分為6個資料集"
   ]
  },
  {
   "cell_type": "code",
   "execution_count": 179,
   "id": "e466b400-44e6-442f-914f-148dc9f2cd2c",
   "metadata": {},
   "outputs": [],
   "source": [
    "def split_df(df):\n",
    "    df_value = df[['value','filtered_word']]\n",
    "    df_value.rename(columns={'value': 'label'}, inplace=True)\n",
    "    df_comfort = df[['comfort','filtered_word']]\n",
    "    df_comfort.rename(columns={'comfort': 'label'}, inplace=True)\n",
    "    df_location = df[['location','filtered_word']]\n",
    "    df_location.rename(columns={'location': 'label'}, inplace=True)\n",
    "    df_cleanliness = df[['cleanliness','filtered_word']]\n",
    "    df_cleanliness.rename(columns={'cleanliness': 'label'}, inplace=True)\n",
    "    df_service = df[['service','filtered_word']]\n",
    "    df_service.rename(columns={'service': 'label'}, inplace=True)\n",
    "    df_facilities = df[['facilities','filtered_word']]\n",
    "    df_facilities.rename(columns={'facilities': 'label'}, inplace=True)\n",
    "    return df_value, df_comfort, df_location, df_cleanliness, df_service, df_facilities"
   ]
  },
  {
   "cell_type": "code",
   "execution_count": 180,
   "id": "f74887e2-a787-4bba-af45-b6824ebbf6e5",
   "metadata": {},
   "outputs": [],
   "source": [
    "#df_value_train, df_comfort_train, df_location_train, df_cleanliness_train, df_service_train ,df_facilities_train = split_df(df_train)\n",
    "#df_value_test, df_comfort_test, df_location_test, df_cleanliness_test, df_service_test, df_facilities_test = split_df(df_test)\n",
    "df_value, df_comfort, df_location, df_cleanliness, df_service ,df_facilities = split_df(df)"
   ]
  },
  {
   "cell_type": "code",
   "execution_count": 181,
   "id": "bbc20206-24d9-43f4-96c9-ab61f326eec8",
   "metadata": {},
   "outputs": [
    {
     "data": {
      "text/html": [
       "<div>\n",
       "<style scoped>\n",
       "    .dataframe tbody tr th:only-of-type {\n",
       "        vertical-align: middle;\n",
       "    }\n",
       "\n",
       "    .dataframe tbody tr th {\n",
       "        vertical-align: top;\n",
       "    }\n",
       "\n",
       "    .dataframe thead th {\n",
       "        text-align: right;\n",
       "    }\n",
       "</style>\n",
       "<table border=\"1\" class=\"dataframe\">\n",
       "  <thead>\n",
       "    <tr style=\"text-align: right;\">\n",
       "      <th></th>\n",
       "      <th>label</th>\n",
       "      <th>filtered_word</th>\n",
       "    </tr>\n",
       "  </thead>\n",
       "  <tbody>\n",
       "    <tr>\n",
       "      <th>0</th>\n",
       "      <td>0</td>\n",
       "      <td>價格(Na),房間(Nc),老闆娘(Na),人(Na),早餐(Na),旅客(Na),重點(N...</td>\n",
       "    </tr>\n",
       "    <tr>\n",
       "      <th>1</th>\n",
       "      <td>1</td>\n",
       "      <td>內部(Ncd),房間(Nc),場地(Na),團體(Na)</td>\n",
       "    </tr>\n",
       "    <tr>\n",
       "      <th>2</th>\n",
       "      <td>0</td>\n",
       "      <td>房間(Nc)</td>\n",
       "    </tr>\n",
       "    <tr>\n",
       "      <th>3</th>\n",
       "      <td>1</td>\n",
       "      <td>房子(Na),房間(Nc),採光(Na),大廳(Nc),氣派(Na),房價(Na),台東(N...</td>\n",
       "    </tr>\n",
       "    <tr>\n",
       "      <th>4</th>\n",
       "      <td>0</td>\n",
       "      <td>空間(Na),大樓(Na),下(Ncd),吐司(Na),咖啡(Na),老闆(Na),速度(Na)</td>\n",
       "    </tr>\n",
       "    <tr>\n",
       "      <th>...</th>\n",
       "      <td>...</td>\n",
       "      <td>...</td>\n",
       "    </tr>\n",
       "    <tr>\n",
       "      <th>1267</th>\n",
       "      <td>1</td>\n",
       "      <td>港式(Na),餐廳(Nc),口味(Na),環境(Na),機車(Na),汽車(Na),停車位(...</td>\n",
       "    </tr>\n",
       "    <tr>\n",
       "      <th>1268</th>\n",
       "      <td>0</td>\n",
       "      <td>場地(Na),氣派(Na),丁香魚(Na),蠟味(Na),蘿蔔糕(Na),份量(Na),牛肉...</td>\n",
       "    </tr>\n",
       "    <tr>\n",
       "      <th>1269</th>\n",
       "      <td>1</td>\n",
       "      <td>交通(Na),地下室(Nc),停車場(Nc),菜色(Na),空間(Na),飯店(Nc)</td>\n",
       "    </tr>\n",
       "    <tr>\n",
       "      <th>1270</th>\n",
       "      <td>0</td>\n",
       "      <td>地點(Na),逢甲(Nb),夜市(Nc),老闆娘(Na),房間(Nc),浴室(Nc)</td>\n",
       "    </tr>\n",
       "    <tr>\n",
       "      <th>1271</th>\n",
       "      <td>0</td>\n",
       "      <td>房間(Nc),價格(Na),老闆娘(Na),逢甲(Nb),民宿(Nc)</td>\n",
       "    </tr>\n",
       "  </tbody>\n",
       "</table>\n",
       "<p>1272 rows × 2 columns</p>\n",
       "</div>"
      ],
      "text/plain": [
       "      label                                      filtered_word\n",
       "0         0  價格(Na),房間(Nc),老闆娘(Na),人(Na),早餐(Na),旅客(Na),重點(N...\n",
       "1         1                       內部(Ncd),房間(Nc),場地(Na),團體(Na)\n",
       "2         0                                             房間(Nc)\n",
       "3         1  房子(Na),房間(Nc),採光(Na),大廳(Nc),氣派(Na),房價(Na),台東(N...\n",
       "4         0   空間(Na),大樓(Na),下(Ncd),吐司(Na),咖啡(Na),老闆(Na),速度(Na)\n",
       "...     ...                                                ...\n",
       "1267      1  港式(Na),餐廳(Nc),口味(Na),環境(Na),機車(Na),汽車(Na),停車位(...\n",
       "1268      0  場地(Na),氣派(Na),丁香魚(Na),蠟味(Na),蘿蔔糕(Na),份量(Na),牛肉...\n",
       "1269      1        交通(Na),地下室(Nc),停車場(Nc),菜色(Na),空間(Na),飯店(Nc)\n",
       "1270      0         地點(Na),逢甲(Nb),夜市(Nc),老闆娘(Na),房間(Nc),浴室(Nc)\n",
       "1271      0                房間(Nc),價格(Na),老闆娘(Na),逢甲(Nb),民宿(Nc)\n",
       "\n",
       "[1272 rows x 2 columns]"
      ]
     },
     "execution_count": 181,
     "metadata": {},
     "output_type": "execute_result"
    }
   ],
   "source": [
    "df_facilities"
   ]
  },
  {
   "cell_type": "markdown",
   "id": "c59ec4bf-a42d-406c-a15e-54431ef328fd",
   "metadata": {
    "tags": []
   },
   "source": [
    "### 清理資料(移除詞性標註的文字)"
   ]
  },
  {
   "cell_type": "code",
   "execution_count": 182,
   "id": "2cb95288-72e7-4508-aa53-1684ff8a63e1",
   "metadata": {},
   "outputs": [],
   "source": [
    "def remove_N_comma(sentence):\n",
    "    # 把後面(N..)(V..)(F..)拿掉\n",
    "    sentence = str(sentence)\n",
    "    pattern = re.compile(r\"\\([N,V,F,P,A].*?\\)\") #移除詞性標示\n",
    "    sentence = re.sub(pattern, '', sentence)\n",
    "    pattern = re.compile(r\",\") #將逗號替換為空格\n",
    "    sentence = re.sub(pattern, ' ', sentence)\n",
    "    return sentence\n",
    "pd.options.mode.chained_assignment = None  # 忽略警告"
   ]
  },
  {
   "cell_type": "code",
   "execution_count": 183,
   "id": "f29d4e13-b275-406a-96c1-fd46f70772bc",
   "metadata": {},
   "outputs": [],
   "source": [
    "#訓練集\n",
    "df_facilities['filtered_word'] = df_facilities.apply(lambda x: remove_N_comma(x['filtered_word']),axis=1)"
   ]
  },
  {
   "cell_type": "code",
   "execution_count": 184,
   "id": "96657345-dcdf-40d4-b09b-2904f3ea0281",
   "metadata": {},
   "outputs": [
    {
     "name": "stdout",
     "output_type": "stream",
     "text": [
      "(1272, 2)\n"
     ]
    },
    {
     "data": {
      "text/html": [
       "<div>\n",
       "<style scoped>\n",
       "    .dataframe tbody tr th:only-of-type {\n",
       "        vertical-align: middle;\n",
       "    }\n",
       "\n",
       "    .dataframe tbody tr th {\n",
       "        vertical-align: top;\n",
       "    }\n",
       "\n",
       "    .dataframe thead th {\n",
       "        text-align: right;\n",
       "    }\n",
       "</style>\n",
       "<table border=\"1\" class=\"dataframe\">\n",
       "  <thead>\n",
       "    <tr style=\"text-align: right;\">\n",
       "      <th></th>\n",
       "      <th>label</th>\n",
       "      <th>filtered_word</th>\n",
       "    </tr>\n",
       "  </thead>\n",
       "  <tbody>\n",
       "    <tr>\n",
       "      <th>0</th>\n",
       "      <td>0</td>\n",
       "      <td>價格 房間 老闆娘 人 早餐 旅客 重點 早餐</td>\n",
       "    </tr>\n",
       "    <tr>\n",
       "      <th>1</th>\n",
       "      <td>1</td>\n",
       "      <td>內部 房間 場地 團體</td>\n",
       "    </tr>\n",
       "    <tr>\n",
       "      <th>2</th>\n",
       "      <td>0</td>\n",
       "      <td>房間</td>\n",
       "    </tr>\n",
       "    <tr>\n",
       "      <th>3</th>\n",
       "      <td>1</td>\n",
       "      <td>房子 房間 採光 大廳 氣派 房價 台東 民宿</td>\n",
       "    </tr>\n",
       "    <tr>\n",
       "      <th>4</th>\n",
       "      <td>0</td>\n",
       "      <td>空間 大樓 下 吐司 咖啡 老闆 速度</td>\n",
       "    </tr>\n",
       "    <tr>\n",
       "      <th>...</th>\n",
       "      <td>...</td>\n",
       "      <td>...</td>\n",
       "    </tr>\n",
       "    <tr>\n",
       "      <th>1267</th>\n",
       "      <td>1</td>\n",
       "      <td>港式 餐廳 口味 環境 機車 汽車 停車位 高鐵 附近</td>\n",
       "    </tr>\n",
       "    <tr>\n",
       "      <th>1268</th>\n",
       "      <td>0</td>\n",
       "      <td>場地 氣派 丁香魚 蠟味 蘿蔔糕 份量 牛肉粥</td>\n",
       "    </tr>\n",
       "    <tr>\n",
       "      <th>1269</th>\n",
       "      <td>1</td>\n",
       "      <td>交通 地下室 停車場 菜色 空間 飯店</td>\n",
       "    </tr>\n",
       "    <tr>\n",
       "      <th>1270</th>\n",
       "      <td>0</td>\n",
       "      <td>地點 逢甲 夜市 老闆娘 房間 浴室</td>\n",
       "    </tr>\n",
       "    <tr>\n",
       "      <th>1271</th>\n",
       "      <td>0</td>\n",
       "      <td>房間 價格 老闆娘 逢甲 民宿</td>\n",
       "    </tr>\n",
       "  </tbody>\n",
       "</table>\n",
       "<p>1272 rows × 2 columns</p>\n",
       "</div>"
      ],
      "text/plain": [
       "      label                filtered_word\n",
       "0         0      價格 房間 老闆娘 人 早餐 旅客 重點 早餐\n",
       "1         1                  內部 房間 場地 團體\n",
       "2         0                           房間\n",
       "3         1      房子 房間 採光 大廳 氣派 房價 台東 民宿\n",
       "4         0          空間 大樓 下 吐司 咖啡 老闆 速度\n",
       "...     ...                          ...\n",
       "1267      1  港式 餐廳 口味 環境 機車 汽車 停車位 高鐵 附近\n",
       "1268      0      場地 氣派 丁香魚 蠟味 蘿蔔糕 份量 牛肉粥\n",
       "1269      1          交通 地下室 停車場 菜色 空間 飯店\n",
       "1270      0           地點 逢甲 夜市 老闆娘 房間 浴室\n",
       "1271      0              房間 價格 老闆娘 逢甲 民宿\n",
       "\n",
       "[1272 rows x 2 columns]"
      ]
     },
     "execution_count": 184,
     "metadata": {},
     "output_type": "execute_result"
    }
   ],
   "source": [
    "print(df_facilities.shape)\n",
    "df_facilities"
   ]
  },
  {
   "cell_type": "code",
   "execution_count": 185,
   "id": "641d8f7f-3d53-43f0-9b8e-0be0153ffd02",
   "metadata": {},
   "outputs": [
    {
     "data": {
      "text/html": [
       "<div>\n",
       "<style scoped>\n",
       "    .dataframe tbody tr th:only-of-type {\n",
       "        vertical-align: middle;\n",
       "    }\n",
       "\n",
       "    .dataframe tbody tr th {\n",
       "        vertical-align: top;\n",
       "    }\n",
       "\n",
       "    .dataframe thead th {\n",
       "        text-align: right;\n",
       "    }\n",
       "</style>\n",
       "<table border=\"1\" class=\"dataframe\">\n",
       "  <thead>\n",
       "    <tr style=\"text-align: right;\">\n",
       "      <th></th>\n",
       "      <th>label</th>\n",
       "      <th>filtered_word</th>\n",
       "    </tr>\n",
       "  </thead>\n",
       "  <tbody>\n",
       "  </tbody>\n",
       "</table>\n",
       "</div>"
      ],
      "text/plain": [
       "Empty DataFrame\n",
       "Columns: [label, filtered_word]\n",
       "Index: []"
      ]
     },
     "execution_count": 185,
     "metadata": {},
     "output_type": "execute_result"
    }
   ],
   "source": [
    "bool = df_facilities['filtered_word'].str.contains('Ne')\n",
    "filter_data = df_facilities[bool]\n",
    "filter_data"
   ]
  },
  {
   "cell_type": "markdown",
   "id": "41b21127-7864-4ea5-bbc6-872b5ce25697",
   "metadata": {
    "tags": []
   },
   "source": [
    "## 模型架構"
   ]
  },
  {
   "cell_type": "markdown",
   "id": "85f5dea5-298a-4819-8ac5-520b79eb20c2",
   "metadata": {
    "tags": []
   },
   "source": [
    "### 套件引用"
   ]
  },
  {
   "cell_type": "code",
   "execution_count": 186,
   "id": "9f68cb11-c4ef-4366-9a3f-9af34c9dd711",
   "metadata": {},
   "outputs": [],
   "source": [
    "#import package\n",
    "#轉向量用\n",
    "from sklearn.feature_extraction.text import CountVectorizer\n",
    "from sklearn.feature_extraction.text import TfidfTransformer\n",
    "from sklearn.feature_extraction.text import TfidfVectorizer \n",
    "from scipy.sparse import coo_matrix\n",
    "\n",
    "from imblearn.pipeline import Pipeline, make_pipeline\n",
    "from sklearn.model_selection import cross_validate\n",
    "import pickle #儲存模型用\n",
    "from sklearn.model_selection import train_test_split\n",
    "#類別採樣\n",
    "import imblearn.over_sampling as over_sampling\n",
    "import imblearn.under_sampling as under_sampling\n",
    "import imblearn.combine as combine\n",
    "from imblearn.pipeline import make_pipeline as make_pipeline_imb\n",
    "\n",
    "\n",
    "#模型\n",
    "from sklearn.metrics import classification_report\n",
    "from sklearn.linear_model import LogisticRegression\n",
    "from sklearn.ensemble import RandomForestClassifier\n",
    "from sklearn import svm\n",
    "from sklearn.ensemble import AdaBoostClassifier\n",
    "#from xgboost.sklearn import XGBClassifier\n",
    "\n",
    "#模型效能表現\n",
    "import sklearn.metrics as metrics"
   ]
  },
  {
   "cell_type": "markdown",
   "id": "05bca335-929e-46d6-b8e6-447621d41d8c",
   "metadata": {
    "tags": []
   },
   "source": [
    "### 顯示訓練結果"
   ]
  },
  {
   "cell_type": "code",
   "execution_count": 187,
   "id": "9ad34b64-c7c9-4cce-8b62-0a266a165a3e",
   "metadata": {},
   "outputs": [],
   "source": [
    "def classification_report(y_test, pre):\n",
    "    #混淆矩陣\n",
    "    confusion = metrics.confusion_matrix(y_test, pre)\n",
    "    TP = confusion[1,1]\n",
    "    TN = confusion[0,0]\n",
    "    FP = confusion[0,1]\n",
    "    FN = confusion[1,0]\n",
    "    print(\"TP:\",TP)\n",
    "    print(\"TN:\",TN)\n",
    "    print(\"FP:\",FP)\n",
    "    print(\"FN:\",FN)\n",
    "    #Accuracy\n",
    "    accuracy = (TP+TN)/float(TP+TN+FN+FP)\n",
    "    print(\"Accuracy：\", accuracy)\n",
    "    #Sensitivity(Recall)\n",
    "    recall = TP/float(TP+FN)\n",
    "    print(\"Recall：\", recall)\n",
    "    #Specificity\n",
    "    specificity = TN/float(TN+FP)\n",
    "    print(\"Specificity：\", specificity)\n",
    "    #Precision\n",
    "    precision = TP/float(TP+FP)\n",
    "    print(\"Precision：\", precision)\n",
    "    #f1-score\n",
    "    f1_score = ((2*precision*recall)/(precision+recall))\n",
    "    print(\"f1_score：\", f1_score)\n",
    "    #AUC\n",
    "    print(\"AUC：\", metrics.roc_auc_score(y_test, pre))"
   ]
  },
  {
   "cell_type": "code",
   "execution_count": 188,
   "id": "c37f894c-b179-4711-92b8-6e86c3c15e30",
   "metadata": {},
   "outputs": [
    {
     "data": {
      "text/html": [
       "<div>\n",
       "<style scoped>\n",
       "    .dataframe tbody tr th:only-of-type {\n",
       "        vertical-align: middle;\n",
       "    }\n",
       "\n",
       "    .dataframe tbody tr th {\n",
       "        vertical-align: top;\n",
       "    }\n",
       "\n",
       "    .dataframe thead th {\n",
       "        text-align: right;\n",
       "    }\n",
       "</style>\n",
       "<table border=\"1\" class=\"dataframe\">\n",
       "  <thead>\n",
       "    <tr style=\"text-align: right;\">\n",
       "      <th></th>\n",
       "      <th>label</th>\n",
       "      <th>filtered_word</th>\n",
       "    </tr>\n",
       "  </thead>\n",
       "  <tbody>\n",
       "    <tr>\n",
       "      <th>0</th>\n",
       "      <td>0</td>\n",
       "      <td>價格 房間 老闆娘 人 早餐 旅客 重點 早餐</td>\n",
       "    </tr>\n",
       "    <tr>\n",
       "      <th>1</th>\n",
       "      <td>1</td>\n",
       "      <td>內部 房間 場地 團體</td>\n",
       "    </tr>\n",
       "    <tr>\n",
       "      <th>2</th>\n",
       "      <td>0</td>\n",
       "      <td>房間</td>\n",
       "    </tr>\n",
       "    <tr>\n",
       "      <th>3</th>\n",
       "      <td>1</td>\n",
       "      <td>房子 房間 採光 大廳 氣派 房價 台東 民宿</td>\n",
       "    </tr>\n",
       "    <tr>\n",
       "      <th>4</th>\n",
       "      <td>0</td>\n",
       "      <td>空間 大樓 下 吐司 咖啡 老闆 速度</td>\n",
       "    </tr>\n",
       "    <tr>\n",
       "      <th>...</th>\n",
       "      <td>...</td>\n",
       "      <td>...</td>\n",
       "    </tr>\n",
       "    <tr>\n",
       "      <th>1267</th>\n",
       "      <td>1</td>\n",
       "      <td>港式 餐廳 口味 環境 機車 汽車 停車位 高鐵 附近</td>\n",
       "    </tr>\n",
       "    <tr>\n",
       "      <th>1268</th>\n",
       "      <td>0</td>\n",
       "      <td>場地 氣派 丁香魚 蠟味 蘿蔔糕 份量 牛肉粥</td>\n",
       "    </tr>\n",
       "    <tr>\n",
       "      <th>1269</th>\n",
       "      <td>1</td>\n",
       "      <td>交通 地下室 停車場 菜色 空間 飯店</td>\n",
       "    </tr>\n",
       "    <tr>\n",
       "      <th>1270</th>\n",
       "      <td>0</td>\n",
       "      <td>地點 逢甲 夜市 老闆娘 房間 浴室</td>\n",
       "    </tr>\n",
       "    <tr>\n",
       "      <th>1271</th>\n",
       "      <td>0</td>\n",
       "      <td>房間 價格 老闆娘 逢甲 民宿</td>\n",
       "    </tr>\n",
       "  </tbody>\n",
       "</table>\n",
       "<p>1272 rows × 2 columns</p>\n",
       "</div>"
      ],
      "text/plain": [
       "      label                filtered_word\n",
       "0         0      價格 房間 老闆娘 人 早餐 旅客 重點 早餐\n",
       "1         1                  內部 房間 場地 團體\n",
       "2         0                           房間\n",
       "3         1      房子 房間 採光 大廳 氣派 房價 台東 民宿\n",
       "4         0          空間 大樓 下 吐司 咖啡 老闆 速度\n",
       "...     ...                          ...\n",
       "1267      1  港式 餐廳 口味 環境 機車 汽車 停車位 高鐵 附近\n",
       "1268      0      場地 氣派 丁香魚 蠟味 蘿蔔糕 份量 牛肉粥\n",
       "1269      1          交通 地下室 停車場 菜色 空間 飯店\n",
       "1270      0           地點 逢甲 夜市 老闆娘 房間 浴室\n",
       "1271      0              房間 價格 老闆娘 逢甲 民宿\n",
       "\n",
       "[1272 rows x 2 columns]"
      ]
     },
     "execution_count": 188,
     "metadata": {},
     "output_type": "execute_result"
    }
   ],
   "source": [
    "df_facilities"
   ]
  },
  {
   "cell_type": "code",
   "execution_count": 189,
   "id": "52062f5c-6164-4b03-93d4-7918f68249c2",
   "metadata": {},
   "outputs": [
    {
     "data": {
      "text/html": [
       "<div>\n",
       "<style scoped>\n",
       "    .dataframe tbody tr th:only-of-type {\n",
       "        vertical-align: middle;\n",
       "    }\n",
       "\n",
       "    .dataframe tbody tr th {\n",
       "        vertical-align: top;\n",
       "    }\n",
       "\n",
       "    .dataframe thead th {\n",
       "        text-align: right;\n",
       "    }\n",
       "</style>\n",
       "<table border=\"1\" class=\"dataframe\">\n",
       "  <thead>\n",
       "    <tr style=\"text-align: right;\">\n",
       "      <th></th>\n",
       "      <th>label</th>\n",
       "      <th>filtered_word</th>\n",
       "    </tr>\n",
       "  </thead>\n",
       "  <tbody>\n",
       "  </tbody>\n",
       "</table>\n",
       "</div>"
      ],
      "text/plain": [
       "Empty DataFrame\n",
       "Columns: [label, filtered_word]\n",
       "Index: []"
      ]
     },
     "execution_count": 189,
     "metadata": {},
     "output_type": "execute_result"
    }
   ],
   "source": [
    "bool = df_facilities['filtered_word'].str.contains('cp')\n",
    "filter_data = df_facilities[bool]\n",
    "filter_data"
   ]
  },
  {
   "cell_type": "markdown",
   "id": "6b8636ec-e7a7-433b-a876-342010132df4",
   "metadata": {
    "tags": []
   },
   "source": [
    "### 切分訓練、測試數據"
   ]
  },
  {
   "cell_type": "code",
   "execution_count": 190,
   "id": "ce72c298-701c-4007-9cff-6555b3c30490",
   "metadata": {},
   "outputs": [],
   "source": [
    "from sklearn.model_selection import train_test_split\n",
    "def split_label(df,seed):\n",
    "    X = df.filtered_word.tolist()\n",
    "    y = df.label\n",
    "    X_train,X_test,y_train,y_test=train_test_split(X,y,test_size=1/3,random_state=seed)\n",
    "    return X_train,X_test,y_train,y_test"
   ]
  },
  {
   "cell_type": "code",
   "execution_count": 191,
   "id": "936320a6-0c24-47de-8acb-13d32d05d4f9",
   "metadata": {},
   "outputs": [],
   "source": [
    "X_train_1,X_test_1,y_train_1,y_test_1 = split_label(df_facilities,1)\n",
    "X_train_2,X_test_2,y_train_2,y_test_2 = split_label(df_facilities,2)\n",
    "X_train_3,X_test_3,y_train_3,y_test_3 = split_label(df_facilities,3)"
   ]
  },
  {
   "cell_type": "code",
   "execution_count": 192,
   "id": "25654090-f10c-4123-8506-d80314fa1c55",
   "metadata": {},
   "outputs": [
    {
     "name": "stdout",
     "output_type": "stream",
     "text": [
      "0    638\n",
      "1    210\n",
      "Name: label, dtype: int64\n",
      "0    639\n",
      "1    209\n",
      "Name: label, dtype: int64\n",
      "0    652\n",
      "1    196\n",
      "Name: label, dtype: int64\n"
     ]
    }
   ],
   "source": [
    "s1 = pd.Series(y_train_1)\n",
    "freq1 = s1.value_counts() \n",
    "print(freq1) \n",
    "s2 = pd.Series(y_train_2)\n",
    "freq2 = s2.value_counts() \n",
    "print(freq2) \n",
    "s3 = pd.Series(y_train_3)\n",
    "freq3 = s3.value_counts() \n",
    "print(freq3) "
   ]
  },
  {
   "cell_type": "markdown",
   "id": "6d0fee28-9feb-4801-bb55-f2e537ac12d8",
   "metadata": {
    "tags": []
   },
   "source": [
    "### 模型設計"
   ]
  },
  {
   "cell_type": "markdown",
   "id": "f5c74e39-1bbe-4c80-ad06-0e3074ae7329",
   "metadata": {
    "tags": []
   },
   "source": [
    "#### (1) baseline"
   ]
  },
  {
   "cell_type": "code",
   "execution_count": 193,
   "id": "4effeedd-3a62-4931-a963-d0cdae920390",
   "metadata": {},
   "outputs": [],
   "source": [
    "def SVM_model(X_train,X_test,y_train,y_test):\n",
    "    print(\"SVM baseline\")\n",
    "    #切分數據集\n",
    "    #X_train,y_train,X_test,y_test = split_label(df_train, df_test)\n",
    "    #模型架構\n",
    "    model = make_pipeline_imb(TfidfVectorizer(max_df=0.8,min_df=5,dtype=np.float32), svm.SVC(kernel='linear'))\n",
    "    model.fit(X_train, y_train)\n",
    "    #模型預測\n",
    "    pre = model.predict(X_test)\n",
    "    #麼行評估\n",
    "    classification_report(y_test, pre)\n",
    "    print(\"\\n\")"
   ]
  },
  {
   "cell_type": "code",
   "execution_count": 194,
   "id": "582d7fde-ba62-4a98-9725-9d770485c811",
   "metadata": {},
   "outputs": [],
   "source": [
    "def LR_model(X_train,X_test,y_train,y_test):\n",
    "    print(\"LR baseline\")\n",
    "    #切分數據集\n",
    "    #X_train,y_train,X_test,y_test = split_label(df_train, df_test)\n",
    "    #模型架構\n",
    "    model = make_pipeline_imb(TfidfVectorizer(max_df=0.8,min_df=5,dtype=np.float32), LogisticRegression(random_state=0))\n",
    "    model.fit(X_train, y_train)\n",
    "    #模型預測\n",
    "    pre = model.predict(X_test)\n",
    "    #麼行評估\n",
    "    classification_report(y_test, pre)\n",
    "    print(\"\\n\")"
   ]
  },
  {
   "cell_type": "code",
   "execution_count": 195,
   "id": "80043705-9df6-43de-a64a-bfa8f2ea4915",
   "metadata": {},
   "outputs": [],
   "source": [
    "def RF_model(X_train,X_test,y_train,y_test):\n",
    "    print(\"RF baseline\")\n",
    "    #切分數據集\n",
    "    #X_train,y_train,X_test,y_test = split_label(df_train, df_test)\n",
    "    #模型架構\n",
    "    model = make_pipeline_imb(TfidfVectorizer(max_df=0.8,min_df=5,dtype=np.float32), RandomForestClassifier(max_depth=2, random_state=0))\n",
    "    model.fit(X_train, y_train)\n",
    "    #模型預測\n",
    "    pre = model.predict(X_test)\n",
    "    #麼行評估\n",
    "    classification_report(y_test, pre)\n",
    "    print(\"\\n\")"
   ]
  },
  {
   "cell_type": "code",
   "execution_count": 196,
   "id": "ef4c1d09-9c26-489a-b946-f3eb16cdca9e",
   "metadata": {},
   "outputs": [],
   "source": [
    "def AdaBoost_model(X_train,X_test,y_train,y_test):\n",
    "    print(\"AdaBoost_model\")\n",
    "    #切分數據集\n",
    "    #X_train,y_train,X_test,y_test = split_label(df_train, df_test)\n",
    "    #模型架構\n",
    "    model = make_pipeline_imb(TfidfVectorizer(), AdaBoostClassifier(n_estimators=200))\n",
    "    model.fit(X_train, y_train)\n",
    "    #模型預測\n",
    "    pre = model.predict(X_test)\n",
    "    #麼行評估\n",
    "    classification_report(y_test, pre)\n",
    "    print(\"\\n\")"
   ]
  },
  {
   "cell_type": "markdown",
   "id": "0fd242fc-ed52-47a3-8e8e-950263def92b",
   "metadata": {
    "tags": []
   },
   "source": [
    "#### (2)執行採樣 => 解決類別不平衡 (SVM)"
   ]
  },
  {
   "cell_type": "code",
   "execution_count": 217,
   "id": "de9840cc-0b35-41a1-87fa-b57132a13672",
   "metadata": {},
   "outputs": [],
   "source": [
    "def SVM_model2(X_train,X_test,y_train,y_test):\n",
    "    print(\"ADASYN\")\n",
    "    #切分數據集\n",
    "    #X_train,y_train,X_test,y_test = split_label(df_train, df_test)\n",
    "    #模型架構\n",
    "    model = make_pipeline_imb(TfidfVectorizer(), over_sampling.ADASYN(), svm.SVC(kernel='linear'))\n",
    "    print(model)\n",
    "    # Get the names of each feature\n",
    "    model.fit(X_train, y_train)\n",
    "    feature_names = model.named_steps[\"tfidfvectorizer\"].get_feature_names()\n",
    "    #pd.DataFrame([transformer.idf_], columns=vectorizer.get_feature_names())\n",
    "    #print(feature_names)\n",
    "    #模型預測\n",
    "    pre = model.predict(X_test)\n",
    "    df_predict = pd.DataFrame(data={'X_test': X_test, 'y_test': y_test, 'pre':pre}) \n",
    "    df_predict.to_csv('../data/0414/predict_facilities.csv', encoding='utf_8_sig', index=False)\n",
    "    #麼行評估\n",
    "    classification_report(y_test, pre)\n",
    "    print(\"\\n\")"
   ]
  },
  {
   "cell_type": "code",
   "execution_count": 218,
   "id": "4eda9758-34df-4676-ae93-3fb118fda294",
   "metadata": {},
   "outputs": [
    {
     "name": "stdout",
     "output_type": "stream",
     "text": [
      "ADASYN\n",
      "Pipeline(steps=[('tfidfvectorizer', TfidfVectorizer()), ('adasyn', ADASYN()),\n",
      "                ('svc', SVC(kernel='linear'))])\n",
      "TP: 60\n",
      "TN: 275\n",
      "FP: 49\n",
      "FN: 40\n",
      "Accuracy： 0.7900943396226415\n",
      "Recall： 0.6\n",
      "Specificity： 0.8487654320987654\n",
      "Precision： 0.5504587155963303\n",
      "f1_score： 0.5741626794258374\n",
      "AUC： 0.7243827160493828\n",
      "\n",
      "\n"
     ]
    }
   ],
   "source": [
    "SVM_model2(X_train_1,X_test_1,y_train_1,y_test_1)"
   ]
  },
  {
   "cell_type": "code",
   "execution_count": 199,
   "id": "b56f9250-4755-4aef-acbf-0a0e24dfefd8",
   "metadata": {},
   "outputs": [],
   "source": [
    "def SVM_model3(X_train,X_test,y_train,y_test):\n",
    "    print(\"SMOTE\")\n",
    "    #切分數據集\n",
    "    #X_train,y_train,X_test,y_test = split_label(df_train, df_test)\n",
    "    #模型架構\n",
    "    model = make_pipeline_imb(TfidfVectorizer(), over_sampling.SMOTE(), svm.SVC(kernel='linear'))\n",
    "    model.fit(X_train, y_train)\n",
    "    #模型預測\n",
    "    pre = model.predict(X_test)\n",
    "    #麼行評估\n",
    "    classification_report(y_test, pre)\n",
    "    print(\"\\n\")"
   ]
  },
  {
   "cell_type": "code",
   "execution_count": 200,
   "id": "17634123-3d47-49b6-aecd-e949c4226cd4",
   "metadata": {},
   "outputs": [],
   "source": [
    "def SVM_model4(X_train,X_test,y_train,y_test):\n",
    "    print(\"RandomOverSampler\")\n",
    "    #切分數據集\n",
    "    #X_train,y_train,X_test,y_test = split_label(df_train, df_test)\n",
    "    #模型架構\n",
    "    model = make_pipeline_imb(TfidfVectorizer(), over_sampling.RandomOverSampler(), svm.SVC(kernel='linear'))\n",
    "    model.fit(X_train, y_train)\n",
    "    #模型預測\n",
    "    pre = model.predict(X_test)\n",
    "    #麼行評估\n",
    "    classification_report(y_test, pre)\n",
    "    print(\"\\n\")"
   ]
  },
  {
   "cell_type": "code",
   "execution_count": 201,
   "id": "e0c4654d-5f7a-474a-adb0-e151c3eaffbd",
   "metadata": {},
   "outputs": [],
   "source": [
    "def SVM_model5(X_train,X_test,y_train,y_test):\n",
    "    print(\"RandomUnderSampler\")\n",
    "    #切分數據集\n",
    "    #X_train,y_train,X_test,y_test = split_label(df_train, df_test)\n",
    "    #模型架構\n",
    "    model = make_pipeline_imb(TfidfVectorizer(), under_sampling.RandomUnderSampler(), svm.SVC(kernel='linear'))\n",
    "    model.fit(X_train, y_train)\n",
    "    #模型預測\n",
    "    pre = model.predict(X_test)\n",
    "    #麼行評估\n",
    "    classification_report(y_test, pre)\n",
    "    print(\"\\n\")"
   ]
  },
  {
   "cell_type": "markdown",
   "id": "259a3f1f-a2b0-444d-8c27-09e25477c011",
   "metadata": {
    "tags": []
   },
   "source": [
    "#### (3)執行採樣 => 解決類別不平衡 (Adaboost)"
   ]
  },
  {
   "cell_type": "code",
   "execution_count": 202,
   "id": "9ccdebd6-b168-4328-b945-d6a3f5bb6727",
   "metadata": {},
   "outputs": [],
   "source": [
    "def AdaBoost_model2(X_train,X_test,y_train,y_test):\n",
    "    print(\"ADASYN\")\n",
    "    #切分數據集\n",
    "    #X_train,y_train,X_test,y_test = split_label(df_train, df_test)\n",
    "    #模型架構\n",
    "    model = make_pipeline_imb(TfidfVectorizer(), over_sampling.ADASYN(), AdaBoostClassifier(n_estimators=200))\n",
    "    model.fit(X_train, y_train)\n",
    "    #模型預測\n",
    "    pre = model.predict(X_test)\n",
    "    #麼行評估\n",
    "    classification_report(y_test, pre)\n",
    "    print(\"\\n\")"
   ]
  },
  {
   "cell_type": "code",
   "execution_count": 203,
   "id": "3c73e184-3030-4ca2-be1e-62bd33ccfbb7",
   "metadata": {},
   "outputs": [],
   "source": [
    "def AdaBoost_model3(X_train,X_test,y_train,y_test):\n",
    "    print(\"SMOTE\")\n",
    "    #切分數據集\n",
    "    #X_train,y_train,X_test,y_test = split_label(df_train, df_test)\n",
    "    #模型架構\n",
    "    model = make_pipeline_imb(TfidfVectorizer(), over_sampling.SMOTE(), AdaBoostClassifier(n_estimators=200))\n",
    "    model.fit(X_train, y_train)\n",
    "    #模型預測\n",
    "    pre = model.predict(X_test)\n",
    "    #麼行評估\n",
    "    classification_report(y_test, pre)\n",
    "    print(\"\\n\")"
   ]
  },
  {
   "cell_type": "code",
   "execution_count": 204,
   "id": "1284a043-f531-4f0c-b810-79505df5608d",
   "metadata": {},
   "outputs": [],
   "source": [
    "def AdaBoost_model4(X_train,X_test,y_train,y_test):\n",
    "    print(\"RandomOverSampler\")\n",
    "    #切分數據集\n",
    "    #X_train,y_train,X_test,y_test = split_label(df_train, df_test)\n",
    "    #模型架構\n",
    "    model = make_pipeline_imb(TfidfVectorizer(), over_sampling.RandomOverSampler(), AdaBoostClassifier(n_estimators=200))\n",
    "    model.fit(X_train, y_train)\n",
    "    #模型預測\n",
    "    pre = model.predict(X_test)\n",
    "    #麼行評估\n",
    "    classification_report(y_test, pre)\n",
    "    print(\"\\n\")"
   ]
  },
  {
   "cell_type": "code",
   "execution_count": 205,
   "id": "9bebfbf5-6b8f-4a97-b1b7-c7e664be046f",
   "metadata": {},
   "outputs": [],
   "source": [
    "def AdaBoost_model5(X_train,X_test,y_train,y_test):\n",
    "    print(\"RandomUnderSampler\")\n",
    "    #切分數據集\n",
    "    #X_train,y_train,X_test,y_test = split_label(df_train, df_test)\n",
    "    #模型架構\n",
    "    model = make_pipeline_imb(TfidfVectorizer(), under_sampling.RandomUnderSampler(), AdaBoostClassifier(n_estimators=200))\n",
    "    model.fit(X_train, y_train)\n",
    "    #模型預測\n",
    "    pre = model.predict(X_test)\n",
    "    #麼行評估\n",
    "    classification_report(y_test, pre)\n",
    "    print(\"\\n\")"
   ]
  },
  {
   "cell_type": "markdown",
   "id": "0b7d93f4-b593-4079-a7ee-50106af14326",
   "metadata": {
    "tags": []
   },
   "source": [
    "## 模型訓練&結果"
   ]
  },
  {
   "cell_type": "markdown",
   "id": "b87038cb-fcf0-487b-be81-3b9ed8ac340d",
   "metadata": {
    "tags": []
   },
   "source": [
    "### 資料集1"
   ]
  },
  {
   "cell_type": "markdown",
   "id": "307939ac-c4f2-4bfb-a2c3-4bd0022e34c7",
   "metadata": {
    "tags": []
   },
   "source": [
    "#### baseline"
   ]
  },
  {
   "cell_type": "code",
   "execution_count": 206,
   "id": "8a8b3b39-db3f-4b2f-b9b1-f160fc1c2338",
   "metadata": {},
   "outputs": [
    {
     "name": "stdout",
     "output_type": "stream",
     "text": [
      "SVM baseline\n",
      "TP: 29\n",
      "TN: 316\n",
      "FP: 8\n",
      "FN: 71\n",
      "Accuracy： 0.8136792452830188\n",
      "Recall： 0.29\n",
      "Specificity： 0.9753086419753086\n",
      "Precision： 0.7837837837837838\n",
      "f1_score： 0.4233576642335766\n",
      "AUC： 0.6326543209876544\n",
      "\n",
      "\n",
      "LR baseline\n",
      "TP: 19\n",
      "TN: 319\n",
      "FP: 5\n",
      "FN: 81\n",
      "Accuracy： 0.7971698113207547\n",
      "Recall： 0.19\n",
      "Specificity： 0.9845679012345679\n",
      "Precision： 0.7916666666666666\n",
      "f1_score： 0.3064516129032258\n",
      "AUC： 0.5872839506172839\n",
      "\n",
      "\n",
      "RF baseline\n",
      "TP: 0\n",
      "TN: 324\n",
      "FP: 0\n",
      "FN: 100\n",
      "Accuracy： 0.7641509433962265\n",
      "Recall： 0.0\n",
      "Specificity： 1.0\n",
      "Precision： nan\n",
      "f1_score： nan\n",
      "AUC： 0.5\n",
      "\n",
      "\n",
      "AdaBoost_model\n"
     ]
    },
    {
     "name": "stderr",
     "output_type": "stream",
     "text": [
      "C:\\Users\\g3190\\AppData\\Local\\Temp/ipykernel_3316/3777238089.py:22: RuntimeWarning: invalid value encountered in true_divide\n",
      "  precision = TP/float(TP+FP)\n"
     ]
    },
    {
     "name": "stdout",
     "output_type": "stream",
     "text": [
      "TP: 41\n",
      "TN: 282\n",
      "FP: 42\n",
      "FN: 59\n",
      "Accuracy： 0.7617924528301887\n",
      "Recall： 0.41\n",
      "Specificity： 0.8703703703703703\n",
      "Precision： 0.4939759036144578\n",
      "f1_score： 0.44808743169398907\n",
      "AUC： 0.6401851851851852\n",
      "\n",
      "\n"
     ]
    }
   ],
   "source": [
    "SVM_model(X_train_1,X_test_1,y_train_1,y_test_1)\n",
    "LR_model(X_train_1,X_test_1,y_train_1,y_test_1)\n",
    "RF_model(X_train_1,X_test_1,y_train_1,y_test_1)\n",
    "AdaBoost_model(X_train_1,X_test_1,y_train_1,y_test_1)"
   ]
  },
  {
   "cell_type": "markdown",
   "id": "4f57e29b-b5da-4c19-bd5f-66566b2866b2",
   "metadata": {
    "tags": []
   },
   "source": [
    "#### 處理類別不平衡(SVM)"
   ]
  },
  {
   "cell_type": "code",
   "execution_count": 207,
   "id": "8927158e-6bb9-4229-baa0-9375efea894d",
   "metadata": {},
   "outputs": [
    {
     "name": "stdout",
     "output_type": "stream",
     "text": [
      "ADASYN\n",
      "Pipeline(steps=[('tfidfvectorizer', TfidfVectorizer()), ('adasyn', ADASYN()),\n",
      "                ('svc', SVC(kernel='linear'))])\n",
      "['1樓', '2樓', '5星級', '8點', '9點半', 'cp值', 'nan', '一下', '一品', '一家人', '一樓', '一次性', '丁香魚', '三明治', '三樓', '三溫暖', '三義', '三龜', '上限', '下午茶', '下雨天', '世界', '世紀', '中國風', '中央', '中心', '中心點', '中正', '中班', '中繼站', '中華', '中餐', '中餐廳', '丹麥', '主人', '主人家', '主題', '主題房', '之後', '九份', '乳豬', '事項', '二樓', '二館', '五星級', '交流道', '交誼廳', '交通', '人員', '人工', '人情味', '人房', '人潮', '人間', '今天', '今日', '仙境', '仙草', '份量', '休息區', '休閒', '位子', '位置', '低海拔', '低音', '低頻', '住宅區', '住客', '住家', '住宿', '住宿區', '住宿費', '住所', '佩佩', '來來', '來客', '便利', '便利商店', '便利性', '便當', '保護區', '信息', '個性', '假日', '假期', '停車', '停車位', '停車場', '健身室', '健身房', '備品', '備品量', '傳藝', '價位', '價值', '價廉', '價格', '價錢', '優勢', '優格', '優點', '充電線', '先生', '兒子', '兒童', '兔子', '內外', '內容', '內涵', '內部', '全家', '全聯', '公共區', '公園', '公尺', '公廁', '公益路', '公車', '公車站', '公道', '六合', '六星', '六星級', '六福村', '冬天', '冬瓜', '冰淇淋', '冰箱', '冷氣', '冷氣室', '冷盤', '冷菜', '凱特', '分鐘', '切仔麵', '別墅', '前面', '功能', '動物', '動物區', '包子', '包廂', '包木屋', '北下', '北海岸', '北竿', '北車', '北部', '區域', '十一點', '午餐', '南瓜粥', '南點', '卡片', '印度', '厚片', '原住民', '原木', '去處', '口味', '口感', '口福', '口袋', '台中', '台北', '台北市', '台南', '台南市', '台東', '台東市', '台灣', '台灣人', '台灣版', '司機', '合菜', '同事', '名單', '名字', '名宿', '吐司', '吧台', '吵雜聲', '吹頭', '吹風機', '呆板', '周圍', '周遭', '周邊', '味道', '咖啡', '咖啡包', '咖啡廳', '咖啡機', '品牌', '品質', '哈士奇', '哈瑪星', '員工', '售價', '商務', '商圈', '商場', '商家', '商旅', '問話', '問題', '喇叭', '喜宴', '單人', '單人床', '單品', '單車', '單車族', '嘉義', '噪音', '回歸線', '國家級', '國民', '國華街', '國賓', '園區', '團隊', '團體', '土司', '在地人', '地上', '地下室', '地中海', '地區', '地圖', '地方', '地板', '地理', '地瓜', '地瓜籤', '地瓜粥', '地瓜葉', '地點', '垃圾袋', '城堡', '埔里', '基督徒', '基隆', '基隆山', '堜啡', '堤防', '場地', '塵囂', '壁畫', '壁紙', '壽司', '夏天', '夏日', '夕陽', '外表', '外觀', '外部', '外面', '夜市', '夜店', '夜晚', '夜景', '大人', '大台北', '大哥', '大姊', '大小', '大廳', '大推', '大早餐', '大樓', '大港橋', '大直', '大眾池', '大自然', '大車', '大道', '大門', '大鵬灣橋', '天井', '天台', '天堂', '天氣', '天空', '天花板', '太平山', '太陽', '夫妻', '套房', '套餐', '女兒', '女生', '奶奶', '奶茶', '好友', '姐姐', '娃娃', '婆婆', '婚宴', '媽媽', '嬰兒', '孔雀', '季節', '孩子', '學校', '學生', '安平', '安平港', '完食', '官網', '定價', '宜蘭', '客人', '客家人', '客廳', '客房', '客服', '客運站', '室內机', '宵夜', '家人', '家具', '家大版', '家庭', '家庭房', '家族', '家長', '宿舍', '寄居蟹', '密境', '寢具', '寧夏', '寵物', '寶貝', '專區', '專屬', '專業型', '專業級', '對面', '小人國', '小吃', '小姐', '小孩', '小孩子', '小小孩', '小屋', '小店', '小強', '小時', '小朋友', '小木屋', '小港', '小菜', '小費', '少女心', '尼斯', '尿騷味', '居家', '屋主', '屋頂', '屏東人', '山坡', '山嵐', '山景', '山莊', '山陵', '岑嵐', '峨眉', '嶺頂', '川雅居', '工具', '工業', '工業風', '左右', '巨蛋', '差別', '巴黎', '巷弄', '市中心', '市區', '市場', '布丁', '布農', '布農族', '希臘', '希臘風', '師傅', '幫手', '平價', '平日', '平面', '年代', '年紀', '床位', '床單', '床埔', '床墊', '床鋪', '床頭', '店員', '店家', '座位', '座位區', '庭園', '庭院', '廁所', '廚具', '廚房', '廣場', '建築', '建議', '形式', '彩繪', '彰化', '影片', '後方', '後面', '微波爐', '德國', '德陽', '心思', '心情', '心靈', '思旅', '性價比', '性情', '怪味', '恆春', '情人節', '情侶', '想像', '意外', '意思', '意見', '愛心', '愛車', '感覺', '態度', '懇丁', '成功嶺', '成功村', '成功路', '戲水池', '戲院', '戶外', '房價', '房務', '房型', '房子', '房客', '房屋', '房東', '房東人', '房況', '房門', '房間', '房間數', '手作', '手工', '手捲', '手機', '手沖', '手藝', '打呼聲', '扶手', '技術', '投幣式', '披薩', '抹醬', '招待', '拼盤', '拿鐵', '按摩', '按摩椅', '捲筒紙', '捷運', '捷運站', '排餐', '採光', '接待', '接送', '推車', '摩托車', '擺盤', '擺設', '故事', '效果', '救星', '教堂', '教練', '教育', '散客', '整體', '文創風', '文化', '文青', '料好', '料理', '新人', '新意', '新館', '方便度', '方便性', '方式', '方面', '旁邊', '旅人', '旅客', '旅店', '旅社', '旅社級', '旅程', '旅行', '旅行社', '旅遊', '旅館', '旗山', '日文', '日月潭', '日本', '日本餐', '早上', '早班', '早餐', '早餐吧', '早餐店', '早餐籃', '早點', '星星', '星期六', '星空', '春天', '時光', '時間', '晚上', '晚班', '晚餐', '普普', '景房', '景色', '景觀', '景觀台', '景觀房', '景點', '暑假', '暖男', '書籍', '最後', '會客室', '會館', '月租', '朋友', '服務', '服務元', '服務台', '服務員', '服務量', '服飾', '期間', '木屋', '木屋區', '木板', '木頭', '未來', '杯子', '東林', '東河', '東港', '東西', '枕頭', '枕頭棒', '林默娘', '果樹', '果汁', '果醬', '柔道', '柚子', '柳橙', '格局', '桃園', '桌上鏡', '桌子', '桌椅', '桌球', '桌菜', '桌遊', '梳子', '棉被', '森林', '森林茶', '椅子', '植物', '椒麻雞', '楊桃', '業者', '榻榻米', '樓上', '樓下', '樓中樓', '樓層', '樓梯', '樓梯口', '樣子', '樣式', '樹木', '樹林', '樹薯包', '機台', '機場', '機會', '機械', '機車', '檸檬汁', '櫃台', '櫃檯', '櫃臺', '櫻花', '歐洲', '歐舒丹', '正對面', '正比', '步道', '歲月', '歷史', '毛小孩', '毛巾', '民宿', '民雄', '氛圍', '氣息', '氣氛', '氣泡', '氣派', '水壓', '水庫', '水果', '水果樂', '水柱', '水機', '水流', '水溫', '水煮', '水社', '水管', '水餃', '水龍頭', '永和', '汽泡', '汽車', '沐浴乳', '沖洗區', '沙坑', '沙子', '沙拉', '沙拉區', '沙灘', '沙發', '河樂', '油麵', '法國', '泡湯區', '泡湯池', '泡茶', '泡麵', '泰式', '泳池', '洋樓', '洗手台', '洗衣', '洗衣機', '洗衣間', '洗髮精', '活動', '活動中心', '浴室', '浴巾', '浴廁', '浴缸', '海景', '海浪', '海港', '海灘', '海灣', '海豚', '海邊', '海風', '海鮮', '消夜', '淋浴', '深夜', '清境', '清潔度', '清潔費', '港式', '港都', '游泳池', '湖景', '湯屋', '湯汁', '湯池', '湯頭', '溜滑梯', '溪頭', '溫度', '溫泉', '溫泉池', '滑水道', '滿分', '漢堡', '漢神', '潤滑油', '澎島', '澎湖', '濕地', '濕氣', '濾掛', '火車', '火車站', '火鍋', '灰塵', '烘衣機', '烤箱', '烤肉區', '烤肉爐', '煙味', '煙火', '照片', '熊貓', '熟食', '熟食區', '熱情', '熱水', '熱水器', '熱水澡', '熱誠', '燈光', '燈光秀', '燈籠', '燒餅', '營養', '父母親', '爸媽', '牆壁', '牆面', '牙刷', '牙膏', '牛奶', '牛排', '牛肉粥', '牡蠣', '牧草', '物品', '特區', '特色', '特色餐', '狀況', '狗狗', '玩具', '玩沙池', '玻璃', '玻璃屋', '班機', '現場', '瑞士', '瑞豐', '環保', '環境', '環境衛生', '瓦斯爐', '甜點', '生態', '生態環境', '生活', '生菜', '生魚片', '產品', '用具', '用品', '用心', '用戶', '用料', '用餐', '田園', '畫作', '畫工', '畫質', '異味', '當地', '當天', '疫情', '痕跡', '白天', '白煮蛋', '白茶', '百貨', '百貨公司', '盛名', '盥洗', '目前', '睡眠', '瞬間', '知本', '石朗', '石門', '硬體', '碗盤', '磁磚', '礁溪', '礦泉水', '社頂', '禁菸房', '禮貌', '秋冬', '稀飯', '稀飯區', '程度', '種類', '空地', '空氣', '空調', '空調聲', '空間', '空間感', '窗戶', '窩旅', '童話', '竹叉', '竹山', '竹筍包', '第四台', '等待', '等級', '管家', '管線', '米房', '粥品', '精油', '精緻度', '紀念堂', '紅茶', '素質', '素食', '素食區', '細節', '結論', '經濟', '經濟房', '經營', '經理', '經驗', '綠島', '綠色', '網站', '網路', '總統房', '總體', '繼光餅', '續冰', '缺點', '羅東', '美口景', '美味', '美女', '美景', '美食', '美麗島站', '義大利麵', '老k', '老人', '老公', '老婆', '老婆人', '老師', '老板', '老街', '老街口', '老闆', '老闆人', '老闆娘', '耐性', '聖地', '聲音', '肉燥飯', '肉質', '肉醬', '肉類', '肉鬆', '肚子', '背包', '背包客', '背包客房', '腳底', '腳踏車', '臨時', '自助式', '自助餐', '自然', '自行車', '臺灣', '舒適性', '芋圓', '芭樂', '花亭', '花園', '花生', '花生醬', '花美男', '花蓮', '茶包', '茶品', '茶水', '茶水間', '茶類', '茶點', '草地', '草坪', '草皮', '草莓', '荷花池', '莊主', '莎士比亞', '菜品', '菜單', '菜園', '菜脯', '菜色', '菜餚', '華山', '菸味', '落地窗', '落差', '落日', '蒸氣室', '蓋子', '蓮花', '蓮蓬頭', '蔬菜', '蔬菜量', '蔬食', '蔬食餐', '薰衣草', '藏書', '藝廊', '藝術', '藝術家', '藝術感', '藥膳', '蘋果', '蘋果花', '蘿蔔糕', '蚊子', '蚊蟲', '蛋糕', '蛋餅', '蛋黃區', '蛙鳴', '蜂蜜', '蜘蛛', '蜜香', '螃蟹', '螞蟻房', '蟑螂', '蟲鳴聲', '蠟味', '行動', '行李', '行李箱', '行李面', '行程', '街景', '街道', '衛浴', '衛生', '衛生紙盒', '衝浪屋', '衣服', '衣架', '被子', '裕園', '補助', '裝潢', '裝飾', '裡面', '襪子', '西子灣', '西瓜', '西莎', '西門', '西門町', '西門站', '西門路', '西餐', '規劃', '視野', '親人', '親切', '親友', '親和', '親子', '親子房', '親戚', '親水', '觀光', '觀星房', '觀景台', '訂單', '訂房', '訂房網', '訊號', '設備', '設施', '設計', '設計感', '設計獎', '評價', '誠意', '調酒', '豆漿', '豆腐乳', '豆花', '豪氣', '豬肉鍋', '豬肋排', '貓咪', '貝果', '貝殼', '貨櫃', '責任', '費用', '資料', '資訊', '賓館', '質感', '走廊', '起司', '超美', '越南', '距離', '路線', '踏踏', '身心', '身體', '躺椅', '車位', '車子', '車庫', '車站', '軍艦', '軟硬', '輕軌', '辦手禮', '農場', '近郊', '迴音', '透天厝', '這裡', '通道', '速度', '造型', '造景', '逢甲', '連假', '週六日', '週日', '週邊', '遊客', '遊戲', '遊戲室', '遊樂', '運動', '運河景', '道路聲', '遠處', '選擇', '選擇性', '選項', '部門', '都市', '都蘭', '鄉下', '鄉村風', '鄰居', '配備', '配料', '配置', '酒吧', '酒店', '醫藥箱', '醬料', '重慶', '重點', '野菜', '金台灣', '金山', '金蓮花', '金門', '鏡子', '鐵捲門', '鐵道', '鑰匙', '門口', '門票', '門禁', '門鎖', '開水', '開飲機', '閣樓', '閩南', '闆娘', '防疫', '阿公', '阿姨', '阿嬤', '阿樂哈', '阿里山', '附近', '陽台', '隔壁', '隔天', '隔間', '隔音', '隔音窗', '障礙', '雅房', '雙人', '雙人床', '雙人房', '雙鯉湖', '雜誌', '雞排', '難吃醬', '雲海', '雲霧', '零嘴', '零食', '電動車', '電子', '電影票', '電扇', '電梯', '電腦', '電蚊拍', '電視', '電話', '電風', '需求', '霉味', '露台', '露天', '露營', '露營區', '青年', '青旅', '青茶', '青菜', '面海房', '面積', '面紙', '鞋櫃', '韓國', '音樂', '音質', '音響', '頂樓', '預約制', '頭髮', '頻道', '顧客', '風吹沙', '風味', '風情', '風景', '風景區', '風格', '颱風', '飛機', '飛鏢', '食材', '食物', '食用花', '飯店', '飯店區', '飯粥', '飯糰', '飯菜', '飲品', '飲料', '飲水', '飲水機', '飲用水', '飲食', '飾品', '餅乾', '餐具', '餐卷', '餐台', '餐廳', '餐食', '餐館', '餐點', '館方', '饅頭', '首選', '香氣', '香港人', '香草', '香蕉', '馬亨亨', '馬克杯', '馬桶', '馬祖', '馬路', '髒污', '體溫', '體驗', '高度', '高爾夫球場', '高美', '高跟鞋', '高鐵', '高雄', '高離', '高麗菜', '鬆餅', '鬧區', '魅力', '魚船', '魚貨', '鮮魚湯', '鱔魚', '鱘龍魚', '鳳梨', '鴕鳥', '鵝肉亭', '鵝肝', '鹹淡', '鹽酥雞', '鹿港', '麥當勞', '麥當當', '麵包', '麵包區', '麵包子', '麵飯粥', '麻將', '麻將桌', '麻辣鍋', '黃昏', '黑糖', '點心', '龍坑', '龍貓', '龜山島']\n",
      "TP: 60\n",
      "TN: 276\n",
      "FP: 48\n",
      "FN: 40\n",
      "Accuracy： 0.7924528301886793\n",
      "Recall： 0.6\n",
      "Specificity： 0.8518518518518519\n",
      "Precision： 0.5555555555555556\n",
      "f1_score： 0.576923076923077\n",
      "AUC： 0.725925925925926\n",
      "\n",
      "\n",
      "SMOTE\n",
      "TP: 58\n",
      "TN: 281\n",
      "FP: 43\n",
      "FN: 42\n",
      "Accuracy： 0.7995283018867925\n",
      "Recall： 0.58\n",
      "Specificity： 0.8672839506172839\n",
      "Precision： 0.5742574257425742\n",
      "f1_score： 0.5771144278606964\n",
      "AUC： 0.7236419753086419\n",
      "\n",
      "\n",
      "RandomOverSampler\n",
      "TP: 60\n",
      "TN: 286\n",
      "FP: 38\n",
      "FN: 40\n",
      "Accuracy： 0.8160377358490566\n",
      "Recall： 0.6\n",
      "Specificity： 0.8827160493827161\n",
      "Precision： 0.6122448979591837\n",
      "f1_score： 0.6060606060606062\n",
      "AUC： 0.7413580246913581\n",
      "\n",
      "\n",
      "RandomUnderSampler\n",
      "TP: 65\n",
      "TN: 240\n",
      "FP: 84\n",
      "FN: 35\n",
      "Accuracy： 0.7193396226415094\n",
      "Recall： 0.65\n",
      "Specificity： 0.7407407407407407\n",
      "Precision： 0.436241610738255\n",
      "f1_score： 0.5220883534136546\n",
      "AUC： 0.6953703703703703\n",
      "\n",
      "\n"
     ]
    }
   ],
   "source": [
    "SVM_model2(X_train_1,X_test_1,y_train_1,y_test_1)\n",
    "SVM_model3(X_train_1,X_test_1,y_train_1,y_test_1)\n",
    "SVM_model4(X_train_1,X_test_1,y_train_1,y_test_1)\n",
    "SVM_model5(X_train_1,X_test_1,y_train_1,y_test_1)"
   ]
  },
  {
   "cell_type": "markdown",
   "id": "2104f3fb-c135-4b1c-a4e9-f2523310eb9b",
   "metadata": {
    "tags": []
   },
   "source": [
    "#### 處理類別不平衡(Adaboost)"
   ]
  },
  {
   "cell_type": "code",
   "execution_count": 208,
   "id": "49c81a34-8472-4d71-bbef-d69983019057",
   "metadata": {},
   "outputs": [
    {
     "name": "stdout",
     "output_type": "stream",
     "text": [
      "ADASYN\n",
      "TP: 53\n",
      "TN: 285\n",
      "FP: 39\n",
      "FN: 47\n",
      "Accuracy： 0.7971698113207547\n",
      "Recall： 0.53\n",
      "Specificity： 0.8796296296296297\n",
      "Precision： 0.5760869565217391\n",
      "f1_score： 0.5520833333333334\n",
      "AUC： 0.7048148148148149\n",
      "\n",
      "\n",
      "SMOTE\n",
      "TP: 57\n",
      "TN: 283\n",
      "FP: 41\n",
      "FN: 43\n",
      "Accuracy： 0.8018867924528302\n",
      "Recall： 0.57\n",
      "Specificity： 0.8734567901234568\n",
      "Precision： 0.5816326530612245\n",
      "f1_score： 0.5757575757575758\n",
      "AUC： 0.7217283950617284\n",
      "\n",
      "\n",
      "RandomOverSampler\n",
      "TP: 40\n",
      "TN: 270\n",
      "FP: 54\n",
      "FN: 60\n",
      "Accuracy： 0.7311320754716981\n",
      "Recall： 0.4\n",
      "Specificity： 0.8333333333333334\n",
      "Precision： 0.425531914893617\n",
      "f1_score： 0.4123711340206186\n",
      "AUC： 0.6166666666666667\n",
      "\n",
      "\n",
      "RandomUnderSampler\n",
      "TP: 53\n",
      "TN: 227\n",
      "FP: 97\n",
      "FN: 47\n",
      "Accuracy： 0.660377358490566\n",
      "Recall： 0.53\n",
      "Specificity： 0.7006172839506173\n",
      "Precision： 0.35333333333333333\n",
      "f1_score： 0.424\n",
      "AUC： 0.6153086419753087\n",
      "\n",
      "\n"
     ]
    }
   ],
   "source": [
    "AdaBoost_model2(X_train_1,X_test_1,y_train_1,y_test_1)\n",
    "AdaBoost_model3(X_train_1,X_test_1,y_train_1,y_test_1)\n",
    "AdaBoost_model4(X_train_1,X_test_1,y_train_1,y_test_1)\n",
    "AdaBoost_model5(X_train_1,X_test_1,y_train_1,y_test_1)"
   ]
  },
  {
   "cell_type": "markdown",
   "id": "0d7cd266-8e91-4db7-97ca-3ceca34d9271",
   "metadata": {
    "tags": []
   },
   "source": [
    "### 資料集2"
   ]
  },
  {
   "cell_type": "markdown",
   "id": "a8465954-51b1-4f56-9650-9670379c1b3d",
   "metadata": {
    "tags": []
   },
   "source": [
    "#### baseline"
   ]
  },
  {
   "cell_type": "code",
   "execution_count": 209,
   "id": "f5165c90-95d3-4716-9efa-1a87bb69310a",
   "metadata": {},
   "outputs": [
    {
     "name": "stdout",
     "output_type": "stream",
     "text": [
      "SVM baseline\n",
      "TP: 26\n",
      "TN: 314\n",
      "FP: 9\n",
      "FN: 75\n",
      "Accuracy： 0.8018867924528302\n",
      "Recall： 0.25742574257425743\n",
      "Specificity： 0.9721362229102167\n",
      "Precision： 0.7428571428571429\n",
      "f1_score： 0.3823529411764706\n",
      "AUC： 0.6147809827422371\n",
      "\n",
      "\n",
      "LR baseline\n",
      "TP: 15\n",
      "TN: 317\n",
      "FP: 6\n",
      "FN: 86\n",
      "Accuracy： 0.7830188679245284\n",
      "Recall： 0.1485148514851485\n",
      "Specificity： 0.9814241486068112\n",
      "Precision： 0.7142857142857143\n",
      "f1_score： 0.2459016393442623\n",
      "AUC： 0.5649695000459798\n",
      "\n",
      "\n",
      "RF baseline\n",
      "TP: 0\n",
      "TN: 323\n",
      "FP: 0\n",
      "FN: 101\n",
      "Accuracy： 0.7617924528301887\n",
      "Recall： 0.0\n",
      "Specificity： 1.0\n",
      "Precision： nan\n",
      "f1_score： nan\n",
      "AUC： 0.5\n",
      "\n",
      "\n",
      "AdaBoost_model\n"
     ]
    },
    {
     "name": "stderr",
     "output_type": "stream",
     "text": [
      "C:\\Users\\g3190\\AppData\\Local\\Temp/ipykernel_3316/3777238089.py:22: RuntimeWarning: invalid value encountered in true_divide\n",
      "  precision = TP/float(TP+FP)\n"
     ]
    },
    {
     "name": "stdout",
     "output_type": "stream",
     "text": [
      "TP: 38\n",
      "TN: 299\n",
      "FP: 24\n",
      "FN: 63\n",
      "Accuracy： 0.7948113207547169\n",
      "Recall： 0.37623762376237624\n",
      "Specificity： 0.9256965944272446\n",
      "Precision： 0.6129032258064516\n",
      "f1_score： 0.4662576687116564\n",
      "AUC： 0.6509671090948104\n",
      "\n",
      "\n"
     ]
    }
   ],
   "source": [
    "SVM_model(X_train_2,X_test_2,y_train_2,y_test_2)\n",
    "LR_model(X_train_2,X_test_2,y_train_2,y_test_2)\n",
    "RF_model(X_train_2,X_test_2,y_train_2,y_test_2)\n",
    "AdaBoost_model(X_train_2,X_test_2,y_train_2,y_test_2)"
   ]
  },
  {
   "cell_type": "markdown",
   "id": "0d71898e-545d-4724-90ee-4c55ed7cd8bd",
   "metadata": {
    "tags": []
   },
   "source": [
    "#### 處理類別不平衡(SVM)"
   ]
  },
  {
   "cell_type": "code",
   "execution_count": 210,
   "id": "17549184-0a46-42ae-9291-d1d6b9f1f725",
   "metadata": {},
   "outputs": [
    {
     "name": "stdout",
     "output_type": "stream",
     "text": [
      "ADASYN\n",
      "Pipeline(steps=[('tfidfvectorizer', TfidfVectorizer()), ('adasyn', ADASYN()),\n",
      "                ('svc', SVC(kernel='linear'))])\n",
      "['1樓', '2樓', '30', '5星級', '8點', 'cp值', 'nan', '一下', '一中', '一品', '一家人', '一樓', '丁香魚', '三明治', '三樓', '三溫暖', '三義', '上方', '上限', '下午茶', '下雨天', '世界', '世紀', '中下', '中國風', '中央', '中山', '中心', '中心點', '中秋', '中華', '中間', '中餐', '丸子', '丹麥', '主人', '主廚', '主題', '主題房', '之上', '九份', '九宮格', '乳豬', '事項', '二樓', '二館', '五星級', '交流道', '交誼廳', '交通', '人員', '人情味', '人房', '人潮', '人間', '今天', '今日', '今早', '仙境', '仙草', '以上', '以外', '份量', '企業', '休息區', '伯朗大道', '位子', '位置', '住宅區', '住家', '住宿', '住宿區', '住宿費', '住房', '作品', '作風', '佩佩', '來來', '來客', '便利', '便利商店', '便當', '保護區', '保險箱', '信息', '個性', '假日', '假期', '停車', '停車位', '停車場', '健身室', '健身房', '備品', '備品量', '傢俱', '傳藝', '價位', '價值', '價廉', '價格', '價比', '價錢', '優勢', '優格', '優點', '充電線', '先生', '光復鄉', '免治', '兒童', '內側', '內容', '內涵', '內部', '全家', '全聯', '公共區', '公園', '公廁', '公東', '公益路', '公車站', '公道', '六合', '六星', '六星級', '六樓', '六福村', '冬天', '冰水', '冰淇淋', '冰箱', '冷卻', '冷暖器', '冷气', '冷氣', '冷氣室', '冷氣浴', '冷盤', '冷菜', '分鐘', '切仔麵', '別墅', '前面', '功能', '動物', '包子', '包廂', '包車', '化糞池', '北下', '北晨', '北竿', '北車', '區域', '午餐', '半夜', '南京', '南瓜粥', '南點', '博物館', '卡片', '印度', '印象', '原住民', '原因', '原木', '去處', '口味', '口感', '口福', '口袋', '古董', '古蹟', '可樂', '台中', '台中行', '台北', '台南', '台南市', '台東', '台東市', '台灣', '台灣人', '台灣版', '司機', '合菜', '吊椅', '同事', '名單', '名字', '名宿', '吐司', '吧台', '吵雜聲', '吹風機', '周圍', '周遭', '周邊', '味噌湯', '味道', '和善', '咖啡', '咖啡包', '咖啡廳', '咖啡機', '咖啡館', '品質', '哈瑪星', '員工', '員林', '售價', '商務', '商圈', '商場', '商旅', '問話', '問題', '喇叭', '喧嘩聲', '單人', '單人床', '單車', '嘉義', '噪音', '四樓', '回歸線', '國家級', '國小', '國華街', '園區', '團隊', '團體', '土司', '地上', '地下室', '地中海', '地區', '地圖', '地方', '地板', '地理', '地瓜', '地瓜籤', '地瓜粥', '地瓜葉', '地點', '垃圾桶', '城堡', '城市', '埔里', '基督徒', '場地', '塵囂', '墾丁', '壁紙', '壽司', '夏天', '夏日', '夕陽', '外表', '外觀', '外部', '外面', '外頭', '夜市', '夜晚', '夜景', '夜班', '夜點', '大人', '大包', '大哥', '大型', '大姊', '大小', '大廳', '大樓', '大港橋', '大直', '大眾', '大眾池', '大自然', '大街', '大車', '大道', '大門', '大鵬灣橋', '天台', '天堂', '天氣', '天空', '天花板', '太陽能', '夫妻', '套房', '套票', '套餐', '女兒', '女孩', '女湯', '女生', '奶奶', '奶茶', '好友', '姐姐', '婆婆', '婚宴', '媽媽', '嬰兒', '季節', '孩子', '學生', '安平', '完食', '官網', '宜蘭', '客人', '客家人', '客廳', '客房', '客服', '客運站', '室內机', '室外池', '宵夜', '家人', '家具', '家大版', '家庭', '家庭房', '家族', '家長', '寄居蟹', '密境', '寢具', '寧夏', '寵物', '專業型', '專業級', '對面', '小人國', '小包', '小吃', '小姐', '小孩', '小孩子', '小小孩', '小屋', '小店', '小強', '小時', '小朋友', '小木屋', '小港', '小菜', '小費', '尼斯', '尿騷味', '屋主', '屎味', '屏東人', '山嵐', '山景', '山民宿', '山水', '山海房', '山莊', '岑嵐', '峨眉', '川雅居', '工作', '工業', '工業風', '左右', '巨蛋', '差別', '巴里島', '巷口', '巷子', '巷弄', '市中心', '市區', '市場', '布丁', '布農', '布農族', '希臘', '師傅', '幫手', '平價', '平日', '平面', '年代', '年紀', '床位', '床單', '床埔', '床墊', '床鋪', '床頭', '店主', '店員', '店家', '座位', '庭園', '庭院', '廁所', '廈門', '廚具', '廚房', '廟東', '廣場', '建築', '建議', '形式', '彩繪', '彰化', '影片', '後方', '後面', '復興站', '德國', '德裔', '心區', '心思', '心情', '心靈', '思旅', '性價比', '怪味', '恆春', '情人節', '情侶', '想像', '意見', '愛心', '愛買', '愛車', '感受', '感覺', '態度', '懇丁', '成功嶺', '成功村', '成功路', '戲水池', '戶外', '房價', '房務', '房型', '房子', '房客', '房屋', '房東', '房東人', '房況', '房費', '房門', '房間', '房間數', '所在', '手作', '手工', '手捲', '手機', '手沖', '手藝', '扶手', '技術', '投幣式', '披薩', '抹醬', '拖鞋', '拼盤', '拿鐵', '按摩', '按摩椅', '捲筒紙', '捷運', '捷運站', '採光', '接待處', '接送', '推車', '摩托車', '擺盤', '擺設', '攤販', '故事', '效果', '教堂', '教練', '教育', '散客', '整體', '文創', '文創風', '文化', '文青風', '料好', '料理', '新人', '新意', '新村', '新館', '新鮮貨', '方便度', '方便性', '方式', '方面', '旁邊', '旅人', '旅客', '旅店', '旅社', '旅社級', '旅程', '旅行', '旅行團', '旅館', '旗山', '日月潭', '日本', '日本餐', '早上', '早班', '早餐', '早餐吧', '早餐店', '早餐籃', '早點', '明天', '星星', '星期六', '星空', '春天', '昨天', '昨晚', '時光', '時間', '晚上', '晚班', '晚餐', '普普', '景房', '景美', '景色', '景觀', '景觀台', '景觀房', '景點', '晴光', '暖氣', '暖男', '書籍', '最後', '最近', '會客室', '會館', '月租', '朋友', '服務', '服務元', '服務台', '服務員', '服飾', '朝日', '期間', '木屋', '木板', '木頭', '村長', '杯子', '東港', '東西', '松菸', '枕頭', '枕頭棒', '果樹', '果汁', '果醬', '架子', '柔道', '柚子', '柚木', '格局', '桃園', '桌上鏡', '桌子', '桌椅', '桌球', '桌菜', '桌遊', '桌遊書', '桌面', '梅花湖', '梳子', '棉被', '棒棒棒', '森林', '森林茶', '椅子', '植物', '椒麻雞', '楊桃', '業者', '極品', '榻榻米', '樓上', '樓下', '樓中樓', '樓層', '樓梯', '樓梯口', '標準', '樹林', '樹薯包', '機器人', '機場', '機會', '機械', '機能性', '機車', '櫃台', '櫃子', '櫃檯', '櫃臺', '櫻花', '歐洲', '正對面', '步道', '歲月', '歷史', '毛小孩', '毛巾', '毛巾架', '民宿', '民權西路站', '民雄', '氛圍', '氣息', '氣氛', '氣派', '氣溫', '水世界', '水壓', '水庫', '水果', '水果樂', '水柱', '水機', '水池', '水流', '水準', '水溫', '水煮', '水社', '水管', '水量', '水餃', '水龍頭', '汽水', '汽泡', '汽車', '沐浴乳', '沖洗區', '沙坑', '沙子', '沙拉', '沙拉區', '沙灘', '沙發', '沙發區', '河樂', '油醋醬', '油麵', '法國', '泡湯區', '泡湯池', '泡茶', '泡菜', '泡麵', '泰式', '泳池', '洋樓', '洗衣', '洗衣機', '洗髮精', '活力', '活動', '浴室', '浴巾', '浴廁', '浴缸', '海景', '海景房', '海洋', '海浪', '海港', '海灘', '海灣', '海豚', '海邊', '海隔音', '海風', '海馬哥', '海鮮粥', '消夜', '淋浴', '深夜', '清單', '清境', '清幽', '清晨', '清潔度', '清潔費', '港式', '游泳池', '湖景', '湯池', '湯頭', '溜滑梯', '溪頭', '溫度', '溫泉', '溫泉池', '滑水道', '滷味', '滷肉飯', '滿分', '演奏', '漢堡', '漢神', '漱口杯', '潔癖', '潛水', '潛點', '澎島', '澎湖', '澡盆', '濾掛', '火車', '火車站', '火鍋', '火鍋店', '灰塵', '為人', '烏石港', '烏鬼井', '烘衣機', '烤箱', '烤肉爐', '煙味', '煙火', '照片', '熊貓', '熟食', '熟食區', '熱忱', '熱情', '熱水', '熱水器', '熱誠', '燈光', '燈光秀', '燈會', '燒餅', '營地', '營養', '父母親', '爸爸', '牆壁', '牆面', '牙刷', '牙膏', '牛奶', '牛排', '牛肉粥', '牛肉麵', '牡蠣', '物品', '特區', '特色', '狀況', '狗狗', '玉米', '玩具', '玩沙池', '玫瑰', '玻璃', '玻璃屋', '班機', '現場', '瑞豐', '環境', '環境衛生', '瓦斯爐', '甜點', '生態', '生態環境', '生活', '生物館', '生菜', '用具', '用品', '用戶', '用餐', '用餐區', '田園', '田野', '畫作', '畫工', '畫質', '異味', '當地', '當天', '疫情', '痕跡', '瘦肉粥', '白天', '百貨', '百貨公司', '盛名', '盤子', '盥洗', '目前', '睡眠', '知本', '石朗', '石門', '硬體', '磁磚', '礁溪', '礦泉水', '社頂', '禮物', '禮貌', '稀飯', '稀飯區', '程度', '種類', '積木', '空中', '空地', '空氣', '空調', '空間', '穿透力', '窗戶', '童話', '竹叉', '竹筍包', '筆管麵', '等待', '管家', '管家人', '米房', '粥品', '紅線', '紅茶', '素食', '素食區', '細節', '結論', '經濟', '經濟房', '經營', '經理', '經驗', '綠島', '綠色', '網站', '網路', '線上', '總體', '繼光餅', '缺點', '羅東', '美味', '美景', '美術館', '美食', '義大利麵', '老k', '老人', '老公', '老婆', '老婆人', '老少', '老師', '老師傅', '老板', '老街', '老闆', '老闆人', '老闆娘', '耐心', '耐性', '聖地', '聲音', '職業病', '肉燥', '肉質', '肉醬', '肉鬆', '背包', '背包客', '背包客房', '腳踏車', '膠囊', '臘腸', '臨時', '自助式', '自助餐', '自然', '臺灣', '舒適性', '舒適感', '船班', '色彩', '芋圓', '芭樂', '花亭', '花園', '花生', '花生醬', '花美男', '花蓮', '花蓮市', '花蓮縣', '茶包', '茶品', '茶園', '茶葉', '茶點', '草地', '草坪', '草皮', '草莓', '莊園', '莎士比亞', '菜品', '菜單', '菜園', '菜脯', '菜色', '菜餚', '華儀', '華山', '菸味', '落地窗', '落差', '蒸氣室', '蓋子', '蓮蓬頭', '蔡姐', '蔬菜', '蔬菜量', '蔬食', '蔬食餐', '薰衣草', '藍牙', '藏書', '藝廊', '藝術', '藝術家', '藝術感', '藥膳', '蘋果', '蘋果花', '蘿蔔糕', '虎井', '蚊子', '蚊蟲', '蛋白飯', '蛋糕', '蛋餅', '蛋黃區', '蛙鳴', '蜂蜜', '蜘蛛', '蜜香', '螃蟹', '螞蟻', '螞蟻房', '螢火蟲', '蟑螂', '蟲鳴聲', '蟻蟲', '蠟味', '行動', '行李', '行李箱', '行李面', '行程', '行銷', '街景', '街生', '街頭', '衛星', '衛浴', '衛生', '衣服', '衣架', '被子', '裝備', '裝潢', '裡面', '西子灣', '西瓜', '西門', '西門町', '西門站', '西門路', '西餐', '西餐廳', '規劃', '規格', '視野', '親人', '親友', '親和', '親子', '親子房', '親戚', '親水', '觀光', '觀景台', '解說', '訂單', '訂房', '訂房網', '訂金', '訊號', '設備', '設施', '設計', '設計感', '設計獎', '評價', '調酒', '豆漿', '豆腐乳', '豪氣', '豬肋排', '豬腳', '貓咪', '貝果', '貝殼', '貨櫃', '費用', '資訊', '賓館', '賢伉儷', '賣場', '質感', '賽車', '走廊', '起司', '超大間', '超市', '超級', '超美', '越南', '距離', '路線', '跳蚤', '踏踏', '身心', '身體', '躺椅', '車友', '車子', '車庫', '車站', '車聲', '軟硬', '輕食', '輪椅', '辣醬', '農場', '近距離', '近郊', '這裡', '速度', '造型', '造景', '逢甲', '連假', '週六日', '週日', '週邊', '遊客', '遊戲', '遊戲區', '遊戲室', '遊樂', '遊樂區', '運動', '運河景', '道路聲', '遠方', '遠東', '遠處', '選擇', '選擇性', '選項', '那裡', '部門', '都市', '都蘭', '鄉下', '鄉村風', '鄰居', '配備', '配料', '酒吧', '酒店', '醫藥箱', '醬料', '醬菜', '重慶', '重點', '野菜', '金山', '金瓜石', '金蓮花', '金門', '鍋具', '鍋貼', '鎖港', '鏡子', '門口', '門房', '門票', '門禁', '門鎖', '開水', '開飲機', '閩南', '闆娘', '防疫', '阿伯', '阿姨', '阿學生', '阿里山', '附近', '附餐', '陸客團', '陽台', '陽臺', '隔壁', '隔天', '隔音', '障礙', '雅房', '雙人床', '雙人房', '雙人湯屋房', '雙床房', '雙手', '雙鯉湖', '雜誌', '雜音', '雞排', '雞排攤', '雞肉', '難吃醬', '雪碧', '零嘴', '零食', '電動車', '電子', '電梯', '電腦', '電蚊拍', '電視', '電視機', '電話', '需求', '霉味', '露友', '露台', '露天', '露營', '露營區', '青旅', '青菜', '面海房', '面積', '面紙', '韓國', '音樂', '音質', '音響', '頂樓', '預期', '預算', '預約制', '頭髮', '頻道', '顧客', '風光', '風吹沙', '風味', '風情', '風景', '風格', '風華', '飛機', '食材', '食物', '食用花', '飯店', '飯店區', '飯粥', '飯糰', '飯菜', '飲品', '飲料', '飲水機', '飲用水', '飾品', '餅乾', '餐具', '餐卷', '餐廳', '餐食', '餐飲', '餐館', '餐點', '饅頭', '首選', '香港', '香港人', '香草', '香蕉', '馬亨亨', '馬克杯', '馬桶', '馬祖', '馬路', '體溫', '體驗', '高層樓', '高度', '高爾夫球場', '高跟鞋', '高鐵', '高雄', '高離', '高麗菜', '鬆餅', '鬧區', '鬼屋', '魚船', '魚貨', '魯肉飯', '鮮奶', '鮮魚湯', '鱔魚', '鱘龍魚', '鳳梨', '鵝肉亭', '鵝肝', '鹹淡', '鹹酥雞', '鹽酥雞', '鹿港', '麥當勞', '麥當當', '麵包', '麵包區', '麵包子', '麵飯粥', '麻將', '黑糖', '點心', '龍坑', '龍貓', '龜山島']\n",
      "TP: 51\n",
      "TN: 272\n",
      "FP: 51\n",
      "FN: 50\n",
      "Accuracy： 0.7617924528301887\n",
      "Recall： 0.504950495049505\n",
      "Specificity： 0.8421052631578947\n",
      "Precision： 0.5\n",
      "f1_score： 0.5024630541871922\n",
      "AUC： 0.6735278791036998\n",
      "\n",
      "\n",
      "SMOTE\n",
      "TP: 50\n",
      "TN: 275\n",
      "FP: 48\n",
      "FN: 51\n",
      "Accuracy： 0.7665094339622641\n",
      "Recall： 0.49504950495049505\n",
      "Specificity： 0.8513931888544891\n",
      "Precision： 0.5102040816326531\n",
      "f1_score： 0.5025125628140704\n",
      "AUC： 0.6732213469024921\n",
      "\n",
      "\n",
      "RandomOverSampler\n",
      "TP: 46\n",
      "TN: 273\n",
      "FP: 50\n",
      "FN: 55\n",
      "Accuracy： 0.7523584905660378\n",
      "Recall： 0.45544554455445546\n",
      "Specificity： 0.8452012383900929\n",
      "Precision： 0.4791666666666667\n",
      "f1_score： 0.467005076142132\n",
      "AUC： 0.6503233914722741\n",
      "\n",
      "\n",
      "RandomUnderSampler\n",
      "TP: 67\n",
      "TN: 217\n",
      "FP: 106\n",
      "FN: 34\n",
      "Accuracy： 0.6698113207547169\n",
      "Recall： 0.6633663366336634\n",
      "Specificity： 0.6718266253869969\n",
      "Precision： 0.3872832369942196\n",
      "f1_score： 0.48905109489051096\n",
      "AUC： 0.6675964810103302\n",
      "\n",
      "\n"
     ]
    }
   ],
   "source": [
    "SVM_model2(X_train_2,X_test_2,y_train_2,y_test_2)\n",
    "SVM_model3(X_train_2,X_test_2,y_train_2,y_test_2)\n",
    "SVM_model4(X_train_2,X_test_2,y_train_2,y_test_2)\n",
    "SVM_model5(X_train_2,X_test_2,y_train_2,y_test_2)"
   ]
  },
  {
   "cell_type": "markdown",
   "id": "991a1084-02ce-4dc5-85fd-3c65d6d8265c",
   "metadata": {
    "tags": []
   },
   "source": [
    "#### 處理類別不平衡(Adaboost)"
   ]
  },
  {
   "cell_type": "code",
   "execution_count": 211,
   "id": "5f696397-9819-49b2-99b8-58a2c9ccc5fa",
   "metadata": {
    "tags": []
   },
   "outputs": [
    {
     "name": "stdout",
     "output_type": "stream",
     "text": [
      "ADASYN\n",
      "TP: 46\n",
      "TN: 296\n",
      "FP: 27\n",
      "FN: 55\n",
      "Accuracy： 0.8066037735849056\n",
      "Recall： 0.45544554455445546\n",
      "Specificity： 0.9164086687306502\n",
      "Precision： 0.6301369863013698\n",
      "f1_score： 0.528735632183908\n",
      "AUC： 0.6859271066425529\n",
      "\n",
      "\n",
      "SMOTE\n",
      "TP: 40\n",
      "TN: 291\n",
      "FP: 32\n",
      "FN: 61\n",
      "Accuracy： 0.7806603773584906\n",
      "Recall： 0.39603960396039606\n",
      "Specificity： 0.9009287925696594\n",
      "Precision： 0.5555555555555556\n",
      "f1_score： 0.4624277456647399\n",
      "AUC： 0.6484841982650277\n",
      "\n",
      "\n",
      "RandomOverSampler\n",
      "TP: 38\n",
      "TN: 289\n",
      "FP: 34\n",
      "FN: 63\n",
      "Accuracy： 0.7712264150943396\n",
      "Recall： 0.37623762376237624\n",
      "Specificity： 0.8947368421052632\n",
      "Precision： 0.5277777777777778\n",
      "f1_score： 0.4393063583815029\n",
      "AUC： 0.6354872329338197\n",
      "\n",
      "\n",
      "RandomUnderSampler\n",
      "TP: 49\n",
      "TN: 243\n",
      "FP: 80\n",
      "FN: 52\n",
      "Accuracy： 0.6886792452830188\n",
      "Recall： 0.48514851485148514\n",
      "Specificity： 0.7523219814241486\n",
      "Precision： 0.3798449612403101\n",
      "f1_score： 0.4260869565217391\n",
      "AUC： 0.6187352481378169\n",
      "\n",
      "\n"
     ]
    }
   ],
   "source": [
    "AdaBoost_model2(X_train_2,X_test_2,y_train_2,y_test_2)\n",
    "AdaBoost_model3(X_train_2,X_test_2,y_train_2,y_test_2)\n",
    "AdaBoost_model4(X_train_2,X_test_2,y_train_2,y_test_2)\n",
    "AdaBoost_model5(X_train_2,X_test_2,y_train_2,y_test_2)"
   ]
  },
  {
   "cell_type": "markdown",
   "id": "4a73c197-ac2c-42dd-808f-fd8fc66ba2e7",
   "metadata": {
    "tags": []
   },
   "source": [
    "### 資料集3"
   ]
  },
  {
   "cell_type": "markdown",
   "id": "8d18ad43-e437-40b1-97cf-4341df882d50",
   "metadata": {
    "tags": []
   },
   "source": [
    "#### baseline"
   ]
  },
  {
   "cell_type": "code",
   "execution_count": 212,
   "id": "1a7a8c07-7bd3-4541-8096-f7e3d59048b4",
   "metadata": {},
   "outputs": [
    {
     "name": "stdout",
     "output_type": "stream",
     "text": [
      "SVM baseline\n",
      "TP: 30\n",
      "TN: 307\n",
      "FP: 3\n",
      "FN: 84\n",
      "Accuracy： 0.7948113207547169\n",
      "Recall： 0.2631578947368421\n",
      "Specificity： 0.9903225806451613\n",
      "Precision： 0.9090909090909091\n",
      "f1_score： 0.4081632653061224\n",
      "AUC： 0.6267402376910017\n",
      "\n",
      "\n",
      "LR baseline\n",
      "TP: 15\n",
      "TN: 309\n",
      "FP: 1\n",
      "FN: 99\n",
      "Accuracy： 0.7641509433962265\n",
      "Recall： 0.13157894736842105\n",
      "Specificity： 0.9967741935483871\n",
      "Precision： 0.9375\n",
      "f1_score： 0.23076923076923075\n",
      "AUC： 0.5641765704584041\n",
      "\n",
      "\n",
      "RF baseline\n",
      "TP: 0\n",
      "TN: 310\n",
      "FP: 0\n",
      "FN: 114\n",
      "Accuracy： 0.7311320754716981\n",
      "Recall： 0.0\n",
      "Specificity： 1.0\n",
      "Precision： nan\n",
      "f1_score： nan\n",
      "AUC： 0.5\n",
      "\n",
      "\n",
      "AdaBoost_model\n"
     ]
    },
    {
     "name": "stderr",
     "output_type": "stream",
     "text": [
      "C:\\Users\\g3190\\AppData\\Local\\Temp/ipykernel_3316/3777238089.py:22: RuntimeWarning: invalid value encountered in true_divide\n",
      "  precision = TP/float(TP+FP)\n"
     ]
    },
    {
     "name": "stdout",
     "output_type": "stream",
     "text": [
      "TP: 51\n",
      "TN: 264\n",
      "FP: 46\n",
      "FN: 63\n",
      "Accuracy： 0.7429245283018868\n",
      "Recall： 0.4473684210526316\n",
      "Specificity： 0.8516129032258064\n",
      "Precision： 0.5257731958762887\n",
      "f1_score： 0.48341232227488157\n",
      "AUC： 0.649490662139219\n",
      "\n",
      "\n"
     ]
    }
   ],
   "source": [
    "SVM_model(X_train_3,X_test_3,y_train_3,y_test_3)\n",
    "LR_model(X_train_3,X_test_3,y_train_3,y_test_3)\n",
    "RF_model(X_train_3,X_test_3,y_train_3,y_test_3)\n",
    "AdaBoost_model(X_train_3,X_test_3,y_train_3,y_test_3)"
   ]
  },
  {
   "cell_type": "markdown",
   "id": "570e9a68-245f-4986-b075-297e19ec9c4f",
   "metadata": {
    "tags": []
   },
   "source": [
    "#### 處理類別不平衡(SVM)"
   ]
  },
  {
   "cell_type": "code",
   "execution_count": 213,
   "id": "497f4234-e09b-4844-aada-ebfb0d99164b",
   "metadata": {},
   "outputs": [
    {
     "name": "stdout",
     "output_type": "stream",
     "text": [
      "ADASYN\n",
      "Pipeline(steps=[('tfidfvectorizer', TfidfVectorizer()), ('adasyn', ADASYN()),\n",
      "                ('svc', SVC(kernel='linear'))])\n",
      "['1樓', '2樓', '30', '3樓', '5星級', '5點半', '8點', '9點半', 'cp值', 'nan', '一下', '一中', '一家人', '一樓', '一陣子', '丁香魚', '三明治', '三樓', '三溫暖', '三龜', '上方', '上限', '上面', '下午茶', '下雨天', '下雨車', '世界', '世紀', '中下', '中國風', '中心', '中心點', '中正', '中班', '中秋', '中繼站', '中間', '中餐', '中餐廳', '丸子', '丹麥', '主人', '主人家', '主廚', '主題', '主題房', '之上', '之後', '九份', '九宮格', '乳豬', '二三樓', '二樓', '二館', '五星級', '交流道', '交誼廳', '交通', '人員', '人工', '人情味', '人房', '人數', '人文', '人潮', '人間', '今天', '今日', '今早', '仙境', '仙草', '以下', '以外', '份量', '企業', '休息區', '休閒', '位子', '位置', '低海拔', '低音', '低頻', '住宅區', '住客', '住家', '住宿', '住宿費', '住所', '作風', '來客', '便利', '便利商店', '便利性', '便當', '保護區', '保險箱', '信息', '個資', '假日', '假期', '停車', '停車位', '停車場', '健身室', '健身房', '備品', '傢俱', '價位', '價值', '價廉', '價格', '價比', '價錢', '優勢', '優格', '優點', '充電線', '先生', '免治', '兒子', '兒童', '兔子', '內外', '內容', '內涵', '內部', '全家', '全聯', '公共區', '公園', '公廁', '公益路', '公車站', '六合', '六星', '六星級', '六樓', '冬天', '冬瓜', '冰水', '冰淇淋', '冰箱', '冷卻', '冷暖器', '冷气', '冷氣', '冷氣室', '冷氣浴', '冷盤', '冷菜', '凱特', '分鐘', '別墅', '前台', '副食品', '功能', '動物', '動物區', '包子', '包廂', '包木屋', '包車', '化糞池', '北下', '北海岸', '北竿', '北車', '區域', '十一點', '午餐', '半夜', '南京', '南瓜塔', '南點', '博物館', '卡片', '印度', '印象', '原住民', '原因', '原木', '去處', '反應', '口味', '口感', '口袋', '古董', '台中', '台北', '台北市', '台南', '台南市', '台東', '台灣', '台灣人', '台灣版', '司機', '合菜', '吊椅', '同事', '名單', '名字', '名宿', '吐司', '吵雜聲', '吹風機', '呆板', '周圍', '周遭', '周邊', '味噌湯', '味道', '和室', '咖啡', '咖啡廳', '咖啡機', '品味', '品牌', '品質', '哈瑪星', '員工', '商務', '商圈', '商場', '商家', '商旅', '問題', '喇叭', '喜宴', '喧嘩聲', '單人', '單人床', '單車', '單車族', '嘉義', '噪音', '四樓', '國家級', '國民', '國華街', '國賓', '園區', '團隊', '團體', '在地人', '地下室', '地中海', '地區', '地圖', '地方', '地板', '地理', '地瓜', '地瓜籤', '地瓜粥', '地瓜葉', '地點', '垃圾桶', '垃圾袋', '城堡', '城市', '埔里', '基督徒', '基隆', '堜啡', '場地', '塵囂', '墾丁', '壁紙', '夏天', '夏日', '夕陽', '外籍生', '外表', '外觀', '外部', '外面', '夜市', '夜店', '夜晚', '夜景', '夜班', '夜點', '大人', '大包', '大台北', '大型', '大小', '大廳', '大推', '大樓', '大港橋', '大直', '大眾', '大眾池', '大自然', '大街', '大車', '大門', '大鵬灣橋', '天井', '天堂', '天母', '天氣', '天花板', '太平山', '太空艙', '太陽', '太陽能', '夫妻', '套房', '套餐', '女孩', '女湯', '女生', '奶奶', '奶茶', '好友', '姐姐', '娃娃', '婆婆', '婚宴', '媽媽', '嬰兒', '孔雀', '季節', '孩子', '學生', '安平', '安平區', '完食', '定價', '宜蘭', '宜蘭市', '客人', '客家人', '客廳', '客房', '客服', '客運站', '室內机', '室外池', '宵夜', '宵夜券', '家人', '家具', '家庭', '家庭房', '家族', '宿舍', '密境', '寢具', '寵物', '寶寶', '專區', '專屬', '專業型', '對面', '小包', '小吃', '小姐', '小孩', '小孩子', '小屋', '小店', '小強', '小時', '小朋友', '小木屋', '小菜', '小費', '少女心', '尿騷味', '屋主', '屎味', '山坡', '山嵐', '山景', '山民宿', '山莊', '峨眉', '川雅居', '工作', '工具', '工業風', '左右', '巧克力', '巨蛋', '巴里島', '巴黎', '巷子', '巷弄', '市中心', '市區', '市場', '布丁', '布農', '布農族', '希臘', '幫手', '平價', '平日', '平面', '年代', '年紀', '床位', '床單', '床墊', '床鋪', '店家', '座位', '座位區', '庭園', '庭院', '廁所', '廚具', '廚房', '廣場', '建築', '建議', '形式', '彩繪', '彰化', '影片', '後方', '後面', '復興站', '微波爐', '德國', '德裔', '德陽', '心區', '心思', '心情', '心意', '心靈', '思旅', '性價比', '性情', '怪味', '恆春', '悅來', '情人節', '情侶', '想像', '意外', '意思', '意見', '愛買', '愛車', '感受', '感覺', '態度', '懇丁', '成功嶺', '成功路', '戲水池', '戲院', '戶外', '房價', '房務', '房型', '房子', '房客', '房屋', '房東', '房東人', '房費', '房門', '房間', '房間數', '手作', '手工', '手機', '手沖', '手藝', '打呼聲', '披薩', '拖鞋', '招待', '拼盤', '拿鐵', '按摩', '按摩椅', '捲筒紙', '捷運', '捷運站', '排餐', '採光', '接待', '接送', '推車', '摩托車', '擔仔麵', '擺設', '攤販', '效果', '救星', '教堂', '教練', '教育', '散客', '整體', '文創風', '文化', '文化路', '文德', '文青', '文青風', '斑斑', '料好', '料理', '新人', '新村', '新館', '新鮮貨', '方便度', '方便性', '方式', '方面', '旁邊', '旅人', '旅客', '旅店', '旅社', '旅社級', '旅程', '旅行', '旅行社', '旅遊', '旅館', '旗山', '日文', '日月潭', '日本', '日本餐', '早上', '早班', '早餐', '早餐吧', '早餐店', '早點', '明天', '星星', '星期六', '春天', '昨天', '時光', '時間', '晚上', '晚班', '晚餐', '普普', '景房', '景色', '景觀', '景觀台', '景觀房', '景點', '晴光', '暑假', '暖氣', '書籍', '最後', '會客室', '會議', '會館', '月租', '朋友', '服務', '服務台', '服務員', '服務量', '服飾', '朝日', '木屋', '木板', '木頭', '未來', '村長', '杯子', '東南亞', '東林', '東河', '東港', '東西', '枕頭', '枕頭棒', '林默娘', '果樹', '果汁', '果醬', '架子', '柔道', '柳橙', '栗子', '栗松', '桌上鏡', '桌子', '桌椅', '桌菜', '桌遊', '梅子', '梅花湖', '梳子', '棉被', '森林', '森林茶', '椅子', '植物', '椒麻雞', '楊桃', '業者', '榻榻米', '樓上', '樓下', '樓中樓', '樓層', '樓梯', '樣子', '樣式', '樹林', '橙堡', '機台', '機器人', '機場', '機會', '機械', '機車', '櫃台', '櫃子', '櫃檯', '櫃檯員', '櫃臺', '櫻花', '歐洲', '歐舒丹', '步道', '歲月', '歷史', '毛小孩', '毛巾', '毛巾架', '民宿', '氛圍', '氣息', '氣氛', '氣泡', '氣派', '氣溫', '水世界', '水壓', '水果', '水果樂', '水柱', '水準', '水溫', '水煮', '水社', '水管', '水聲', '水量', '水龍頭', '永和', '汽車', '沙坑', '沙子', '沙拉', '沙灘', '沙發', '河樂', '油豆腐', '油麵', '法國', '泡湯池', '泡菜', '泡麵', '泰式', '泳池', '洋樓', '洗手台', '洗澡水', '洗衣', '洗衣機', '洗衣間', '活力', '活動', '活動中心', '浴室', '浴巾', '浴廁', '浴池', '浴缸', '海帶', '海景', '海景房', '海洋', '海浪', '海港', '海灘', '海灣', '海豚', '海邊', '海隔音', '海風', '海鮮', '消夜', '涼麵', '淋浴', '清境', '清幽', '清晨', '清淨', '港墘', '港式', '港都', '游泳池', '湖景', '湯屋', '湯池', '湯頭', '溜滑梯', '溪頭', '溫度', '溫泉', '溫泉池', '滑水道', '滷味', '滷肉飯', '滿分', '漢堡', '漢神', '潛水', '澎島', '澎湖', '濕地', '火車', '火車站', '火鍋', '火鍋店', '灰塵', '炒米粉', '為人', '烏鬼井', '烤肉區', '烤肉爐', '煙味', '煙火', '照片', '熊貓', '熟食', '熱忱', '熱情', '熱水', '熱水器', '熱水澡', '熱誠', '燈光', '燈光秀', '燈會', '燒餅', '營地', '營養', '父母親', '牆壁', '牆面', '版文', '牙刷', '牙膏', '牛奶', '牛肉粥', '牛肉麵', '牡蠣', '牧草', '物品', '特區', '特色', '特色餐', '狀況', '狗狗', '玉米', '玩具', '玩沙池', '玻璃', '班機', '現場', '瑞士', '瑞豐', '環保', '環境', '環境衛生', '瓦斯爐', '甜點', '生態', '生態環境', '生活', '生菜', '生魚片', '產品', '用具', '用品', '用心', '用戶', '用料', '用餐', '用餐區', '田園', '田野', '畫作', '畫工', '畫質', '異味', '當地', '當天', '疫情', '痕跡', '瘦肉粥', '白天', '白煮蛋', '白茶', '百貨', '百貨公司', '盤子', '盥洗', '睡眠', '知本', '石朗', '硬體', '碗盤', '碗粿', '磁磚', '礁溪', '礦泉水', '社頂', '禁菸房', '禮物', '禮貌', '秋冬', '稀飯', '程度', '種類', '空中', '空地', '空氣', '空調', '空調聲', '空間', '空間感', '穿透力', '窗子', '窗戶', '窩旅', '童話', '竹叉', '竹筍包', '等待', '等級', '管家', '管家人', '米漿', '精品', '精緻度', '糖果', '系統', '紀念堂', '紅線', '紅茶', '素質', '素食', '素食區', '細節', '細雨', '結論', '經濟房', '經營', '經理', '經驗', '綠島', '綠色', '綠茶', '網站', '網路', '線上', '總統房', '總體', '缺點', '羅東', '美口景', '美味', '美景', '美術館', '美食', '美麗島站', '義大利麵', '老人', '老婆', '老婆人', '老師', '老師傅', '老板', '老舊型', '老街', '老街口', '老闆', '老闆人', '老闆娘', '耐心', '耐性', '聖地', '聲音', '肉包', '肉燥', '肉燥飯', '肉質', '肉醬', '肉類', '肉鬆', '肚子', '背包', '背包客', '腳踏車', '膠囊房', '臨時', '自助餐', '自然', '自行車', '臺灣', '舒適性', '舒適感', '船班', '船票', '芭樂', '花園', '花牆', '花生醬', '花蓮', '花蓮市', '茶凍', '茶包', '茶品', '茶園', '茶水', '茶水間', '茶葉', '茶點', '草地', '草皮', '莊主', '莊園', '菜品', '菜單', '菜園', '菜脯', '菜色', '菜餚', '華儀', '菸味', '落地窗', '蒸氣室', '蓮蓬頭', '蔡姐', '蔬菜', '蔬菜量', '蔬食', '蔬食餐', '薰衣草', '藍牙', '藏書', '藝廊', '藝術', '藝術家', '藥膳', '蘋果', '蘋果花', '蘿蔔糕', '虎井', '號碼', '蚊子', '蛋白飯', '蛋糕', '蛋黃區', '蛙鳴', '蜂蜜', '蜘蛛', '蜜香', '蝸牛', '螃蟹', '螞蟻', '螞蟻房', '螢火蟲', '蟑螂', '蟲鳴聲', '蠟味', '行李', '行李箱', '行程', '行銷', '街景', '街道', '街頭', '衛星', '衛浴', '衛生', '衣服', '衣架', '被子', '補助', '裝備', '裝潢', '裝飾', '裡面', '西子灣', '西式餐', '西瓜', '西莎', '西門町', '西門站', '西門路', '西餐', '西餐廳', '覆盆莓', '規劃', '規格', '視野', '親人', '親切', '親友', '親和', '親子', '親子房', '親水', '觀光', '觀星房', '解說', '訂房網', '訂金', '訊號', '設備', '設施', '設計', '設計感', '誠意', '豆漿', '豆腐乳', '豆花', '豬肉鍋', '豬肋排', '豬腳', '貓咪', '貝果', '貝殼', '貨櫃', '責任', '費用', '資料', '資訊', '賓館', '賢伉儷', '質感', '走廊', '起司', '超對味', '超市', '超級', '超美', '越南', '距離', '路程', '路線', '身心', '身體', '躺椅', '車位', '車友', '車子', '車庫', '車站', '車聲', '軍艦', '軟硬', '輕軌', '辦手禮', '農場', '近距離', '近郊', '迴音', '這裡', '速度', '造型', '造景', '逢甲', '連假', '週六日', '週邊', '遊客', '遊戲', '遊戲區', '遊戲室', '遊戲組', '遊樂區', '運動', '過往', '遠方', '遠東', '遠處', '選擇', '選擇性', '選項', '遺留物', '那裡', '都市', '都蘭', '鄉村風', '鄰居', '配備', '配料', '酒吧', '酒店', '醫藥箱', '醬料', '醬菜', '重慶', '重點', '野溪', '野菜', '金台灣', '金山', '金瓜石', '金蓮花', '金門', '鍋具', '鍋貼', '鏡子', '鐵捲門', '鐵觀音', '鐵道', '鑰匙', '長廊', '門口', '門房', '門票', '開水', '開飲機', '閩南', '闆娘', '阿伯', '阿公', '阿姨', '阿嬤', '阿樂哈', '附近', '附餐', '陸客團', '陽台', '陽臺', '隔壁', '隔天', '隔間', '隔音', '隔音窗', '雅房', '雙人床', '雙人房', '雙人湯屋房', '雙鯉湖', '雜誌', '雜音', '雞排', '雞排攤', '難吃醬', '雲海', '雲霧', '零嘴', '零食', '電動車', '電影票', '電扇', '電梯', '電腦', '電蚊拍', '電視', '電視機', '電話', '電鍋', '電風', '電風扇', '露友', '露台', '露天', '露營區', '青年', '青旅', '青茶', '青菜', '面積', '面紙', '鞋櫃', '音差', '音樂', '音質', '音響', '頂樓', '預約制', '頭髮', '頻道', '顧客', '風光', '風吹沙', '風味', '風情', '風景', '風景區', '風格', '風華', '颱風', '飛鏢', '食材', '食物', '食用花', '飯店', '飯店區', '飯粥', '飯糰', '飲品', '飲料', '飲水', '飲水機', '飲用水', '飲食', '餅乾', '餐具', '餐卷', '餐廳', '餐食', '餐飲', '餐館', '餐點', '館方', '饅頭', '首選', '香港', '香港人', '香草', '香蕉', '馬克杯', '馬桶', '馬祖', '馬路', '驚艷', '髒污', '體溫', '體驗', '高度', '高爾夫', '高美', '高跟鞋', '高鐵', '高雄', '高離', '高麗菜', '鬆餅', '鬧區', '鬼屋', '魅力', '魚船', '魚貨', '魯肉飯', '鮮奶', '鱔魚', '鴕鳥', '鵝肝', '鹹淡', '鹽酥雞', '鹿港', '麥當勞', '麵包', '麵包子', '麵飯粥', '麻將桌', '麻辣鍋', '黃昏', '黑糖', '點心', '龍坑', '龍貓', '龜山島']\n",
      "TP: 62\n",
      "TN: 262\n",
      "FP: 48\n",
      "FN: 52\n",
      "Accuracy： 0.7641509433962265\n",
      "Recall： 0.543859649122807\n",
      "Specificity： 0.8451612903225807\n",
      "Precision： 0.5636363636363636\n",
      "f1_score： 0.5535714285714286\n",
      "AUC： 0.6945104697226938\n",
      "\n",
      "\n",
      "SMOTE\n",
      "TP: 63\n",
      "TN: 270\n",
      "FP: 40\n",
      "FN: 51\n",
      "Accuracy： 0.785377358490566\n",
      "Recall： 0.5526315789473685\n",
      "Specificity： 0.8709677419354839\n",
      "Precision： 0.6116504854368932\n",
      "f1_score： 0.5806451612903226\n",
      "AUC： 0.7117996604414262\n",
      "\n",
      "\n",
      "RandomOverSampler\n",
      "TP: 56\n",
      "TN: 277\n",
      "FP: 33\n",
      "FN: 58\n",
      "Accuracy： 0.785377358490566\n",
      "Recall： 0.49122807017543857\n",
      "Specificity： 0.8935483870967742\n",
      "Precision： 0.6292134831460674\n",
      "f1_score： 0.5517241379310345\n",
      "AUC： 0.6923882286361064\n",
      "\n",
      "\n",
      "RandomUnderSampler\n",
      "TP: 68\n",
      "TN: 216\n",
      "FP: 94\n",
      "FN: 46\n",
      "Accuracy： 0.6698113207547169\n",
      "Recall： 0.5964912280701754\n",
      "Specificity： 0.6967741935483871\n",
      "Precision： 0.41975308641975306\n",
      "f1_score： 0.49275362318840576\n",
      "AUC： 0.6466327108092813\n",
      "\n",
      "\n"
     ]
    }
   ],
   "source": [
    "SVM_model2(X_train_3,X_test_3,y_train_3,y_test_3)\n",
    "SVM_model3(X_train_3,X_test_3,y_train_3,y_test_3)\n",
    "SVM_model4(X_train_3,X_test_3,y_train_3,y_test_3)\n",
    "SVM_model5(X_train_3,X_test_3,y_train_3,y_test_3)"
   ]
  },
  {
   "cell_type": "markdown",
   "id": "a324278d-a492-448e-8f16-8b40c028da72",
   "metadata": {
    "tags": []
   },
   "source": [
    "#### 處理類別不平衡(Adaboost)"
   ]
  },
  {
   "cell_type": "code",
   "execution_count": 214,
   "id": "0f492523-c149-4374-b132-e706f8a97e51",
   "metadata": {
    "tags": []
   },
   "outputs": [
    {
     "name": "stdout",
     "output_type": "stream",
     "text": [
      "ADASYN\n",
      "TP: 56\n",
      "TN: 277\n",
      "FP: 33\n",
      "FN: 58\n",
      "Accuracy： 0.785377358490566\n",
      "Recall： 0.49122807017543857\n",
      "Specificity： 0.8935483870967742\n",
      "Precision： 0.6292134831460674\n",
      "f1_score： 0.5517241379310345\n",
      "AUC： 0.6923882286361064\n",
      "\n",
      "\n",
      "SMOTE\n",
      "TP: 59\n",
      "TN: 277\n",
      "FP: 33\n",
      "FN: 55\n",
      "Accuracy： 0.7924528301886793\n",
      "Recall： 0.5175438596491229\n",
      "Specificity： 0.8935483870967742\n",
      "Precision： 0.6413043478260869\n",
      "f1_score： 0.5728155339805826\n",
      "AUC： 0.7055461233729485\n",
      "\n",
      "\n",
      "RandomOverSampler\n",
      "TP: 59\n",
      "TN: 275\n",
      "FP: 35\n",
      "FN: 55\n",
      "Accuracy： 0.7877358490566038\n",
      "Recall： 0.5175438596491229\n",
      "Specificity： 0.8870967741935484\n",
      "Precision： 0.6276595744680851\n",
      "f1_score： 0.5673076923076923\n",
      "AUC： 0.7023203169213356\n",
      "\n",
      "\n",
      "RandomUnderSampler\n",
      "TP: 77\n",
      "TN: 172\n",
      "FP: 138\n",
      "FN: 37\n",
      "Accuracy： 0.5872641509433962\n",
      "Recall： 0.6754385964912281\n",
      "Specificity： 0.5548387096774193\n",
      "Precision： 0.3581395348837209\n",
      "f1_score： 0.4680851063829787\n",
      "AUC： 0.6151386530843237\n",
      "\n",
      "\n"
     ]
    }
   ],
   "source": [
    "AdaBoost_model2(X_train_3,X_test_3,y_train_3,y_test_3)\n",
    "AdaBoost_model3(X_train_3,X_test_3,y_train_3,y_test_3)\n",
    "AdaBoost_model4(X_train_3,X_test_3,y_train_3,y_test_3)\n",
    "AdaBoost_model5(X_train_3,X_test_3,y_train_3,y_test_3)"
   ]
  },
  {
   "cell_type": "code",
   "execution_count": null,
   "id": "3f6c0668-fdc5-4c35-9400-f082ac358fd2",
   "metadata": {},
   "outputs": [],
   "source": []
  },
  {
   "cell_type": "code",
   "execution_count": null,
   "id": "e639f1c3-bcb5-462c-acc2-c8066001055d",
   "metadata": {},
   "outputs": [],
   "source": []
  },
  {
   "cell_type": "code",
   "execution_count": null,
   "id": "191233ff-81b0-4f49-9730-8e2114a7c2c8",
   "metadata": {},
   "outputs": [],
   "source": []
  }
 ],
 "metadata": {
  "kernelspec": {
   "display_name": "Python 3 (ipykernel)",
   "language": "python",
   "name": "python3"
  },
  "language_info": {
   "codemirror_mode": {
    "name": "ipython",
    "version": 3
   },
   "file_extension": ".py",
   "mimetype": "text/x-python",
   "name": "python",
   "nbconvert_exporter": "python",
   "pygments_lexer": "ipython3",
   "version": "3.8.12"
  }
 },
 "nbformat": 4,
 "nbformat_minor": 5
}
