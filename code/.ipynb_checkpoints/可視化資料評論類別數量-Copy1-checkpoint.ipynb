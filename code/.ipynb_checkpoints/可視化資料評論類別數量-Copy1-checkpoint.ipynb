{
 "cells": [
  {
   "cell_type": "code",
   "execution_count": null,
   "id": "204b8a56-04a6-43fa-b88d-4bc265d67b4d",
   "metadata": {},
   "outputs": [],
   "source": [
    "import matplotlib.pyplot as plt\n",
    "import os\n",
    "import pandas as pd\n",
    "import numpy as np"
   ]
  },
  {
   "cell_type": "code",
   "execution_count": 5,
   "id": "e658d28c-e6fc-443c-989c-68fc5b790f30",
   "metadata": {},
   "outputs": [
    {
     "name": "stdout",
     "output_type": "stream",
     "text": [
      "(1019, 9)\n"
     ]
    },
    {
     "data": {
      "text/html": [
       "<div>\n",
       "<style scoped>\n",
       "    .dataframe tbody tr th:only-of-type {\n",
       "        vertical-align: middle;\n",
       "    }\n",
       "\n",
       "    .dataframe tbody tr th {\n",
       "        vertical-align: top;\n",
       "    }\n",
       "\n",
       "    .dataframe thead th {\n",
       "        text-align: right;\n",
       "    }\n",
       "</style>\n",
       "<table border=\"1\" class=\"dataframe\">\n",
       "  <thead>\n",
       "    <tr style=\"text-align: right;\">\n",
       "      <th></th>\n",
       "      <th>reviews</th>\n",
       "      <th>value</th>\n",
       "      <th>comfort</th>\n",
       "      <th>location</th>\n",
       "      <th>cleanliness</th>\n",
       "      <th>service</th>\n",
       "      <th>ws_pos_reviews</th>\n",
       "      <th>filtered</th>\n",
       "      <th>filtered_noun</th>\n",
       "    </tr>\n",
       "  </thead>\n",
       "  <tbody>\n",
       "    <tr>\n",
       "      <th>0</th>\n",
       "      <td>價格合理舒適的房間老闆娘人很好還會自己做早餐給旅客重點是早餐吃到飽</td>\n",
       "      <td>1.0</td>\n",
       "      <td>1.0</td>\n",
       "      <td>0.0</td>\n",
       "      <td>0.0</td>\n",
       "      <td>1.0</td>\n",
       "      <td>價格(Na),合理(VH),舒適(VH),的(DE),房間(Nc),老闆娘(Na),人(Na...</td>\n",
       "      <td>價格(Na),合理(VH),舒適(VH),房間(Nc),老闆娘(Na),人(Na),好(VH...</td>\n",
       "      <td>價格(Na),房間(Nc),老闆娘(Na),人(Na),早餐(Na),旅客(Na),重點(N...</td>\n",
       "    </tr>\n",
       "    <tr>\n",
       "      <th>1</th>\n",
       "      <td>內部房間滿乾淨的還有大場地可以讓團體來使用我覺得很棒</td>\n",
       "      <td>0.0</td>\n",
       "      <td>1.0</td>\n",
       "      <td>0.0</td>\n",
       "      <td>1.0</td>\n",
       "      <td>0.0</td>\n",
       "      <td>內部(Ncd),房間(Nc),滿(Dfa),乾淨(VH),的(DE),還(D),有(V_2)...</td>\n",
       "      <td>內部(Ncd),房間(Nc),乾淨(VH),場地(Na),團體(Na),使用(VC),覺得(...</td>\n",
       "      <td>內部(Ncd),房間(Nc),場地(Na),團體(Na)</td>\n",
       "    </tr>\n",
       "    <tr>\n",
       "      <th>2</th>\n",
       "      <td>隔音還可以房間不小但美中不足沒有乾濕分離</td>\n",
       "      <td>0.0</td>\n",
       "      <td>1.0</td>\n",
       "      <td>0.0</td>\n",
       "      <td>0.0</td>\n",
       "      <td>0.0</td>\n",
       "      <td>隔音(A),還可以(D),房間(Nc),不(D),小(VH),但(Cbb),美中不足(VH)...</td>\n",
       "      <td>隔音(A),還可以(D),房間(Nc),小(VH),美中不足(VH),乾(VH),濕(VH)...</td>\n",
       "      <td>房間(Nc)</td>\n",
       "    </tr>\n",
       "    <tr>\n",
       "      <th>3</th>\n",
       "      <td>房子設計的很棒房間採光很好大廳挑高氣派房價合理台東必住民宿</td>\n",
       "      <td>1.0</td>\n",
       "      <td>1.0</td>\n",
       "      <td>0.0</td>\n",
       "      <td>0.0</td>\n",
       "      <td>0.0</td>\n",
       "      <td>房子(Na),設計(VC),的(DE),很(Dfa),棒(VH),房間(Nc),採光(Na)...</td>\n",
       "      <td>房子(Na),設計(VC),棒(VH),房間(Nc),採光(Na),好(VH),大廳(Nc)...</td>\n",
       "      <td>房子(Na),房間(Nc),採光(Na),大廳(Nc),氣派(Na),房價(Na),台東(N...</td>\n",
       "    </tr>\n",
       "    <tr>\n",
       "      <th>4</th>\n",
       "      <td>Cp值高乾淨舒適空間大樓下有免費吐司和咖啡老闆回復速度快</td>\n",
       "      <td>1.0</td>\n",
       "      <td>1.0</td>\n",
       "      <td>0.0</td>\n",
       "      <td>0.0</td>\n",
       "      <td>1.0</td>\n",
       "      <td>Cp值(FW),高(VH),乾淨(VH),舒適(VH),空間(Na),大樓(Na),下(Nc...</td>\n",
       "      <td>Cp值(FW),高(VH),乾淨(VH),舒適(VH),空間(Na),大樓(Na),下(Nc...</td>\n",
       "      <td>空間(Na),大樓(Na),下(Ncd),吐司(Na),咖啡(Na),老闆(Na),速度(Na)</td>\n",
       "    </tr>\n",
       "  </tbody>\n",
       "</table>\n",
       "</div>"
      ],
      "text/plain": [
       "                             reviews  value  comfort  location  cleanliness  \\\n",
       "0  價格合理舒適的房間老闆娘人很好還會自己做早餐給旅客重點是早餐吃到飽    1.0      1.0       0.0          0.0   \n",
       "1         內部房間滿乾淨的還有大場地可以讓團體來使用我覺得很棒    0.0      1.0       0.0          1.0   \n",
       "2               隔音還可以房間不小但美中不足沒有乾濕分離    0.0      1.0       0.0          0.0   \n",
       "3      房子設計的很棒房間採光很好大廳挑高氣派房價合理台東必住民宿    1.0      1.0       0.0          0.0   \n",
       "4       Cp值高乾淨舒適空間大樓下有免費吐司和咖啡老闆回復速度快    1.0      1.0       0.0          0.0   \n",
       "\n",
       "   service                                     ws_pos_reviews  \\\n",
       "0      1.0  價格(Na),合理(VH),舒適(VH),的(DE),房間(Nc),老闆娘(Na),人(Na...   \n",
       "1      0.0  內部(Ncd),房間(Nc),滿(Dfa),乾淨(VH),的(DE),還(D),有(V_2)...   \n",
       "2      0.0  隔音(A),還可以(D),房間(Nc),不(D),小(VH),但(Cbb),美中不足(VH)...   \n",
       "3      0.0  房子(Na),設計(VC),的(DE),很(Dfa),棒(VH),房間(Nc),採光(Na)...   \n",
       "4      1.0  Cp值(FW),高(VH),乾淨(VH),舒適(VH),空間(Na),大樓(Na),下(Nc...   \n",
       "\n",
       "                                            filtered  \\\n",
       "0  價格(Na),合理(VH),舒適(VH),房間(Nc),老闆娘(Na),人(Na),好(VH...   \n",
       "1  內部(Ncd),房間(Nc),乾淨(VH),場地(Na),團體(Na),使用(VC),覺得(...   \n",
       "2  隔音(A),還可以(D),房間(Nc),小(VH),美中不足(VH),乾(VH),濕(VH)...   \n",
       "3  房子(Na),設計(VC),棒(VH),房間(Nc),採光(Na),好(VH),大廳(Nc)...   \n",
       "4  Cp值(FW),高(VH),乾淨(VH),舒適(VH),空間(Na),大樓(Na),下(Nc...   \n",
       "\n",
       "                                       filtered_noun  \n",
       "0  價格(Na),房間(Nc),老闆娘(Na),人(Na),早餐(Na),旅客(Na),重點(N...  \n",
       "1                       內部(Ncd),房間(Nc),場地(Na),團體(Na)  \n",
       "2                                             房間(Nc)  \n",
       "3  房子(Na),房間(Nc),採光(Na),大廳(Nc),氣派(Na),房價(Na),台東(N...  \n",
       "4   空間(Na),大樓(Na),下(Ncd),吐司(Na),咖啡(Na),老闆(Na),速度(Na)  "
      ]
     },
     "execution_count": 5,
     "metadata": {},
     "output_type": "execute_result"
    }
   ],
   "source": [
    "path = '../data/review_data(seg+pos+stopwords)_noun.csv'\n",
    "df = pd.read_csv(path)\n",
    "print(df.shape)\n",
    "df.head()"
   ]
  },
  {
   "cell_type": "code",
   "execution_count": 7,
   "id": "73f652d4-1e0e-45a0-9c29-7be7c3bd5dba",
   "metadata": {},
   "outputs": [
    {
     "data": {
      "text/html": [
       "<div>\n",
       "<style scoped>\n",
       "    .dataframe tbody tr th:only-of-type {\n",
       "        vertical-align: middle;\n",
       "    }\n",
       "\n",
       "    .dataframe tbody tr th {\n",
       "        vertical-align: top;\n",
       "    }\n",
       "\n",
       "    .dataframe thead th {\n",
       "        text-align: right;\n",
       "    }\n",
       "</style>\n",
       "<table border=\"1\" class=\"dataframe\">\n",
       "  <thead>\n",
       "    <tr style=\"text-align: right;\">\n",
       "      <th></th>\n",
       "      <th>value</th>\n",
       "      <th>comfort</th>\n",
       "      <th>location</th>\n",
       "      <th>cleanliness</th>\n",
       "      <th>service</th>\n",
       "    </tr>\n",
       "  </thead>\n",
       "  <tbody>\n",
       "    <tr>\n",
       "      <th>0</th>\n",
       "      <td>1.0</td>\n",
       "      <td>1.0</td>\n",
       "      <td>0.0</td>\n",
       "      <td>0.0</td>\n",
       "      <td>1.0</td>\n",
       "    </tr>\n",
       "    <tr>\n",
       "      <th>1</th>\n",
       "      <td>0.0</td>\n",
       "      <td>1.0</td>\n",
       "      <td>0.0</td>\n",
       "      <td>1.0</td>\n",
       "      <td>0.0</td>\n",
       "    </tr>\n",
       "    <tr>\n",
       "      <th>2</th>\n",
       "      <td>0.0</td>\n",
       "      <td>1.0</td>\n",
       "      <td>0.0</td>\n",
       "      <td>0.0</td>\n",
       "      <td>0.0</td>\n",
       "    </tr>\n",
       "    <tr>\n",
       "      <th>3</th>\n",
       "      <td>1.0</td>\n",
       "      <td>1.0</td>\n",
       "      <td>0.0</td>\n",
       "      <td>0.0</td>\n",
       "      <td>0.0</td>\n",
       "    </tr>\n",
       "    <tr>\n",
       "      <th>4</th>\n",
       "      <td>1.0</td>\n",
       "      <td>1.0</td>\n",
       "      <td>0.0</td>\n",
       "      <td>0.0</td>\n",
       "      <td>1.0</td>\n",
       "    </tr>\n",
       "  </tbody>\n",
       "</table>\n",
       "</div>"
      ],
      "text/plain": [
       "   value  comfort  location  cleanliness  service\n",
       "0    1.0      1.0       0.0          0.0      1.0\n",
       "1    0.0      1.0       0.0          1.0      0.0\n",
       "2    0.0      1.0       0.0          0.0      0.0\n",
       "3    1.0      1.0       0.0          0.0      0.0\n",
       "4    1.0      1.0       0.0          0.0      1.0"
      ]
     },
     "execution_count": 7,
     "metadata": {},
     "output_type": "execute_result"
    }
   ],
   "source": [
    "df_labels = df[[\"value\", \"comfort\", \"location\", \"cleanliness\", \"service\"]]\n",
    "df_labels.head()"
   ]
  },
  {
   "cell_type": "markdown",
   "id": "8457941a-ad04-4f7c-aa7b-1f2fab7a6b48",
   "metadata": {},
   "source": [
    "### 可視化資料：每個類別所擁有的評論筆數"
   ]
  },
  {
   "cell_type": "code",
   "execution_count": 8,
   "id": "b9225fbb-7299-4b96-9fc9-4b0fbf648ba8",
   "metadata": {},
   "outputs": [
    {
     "data": {
      "text/plain": [
       "<AxesSubplot:>"
      ]
     },
     "execution_count": 8,
     "metadata": {},
     "output_type": "execute_result"
    },
    {
     "data": {
      "image/png": "[encoded data removed]",
      "text/plain": [
       "<Figure size 720x576 with 1 Axes>"
      ]
     },
     "metadata": {
      "needs_background": "light"
     },
     "output_type": "display_data"
    }
   ],
   "source": [
    "fig_size = plt.rcParams[\"figure.figsize\"]\n",
    "fig_size[0] = 10\n",
    "fig_size[1] = 8\n",
    "plt.rcParams[\"figure.figsize\"] = fig_size\n",
    "\n",
    "df_labels.sum(axis=0).plot.bar() # Return the sum of the values over the requested axis."
   ]
  },
  {
   "cell_type": "code",
   "execution_count": null,
   "id": "f4431c59-e4ec-4d08-a326-1c845bb96581",
   "metadata": {},
   "outputs": [],
   "source": []
  }
 ],
 "metadata": {
  "kernelspec": {
   "display_name": "Python 3 (NLP)",
   "language": "python",
   "name": "nlp"
  },
  "language_info": {
   "codemirror_mode": {
    "name": "ipython",
    "version": 3
   },
   "file_extension": ".py",
   "mimetype": "text/x-python",
   "name": "python",
   "nbconvert_exporter": "python",
   "pygments_lexer": "ipython3",
   "version": "3.8.12"
  }
 },
 "nbformat": 4,
 "nbformat_minor": 5
}
