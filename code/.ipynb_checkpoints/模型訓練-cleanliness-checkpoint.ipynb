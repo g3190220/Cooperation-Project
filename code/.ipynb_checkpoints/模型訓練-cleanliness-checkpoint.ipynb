{
 "cells": [
  {
   "cell_type": "markdown",
   "id": "608f9531-d9c0-47a4-bf7b-fcfe91992f8e",
   "metadata": {
    "tags": []
   },
   "source": [
    "## 幾種思路"
   ]
  },
  {
   "cell_type": "markdown",
   "id": "aae267fd-f953-442a-88cc-e2bfb9aff87d",
   "metadata": {},
   "source": [
    "思路1：TF-IDF + 機器學習分類器\n",
    "直接使用TF-IDF對文本提取特徵，並使用分類器進行分類。在分類器的選擇上，可以使用SVM、LR、或者XGBoost。\n",
    "\n",
    "思路2：FastText\n",
    "FastText是入門款的詞向量，利用Facebook提供的FastText工具，可以快速構建出分類器。\n",
    "\n",
    "思路3：WordVec + 深度學習分類器\n",
    "WordVec是進階款的詞向量，並通過構建深度學習分類完成分類。深度學習分類的網絡結構可以選擇TextCNN、TextRNN或者BiLSTM。\n",
    "\n",
    "思路4：Bert詞向量\n",
    "Bert是高配款的詞向量，具有強大的建模學習能力。"
   ]
  },
  {
   "cell_type": "markdown",
   "id": "10abf616-467b-4883-8210-339068693e2b",
   "metadata": {
    "jp-MarkdownHeadingCollapsed": true,
    "tags": []
   },
   "source": [
    "## 獲取6種模型的資料集"
   ]
  },
  {
   "cell_type": "code",
   "execution_count": 25,
   "id": "3f1556b9-10a8-4230-910e-2e0851184854",
   "metadata": {},
   "outputs": [],
   "source": [
    "import matplotlib.pyplot as plt\n",
    "import os\n",
    "import pandas as pd\n",
    "import numpy as np\n",
    "import re\n",
    "path = '../data/0407/review_data(seg+pos+stopwords)_train_n+v+f+p.csv'\n",
    "df_train = pd.read_csv(path)\n",
    "path = '../data/0407/review_data(seg+pos+stopwords)_test_n+v+f+p.csv'\n",
    "df_test = pd.read_csv(path)"
   ]
  },
  {
   "cell_type": "markdown",
   "id": "03134552-b205-4ba6-8b30-49d1b63f6e8d",
   "metadata": {
    "tags": []
   },
   "source": [
    "### 檢查重複值、空值"
   ]
  },
  {
   "cell_type": "code",
   "execution_count": 26,
   "id": "cf01f08b-66b4-48dc-b539-f963be31ec24",
   "metadata": {},
   "outputs": [
    {
     "name": "stdout",
     "output_type": "stream",
     "text": [
      "Empty DataFrame\n",
      "Columns: [reviews, value, comfort, location, cleanliness, service, facilities, ws_pos_reviews, filtered, filtered_word]\n",
      "Index: []\n",
      "Empty DataFrame\n",
      "Columns: [reviews, value, comfort, location, cleanliness, service, facilities, ws_pos_reviews, filtered, filtered_word]\n",
      "Index: []\n"
     ]
    }
   ],
   "source": [
    "#印出重複資料\n",
    "print(df_test[df_test.duplicated()])\n",
    "print(df_train[df_train.duplicated()])"
   ]
  },
  {
   "cell_type": "code",
   "execution_count": 27,
   "id": "1fcd3385-74b6-4e0e-8a68-48f139e3161d",
   "metadata": {},
   "outputs": [],
   "source": [
    "#移除重複值\n",
    "#df = df.drop_duplicates()\n",
    "#print(df.shape)"
   ]
  },
  {
   "cell_type": "code",
   "execution_count": 28,
   "id": "57541fcf-3859-4b9d-a6af-68c3a1b7a1d7",
   "metadata": {},
   "outputs": [],
   "source": [
    "#印出空值資料\n",
    "#df_train[df_train.isnull().T.any()]"
   ]
  },
  {
   "cell_type": "markdown",
   "id": "9ef2dd09-a1d4-408b-af22-a11cdd6829a9",
   "metadata": {},
   "source": [
    "### 切分為6個資料集"
   ]
  },
  {
   "cell_type": "code",
   "execution_count": 114,
   "id": "e466b400-44e6-442f-914f-148dc9f2cd2c",
   "metadata": {},
   "outputs": [],
   "source": [
    "def split_df(df):\n",
    "    df_value = df[['value','filtered_word']]\n",
    "    df_value.rename(columns={'value': 'label'}, inplace=True)\n",
    "    df_comfort = df[['comfort','filtered_word']]\n",
    "    df_comfort.rename(columns={'comfort': 'label'}, inplace=True)\n",
    "    df_location = df[['location','filtered_word']]\n",
    "    df_location.rename(columns={'location': 'label'}, inplace=True)\n",
    "    df_cleanliness = df[['cleanliness','filtered_word']]\n",
    "    df_cleanliness.rename(columns={'cleanliness': 'label'}, inplace=True)\n",
    "    df_service = df[['service','filtered_word']]\n",
    "    df_service.rename(columns={'service': 'label'}, inplace=True)\n",
    "    df_facilities = df[['facilities','filtered_word']]\n",
    "    df_facilities.rename(columns={'facilities': 'label'}, inplace=True)\n",
    "    return df_value, df_comfort, df_location, df_cleanliness, df_service, df_facilities"
   ]
  },
  {
   "cell_type": "code",
   "execution_count": 115,
   "id": "f74887e2-a787-4bba-af45-b6824ebbf6e5",
   "metadata": {},
   "outputs": [],
   "source": [
    "df_value_train, df_comfort_train, df_location_train, df_cleanliness_train, df_service_train ,df_facilities_train = split_df(df_train)\n",
    "df_value_test, df_comfort_test, df_location_test, df_cleanliness_test, df_service_test, df_facilities_test = split_df(df_test)"
   ]
  },
  {
   "cell_type": "markdown",
   "id": "c59ec4bf-a42d-406c-a15e-54431ef328fd",
   "metadata": {
    "tags": []
   },
   "source": [
    "### 清理資料(移除詞性標註的文字)"
   ]
  },
  {
   "cell_type": "code",
   "execution_count": 116,
   "id": "2cb95288-72e7-4508-aa53-1684ff8a63e1",
   "metadata": {},
   "outputs": [],
   "source": [
    "def remove_N_comma(sentence):\n",
    "    # 把後面(N..)(V..)(F..)拿掉\n",
    "    sentence = str(sentence)\n",
    "    pattern = re.compile(r\"\\([N,V,F,P].*?\\)\") #移除詞性標示\n",
    "    sentence = re.sub(pattern, '', sentence)\n",
    "    pattern = re.compile(r\",\") #將逗號替換為空格\n",
    "    sentence = re.sub(pattern, ' ', sentence)\n",
    "    return sentence\n",
    "pd.options.mode.chained_assignment = None  # 忽略警告"
   ]
  },
  {
   "cell_type": "code",
   "execution_count": 117,
   "id": "f29d4e13-b275-406a-96c1-fd46f70772bc",
   "metadata": {},
   "outputs": [],
   "source": [
    "#訓練集\n",
    "df_value_train['filtered_word'] = df_value_train.apply(lambda x: remove_N_comma(x['filtered_word']),axis=1)\n",
    "df_comfort_train['filtered_word'] = df_comfort_train.apply(lambda x: remove_N_comma(x['filtered_word']),axis=1)\n",
    "df_location_train['filtered_word'] = df_location_train.apply(lambda x: remove_N_comma(x['filtered_word']),axis=1)\n",
    "df_cleanliness_train['filtered_word'] = df_cleanliness_train.apply(lambda x: remove_N_comma(x['filtered_word']),axis=1)\n",
    "df_service_train['filtered_word'] = df_service_train.apply(lambda x: remove_N_comma(x['filtered_word']),axis=1)\n",
    "df_facilities_train['filtered_word'] = df_facilities_train.apply(lambda x: remove_N_comma(x['filtered_word']),axis=1)\n",
    "#測試集\n",
    "df_value_test['filtered_word'] = df_value_test.apply(lambda x: remove_N_comma(x['filtered_word']),axis=1)\n",
    "df_comfort_test['filtered_word'] = df_comfort_test.apply(lambda x: remove_N_comma(x['filtered_word']),axis=1)\n",
    "df_location_test['filtered_word'] = df_location_test.apply(lambda x: remove_N_comma(x['filtered_word']),axis=1)\n",
    "df_cleanliness_test['filtered_word'] = df_cleanliness_test.apply(lambda x: remove_N_comma(x['filtered_word']),axis=1)\n",
    "df_service_test['filtered_word'] = df_service_test.apply(lambda x: remove_N_comma(x['filtered_word']),axis=1)\n",
    "df_facilities_test['filtered_word'] = df_facilities_test.apply(lambda x: remove_N_comma(x['filtered_word']),axis=1)"
   ]
  },
  {
   "cell_type": "code",
   "execution_count": 118,
   "id": "96657345-dcdf-40d4-b09b-2904f3ea0281",
   "metadata": {},
   "outputs": [
    {
     "data": {
      "text/plain": [
       "(420, 2)"
      ]
     },
     "execution_count": 118,
     "metadata": {},
     "output_type": "execute_result"
    }
   ],
   "source": [
    "df_value_test.shape"
   ]
  },
  {
   "cell_type": "markdown",
   "id": "41b21127-7864-4ea5-bbc6-872b5ce25697",
   "metadata": {
    "tags": []
   },
   "source": [
    "## 模型架構"
   ]
  },
  {
   "cell_type": "markdown",
   "id": "85f5dea5-298a-4819-8ac5-520b79eb20c2",
   "metadata": {
    "tags": []
   },
   "source": [
    "### 套件引用"
   ]
  },
  {
   "cell_type": "code",
   "execution_count": 313,
   "id": "9f68cb11-c4ef-4366-9a3f-9af34c9dd711",
   "metadata": {},
   "outputs": [],
   "source": [
    "#import package\n",
    "#轉向量用\n",
    "from sklearn.feature_extraction.text import CountVectorizer\n",
    "from sklearn.feature_extraction.text import TfidfTransformer\n",
    "from sklearn.feature_extraction.text import TfidfVectorizer \n",
    "from scipy.sparse import coo_matrix\n",
    "\n",
    "from imblearn.pipeline import Pipeline, make_pipeline\n",
    "from sklearn.model_selection import cross_validate\n",
    "import pickle #儲存模型用\n",
    "from sklearn.model_selection import train_test_split\n",
    "#類別採樣\n",
    "import imblearn.over_sampling as over_sampling\n",
    "import imblearn.under_sampling as under_sampling\n",
    "import imblearn.combine as combine\n",
    "from imblearn.pipeline import make_pipeline as make_pipeline_imb\n",
    "\n",
    "\n",
    "#模型\n",
    "from sklearn.metrics import classification_report\n",
    "from sklearn.linear_model import LogisticRegression\n",
    "from sklearn.ensemble import RandomForestClassifier\n",
    "from sklearn.tree import DecisionTreeClassifier\n",
    "from sklearn import svm\n",
    "from sklearn import neighbors\n",
    "from sklearn.naive_bayes import MultinomialNB\n",
    "#from xgboost.sklearn import XGBClassifier\n",
    "\n",
    "#模型效能表現\n",
    "import sklearn.metrics as metrics"
   ]
  },
  {
   "cell_type": "markdown",
   "id": "05bca335-929e-46d6-b8e6-447621d41d8c",
   "metadata": {
    "tags": []
   },
   "source": [
    "### 顯示訓練結果"
   ]
  },
  {
   "cell_type": "code",
   "execution_count": 314,
   "id": "9ad34b64-c7c9-4cce-8b62-0a266a165a3e",
   "metadata": {},
   "outputs": [],
   "source": [
    "def classification_report(y_test, pre):\n",
    "    #混淆矩陣\n",
    "    confusion = metrics.confusion_matrix(y_test, pre)\n",
    "    TP = confusion[1,1]\n",
    "    TN = confusion[0,0]\n",
    "    FP = confusion[0,1]\n",
    "    FN = confusion[1,0]\n",
    "    #Accuracy\n",
    "    accuracy = (TP+TN)/float(TP+TN+FN+FP)\n",
    "    print(\"Accuracy：\", accuracy)\n",
    "    #Sensitivity(Recall)\n",
    "    recall = TP/float(TP+FN)\n",
    "    print(\"Recall：\", recall)\n",
    "    #Specificity\n",
    "    specificity = TN/float(TN+FP)\n",
    "    print(\"Specificity：\", specificity)\n",
    "    #Precision\n",
    "    precision = TP/float(TP+FP)\n",
    "    print(\"Precision：\", precision)\n",
    "    #f1-score\n",
    "    f1_score = ((2*precision*recall)/(precision+recall))\n",
    "    print(\"f1_score：\", f1_score)\n",
    "    #AUC\n",
    "    print(\"AUC：\", metrics.roc_auc_score(y_test, pre))"
   ]
  },
  {
   "cell_type": "markdown",
   "id": "6b8636ec-e7a7-433b-a876-342010132df4",
   "metadata": {
    "tags": []
   },
   "source": [
    "### 切分數據label"
   ]
  },
  {
   "cell_type": "code",
   "execution_count": 315,
   "id": "ce72c298-701c-4007-9cff-6555b3c30490",
   "metadata": {},
   "outputs": [],
   "source": [
    "def split_label(df_train, df_test):\n",
    "    X_train = df_train.filtered_word.tolist()\n",
    "    y_train = df_train.label\n",
    "    X_test = df_test.filtered_word.tolist()\n",
    "    y_test = df_test.label\n",
    "    return X_train, y_train, X_test, y_test"
   ]
  },
  {
   "cell_type": "markdown",
   "id": "6d0fee28-9feb-4801-bb55-f2e537ac12d8",
   "metadata": {
    "tags": []
   },
   "source": [
    "### SVM模型設計"
   ]
  },
  {
   "cell_type": "markdown",
   "id": "f5c74e39-1bbe-4c80-ad06-0e3074ae7329",
   "metadata": {
    "tags": []
   },
   "source": [
    "#### (1) baseline"
   ]
  },
  {
   "cell_type": "code",
   "execution_count": 316,
   "id": "4effeedd-3a62-4931-a963-d0cdae920390",
   "metadata": {},
   "outputs": [],
   "source": [
    "def SVM_model(df_train, df_test):\n",
    "    print(\"SVM baseline\")\n",
    "    #切分數據集\n",
    "    X_train,y_train,X_test,y_test = split_label(df_train, df_test)\n",
    "    #模型架構\n",
    "    model = make_pipeline_imb(TfidfVectorizer(max_df=0.8,min_df=5,dtype=np.float32), svm.SVC(kernel='linear'))\n",
    "    model.fit(X_train, y_train)\n",
    "    \n",
    "    #模型預測\n",
    "    pre = model.predict(X_test)\n",
    "    #麼行評估\n",
    "    classification_report(y_test, pre)\n",
    "    print(\"\\n\")"
   ]
  },
  {
   "cell_type": "markdown",
   "id": "0fd242fc-ed52-47a3-8e8e-950263def92b",
   "metadata": {
    "jp-MarkdownHeadingCollapsed": true,
    "tags": []
   },
   "source": [
    "#### (2)執行採樣 => 解決類別不平衡"
   ]
  },
  {
   "cell_type": "code",
   "execution_count": 318,
   "id": "de9840cc-0b35-41a1-87fa-b57132a13672",
   "metadata": {},
   "outputs": [],
   "source": [
    "def SVM_model2(df_train, df_test):\n",
    "    print(\"ADASYN\")\n",
    "    #切分數據集\n",
    "    X_train,y_train,X_test,y_test = split_label(df_train, df_test)\n",
    "    #模型架構\n",
    "    model = make_pipeline_imb(TfidfVectorizer(), over_sampling.ADASYN(), svm.SVC(kernel='linear'))\n",
    "    model.fit(X_train, y_train)\n",
    "    #模型預測\n",
    "    pre = model.predict(X_test)\n",
    "    #麼行評估\n",
    "    classification_report(y_test, pre)\n",
    "    print(\"\\n\")"
   ]
  },
  {
   "cell_type": "code",
   "execution_count": 319,
   "id": "b56f9250-4755-4aef-acbf-0a0e24dfefd8",
   "metadata": {},
   "outputs": [],
   "source": [
    "def SVM_model3(df_train, df_test):\n",
    "    print(\"SMOTE\")\n",
    "    #切分數據集\n",
    "    X_train,y_train,X_test,y_test = split_label(df_train, df_test)\n",
    "    #模型架構\n",
    "    model = make_pipeline_imb(TfidfVectorizer(), over_sampling.SMOTE(), svm.SVC(kernel='linear'))\n",
    "    model.fit(X_train, y_train)\n",
    "    #模型預測\n",
    "    pre = model.predict(X_test)\n",
    "    #麼行評估\n",
    "    classification_report(y_test, pre)\n",
    "    print(\"\\n\")"
   ]
  },
  {
   "cell_type": "code",
   "execution_count": 320,
   "id": "17634123-3d47-49b6-aecd-e949c4226cd4",
   "metadata": {},
   "outputs": [],
   "source": [
    "def SVM_model4(df_train, df_test):\n",
    "    print(\"RandomOverSampler\")\n",
    "    #切分數據集\n",
    "    X_train,y_train,X_test,y_test = split_label(df_train, df_test)\n",
    "    #模型架構\n",
    "    model = make_pipeline_imb(TfidfVectorizer(), over_sampling.RandomOverSampler(), svm.SVC(kernel='linear'))\n",
    "    model.fit(X_train, y_train)\n",
    "    #模型預測\n",
    "    pre = model.predict(X_test)\n",
    "    #麼行評估\n",
    "    classification_report(y_test, pre)\n",
    "    print(\"\\n\")"
   ]
  },
  {
   "cell_type": "code",
   "execution_count": 321,
   "id": "e0c4654d-5f7a-474a-adb0-e151c3eaffbd",
   "metadata": {},
   "outputs": [],
   "source": [
    "def SVM_model5(df_train, df_test):\n",
    "    print(\"RandomUnderSampler\")\n",
    "    #切分數據集\n",
    "    X_train,y_train,X_test,y_test = split_label(df_train, df_test)\n",
    "    #模型架構\n",
    "    model = make_pipeline_imb(TfidfVectorizer(), under_sampling.RandomUnderSampler(), svm.SVC(kernel='linear'))\n",
    "    model.fit(X_train, y_train)\n",
    "    #模型預測\n",
    "    pre = model.predict(X_test)\n",
    "    #麼行評估\n",
    "    classification_report(y_test, pre)\n",
    "    print(\"\\n\")"
   ]
  },
  {
   "cell_type": "markdown",
   "id": "0b7d93f4-b593-4079-a7ee-50106af14326",
   "metadata": {
    "tags": []
   },
   "source": [
    "## 模型訓練&結果"
   ]
  },
  {
   "cell_type": "markdown",
   "id": "a8465954-51b1-4f56-9650-9670379c1b3d",
   "metadata": {
    "tags": []
   },
   "source": [
    "### 模型一、value"
   ]
  },
  {
   "cell_type": "code",
   "execution_count": 329,
   "id": "f5165c90-95d3-4716-9efa-1a87bb69310a",
   "metadata": {},
   "outputs": [
    {
     "name": "stdout",
     "output_type": "stream",
     "text": [
      "SVM baseline\n",
      "Accuracy： 0.9380952380952381\n",
      "Recall： 0.65625\n",
      "Specificity： 0.9887640449438202\n",
      "Precision： 0.9130434782608695\n",
      "f1_score： 0.7636363636363634\n",
      "AUC： 0.8225070224719101\n",
      "\n",
      "\n",
      "ADASYN\n",
      "Accuracy： 0.9047619047619048\n",
      "Recall： 0.71875\n",
      "Specificity： 0.9382022471910112\n",
      "Precision： 0.6764705882352942\n",
      "f1_score： 0.696969696969697\n",
      "AUC： 0.8284761235955055\n",
      "\n",
      "\n",
      "SMOTE\n",
      "Accuracy： 0.9071428571428571\n",
      "Recall： 0.6875\n",
      "Specificity： 0.9466292134831461\n",
      "Precision： 0.6984126984126984\n",
      "f1_score： 0.6929133858267716\n",
      "AUC： 0.817064606741573\n",
      "\n",
      "\n",
      "RandomOverSampler\n",
      "Accuracy： 0.9095238095238095\n",
      "Recall： 0.65625\n",
      "Specificity： 0.9550561797752809\n",
      "Precision： 0.7241379310344828\n",
      "f1_score： 0.6885245901639345\n",
      "AUC： 0.8056530898876405\n",
      "\n",
      "\n",
      "RandomUnderSampler\n",
      "Accuracy： 0.8095238095238095\n",
      "Recall： 0.71875\n",
      "Specificity： 0.8258426966292135\n",
      "Precision： 0.42592592592592593\n",
      "f1_score： 0.5348837209302325\n",
      "AUC： 0.7722963483146068\n",
      "\n",
      "\n"
     ]
    }
   ],
   "source": [
    "#X_train, y_train, X_test, y_test = data_to_vec(df_value_train, df_value_test)\n",
    "SVM_model(df_value_train, df_value_test)\n",
    "#XG_model(df_value_train, df_value_test)\n",
    "SVM_model2(df_value_train, df_value_test)\n",
    "SVM_model3(df_value_train, df_value_test)\n",
    "SVM_model4(df_value_train, df_value_test)\n",
    "SVM_model5(df_value_train, df_value_test)"
   ]
  },
  {
   "cell_type": "markdown",
   "id": "4b2bc90e-7aad-4d96-8edd-5b2f8ea90601",
   "metadata": {
    "tags": []
   },
   "source": [
    "### 模型二、comfort"
   ]
  },
  {
   "cell_type": "code",
   "execution_count": 330,
   "id": "0718bd62-d7ba-4c49-a900-c0348af277a7",
   "metadata": {},
   "outputs": [
    {
     "name": "stdout",
     "output_type": "stream",
     "text": [
      "SVM baseline\n",
      "Accuracy： 0.8261904761904761\n",
      "Recall： 0.72\n",
      "Specificity： 0.8711864406779661\n",
      "Precision： 0.703125\n",
      "f1_score： 0.7114624505928854\n",
      "AUC： 0.795593220338983\n",
      "\n",
      "\n",
      "ADASYN\n",
      "Accuracy： 0.7761904761904762\n",
      "Recall： 0.776\n",
      "Specificity： 0.7762711864406779\n",
      "Precision： 0.5950920245398773\n",
      "f1_score： 0.6736111111111112\n",
      "AUC： 0.776135593220339\n",
      "\n",
      "\n",
      "SMOTE\n",
      "Accuracy： 0.7857142857142857\n",
      "Recall： 0.768\n",
      "Specificity： 0.7932203389830509\n",
      "Precision： 0.6114649681528662\n",
      "f1_score： 0.6808510638297872\n",
      "AUC： 0.7806101694915254\n",
      "\n",
      "\n",
      "RandomOverSampler\n",
      "Accuracy： 0.7761904761904762\n",
      "Recall： 0.744\n",
      "Specificity： 0.7898305084745763\n",
      "Precision： 0.6\n",
      "f1_score： 0.6642857142857143\n",
      "AUC： 0.7669152542372881\n",
      "\n",
      "\n",
      "RandomUnderSampler\n",
      "Accuracy： 0.7428571428571429\n",
      "Recall： 0.792\n",
      "Specificity： 0.7220338983050848\n",
      "Precision： 0.5469613259668509\n",
      "f1_score： 0.6470588235294118\n",
      "AUC： 0.7570169491525424\n",
      "\n",
      "\n"
     ]
    }
   ],
   "source": [
    "#X_train, y_train, X_test, y_test = data_to_vec(df_comfort_train, df_comfort_test)\n",
    "#SVM_model(X_train, y_train, X_test, y_test)\n",
    "SVM_model(df_comfort_train, df_comfort_test)\n",
    "SVM_model2(df_comfort_train, df_comfort_test)\n",
    "SVM_model3(df_comfort_train, df_comfort_test)\n",
    "SVM_model4(df_comfort_train, df_comfort_test)\n",
    "SVM_model5(df_comfort_train, df_comfort_test)"
   ]
  },
  {
   "cell_type": "markdown",
   "id": "1aad33af-f4c3-44a3-a4ca-8fc749de4c41",
   "metadata": {
    "tags": []
   },
   "source": [
    "### 模型三、location"
   ]
  },
  {
   "cell_type": "code",
   "execution_count": 331,
   "id": "c9218604-fc75-4aa3-8eba-ad6c2a65628e",
   "metadata": {},
   "outputs": [
    {
     "name": "stdout",
     "output_type": "stream",
     "text": [
      "SVM baseline\n",
      "Accuracy： 0.8595238095238096\n",
      "Recall： 0.6287878787878788\n",
      "Specificity： 0.9652777777777778\n",
      "Precision： 0.8924731182795699\n",
      "f1_score： 0.7377777777777779\n",
      "AUC： 0.7970328282828283\n",
      "\n",
      "\n",
      "ADASYN\n",
      "Accuracy： 0.8547619047619047\n",
      "Recall： 0.6666666666666666\n",
      "Specificity： 0.9409722222222222\n",
      "Precision： 0.8380952380952381\n",
      "f1_score： 0.7426160337552743\n",
      "AUC： 0.8038194444444444\n",
      "\n",
      "\n",
      "SMOTE\n",
      "Accuracy： 0.8642857142857143\n",
      "Recall： 0.7045454545454546\n",
      "Specificity： 0.9375\n",
      "Precision： 0.8378378378378378\n",
      "f1_score： 0.7654320987654323\n",
      "AUC： 0.8210227272727273\n",
      "\n",
      "\n",
      "RandomOverSampler\n",
      "Accuracy： 0.8547619047619047\n",
      "Recall： 0.6742424242424242\n",
      "Specificity： 0.9375\n",
      "Precision： 0.8317757009345794\n",
      "f1_score： 0.7447698744769874\n",
      "AUC： 0.8058712121212122\n",
      "\n",
      "\n",
      "RandomUnderSampler\n",
      "Accuracy： 0.8166666666666667\n",
      "Recall： 0.7272727272727273\n",
      "Specificity： 0.8576388888888888\n",
      "Precision： 0.7007299270072993\n",
      "f1_score： 0.7137546468401488\n",
      "AUC： 0.7924558080808081\n",
      "\n",
      "\n"
     ]
    }
   ],
   "source": [
    "#X_train, y_train, X_test, y_test = data_to_vec(df_location_train, df_location_test)\n",
    "#SVM_model(X_train, y_train, X_test, y_test)\n",
    "SVM_model(df_location_train, df_location_test)\n",
    "SVM_model2(df_location_train, df_location_test)\n",
    "SVM_model3(df_location_train, df_location_test)\n",
    "SVM_model4(df_location_train, df_location_test)\n",
    "SVM_model5(df_location_train, df_location_test)"
   ]
  },
  {
   "cell_type": "markdown",
   "id": "b69d22a0-b6e9-44ca-80eb-f19a7cbb2b45",
   "metadata": {
    "tags": []
   },
   "source": [
    "### 模型四、cleanliness"
   ]
  },
  {
   "cell_type": "code",
   "execution_count": 332,
   "id": "c5bc5964-4fd8-40b7-84f4-0c417e10f50f",
   "metadata": {},
   "outputs": [
    {
     "name": "stdout",
     "output_type": "stream",
     "text": [
      "SVM baseline\n",
      "Accuracy： 0.9476190476190476\n",
      "Recall： 0.8347107438016529\n",
      "Specificity： 0.9933110367892977\n",
      "Precision： 0.9805825242718447\n",
      "f1_score： 0.9017857142857142\n",
      "AUC： 0.9140108902954753\n",
      "\n",
      "\n",
      "ADASYN\n",
      "Accuracy： 0.9523809523809523\n",
      "Recall： 0.859504132231405\n",
      "Specificity： 0.9899665551839465\n",
      "Precision： 0.9719626168224299\n",
      "f1_score： 0.912280701754386\n",
      "AUC： 0.9247353437076757\n",
      "\n",
      "\n",
      "SMOTE\n",
      "Accuracy： 0.95\n",
      "Recall： 0.8512396694214877\n",
      "Specificity： 0.9899665551839465\n",
      "Precision： 0.9716981132075472\n",
      "f1_score： 0.9074889867841409\n",
      "AUC： 0.9206031123027171\n",
      "\n",
      "\n",
      "RandomOverSampler\n",
      "Accuracy： 0.9571428571428572\n",
      "Recall： 0.8760330578512396\n",
      "Specificity： 0.9899665551839465\n",
      "Precision： 0.9724770642201835\n",
      "f1_score： 0.9217391304347826\n",
      "AUC： 0.9329998065175931\n",
      "\n",
      "\n",
      "RandomUnderSampler\n",
      "Accuracy： 0.95\n",
      "Recall： 0.8677685950413223\n",
      "Specificity： 0.9832775919732442\n",
      "Precision： 0.9545454545454546\n",
      "f1_score： 0.9090909090909091\n",
      "AUC： 0.9255230935072832\n",
      "\n",
      "\n"
     ]
    }
   ],
   "source": [
    "#X_train, y_train, X_test, y_test = data_to_vec(df_cleanliness_train, df_cleanliness_test)\n",
    "#SVM_model(X_train, y_train, X_test, y_test)\n",
    "SVM_model(df_cleanliness_train, df_cleanliness_test)\n",
    "SVM_model2(df_cleanliness_train, df_cleanliness_test)\n",
    "SVM_model3(df_cleanliness_train, df_cleanliness_test)\n",
    "SVM_model4(df_cleanliness_train, df_cleanliness_test)\n",
    "SVM_model5(df_cleanliness_train, df_cleanliness_test)"
   ]
  },
  {
   "cell_type": "markdown",
   "id": "6c20978a-33aa-4659-923b-d56929017936",
   "metadata": {
    "tags": []
   },
   "source": [
    "### 模型五、service"
   ]
  },
  {
   "cell_type": "code",
   "execution_count": 333,
   "id": "91bc9a02-b31b-4194-8a99-2a1b4be044c7",
   "metadata": {},
   "outputs": [
    {
     "name": "stdout",
     "output_type": "stream",
     "text": [
      "SVM baseline\n",
      "Accuracy： 0.8738095238095238\n",
      "Recall： 0.8592592592592593\n",
      "Specificity： 0.9\n",
      "Precision： 0.9392712550607287\n",
      "f1_score： 0.8974854932301741\n",
      "AUC： 0.8796296296296297\n",
      "\n",
      "\n",
      "ADASYN\n",
      "Accuracy： 0.8928571428571429\n",
      "Recall： 0.8925925925925926\n",
      "Specificity： 0.8933333333333333\n",
      "Precision： 0.9377431906614786\n",
      "f1_score： 0.9146110056925997\n",
      "AUC： 0.892962962962963\n",
      "\n",
      "\n",
      "SMOTE\n",
      "Accuracy： 0.8833333333333333\n",
      "Recall： 0.8888888888888888\n",
      "Specificity： 0.8733333333333333\n",
      "Precision： 0.9266409266409267\n",
      "f1_score： 0.9073724007561437\n",
      "AUC： 0.8811111111111111\n",
      "\n",
      "\n",
      "RandomOverSampler\n",
      "Accuracy： 0.8904761904761904\n",
      "Recall： 0.8962962962962963\n",
      "Specificity： 0.88\n",
      "Precision： 0.9307692307692308\n",
      "f1_score： 0.9132075471698113\n",
      "AUC： 0.8881481481481482\n",
      "\n",
      "\n",
      "RandomUnderSampler\n",
      "Accuracy： 0.8761904761904762\n",
      "Recall： 0.8555555555555555\n",
      "Specificity： 0.9133333333333333\n",
      "Precision： 0.9467213114754098\n",
      "f1_score： 0.8988326848249028\n",
      "AUC： 0.8844444444444445\n",
      "\n",
      "\n"
     ]
    }
   ],
   "source": [
    "#X_train, y_train, X_test, y_test = data_to_vec(df_service_train, df_service_test)\n",
    "#SVM_model(X_train, y_train, X_test, y_test)\n",
    "SVM_model(df_service_train, df_service_test)\n",
    "SVM_model2(df_service_train, df_service_test)\n",
    "SVM_model3(df_service_train, df_service_test)\n",
    "SVM_model4(df_service_train, df_service_test)\n",
    "SVM_model5(df_service_train, df_service_test)"
   ]
  },
  {
   "cell_type": "markdown",
   "id": "a516929b-225a-4931-a17e-20e6f3ed08e5",
   "metadata": {},
   "source": [
    "### 模型六、facilities"
   ]
  },
  {
   "cell_type": "code",
   "execution_count": 334,
   "id": "6ff38df9-c8cb-45c2-8842-496201a9cc5d",
   "metadata": {},
   "outputs": [
    {
     "name": "stdout",
     "output_type": "stream",
     "text": [
      "SVM baseline\n",
      "Accuracy： 0.9380952380952381\n",
      "Recall： 0.65625\n",
      "Specificity： 0.9887640449438202\n",
      "Precision： 0.9130434782608695\n",
      "f1_score： 0.7636363636363634\n",
      "AUC： 0.8225070224719101\n",
      "\n",
      "\n",
      "ADASYN\n",
      "Accuracy： 0.9047619047619048\n",
      "Recall： 0.71875\n",
      "Specificity： 0.9382022471910112\n",
      "Precision： 0.6764705882352942\n",
      "f1_score： 0.696969696969697\n",
      "AUC： 0.8284761235955055\n",
      "\n",
      "\n",
      "SMOTE\n",
      "Accuracy： 0.9166666666666666\n",
      "Recall： 0.640625\n",
      "Specificity： 0.9662921348314607\n",
      "Precision： 0.7735849056603774\n",
      "f1_score： 0.7008547008547009\n",
      "AUC： 0.8034585674157304\n",
      "\n",
      "\n",
      "RandomOverSampler\n",
      "Accuracy： 0.9071428571428571\n",
      "Recall： 0.6875\n",
      "Specificity： 0.9466292134831461\n",
      "Precision： 0.6984126984126984\n",
      "f1_score： 0.6929133858267716\n",
      "AUC： 0.817064606741573\n",
      "\n",
      "\n",
      "RandomUnderSampler\n",
      "Accuracy： 0.819047619047619\n",
      "Recall： 0.734375\n",
      "Specificity： 0.8342696629213483\n",
      "Precision： 0.44339622641509435\n",
      "f1_score： 0.5529411764705883\n",
      "AUC： 0.7843223314606741\n",
      "\n",
      "\n"
     ]
    }
   ],
   "source": [
    "#X_train, y_train, X_test, y_test = data_to_vec(df_facilities_train, df_facilities_test)\n",
    "#SVM_model(X_train, y_train, X_test, y_test)\n",
    "SVM_model(df_value_train, df_value_test)\n",
    "SVM_model2(df_value_train, df_value_test)\n",
    "SVM_model3(df_value_train, df_value_test)\n",
    "SVM_model4(df_value_train, df_value_test)\n",
    "SVM_model5(df_value_train, df_value_test)"
   ]
  }
 ],
 "metadata": {
  "kernelspec": {
   "display_name": "Python 3 (ipykernel)",
   "language": "python",
   "name": "python3"
  },
  "language_info": {
   "codemirror_mode": {
    "name": "ipython",
    "version": 3
   },
   "file_extension": ".py",
   "mimetype": "text/x-python",
   "name": "python",
   "nbconvert_exporter": "python",
   "pygments_lexer": "ipython3",
   "version": "3.8.12"
  }
 },
 "nbformat": 4,
 "nbformat_minor": 5
}
