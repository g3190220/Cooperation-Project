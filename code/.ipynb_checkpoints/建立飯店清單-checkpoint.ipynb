{
 "cells": [
  {
   "cell_type": "code",
   "execution_count": 62,
   "id": "02dabd07",
   "metadata": {},
   "outputs": [],
   "source": [
    "import pandas as pd\n",
    "import json"
   ]
  },
  {
   "cell_type": "code",
   "execution_count": 63,
   "id": "ab5c639e",
   "metadata": {},
   "outputs": [],
   "source": [
    "file_name = 'google_hotel_data20211026'\n",
    "path = 'clean_data/'+ file_name + '.csv'"
   ]
  },
  {
   "cell_type": "code",
   "execution_count": 64,
   "id": "624ca350",
   "metadata": {},
   "outputs": [],
   "source": [
    "df = pd.read_csv(path)"
   ]
  },
  {
   "cell_type": "markdown",
   "id": "74f646e9",
   "metadata": {},
   "source": [
    "### 建立飯店清單編號"
   ]
  },
  {
   "cell_type": "code",
   "execution_count": 65,
   "id": "28547422",
   "metadata": {},
   "outputs": [],
   "source": [
    "df = df.drop_duplicates(subset=['hotelName'])\n",
    "df.insert(0,'hotelID', range(0, len(df)))\n",
    "df_hotel = df[['hotelID','hotelName']]"
   ]
  },
  {
   "cell_type": "code",
   "execution_count": 66,
   "id": "ec71ddc8",
   "metadata": {},
   "outputs": [],
   "source": [
    "file_name2 = \"hotel/\"+ file_name +\"_飯店清單.csv\"\n",
    "df_hotel.to_csv(file_name2, index=False, encoding='utf_8_sig')"
   ]
  },
  {
   "cell_type": "code",
   "execution_count": null,
   "id": "efc1499a",
   "metadata": {},
   "outputs": [],
   "source": []
  },
  {
   "cell_type": "code",
   "execution_count": null,
   "id": "1e23b536",
   "metadata": {},
   "outputs": [],
   "source": []
  }
 ],
 "metadata": {
  "kernelspec": {
   "display_name": "Python 3",
   "language": "python",
   "name": "python3"
  },
  "language_info": {
   "codemirror_mode": {
    "name": "ipython",
    "version": 3
   },
   "file_extension": ".py",
   "mimetype": "text/x-python",
   "name": "python",
   "nbconvert_exporter": "python",
   "pygments_lexer": "ipython3",
   "version": "3.8.8"
  }
 },
 "nbformat": 4,
 "nbformat_minor": 5
}
