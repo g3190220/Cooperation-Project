{
 "cells": [
  {
   "cell_type": "markdown",
   "id": "608f9531-d9c0-47a4-bf7b-fcfe91992f8e",
   "metadata": {
    "jp-MarkdownHeadingCollapsed": true,
    "tags": []
   },
   "source": [
    "## 幾種思路"
   ]
  },
  {
   "cell_type": "markdown",
   "id": "aae267fd-f953-442a-88cc-e2bfb9aff87d",
   "metadata": {},
   "source": [
    "思路1：TF-IDF + 機器學習分類器\n",
    "直接使用TF-IDF對文本提取特徵，並使用分類器進行分類。在分類器的選擇上，可以使用SVM、LR、或者XGBoost。\n",
    "\n",
    "思路2：FastText\n",
    "FastText是入門款的詞向量，利用Facebook提供的FastText工具，可以快速構建出分類器。\n",
    "\n",
    "思路3：WordVec + 深度學習分類器\n",
    "WordVec是進階款的詞向量，並通過構建深度學習分類完成分類。深度學習分類的網絡結構可以選擇TextCNN、TextRNN或者BiLSTM。\n",
    "\n",
    "思路4：Bert詞向量\n",
    "Bert是高配款的詞向量，具有強大的建模學習能力。"
   ]
  },
  {
   "cell_type": "markdown",
   "id": "10abf616-467b-4883-8210-339068693e2b",
   "metadata": {
    "jp-MarkdownHeadingCollapsed": true,
    "tags": []
   },
   "source": [
    "## 獲取五種模型的資料集"
   ]
  },
  {
   "cell_type": "code",
   "execution_count": 56,
   "id": "3f1556b9-10a8-4230-910e-2e0851184854",
   "metadata": {},
   "outputs": [
    {
     "name": "stdout",
     "output_type": "stream",
     "text": [
      "(1019, 9)\n"
     ]
    },
    {
     "data": {
      "text/html": [
       "<div>\n",
       "<style scoped>\n",
       "    .dataframe tbody tr th:only-of-type {\n",
       "        vertical-align: middle;\n",
       "    }\n",
       "\n",
       "    .dataframe tbody tr th {\n",
       "        vertical-align: top;\n",
       "    }\n",
       "\n",
       "    .dataframe thead th {\n",
       "        text-align: right;\n",
       "    }\n",
       "</style>\n",
       "<table border=\"1\" class=\"dataframe\">\n",
       "  <thead>\n",
       "    <tr style=\"text-align: right;\">\n",
       "      <th></th>\n",
       "      <th>reviews</th>\n",
       "      <th>value</th>\n",
       "      <th>comfort</th>\n",
       "      <th>location</th>\n",
       "      <th>cleanliness</th>\n",
       "      <th>service</th>\n",
       "      <th>ws_pos_reviews</th>\n",
       "      <th>filtered</th>\n",
       "      <th>filtered_noun</th>\n",
       "    </tr>\n",
       "  </thead>\n",
       "  <tbody>\n",
       "    <tr>\n",
       "      <th>0</th>\n",
       "      <td>價格合理舒適的房間老闆娘人很好還會自己做早餐給旅客重點是早餐吃到飽</td>\n",
       "      <td>1.0</td>\n",
       "      <td>1.0</td>\n",
       "      <td>0.0</td>\n",
       "      <td>0.0</td>\n",
       "      <td>1.0</td>\n",
       "      <td>價格(Na),合理(VH),舒適(VH),的(DE),房間(Nc),老闆娘(Na),人(Na...</td>\n",
       "      <td>價格(Na),合理(VH),舒適(VH),房間(Nc),老闆娘(Na),人(Na),好(VH...</td>\n",
       "      <td>價格(Na),房間(Nc),老闆娘(Na),人(Na),早餐(Na),旅客(Na),重點(N...</td>\n",
       "    </tr>\n",
       "    <tr>\n",
       "      <th>1</th>\n",
       "      <td>內部房間滿乾淨的還有大場地可以讓團體來使用我覺得很棒</td>\n",
       "      <td>0.0</td>\n",
       "      <td>1.0</td>\n",
       "      <td>0.0</td>\n",
       "      <td>1.0</td>\n",
       "      <td>0.0</td>\n",
       "      <td>內部(Ncd),房間(Nc),滿(Dfa),乾淨(VH),的(DE),還(D),有(V_2)...</td>\n",
       "      <td>內部(Ncd),房間(Nc),乾淨(VH),場地(Na),團體(Na),使用(VC),覺得(...</td>\n",
       "      <td>內部(Ncd),房間(Nc),場地(Na),團體(Na)</td>\n",
       "    </tr>\n",
       "    <tr>\n",
       "      <th>2</th>\n",
       "      <td>隔音還可以房間不小但美中不足沒有乾濕分離</td>\n",
       "      <td>0.0</td>\n",
       "      <td>1.0</td>\n",
       "      <td>0.0</td>\n",
       "      <td>0.0</td>\n",
       "      <td>0.0</td>\n",
       "      <td>隔音(A),還可以(D),房間(Nc),不(D),小(VH),但(Cbb),美中不足(VH)...</td>\n",
       "      <td>隔音(A),還可以(D),房間(Nc),小(VH),美中不足(VH),乾(VH),濕(VH)...</td>\n",
       "      <td>房間(Nc)</td>\n",
       "    </tr>\n",
       "    <tr>\n",
       "      <th>3</th>\n",
       "      <td>房子設計的很棒房間採光很好大廳挑高氣派房價合理台東必住民宿</td>\n",
       "      <td>1.0</td>\n",
       "      <td>1.0</td>\n",
       "      <td>0.0</td>\n",
       "      <td>0.0</td>\n",
       "      <td>0.0</td>\n",
       "      <td>房子(Na),設計(VC),的(DE),很(Dfa),棒(VH),房間(Nc),採光(Na)...</td>\n",
       "      <td>房子(Na),設計(VC),棒(VH),房間(Nc),採光(Na),好(VH),大廳(Nc)...</td>\n",
       "      <td>房子(Na),房間(Nc),採光(Na),大廳(Nc),氣派(Na),房價(Na),台東(N...</td>\n",
       "    </tr>\n",
       "    <tr>\n",
       "      <th>4</th>\n",
       "      <td>Cp值高乾淨舒適空間大樓下有免費吐司和咖啡老闆回復速度快</td>\n",
       "      <td>1.0</td>\n",
       "      <td>1.0</td>\n",
       "      <td>0.0</td>\n",
       "      <td>0.0</td>\n",
       "      <td>1.0</td>\n",
       "      <td>Cp值(FW),高(VH),乾淨(VH),舒適(VH),空間(Na),大樓(Na),下(Nc...</td>\n",
       "      <td>Cp值(FW),高(VH),乾淨(VH),舒適(VH),空間(Na),大樓(Na),下(Nc...</td>\n",
       "      <td>空間(Na),大樓(Na),下(Ncd),吐司(Na),咖啡(Na),老闆(Na),速度(Na)</td>\n",
       "    </tr>\n",
       "  </tbody>\n",
       "</table>\n",
       "</div>"
      ],
      "text/plain": [
       "                             reviews  value  comfort  location  cleanliness  \\\n",
       "0  價格合理舒適的房間老闆娘人很好還會自己做早餐給旅客重點是早餐吃到飽    1.0      1.0       0.0          0.0   \n",
       "1         內部房間滿乾淨的還有大場地可以讓團體來使用我覺得很棒    0.0      1.0       0.0          1.0   \n",
       "2               隔音還可以房間不小但美中不足沒有乾濕分離    0.0      1.0       0.0          0.0   \n",
       "3      房子設計的很棒房間採光很好大廳挑高氣派房價合理台東必住民宿    1.0      1.0       0.0          0.0   \n",
       "4       Cp值高乾淨舒適空間大樓下有免費吐司和咖啡老闆回復速度快    1.0      1.0       0.0          0.0   \n",
       "\n",
       "   service                                     ws_pos_reviews  \\\n",
       "0      1.0  價格(Na),合理(VH),舒適(VH),的(DE),房間(Nc),老闆娘(Na),人(Na...   \n",
       "1      0.0  內部(Ncd),房間(Nc),滿(Dfa),乾淨(VH),的(DE),還(D),有(V_2)...   \n",
       "2      0.0  隔音(A),還可以(D),房間(Nc),不(D),小(VH),但(Cbb),美中不足(VH)...   \n",
       "3      0.0  房子(Na),設計(VC),的(DE),很(Dfa),棒(VH),房間(Nc),採光(Na)...   \n",
       "4      1.0  Cp值(FW),高(VH),乾淨(VH),舒適(VH),空間(Na),大樓(Na),下(Nc...   \n",
       "\n",
       "                                            filtered  \\\n",
       "0  價格(Na),合理(VH),舒適(VH),房間(Nc),老闆娘(Na),人(Na),好(VH...   \n",
       "1  內部(Ncd),房間(Nc),乾淨(VH),場地(Na),團體(Na),使用(VC),覺得(...   \n",
       "2  隔音(A),還可以(D),房間(Nc),小(VH),美中不足(VH),乾(VH),濕(VH)...   \n",
       "3  房子(Na),設計(VC),棒(VH),房間(Nc),採光(Na),好(VH),大廳(Nc)...   \n",
       "4  Cp值(FW),高(VH),乾淨(VH),舒適(VH),空間(Na),大樓(Na),下(Nc...   \n",
       "\n",
       "                                       filtered_noun  \n",
       "0  價格(Na),房間(Nc),老闆娘(Na),人(Na),早餐(Na),旅客(Na),重點(N...  \n",
       "1                       內部(Ncd),房間(Nc),場地(Na),團體(Na)  \n",
       "2                                             房間(Nc)  \n",
       "3  房子(Na),房間(Nc),採光(Na),大廳(Nc),氣派(Na),房價(Na),台東(N...  \n",
       "4   空間(Na),大樓(Na),下(Ncd),吐司(Na),咖啡(Na),老闆(Na),速度(Na)  "
      ]
     },
     "execution_count": 56,
     "metadata": {},
     "output_type": "execute_result"
    }
   ],
   "source": [
    "import matplotlib.pyplot as plt\n",
    "import os\n",
    "import pandas as pd\n",
    "import numpy as np\n",
    "import re\n",
    "path = '../data/review_data(seg+pos+stopwords)_noun.csv'\n",
    "df = pd.read_csv(path)\n",
    "print(df.shape)\n",
    "df.head()"
   ]
  },
  {
   "cell_type": "code",
   "execution_count": 62,
   "id": "e466b400-44e6-442f-914f-148dc9f2cd2c",
   "metadata": {},
   "outputs": [],
   "source": [
    "df_value = df[['value','filtered_noun']]\n",
    "df_value.rename(columns={'value': 'label'}, inplace=True)\n",
    "df_comfort = df[['comfort','filtered_noun']]\n",
    "df_comfort.rename(columns={'comfort': 'label'}, inplace=True)\n",
    "df_location = df[['location','filtered_noun']]\n",
    "df_location.rename(columns={'location': 'label'}, inplace=True)\n",
    "df_cleanliness = df[['cleanliness','filtered_noun']]\n",
    "df_cleanliness.rename(columns={'cleanliness': 'label'}, inplace=True)\n",
    "df_service = df[['service','filtered_noun']]\n",
    "df_service .rename(columns={'service': 'label'}, inplace=True)"
   ]
  },
  {
   "cell_type": "markdown",
   "id": "c59ec4bf-a42d-406c-a15e-54431ef328fd",
   "metadata": {},
   "source": [
    "### 清理資料"
   ]
  },
  {
   "cell_type": "code",
   "execution_count": 63,
   "id": "2cb95288-72e7-4508-aa53-1684ff8a63e1",
   "metadata": {},
   "outputs": [],
   "source": [
    "def remove_N_comma(sentence):\n",
    "    # 把後面(N..)拿掉\n",
    "    sentence = str(sentence)\n",
    "    pattern = re.compile(r\"\\(N.*?\\)\") #移除詞性標示\n",
    "    sentence = re.sub(pattern, '', sentence)\n",
    "    pattern = re.compile(r\",\") #將逗號替換為空格\n",
    "    sentence = re.sub(pattern, ' ', sentence)\n",
    "    return sentence\n",
    "pd.options.mode.chained_assignment = None  # 忽略警告\n",
    "df_value['filtered_noun'] = df_value.apply(lambda x: remove_N_comma(x['filtered_noun']),axis=1)\n",
    "df_comfort['filtered_noun'] = df_value.apply(lambda x: remove_N_comma(x['filtered_noun']),axis=1)\n",
    "df_location['filtered_noun'] = df_value.apply(lambda x: remove_N_comma(x['filtered_noun']),axis=1)\n",
    "df_cleanliness['filtered_noun'] = df_value.apply(lambda x: remove_N_comma(x['filtered_noun']),axis=1)\n",
    "df_service['filtered_noun'] = df_value.apply(lambda x: remove_N_comma(x['filtered_noun']),axis=1)"
   ]
  },
  {
   "cell_type": "markdown",
   "id": "41b21127-7864-4ea5-bbc6-872b5ce25697",
   "metadata": {
    "jp-MarkdownHeadingCollapsed": true,
    "tags": []
   },
   "source": [
    "## 模型訓練"
   ]
  },
  {
   "cell_type": "code",
   "execution_count": 242,
   "id": "9f68cb11-c4ef-4366-9a3f-9af34c9dd711",
   "metadata": {},
   "outputs": [],
   "source": [
    "#import package\n",
    "from sklearn.feature_extraction.text import TfidfVectorizer \n",
    "from sklearn.pipeline import make_pipeline\n",
    "from sklearn.model_selection import cross_validate\n",
    "import pickle #儲存模型用\n",
    "from sklearn.model_selection import train_test_split\n",
    "#模型\n",
    "from sklearn.svm import SVC\n",
    "from sklearn.linear_model import LogisticRegression\n",
    "from sklearn.ensemble import RandomForestClassifier"
   ]
  },
  {
   "cell_type": "markdown",
   "id": "45a10c18-970c-4367-ab42-07e12c76306f",
   "metadata": {},
   "source": [
    "### 切分資料集"
   ]
  },
  {
   "cell_type": "code",
   "execution_count": 268,
   "id": "b1998b3d-00ce-4527-b5a1-3eaae7382db3",
   "metadata": {},
   "outputs": [],
   "source": [
    "def split_data(df):\n",
    "    x = df.filtered_noun\n",
    "    y = df.label\n",
    "    # x_train, x_test, y_train, y_test = train_test_split(x, y, test_size=0.2) #訓練集：測試集 = 8:2\n",
    "    return x,y"
   ]
  },
  {
   "cell_type": "markdown",
   "id": "6d0fee28-9feb-4801-bb55-f2e537ac12d8",
   "metadata": {},
   "source": [
    "### 三種模型訓練"
   ]
  },
  {
   "cell_type": "code",
   "execution_count": 269,
   "id": "9eb1c08f-d71f-4152-b55e-280bfaf07269",
   "metadata": {},
   "outputs": [],
   "source": [
    "def train_SVM(X,y):\n",
    "    #向量化\n",
    "    vectorizer = TfidfVectorizer()\n",
    "    clf = make_pipeline(vectorizer, SVC(kernel='linear'))\n",
    "    scores = cross_validate(clf, X, y, scoring=['accuracy','recall','precision','f1'], cv=10, return_train_score=False)\n",
    "    return scores\n",
    "def train_LR(X,y):\n",
    "    #向量化\n",
    "    vectorizer = TfidfVectorizer()\n",
    "    clf = make_pipeline(vectorizer, LogisticRegression(random_state=0))\n",
    "    scores = cross_validate(clf, X, y, scoring=['accuracy','recall','precision','f1'], cv=10, return_train_score=False)\n",
    "    return scores\n",
    "def train_RF(X,y):\n",
    "    #向量化\n",
    "    vectorizer = TfidfVectorizer()\n",
    "    clf = make_pipeline(vectorizer, RandomForestClassifier(n_estimators=200, max_depth=3, random_state=0))\n",
    "    scores = cross_validate(clf, X, y, scoring=['accuracy','recall','precision','f1'], cv=10, return_train_score=False)\n",
    "    return scores"
   ]
  },
  {
   "cell_type": "markdown",
   "id": "05bca335-929e-46d6-b8e6-447621d41d8c",
   "metadata": {},
   "source": [
    "### 顯示訓練結果"
   ]
  },
  {
   "cell_type": "code",
   "execution_count": 322,
   "id": "9ad34b64-c7c9-4cce-8b62-0a266a165a3e",
   "metadata": {},
   "outputs": [],
   "source": [
    "def show_output(scores_SVM,scores_LR,scores_RF):\n",
    "    total_score=[]\n",
    "    SVM_list = [scores_SVM['test_accuracy'].mean(),\n",
    "                scores_SVM['test_recall'].mean(),\n",
    "                scores_SVM['test_precision'].mean(),\n",
    "                scores_SVM['test_f1'].mean()]\n",
    "    LR_list = [scores_LR['test_accuracy'].mean(),\n",
    "                scores_LR['test_recall'].mean(),\n",
    "                scores_LR['test_precision'].mean(),\n",
    "                scores_LR['test_f1'].mean()]\n",
    "    RF_list = [scores_RF['test_accuracy'].mean(),\n",
    "                scores_RF['test_recall'].mean(),\n",
    "                scores_RF['test_precision'].mean(),\n",
    "                scores_RF['test_f1'].mean()]\n",
    "    total_score.append(SVM_list)\n",
    "    total_score.append(LR_list)\n",
    "    total_score.append(RF_list)\n",
    "    df_scores = pd.DataFrame(total_score, columns=[\"accuracy\", \"recall\", \"precision\", \"f1_score\"],index=['SVM','LR','RF'])\n",
    "    return df_scores"
   ]
  },
  {
   "cell_type": "markdown",
   "id": "a8465954-51b1-4f56-9650-9670379c1b3d",
   "metadata": {
    "jp-MarkdownHeadingCollapsed": true,
    "tags": []
   },
   "source": [
    "## 模型一、value"
   ]
  },
  {
   "cell_type": "code",
   "execution_count": 323,
   "id": "b6b86762-dc7a-4c5c-9f6f-82b83a7266fc",
   "metadata": {},
   "outputs": [
    {
     "data": {
      "text/html": [
       "<div>\n",
       "<style scoped>\n",
       "    .dataframe tbody tr th:only-of-type {\n",
       "        vertical-align: middle;\n",
       "    }\n",
       "\n",
       "    .dataframe tbody tr th {\n",
       "        vertical-align: top;\n",
       "    }\n",
       "\n",
       "    .dataframe thead th {\n",
       "        text-align: right;\n",
       "    }\n",
       "</style>\n",
       "<table border=\"1\" class=\"dataframe\">\n",
       "  <thead>\n",
       "    <tr style=\"text-align: right;\">\n",
       "      <th></th>\n",
       "      <th>label</th>\n",
       "      <th>filtered_noun</th>\n",
       "    </tr>\n",
       "  </thead>\n",
       "  <tbody>\n",
       "    <tr>\n",
       "      <th>0</th>\n",
       "      <td>1.0</td>\n",
       "      <td>價格 房間 老闆娘 人 早餐 旅客 重點 早餐</td>\n",
       "    </tr>\n",
       "    <tr>\n",
       "      <th>1</th>\n",
       "      <td>0.0</td>\n",
       "      <td>內部 房間 場地 團體</td>\n",
       "    </tr>\n",
       "    <tr>\n",
       "      <th>2</th>\n",
       "      <td>0.0</td>\n",
       "      <td>房間</td>\n",
       "    </tr>\n",
       "    <tr>\n",
       "      <th>3</th>\n",
       "      <td>1.0</td>\n",
       "      <td>房子 房間 採光 大廳 氣派 房價 台東 民宿</td>\n",
       "    </tr>\n",
       "    <tr>\n",
       "      <th>4</th>\n",
       "      <td>1.0</td>\n",
       "      <td>空間 大樓 下 吐司 咖啡 老闆 速度</td>\n",
       "    </tr>\n",
       "  </tbody>\n",
       "</table>\n",
       "</div>"
      ],
      "text/plain": [
       "   label            filtered_noun\n",
       "0    1.0  價格 房間 老闆娘 人 早餐 旅客 重點 早餐\n",
       "1    0.0              內部 房間 場地 團體\n",
       "2    0.0                       房間\n",
       "3    1.0  房子 房間 採光 大廳 氣派 房價 台東 民宿\n",
       "4    1.0      空間 大樓 下 吐司 咖啡 老闆 速度"
      ]
     },
     "execution_count": 323,
     "metadata": {},
     "output_type": "execute_result"
    }
   ],
   "source": [
    "df_value.head()"
   ]
  },
  {
   "cell_type": "code",
   "execution_count": 324,
   "id": "d6cb2327-b90b-4cd6-b6f7-beaff81aa447",
   "metadata": {},
   "outputs": [
    {
     "name": "stderr",
     "output_type": "stream",
     "text": [
      "C:\\Users\\g3190\\anaconda3\\envs\\NLP\\lib\\site-packages\\sklearn\\metrics\\_classification.py:1221: UndefinedMetricWarning: Precision is ill-defined and being set to 0.0 due to no predicted samples. Use `zero_division` parameter to control this behavior.\n",
      "  _warn_prf(average, modifier, msg_start, len(result))\n",
      "C:\\Users\\g3190\\anaconda3\\envs\\NLP\\lib\\site-packages\\sklearn\\metrics\\_classification.py:1221: UndefinedMetricWarning: Precision is ill-defined and being set to 0.0 due to no predicted samples. Use `zero_division` parameter to control this behavior.\n",
      "  _warn_prf(average, modifier, msg_start, len(result))\n",
      "C:\\Users\\g3190\\anaconda3\\envs\\NLP\\lib\\site-packages\\sklearn\\metrics\\_classification.py:1221: UndefinedMetricWarning: Precision is ill-defined and being set to 0.0 due to no predicted samples. Use `zero_division` parameter to control this behavior.\n",
      "  _warn_prf(average, modifier, msg_start, len(result))\n",
      "C:\\Users\\g3190\\anaconda3\\envs\\NLP\\lib\\site-packages\\sklearn\\metrics\\_classification.py:1221: UndefinedMetricWarning: Precision is ill-defined and being set to 0.0 due to no predicted samples. Use `zero_division` parameter to control this behavior.\n",
      "  _warn_prf(average, modifier, msg_start, len(result))\n",
      "C:\\Users\\g3190\\anaconda3\\envs\\NLP\\lib\\site-packages\\sklearn\\metrics\\_classification.py:1221: UndefinedMetricWarning: Precision is ill-defined and being set to 0.0 due to no predicted samples. Use `zero_division` parameter to control this behavior.\n",
      "  _warn_prf(average, modifier, msg_start, len(result))\n",
      "C:\\Users\\g3190\\anaconda3\\envs\\NLP\\lib\\site-packages\\sklearn\\metrics\\_classification.py:1221: UndefinedMetricWarning: Precision is ill-defined and being set to 0.0 due to no predicted samples. Use `zero_division` parameter to control this behavior.\n",
      "  _warn_prf(average, modifier, msg_start, len(result))\n",
      "C:\\Users\\g3190\\anaconda3\\envs\\NLP\\lib\\site-packages\\sklearn\\metrics\\_classification.py:1221: UndefinedMetricWarning: Precision is ill-defined and being set to 0.0 due to no predicted samples. Use `zero_division` parameter to control this behavior.\n",
      "  _warn_prf(average, modifier, msg_start, len(result))\n",
      "C:\\Users\\g3190\\anaconda3\\envs\\NLP\\lib\\site-packages\\sklearn\\metrics\\_classification.py:1221: UndefinedMetricWarning: Precision is ill-defined and being set to 0.0 due to no predicted samples. Use `zero_division` parameter to control this behavior.\n",
      "  _warn_prf(average, modifier, msg_start, len(result))\n",
      "C:\\Users\\g3190\\anaconda3\\envs\\NLP\\lib\\site-packages\\sklearn\\metrics\\_classification.py:1221: UndefinedMetricWarning: Precision is ill-defined and being set to 0.0 due to no predicted samples. Use `zero_division` parameter to control this behavior.\n",
      "  _warn_prf(average, modifier, msg_start, len(result))\n",
      "C:\\Users\\g3190\\anaconda3\\envs\\NLP\\lib\\site-packages\\sklearn\\metrics\\_classification.py:1221: UndefinedMetricWarning: Precision is ill-defined and being set to 0.0 due to no predicted samples. Use `zero_division` parameter to control this behavior.\n",
      "  _warn_prf(average, modifier, msg_start, len(result))\n"
     ]
    }
   ],
   "source": [
    "x, y = split_data(df_value)\n",
    "scores_SVM = train_SVM(x,y)\n",
    "scores_LR = train_LR(x,y)\n",
    "scores_RF = train_RF(x,y)"
   ]
  },
  {
   "cell_type": "code",
   "execution_count": 325,
   "id": "627cb24d-f9ba-454a-8a44-fdeb2d333b5e",
   "metadata": {},
   "outputs": [
    {
     "data": {
      "text/html": [
       "<div>\n",
       "<style scoped>\n",
       "    .dataframe tbody tr th:only-of-type {\n",
       "        vertical-align: middle;\n",
       "    }\n",
       "\n",
       "    .dataframe tbody tr th {\n",
       "        vertical-align: top;\n",
       "    }\n",
       "\n",
       "    .dataframe thead th {\n",
       "        text-align: right;\n",
       "    }\n",
       "</style>\n",
       "<table border=\"1\" class=\"dataframe\">\n",
       "  <thead>\n",
       "    <tr style=\"text-align: right;\">\n",
       "      <th></th>\n",
       "      <th>accuracy</th>\n",
       "      <th>recall</th>\n",
       "      <th>precision</th>\n",
       "      <th>f1_score</th>\n",
       "    </tr>\n",
       "  </thead>\n",
       "  <tbody>\n",
       "    <tr>\n",
       "      <th>SVM</th>\n",
       "      <td>0.881256</td>\n",
       "      <td>0.332026</td>\n",
       "      <td>0.949603</td>\n",
       "      <td>0.481895</td>\n",
       "    </tr>\n",
       "    <tr>\n",
       "      <th>LR</th>\n",
       "      <td>0.851835</td>\n",
       "      <td>0.137908</td>\n",
       "      <td>1.000000</td>\n",
       "      <td>0.237402</td>\n",
       "    </tr>\n",
       "    <tr>\n",
       "      <th>RF</th>\n",
       "      <td>0.828266</td>\n",
       "      <td>0.000000</td>\n",
       "      <td>0.000000</td>\n",
       "      <td>0.000000</td>\n",
       "    </tr>\n",
       "  </tbody>\n",
       "</table>\n",
       "</div>"
      ],
      "text/plain": [
       "     accuracy    recall  precision  f1_score\n",
       "SVM  0.881256  0.332026   0.949603  0.481895\n",
       "LR   0.851835  0.137908   1.000000  0.237402\n",
       "RF   0.828266  0.000000   0.000000  0.000000"
      ]
     },
     "execution_count": 325,
     "metadata": {},
     "output_type": "execute_result"
    }
   ],
   "source": [
    "show_output(scores_SVM,scores_LR,scores_RF)"
   ]
  },
  {
   "cell_type": "markdown",
   "id": "4b2bc90e-7aad-4d96-8edd-5b2f8ea90601",
   "metadata": {
    "jp-MarkdownHeadingCollapsed": true,
    "tags": []
   },
   "source": [
    "## 模型二、comfort"
   ]
  },
  {
   "cell_type": "code",
   "execution_count": 326,
   "id": "8c2d30f5-6279-4d1d-990d-6e4831814ca7",
   "metadata": {},
   "outputs": [
    {
     "data": {
      "text/html": [
       "<div>\n",
       "<style scoped>\n",
       "    .dataframe tbody tr th:only-of-type {\n",
       "        vertical-align: middle;\n",
       "    }\n",
       "\n",
       "    .dataframe tbody tr th {\n",
       "        vertical-align: top;\n",
       "    }\n",
       "\n",
       "    .dataframe thead th {\n",
       "        text-align: right;\n",
       "    }\n",
       "</style>\n",
       "<table border=\"1\" class=\"dataframe\">\n",
       "  <thead>\n",
       "    <tr style=\"text-align: right;\">\n",
       "      <th></th>\n",
       "      <th>label</th>\n",
       "      <th>filtered_noun</th>\n",
       "    </tr>\n",
       "  </thead>\n",
       "  <tbody>\n",
       "    <tr>\n",
       "      <th>0</th>\n",
       "      <td>1.0</td>\n",
       "      <td>價格 房間 老闆娘 人 早餐 旅客 重點 早餐</td>\n",
       "    </tr>\n",
       "    <tr>\n",
       "      <th>1</th>\n",
       "      <td>1.0</td>\n",
       "      <td>內部 房間 場地 團體</td>\n",
       "    </tr>\n",
       "    <tr>\n",
       "      <th>2</th>\n",
       "      <td>1.0</td>\n",
       "      <td>房間</td>\n",
       "    </tr>\n",
       "    <tr>\n",
       "      <th>3</th>\n",
       "      <td>1.0</td>\n",
       "      <td>房子 房間 採光 大廳 氣派 房價 台東 民宿</td>\n",
       "    </tr>\n",
       "    <tr>\n",
       "      <th>4</th>\n",
       "      <td>1.0</td>\n",
       "      <td>空間 大樓 下 吐司 咖啡 老闆 速度</td>\n",
       "    </tr>\n",
       "  </tbody>\n",
       "</table>\n",
       "</div>"
      ],
      "text/plain": [
       "   label            filtered_noun\n",
       "0    1.0  價格 房間 老闆娘 人 早餐 旅客 重點 早餐\n",
       "1    1.0              內部 房間 場地 團體\n",
       "2    1.0                       房間\n",
       "3    1.0  房子 房間 採光 大廳 氣派 房價 台東 民宿\n",
       "4    1.0      空間 大樓 下 吐司 咖啡 老闆 速度"
      ]
     },
     "execution_count": 326,
     "metadata": {},
     "output_type": "execute_result"
    }
   ],
   "source": [
    "df_comfort.head()"
   ]
  },
  {
   "cell_type": "code",
   "execution_count": 327,
   "id": "71752d5b-a7c5-4a35-ac1c-5093ba1c0553",
   "metadata": {},
   "outputs": [],
   "source": [
    "x, y = split_data(df_comfort)\n",
    "scores_SVM = train_SVM(x,y)\n",
    "scores_LR = train_LR(x,y)\n",
    "scores_RF = train_RF(x,y)"
   ]
  },
  {
   "cell_type": "code",
   "execution_count": 328,
   "id": "8f0ba56a-77cf-48d7-a851-a3093906acbf",
   "metadata": {},
   "outputs": [
    {
     "data": {
      "text/html": [
       "<div>\n",
       "<style scoped>\n",
       "    .dataframe tbody tr th:only-of-type {\n",
       "        vertical-align: middle;\n",
       "    }\n",
       "\n",
       "    .dataframe tbody tr th {\n",
       "        vertical-align: top;\n",
       "    }\n",
       "\n",
       "    .dataframe thead th {\n",
       "        text-align: right;\n",
       "    }\n",
       "</style>\n",
       "<table border=\"1\" class=\"dataframe\">\n",
       "  <thead>\n",
       "    <tr style=\"text-align: right;\">\n",
       "      <th></th>\n",
       "      <th>accuracy</th>\n",
       "      <th>recall</th>\n",
       "      <th>precision</th>\n",
       "      <th>f1_score</th>\n",
       "    </tr>\n",
       "  </thead>\n",
       "  <tbody>\n",
       "    <tr>\n",
       "      <th>SVM</th>\n",
       "      <td>0.759610</td>\n",
       "      <td>0.895775</td>\n",
       "      <td>0.789026</td>\n",
       "      <td>0.838550</td>\n",
       "    </tr>\n",
       "    <tr>\n",
       "      <th>LR</th>\n",
       "      <td>0.740934</td>\n",
       "      <td>0.970423</td>\n",
       "      <td>0.739393</td>\n",
       "      <td>0.839239</td>\n",
       "    </tr>\n",
       "    <tr>\n",
       "      <th>RF</th>\n",
       "      <td>0.696768</td>\n",
       "      <td>1.000000</td>\n",
       "      <td>0.696768</td>\n",
       "      <td>0.821286</td>\n",
       "    </tr>\n",
       "  </tbody>\n",
       "</table>\n",
       "</div>"
      ],
      "text/plain": [
       "     accuracy    recall  precision  f1_score\n",
       "SVM  0.759610  0.895775   0.789026  0.838550\n",
       "LR   0.740934  0.970423   0.739393  0.839239\n",
       "RF   0.696768  1.000000   0.696768  0.821286"
      ]
     },
     "execution_count": 328,
     "metadata": {},
     "output_type": "execute_result"
    }
   ],
   "source": [
    "show_output(scores_SVM,scores_LR,scores_RF)"
   ]
  },
  {
   "cell_type": "markdown",
   "id": "1aad33af-f4c3-44a3-a4ca-8fc749de4c41",
   "metadata": {
    "jp-MarkdownHeadingCollapsed": true,
    "tags": []
   },
   "source": [
    "## 模型三、location"
   ]
  },
  {
   "cell_type": "code",
   "execution_count": 329,
   "id": "7a26f076-0ca3-46b8-8a33-3f71ab0fbf4b",
   "metadata": {},
   "outputs": [
    {
     "data": {
      "text/html": [
       "<div>\n",
       "<style scoped>\n",
       "    .dataframe tbody tr th:only-of-type {\n",
       "        vertical-align: middle;\n",
       "    }\n",
       "\n",
       "    .dataframe tbody tr th {\n",
       "        vertical-align: top;\n",
       "    }\n",
       "\n",
       "    .dataframe thead th {\n",
       "        text-align: right;\n",
       "    }\n",
       "</style>\n",
       "<table border=\"1\" class=\"dataframe\">\n",
       "  <thead>\n",
       "    <tr style=\"text-align: right;\">\n",
       "      <th></th>\n",
       "      <th>label</th>\n",
       "      <th>filtered_noun</th>\n",
       "    </tr>\n",
       "  </thead>\n",
       "  <tbody>\n",
       "    <tr>\n",
       "      <th>0</th>\n",
       "      <td>0.0</td>\n",
       "      <td>價格 房間 老闆娘 人 早餐 旅客 重點 早餐</td>\n",
       "    </tr>\n",
       "    <tr>\n",
       "      <th>1</th>\n",
       "      <td>0.0</td>\n",
       "      <td>內部 房間 場地 團體</td>\n",
       "    </tr>\n",
       "    <tr>\n",
       "      <th>2</th>\n",
       "      <td>0.0</td>\n",
       "      <td>房間</td>\n",
       "    </tr>\n",
       "    <tr>\n",
       "      <th>3</th>\n",
       "      <td>0.0</td>\n",
       "      <td>房子 房間 採光 大廳 氣派 房價 台東 民宿</td>\n",
       "    </tr>\n",
       "    <tr>\n",
       "      <th>4</th>\n",
       "      <td>0.0</td>\n",
       "      <td>空間 大樓 下 吐司 咖啡 老闆 速度</td>\n",
       "    </tr>\n",
       "  </tbody>\n",
       "</table>\n",
       "</div>"
      ],
      "text/plain": [
       "   label            filtered_noun\n",
       "0    0.0  價格 房間 老闆娘 人 早餐 旅客 重點 早餐\n",
       "1    0.0              內部 房間 場地 團體\n",
       "2    0.0                       房間\n",
       "3    0.0  房子 房間 採光 大廳 氣派 房價 台東 民宿\n",
       "4    0.0      空間 大樓 下 吐司 咖啡 老闆 速度"
      ]
     },
     "execution_count": 329,
     "metadata": {},
     "output_type": "execute_result"
    }
   ],
   "source": [
    "df_location.head()"
   ]
  },
  {
   "cell_type": "code",
   "execution_count": 330,
   "id": "1d4f192a-4f59-4dc5-8ed2-72950390d8a7",
   "metadata": {},
   "outputs": [
    {
     "name": "stderr",
     "output_type": "stream",
     "text": [
      "C:\\Users\\g3190\\anaconda3\\envs\\NLP\\lib\\site-packages\\sklearn\\metrics\\_classification.py:1221: UndefinedMetricWarning: Precision is ill-defined and being set to 0.0 due to no predicted samples. Use `zero_division` parameter to control this behavior.\n",
      "  _warn_prf(average, modifier, msg_start, len(result))\n",
      "C:\\Users\\g3190\\anaconda3\\envs\\NLP\\lib\\site-packages\\sklearn\\metrics\\_classification.py:1221: UndefinedMetricWarning: Precision is ill-defined and being set to 0.0 due to no predicted samples. Use `zero_division` parameter to control this behavior.\n",
      "  _warn_prf(average, modifier, msg_start, len(result))\n",
      "C:\\Users\\g3190\\anaconda3\\envs\\NLP\\lib\\site-packages\\sklearn\\metrics\\_classification.py:1221: UndefinedMetricWarning: Precision is ill-defined and being set to 0.0 due to no predicted samples. Use `zero_division` parameter to control this behavior.\n",
      "  _warn_prf(average, modifier, msg_start, len(result))\n",
      "C:\\Users\\g3190\\anaconda3\\envs\\NLP\\lib\\site-packages\\sklearn\\metrics\\_classification.py:1221: UndefinedMetricWarning: Precision is ill-defined and being set to 0.0 due to no predicted samples. Use `zero_division` parameter to control this behavior.\n",
      "  _warn_prf(average, modifier, msg_start, len(result))\n",
      "C:\\Users\\g3190\\anaconda3\\envs\\NLP\\lib\\site-packages\\sklearn\\metrics\\_classification.py:1221: UndefinedMetricWarning: Precision is ill-defined and being set to 0.0 due to no predicted samples. Use `zero_division` parameter to control this behavior.\n",
      "  _warn_prf(average, modifier, msg_start, len(result))\n",
      "C:\\Users\\g3190\\anaconda3\\envs\\NLP\\lib\\site-packages\\sklearn\\metrics\\_classification.py:1221: UndefinedMetricWarning: Precision is ill-defined and being set to 0.0 due to no predicted samples. Use `zero_division` parameter to control this behavior.\n",
      "  _warn_prf(average, modifier, msg_start, len(result))\n",
      "C:\\Users\\g3190\\anaconda3\\envs\\NLP\\lib\\site-packages\\sklearn\\metrics\\_classification.py:1221: UndefinedMetricWarning: Precision is ill-defined and being set to 0.0 due to no predicted samples. Use `zero_division` parameter to control this behavior.\n",
      "  _warn_prf(average, modifier, msg_start, len(result))\n",
      "C:\\Users\\g3190\\anaconda3\\envs\\NLP\\lib\\site-packages\\sklearn\\metrics\\_classification.py:1221: UndefinedMetricWarning: Precision is ill-defined and being set to 0.0 due to no predicted samples. Use `zero_division` parameter to control this behavior.\n",
      "  _warn_prf(average, modifier, msg_start, len(result))\n",
      "C:\\Users\\g3190\\anaconda3\\envs\\NLP\\lib\\site-packages\\sklearn\\metrics\\_classification.py:1221: UndefinedMetricWarning: Precision is ill-defined and being set to 0.0 due to no predicted samples. Use `zero_division` parameter to control this behavior.\n",
      "  _warn_prf(average, modifier, msg_start, len(result))\n",
      "C:\\Users\\g3190\\anaconda3\\envs\\NLP\\lib\\site-packages\\sklearn\\metrics\\_classification.py:1221: UndefinedMetricWarning: Precision is ill-defined and being set to 0.0 due to no predicted samples. Use `zero_division` parameter to control this behavior.\n",
      "  _warn_prf(average, modifier, msg_start, len(result))\n"
     ]
    }
   ],
   "source": [
    "x, y = split_data(df_location)\n",
    "scores_SVM = train_SVM(x,y)\n",
    "scores_LR = train_LR(x,y)\n",
    "scores_RF = train_RF(x,y)"
   ]
  },
  {
   "cell_type": "code",
   "execution_count": 331,
   "id": "916274f0-6987-4fab-9ede-c908b244b50f",
   "metadata": {},
   "outputs": [
    {
     "data": {
      "text/html": [
       "<div>\n",
       "<style scoped>\n",
       "    .dataframe tbody tr th:only-of-type {\n",
       "        vertical-align: middle;\n",
       "    }\n",
       "\n",
       "    .dataframe tbody tr th {\n",
       "        vertical-align: top;\n",
       "    }\n",
       "\n",
       "    .dataframe thead th {\n",
       "        text-align: right;\n",
       "    }\n",
       "</style>\n",
       "<table border=\"1\" class=\"dataframe\">\n",
       "  <thead>\n",
       "    <tr style=\"text-align: right;\">\n",
       "      <th></th>\n",
       "      <th>accuracy</th>\n",
       "      <th>recall</th>\n",
       "      <th>precision</th>\n",
       "      <th>f1_score</th>\n",
       "    </tr>\n",
       "  </thead>\n",
       "  <tbody>\n",
       "    <tr>\n",
       "      <th>SVM</th>\n",
       "      <td>0.887168</td>\n",
       "      <td>0.704032</td>\n",
       "      <td>0.911032</td>\n",
       "      <td>0.792164</td>\n",
       "    </tr>\n",
       "    <tr>\n",
       "      <th>LR</th>\n",
       "      <td>0.834168</td>\n",
       "      <td>0.484173</td>\n",
       "      <td>0.949438</td>\n",
       "      <td>0.634422</td>\n",
       "    </tr>\n",
       "    <tr>\n",
       "      <th>RF</th>\n",
       "      <td>0.691856</td>\n",
       "      <td>0.000000</td>\n",
       "      <td>0.000000</td>\n",
       "      <td>0.000000</td>\n",
       "    </tr>\n",
       "  </tbody>\n",
       "</table>\n",
       "</div>"
      ],
      "text/plain": [
       "     accuracy    recall  precision  f1_score\n",
       "SVM  0.887168  0.704032   0.911032  0.792164\n",
       "LR   0.834168  0.484173   0.949438  0.634422\n",
       "RF   0.691856  0.000000   0.000000  0.000000"
      ]
     },
     "execution_count": 331,
     "metadata": {},
     "output_type": "execute_result"
    }
   ],
   "source": [
    "show_output(scores_SVM,scores_LR,scores_RF)"
   ]
  },
  {
   "cell_type": "markdown",
   "id": "b69d22a0-b6e9-44ca-80eb-f19a7cbb2b45",
   "metadata": {
    "jp-MarkdownHeadingCollapsed": true,
    "tags": []
   },
   "source": [
    "## 模型四、cleanliness"
   ]
  },
  {
   "cell_type": "code",
   "execution_count": 332,
   "id": "4a2520c6-f86f-4272-9efc-2bfd67c4ce01",
   "metadata": {},
   "outputs": [
    {
     "data": {
      "text/html": [
       "<div>\n",
       "<style scoped>\n",
       "    .dataframe tbody tr th:only-of-type {\n",
       "        vertical-align: middle;\n",
       "    }\n",
       "\n",
       "    .dataframe tbody tr th {\n",
       "        vertical-align: top;\n",
       "    }\n",
       "\n",
       "    .dataframe thead th {\n",
       "        text-align: right;\n",
       "    }\n",
       "</style>\n",
       "<table border=\"1\" class=\"dataframe\">\n",
       "  <thead>\n",
       "    <tr style=\"text-align: right;\">\n",
       "      <th></th>\n",
       "      <th>label</th>\n",
       "      <th>filtered_noun</th>\n",
       "    </tr>\n",
       "  </thead>\n",
       "  <tbody>\n",
       "    <tr>\n",
       "      <th>0</th>\n",
       "      <td>0.0</td>\n",
       "      <td>價格 房間 老闆娘 人 早餐 旅客 重點 早餐</td>\n",
       "    </tr>\n",
       "    <tr>\n",
       "      <th>1</th>\n",
       "      <td>1.0</td>\n",
       "      <td>內部 房間 場地 團體</td>\n",
       "    </tr>\n",
       "    <tr>\n",
       "      <th>2</th>\n",
       "      <td>0.0</td>\n",
       "      <td>房間</td>\n",
       "    </tr>\n",
       "    <tr>\n",
       "      <th>3</th>\n",
       "      <td>0.0</td>\n",
       "      <td>房子 房間 採光 大廳 氣派 房價 台東 民宿</td>\n",
       "    </tr>\n",
       "    <tr>\n",
       "      <th>4</th>\n",
       "      <td>0.0</td>\n",
       "      <td>空間 大樓 下 吐司 咖啡 老闆 速度</td>\n",
       "    </tr>\n",
       "  </tbody>\n",
       "</table>\n",
       "</div>"
      ],
      "text/plain": [
       "   label            filtered_noun\n",
       "0    0.0  價格 房間 老闆娘 人 早餐 旅客 重點 早餐\n",
       "1    1.0              內部 房間 場地 團體\n",
       "2    0.0                       房間\n",
       "3    0.0  房子 房間 採光 大廳 氣派 房價 台東 民宿\n",
       "4    0.0      空間 大樓 下 吐司 咖啡 老闆 速度"
      ]
     },
     "execution_count": 332,
     "metadata": {},
     "output_type": "execute_result"
    }
   ],
   "source": [
    "df_cleanliness.head()"
   ]
  },
  {
   "cell_type": "code",
   "execution_count": 333,
   "id": "108b3b0d-5acf-4080-8fae-c0853c4fb7ca",
   "metadata": {},
   "outputs": [
    {
     "name": "stderr",
     "output_type": "stream",
     "text": [
      "C:\\Users\\g3190\\anaconda3\\envs\\NLP\\lib\\site-packages\\sklearn\\metrics\\_classification.py:1221: UndefinedMetricWarning: Precision is ill-defined and being set to 0.0 due to no predicted samples. Use `zero_division` parameter to control this behavior.\n",
      "  _warn_prf(average, modifier, msg_start, len(result))\n",
      "C:\\Users\\g3190\\anaconda3\\envs\\NLP\\lib\\site-packages\\sklearn\\metrics\\_classification.py:1221: UndefinedMetricWarning: Precision is ill-defined and being set to 0.0 due to no predicted samples. Use `zero_division` parameter to control this behavior.\n",
      "  _warn_prf(average, modifier, msg_start, len(result))\n",
      "C:\\Users\\g3190\\anaconda3\\envs\\NLP\\lib\\site-packages\\sklearn\\metrics\\_classification.py:1221: UndefinedMetricWarning: Precision is ill-defined and being set to 0.0 due to no predicted samples. Use `zero_division` parameter to control this behavior.\n",
      "  _warn_prf(average, modifier, msg_start, len(result))\n",
      "C:\\Users\\g3190\\anaconda3\\envs\\NLP\\lib\\site-packages\\sklearn\\metrics\\_classification.py:1221: UndefinedMetricWarning: Precision is ill-defined and being set to 0.0 due to no predicted samples. Use `zero_division` parameter to control this behavior.\n",
      "  _warn_prf(average, modifier, msg_start, len(result))\n",
      "C:\\Users\\g3190\\anaconda3\\envs\\NLP\\lib\\site-packages\\sklearn\\metrics\\_classification.py:1221: UndefinedMetricWarning: Precision is ill-defined and being set to 0.0 due to no predicted samples. Use `zero_division` parameter to control this behavior.\n",
      "  _warn_prf(average, modifier, msg_start, len(result))\n",
      "C:\\Users\\g3190\\anaconda3\\envs\\NLP\\lib\\site-packages\\sklearn\\metrics\\_classification.py:1221: UndefinedMetricWarning: Precision is ill-defined and being set to 0.0 due to no predicted samples. Use `zero_division` parameter to control this behavior.\n",
      "  _warn_prf(average, modifier, msg_start, len(result))\n",
      "C:\\Users\\g3190\\anaconda3\\envs\\NLP\\lib\\site-packages\\sklearn\\metrics\\_classification.py:1221: UndefinedMetricWarning: Precision is ill-defined and being set to 0.0 due to no predicted samples. Use `zero_division` parameter to control this behavior.\n",
      "  _warn_prf(average, modifier, msg_start, len(result))\n",
      "C:\\Users\\g3190\\anaconda3\\envs\\NLP\\lib\\site-packages\\sklearn\\metrics\\_classification.py:1221: UndefinedMetricWarning: Precision is ill-defined and being set to 0.0 due to no predicted samples. Use `zero_division` parameter to control this behavior.\n",
      "  _warn_prf(average, modifier, msg_start, len(result))\n",
      "C:\\Users\\g3190\\anaconda3\\envs\\NLP\\lib\\site-packages\\sklearn\\metrics\\_classification.py:1221: UndefinedMetricWarning: Precision is ill-defined and being set to 0.0 due to no predicted samples. Use `zero_division` parameter to control this behavior.\n",
      "  _warn_prf(average, modifier, msg_start, len(result))\n",
      "C:\\Users\\g3190\\anaconda3\\envs\\NLP\\lib\\site-packages\\sklearn\\metrics\\_classification.py:1221: UndefinedMetricWarning: Precision is ill-defined and being set to 0.0 due to no predicted samples. Use `zero_division` parameter to control this behavior.\n",
      "  _warn_prf(average, modifier, msg_start, len(result))\n"
     ]
    }
   ],
   "source": [
    "x, y = split_data(df_cleanliness)\n",
    "scores_SVM = train_SVM(x,y)\n",
    "scores_LR = train_LR(x,y)\n",
    "scores_RF = train_RF(x,y)"
   ]
  },
  {
   "cell_type": "code",
   "execution_count": 334,
   "id": "0af23316-a63d-42f3-904c-09e9f7f5c6fe",
   "metadata": {},
   "outputs": [
    {
     "data": {
      "text/html": [
       "<div>\n",
       "<style scoped>\n",
       "    .dataframe tbody tr th:only-of-type {\n",
       "        vertical-align: middle;\n",
       "    }\n",
       "\n",
       "    .dataframe tbody tr th {\n",
       "        vertical-align: top;\n",
       "    }\n",
       "\n",
       "    .dataframe thead th {\n",
       "        text-align: right;\n",
       "    }\n",
       "</style>\n",
       "<table border=\"1\" class=\"dataframe\">\n",
       "  <thead>\n",
       "    <tr style=\"text-align: right;\">\n",
       "      <th></th>\n",
       "      <th>accuracy</th>\n",
       "      <th>recall</th>\n",
       "      <th>precision</th>\n",
       "      <th>f1_score</th>\n",
       "    </tr>\n",
       "  </thead>\n",
       "  <tbody>\n",
       "    <tr>\n",
       "      <th>SVM</th>\n",
       "      <td>0.768414</td>\n",
       "      <td>0.248718</td>\n",
       "      <td>0.609773</td>\n",
       "      <td>0.349644</td>\n",
       "    </tr>\n",
       "    <tr>\n",
       "      <th>LR</th>\n",
       "      <td>0.759590</td>\n",
       "      <td>0.149145</td>\n",
       "      <td>0.659365</td>\n",
       "      <td>0.240612</td>\n",
       "    </tr>\n",
       "    <tr>\n",
       "      <th>RF</th>\n",
       "      <td>0.743865</td>\n",
       "      <td>0.000000</td>\n",
       "      <td>0.000000</td>\n",
       "      <td>0.000000</td>\n",
       "    </tr>\n",
       "  </tbody>\n",
       "</table>\n",
       "</div>"
      ],
      "text/plain": [
       "     accuracy    recall  precision  f1_score\n",
       "SVM  0.768414  0.248718   0.609773  0.349644\n",
       "LR   0.759590  0.149145   0.659365  0.240612\n",
       "RF   0.743865  0.000000   0.000000  0.000000"
      ]
     },
     "execution_count": 334,
     "metadata": {},
     "output_type": "execute_result"
    }
   ],
   "source": [
    "show_output(scores_SVM,scores_LR,scores_RF)"
   ]
  },
  {
   "cell_type": "markdown",
   "id": "6c20978a-33aa-4659-923b-d56929017936",
   "metadata": {
    "jp-MarkdownHeadingCollapsed": true,
    "tags": []
   },
   "source": [
    "## 模型五、service"
   ]
  },
  {
   "cell_type": "code",
   "execution_count": 335,
   "id": "7e9c098f-70fb-4cb6-8913-78c234b6c87d",
   "metadata": {},
   "outputs": [
    {
     "data": {
      "text/html": [
       "<div>\n",
       "<style scoped>\n",
       "    .dataframe tbody tr th:only-of-type {\n",
       "        vertical-align: middle;\n",
       "    }\n",
       "\n",
       "    .dataframe tbody tr th {\n",
       "        vertical-align: top;\n",
       "    }\n",
       "\n",
       "    .dataframe thead th {\n",
       "        text-align: right;\n",
       "    }\n",
       "</style>\n",
       "<table border=\"1\" class=\"dataframe\">\n",
       "  <thead>\n",
       "    <tr style=\"text-align: right;\">\n",
       "      <th></th>\n",
       "      <th>label</th>\n",
       "      <th>filtered_noun</th>\n",
       "    </tr>\n",
       "  </thead>\n",
       "  <tbody>\n",
       "    <tr>\n",
       "      <th>0</th>\n",
       "      <td>1.0</td>\n",
       "      <td>價格 房間 老闆娘 人 早餐 旅客 重點 早餐</td>\n",
       "    </tr>\n",
       "    <tr>\n",
       "      <th>1</th>\n",
       "      <td>0.0</td>\n",
       "      <td>內部 房間 場地 團體</td>\n",
       "    </tr>\n",
       "    <tr>\n",
       "      <th>2</th>\n",
       "      <td>0.0</td>\n",
       "      <td>房間</td>\n",
       "    </tr>\n",
       "    <tr>\n",
       "      <th>3</th>\n",
       "      <td>0.0</td>\n",
       "      <td>房子 房間 採光 大廳 氣派 房價 台東 民宿</td>\n",
       "    </tr>\n",
       "    <tr>\n",
       "      <th>4</th>\n",
       "      <td>1.0</td>\n",
       "      <td>空間 大樓 下 吐司 咖啡 老闆 速度</td>\n",
       "    </tr>\n",
       "  </tbody>\n",
       "</table>\n",
       "</div>"
      ],
      "text/plain": [
       "   label            filtered_noun\n",
       "0    1.0  價格 房間 老闆娘 人 早餐 旅客 重點 早餐\n",
       "1    0.0              內部 房間 場地 團體\n",
       "2    0.0                       房間\n",
       "3    0.0  房子 房間 採光 大廳 氣派 房價 台東 民宿\n",
       "4    1.0      空間 大樓 下 吐司 咖啡 老闆 速度"
      ]
     },
     "execution_count": 335,
     "metadata": {},
     "output_type": "execute_result"
    }
   ],
   "source": [
    "df_service.head()"
   ]
  },
  {
   "cell_type": "code",
   "execution_count": 336,
   "id": "292d6caa-0cf4-4c3e-a0fa-b2d78dfeea7b",
   "metadata": {},
   "outputs": [],
   "source": [
    "x, y = split_data(df_service)\n",
    "scores_SVM = train_SVM(x,y)\n",
    "scores_LR = train_LR(x,y)\n",
    "scores_RF = train_RF(x,y)"
   ]
  },
  {
   "cell_type": "code",
   "execution_count": 337,
   "id": "e553c74c-056d-4cd4-86ae-37fa193dba7c",
   "metadata": {},
   "outputs": [
    {
     "data": {
      "text/html": [
       "<div>\n",
       "<style scoped>\n",
       "    .dataframe tbody tr th:only-of-type {\n",
       "        vertical-align: middle;\n",
       "    }\n",
       "\n",
       "    .dataframe tbody tr th {\n",
       "        vertical-align: top;\n",
       "    }\n",
       "\n",
       "    .dataframe thead th {\n",
       "        text-align: right;\n",
       "    }\n",
       "</style>\n",
       "<table border=\"1\" class=\"dataframe\">\n",
       "  <thead>\n",
       "    <tr style=\"text-align: right;\">\n",
       "      <th></th>\n",
       "      <th>accuracy</th>\n",
       "      <th>recall</th>\n",
       "      <th>precision</th>\n",
       "      <th>f1_score</th>\n",
       "    </tr>\n",
       "  </thead>\n",
       "  <tbody>\n",
       "    <tr>\n",
       "      <th>SVM</th>\n",
       "      <td>0.855795</td>\n",
       "      <td>0.860312</td>\n",
       "      <td>0.899320</td>\n",
       "      <td>0.877938</td>\n",
       "    </tr>\n",
       "    <tr>\n",
       "      <th>LR</th>\n",
       "      <td>0.844991</td>\n",
       "      <td>0.912295</td>\n",
       "      <td>0.846596</td>\n",
       "      <td>0.876754</td>\n",
       "    </tr>\n",
       "    <tr>\n",
       "      <th>RF</th>\n",
       "      <td>0.604514</td>\n",
       "      <td>1.000000</td>\n",
       "      <td>0.604514</td>\n",
       "      <td>0.753507</td>\n",
       "    </tr>\n",
       "  </tbody>\n",
       "</table>\n",
       "</div>"
      ],
      "text/plain": [
       "     accuracy    recall  precision  f1_score\n",
       "SVM  0.855795  0.860312   0.899320  0.877938\n",
       "LR   0.844991  0.912295   0.846596  0.876754\n",
       "RF   0.604514  1.000000   0.604514  0.753507"
      ]
     },
     "execution_count": 337,
     "metadata": {},
     "output_type": "execute_result"
    }
   ],
   "source": [
    "show_output(scores_SVM,scores_LR,scores_RF)"
   ]
  },
  {
   "cell_type": "code",
   "execution_count": null,
   "id": "f3cb6596-24d3-4d98-bd48-f6c2b1b4fdd1",
   "metadata": {},
   "outputs": [],
   "source": []
  }
 ],
 "metadata": {
  "kernelspec": {
   "display_name": "Python 3 (ipykernel)",
   "language": "python",
   "name": "python3"
  },
  "language_info": {
   "codemirror_mode": {
    "name": "ipython",
    "version": 3
   },
   "file_extension": ".py",
   "mimetype": "text/x-python",
   "name": "python",
   "nbconvert_exporter": "python",
   "pygments_lexer": "ipython3",
   "version": "3.8.12"
  }
 },
 "nbformat": 4,
 "nbformat_minor": 5
}
