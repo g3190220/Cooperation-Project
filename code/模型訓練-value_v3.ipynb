{
 "cells": [
  {
   "cell_type": "markdown",
   "id": "608f9531-d9c0-47a4-bf7b-fcfe91992f8e",
   "metadata": {
    "tags": []
   },
   "source": [
    "## 幾種思路"
   ]
  },
  {
   "cell_type": "markdown",
   "id": "aae267fd-f953-442a-88cc-e2bfb9aff87d",
   "metadata": {},
   "source": [
    "思路1：TF-IDF + 機器學習分類器\n",
    "直接使用TF-IDF對文本提取特徵，並使用分類器進行分類。在分類器的選擇上，可以使用SVM、LR、或者XGBoost。\n",
    "\n",
    "思路2：FastText\n",
    "FastText是入門款的詞向量，利用Facebook提供的FastText工具，可以快速構建出分類器。\n",
    "\n",
    "思路3：WordVec + 深度學習分類器\n",
    "WordVec是進階款的詞向量，並通過構建深度學習分類完成分類。深度學習分類的網絡結構可以選擇TextCNN、TextRNN或者BiLSTM。\n",
    "\n",
    "思路4：Bert詞向量\n",
    "Bert是高配款的詞向量，具有強大的建模學習能力。"
   ]
  },
  {
   "cell_type": "markdown",
   "id": "10abf616-467b-4883-8210-339068693e2b",
   "metadata": {
    "tags": []
   },
   "source": [
    "## 獲取6種模型的資料集"
   ]
  },
  {
   "cell_type": "code",
   "execution_count": 3,
   "id": "3f1556b9-10a8-4230-910e-2e0851184854",
   "metadata": {},
   "outputs": [],
   "source": [
    "import matplotlib.pyplot as plt\n",
    "import os\n",
    "import pandas as pd\n",
    "import numpy as np\n",
    "import re\n",
    "path = '../data/0414/review_data(seg+pos+stopwords)_n+v+f+p+a.csv'\n",
    "df = pd.read_csv(path)"
   ]
  },
  {
   "cell_type": "code",
   "execution_count": 4,
   "id": "8c545aa0-9f8b-4239-a495-9da8ba1fb890",
   "metadata": {},
   "outputs": [
    {
     "data": {
      "text/html": [
       "<div>\n",
       "<style scoped>\n",
       "    .dataframe tbody tr th:only-of-type {\n",
       "        vertical-align: middle;\n",
       "    }\n",
       "\n",
       "    .dataframe tbody tr th {\n",
       "        vertical-align: top;\n",
       "    }\n",
       "\n",
       "    .dataframe thead th {\n",
       "        text-align: right;\n",
       "    }\n",
       "</style>\n",
       "<table border=\"1\" class=\"dataframe\">\n",
       "  <thead>\n",
       "    <tr style=\"text-align: right;\">\n",
       "      <th></th>\n",
       "      <th>reviews</th>\n",
       "      <th>value</th>\n",
       "      <th>comfort</th>\n",
       "      <th>location</th>\n",
       "      <th>cleanliness</th>\n",
       "      <th>service</th>\n",
       "      <th>facilities</th>\n",
       "      <th>ws_pos_reviews</th>\n",
       "      <th>filtered_word</th>\n",
       "    </tr>\n",
       "  </thead>\n",
       "  <tbody>\n",
       "    <tr>\n",
       "      <th>0</th>\n",
       "      <td>價格合理 舒適的房間 老闆娘人很好還會自己做早餐給旅客 重點是早餐吃到飽</td>\n",
       "      <td>1.0</td>\n",
       "      <td>1.0</td>\n",
       "      <td>0.0</td>\n",
       "      <td>0.0</td>\n",
       "      <td>1.0</td>\n",
       "      <td>0.0</td>\n",
       "      <td>價格(Na)/合理(VH)/ (WHITESPACE)/舒適(VH)/的(DE)/房間(Nc...</td>\n",
       "      <td>價格(Na)/合理(VH)/舒適(VH)/房間(Nc)/老闆娘(Na)/人(Na)/好(VH...</td>\n",
       "    </tr>\n",
       "    <tr>\n",
       "      <th>1</th>\n",
       "      <td>內部房間滿乾淨的，還有大場地，可以讓團體來使用，我覺得很棒</td>\n",
       "      <td>0.0</td>\n",
       "      <td>0.0</td>\n",
       "      <td>0.0</td>\n",
       "      <td>1.0</td>\n",
       "      <td>0.0</td>\n",
       "      <td>1.0</td>\n",
       "      <td>內部(Ncd)/房間(Nc)/滿(Dfa)/乾淨(VH)/的(T)/，(COMMACATEG...</td>\n",
       "      <td>內部(Ncd)/房間(Nc)/乾淨(VH)/有(V_2)/大(VH)/場地(Na)/讓(VL...</td>\n",
       "    </tr>\n",
       "    <tr>\n",
       "      <th>2</th>\n",
       "      <td>隔音還可以，房間不小，但美中不足沒有乾濕分離</td>\n",
       "      <td>0.0</td>\n",
       "      <td>1.0</td>\n",
       "      <td>0.0</td>\n",
       "      <td>0.0</td>\n",
       "      <td>0.0</td>\n",
       "      <td>0.0</td>\n",
       "      <td>隔音(A)/還可以(D)/，(COMMACATEGORY)/房間(Nc)/不(D)/小(VH...</td>\n",
       "      <td>隔音(A)/房間(Nc)/小(VH)/美中不足(VH)/沒有(VJ)/乾(VH)/濕(VH)...</td>\n",
       "    </tr>\n",
       "    <tr>\n",
       "      <th>3</th>\n",
       "      <td>房子設計的很棒 房間採光很好 大廳挑高氣派 房價合理 台東必住民宿</td>\n",
       "      <td>1.0</td>\n",
       "      <td>1.0</td>\n",
       "      <td>0.0</td>\n",
       "      <td>0.0</td>\n",
       "      <td>0.0</td>\n",
       "      <td>1.0</td>\n",
       "      <td>房子(Na)/設計(VC)/的(DE)/很(Dfa)/棒(VH)/ (WHITESPACE)...</td>\n",
       "      <td>房子(Na)/設計(VC)/棒(VH)/房間(Nc)/採光(Na)/好(VH)/大廳(Nc)...</td>\n",
       "    </tr>\n",
       "    <tr>\n",
       "      <th>4</th>\n",
       "      <td>Cp值高 乾淨舒適空間大 樓下有免費吐司和咖啡 老闆回復速度快</td>\n",
       "      <td>1.0</td>\n",
       "      <td>1.0</td>\n",
       "      <td>0.0</td>\n",
       "      <td>0.0</td>\n",
       "      <td>1.0</td>\n",
       "      <td>0.0</td>\n",
       "      <td>Cp值(FW)/高(VH)/ (WHITESPACE)/乾淨(VH)/舒適(VH)/空間(N...</td>\n",
       "      <td>Cp值(FW)/高(VH)/乾淨(VH)/舒適(VH)/空間(Na)/大(VH)/樓下(Nc...</td>\n",
       "    </tr>\n",
       "    <tr>\n",
       "      <th>...</th>\n",
       "      <td>...</td>\n",
       "      <td>...</td>\n",
       "      <td>...</td>\n",
       "      <td>...</td>\n",
       "      <td>...</td>\n",
       "      <td>...</td>\n",
       "      <td>...</td>\n",
       "      <td>...</td>\n",
       "      <td>...</td>\n",
       "    </tr>\n",
       "    <tr>\n",
       "      <th>1267</th>\n",
       "      <td>港式飲茶餐廳口味很棒，環境乾淨，機車汽車都有停車位，位於高鐵附近，挺適合宴客的。</td>\n",
       "      <td>0.0</td>\n",
       "      <td>0.0</td>\n",
       "      <td>1.0</td>\n",
       "      <td>1.0</td>\n",
       "      <td>1.0</td>\n",
       "      <td>1.0</td>\n",
       "      <td>港式(Na)/飲茶(VA)/餐廳(Nc)/口味(Na)/很(Dfa)/棒(VH)/，(COM...</td>\n",
       "      <td>港式(Na)/飲茶(VA)/餐廳(Nc)/口味(Na)/棒(VH)/環境(Na)/乾淨(VH...</td>\n",
       "    </tr>\n",
       "    <tr>\n",
       "      <th>1268</th>\n",
       "      <td>場地氣派、丁香魚酥脆、服務親切 蠟味蘿蔔糕份量多一些更好、牛肉粥好吃</td>\n",
       "      <td>0.0</td>\n",
       "      <td>0.0</td>\n",
       "      <td>0.0</td>\n",
       "      <td>0.0</td>\n",
       "      <td>1.0</td>\n",
       "      <td>0.0</td>\n",
       "      <td>場地(Na)/氣派(VH)/、(PAUSECATEGORY)/丁香魚(Na)/酥脆(VH)/...</td>\n",
       "      <td>場地(Na)/氣派(VH)/丁香魚(Na)/酥脆(VH)/服務(Nv)/親切(VH)/蠟味(...</td>\n",
       "    </tr>\n",
       "    <tr>\n",
       "      <th>1269</th>\n",
       "      <td>交通方便，地下室停車場良好，菜色好，空間設計好，真可說是一流的飯店。</td>\n",
       "      <td>0.0</td>\n",
       "      <td>0.0</td>\n",
       "      <td>1.0</td>\n",
       "      <td>0.0</td>\n",
       "      <td>1.0</td>\n",
       "      <td>1.0</td>\n",
       "      <td>交通(Na)/方便(VH)/，(COMMACATEGORY)/地下室(Nc)/停車場(Nc)...</td>\n",
       "      <td>交通(Na)/方便(VH)/地下室(Nc)/停車場(Nc)/良好(VH)/菜色(Na)/好(...</td>\n",
       "    </tr>\n",
       "    <tr>\n",
       "      <th>1270</th>\n",
       "      <td>地點佳，離逢甲夜市很近，老闆娘很親切服務，房間夠大舒適，浴室也很乾淨</td>\n",
       "      <td>0.0</td>\n",
       "      <td>1.0</td>\n",
       "      <td>1.0</td>\n",
       "      <td>1.0</td>\n",
       "      <td>1.0</td>\n",
       "      <td>0.0</td>\n",
       "      <td>地點(Na)/佳(VH)/，(COMMACATEGORY)/離(P)/逢甲(Nb)/夜市(N...</td>\n",
       "      <td>地點(Na)/佳(VH)/離(P)/逢甲(Nb)/夜市(Nc)/近(VH)/老闆娘(Na)/...</td>\n",
       "    </tr>\n",
       "    <tr>\n",
       "      <th>1271</th>\n",
       "      <td>房間大 乾淨 價格公道 老闆娘親切 逢甲必推民宿 極推！！！！！！</td>\n",
       "      <td>1.0</td>\n",
       "      <td>1.0</td>\n",
       "      <td>0.0</td>\n",
       "      <td>1.0</td>\n",
       "      <td>1.0</td>\n",
       "      <td>0.0</td>\n",
       "      <td>房間(Nc)/大(VH)/ (WHITESPACE)/乾淨(VH)/ (WHITESPACE...</td>\n",
       "      <td>房間(Nc)/大(VH)/乾淨(VH)/價格(Na)/公道(VH)/老闆娘(Na)/親切(V...</td>\n",
       "    </tr>\n",
       "  </tbody>\n",
       "</table>\n",
       "<p>1272 rows × 9 columns</p>\n",
       "</div>"
      ],
      "text/plain": [
       "                                       reviews  value  comfort  location  \\\n",
       "0         價格合理 舒適的房間 老闆娘人很好還會自己做早餐給旅客 重點是早餐吃到飽    1.0      1.0       0.0   \n",
       "1                內部房間滿乾淨的，還有大場地，可以讓團體來使用，我覺得很棒    0.0      0.0       0.0   \n",
       "2                       隔音還可以，房間不小，但美中不足沒有乾濕分離    0.0      1.0       0.0   \n",
       "3            房子設計的很棒 房間採光很好 大廳挑高氣派 房價合理 台東必住民宿    1.0      1.0       0.0   \n",
       "4              Cp值高 乾淨舒適空間大 樓下有免費吐司和咖啡 老闆回復速度快    1.0      1.0       0.0   \n",
       "...                                        ...    ...      ...       ...   \n",
       "1267  港式飲茶餐廳口味很棒，環境乾淨，機車汽車都有停車位，位於高鐵附近，挺適合宴客的。    0.0      0.0       1.0   \n",
       "1268        場地氣派、丁香魚酥脆、服務親切 蠟味蘿蔔糕份量多一些更好、牛肉粥好吃    0.0      0.0       0.0   \n",
       "1269        交通方便，地下室停車場良好，菜色好，空間設計好，真可說是一流的飯店。    0.0      0.0       1.0   \n",
       "1270        地點佳，離逢甲夜市很近，老闆娘很親切服務，房間夠大舒適，浴室也很乾淨    0.0      1.0       1.0   \n",
       "1271         房間大 乾淨 價格公道 老闆娘親切 逢甲必推民宿 極推！！！！！！    1.0      1.0       0.0   \n",
       "\n",
       "      cleanliness  service  facilities  \\\n",
       "0             0.0      1.0         0.0   \n",
       "1             1.0      0.0         1.0   \n",
       "2             0.0      0.0         0.0   \n",
       "3             0.0      0.0         1.0   \n",
       "4             0.0      1.0         0.0   \n",
       "...           ...      ...         ...   \n",
       "1267          1.0      1.0         1.0   \n",
       "1268          0.0      1.0         0.0   \n",
       "1269          0.0      1.0         1.0   \n",
       "1270          1.0      1.0         0.0   \n",
       "1271          1.0      1.0         0.0   \n",
       "\n",
       "                                         ws_pos_reviews  \\\n",
       "0     價格(Na)/合理(VH)/ (WHITESPACE)/舒適(VH)/的(DE)/房間(Nc...   \n",
       "1     內部(Ncd)/房間(Nc)/滿(Dfa)/乾淨(VH)/的(T)/，(COMMACATEG...   \n",
       "2     隔音(A)/還可以(D)/，(COMMACATEGORY)/房間(Nc)/不(D)/小(VH...   \n",
       "3     房子(Na)/設計(VC)/的(DE)/很(Dfa)/棒(VH)/ (WHITESPACE)...   \n",
       "4     Cp值(FW)/高(VH)/ (WHITESPACE)/乾淨(VH)/舒適(VH)/空間(N...   \n",
       "...                                                 ...   \n",
       "1267  港式(Na)/飲茶(VA)/餐廳(Nc)/口味(Na)/很(Dfa)/棒(VH)/，(COM...   \n",
       "1268  場地(Na)/氣派(VH)/、(PAUSECATEGORY)/丁香魚(Na)/酥脆(VH)/...   \n",
       "1269  交通(Na)/方便(VH)/，(COMMACATEGORY)/地下室(Nc)/停車場(Nc)...   \n",
       "1270  地點(Na)/佳(VH)/，(COMMACATEGORY)/離(P)/逢甲(Nb)/夜市(N...   \n",
       "1271  房間(Nc)/大(VH)/ (WHITESPACE)/乾淨(VH)/ (WHITESPACE...   \n",
       "\n",
       "                                          filtered_word  \n",
       "0     價格(Na)/合理(VH)/舒適(VH)/房間(Nc)/老闆娘(Na)/人(Na)/好(VH...  \n",
       "1     內部(Ncd)/房間(Nc)/乾淨(VH)/有(V_2)/大(VH)/場地(Na)/讓(VL...  \n",
       "2     隔音(A)/房間(Nc)/小(VH)/美中不足(VH)/沒有(VJ)/乾(VH)/濕(VH)...  \n",
       "3     房子(Na)/設計(VC)/棒(VH)/房間(Nc)/採光(Na)/好(VH)/大廳(Nc)...  \n",
       "4     Cp值(FW)/高(VH)/乾淨(VH)/舒適(VH)/空間(Na)/大(VH)/樓下(Nc...  \n",
       "...                                                 ...  \n",
       "1267  港式(Na)/飲茶(VA)/餐廳(Nc)/口味(Na)/棒(VH)/環境(Na)/乾淨(VH...  \n",
       "1268  場地(Na)/氣派(VH)/丁香魚(Na)/酥脆(VH)/服務(Nv)/親切(VH)/蠟味(...  \n",
       "1269  交通(Na)/方便(VH)/地下室(Nc)/停車場(Nc)/良好(VH)/菜色(Na)/好(...  \n",
       "1270  地點(Na)/佳(VH)/離(P)/逢甲(Nb)/夜市(Nc)/近(VH)/老闆娘(Na)/...  \n",
       "1271  房間(Nc)/大(VH)/乾淨(VH)/價格(Na)/公道(VH)/老闆娘(Na)/親切(V...  \n",
       "\n",
       "[1272 rows x 9 columns]"
      ]
     },
     "execution_count": 4,
     "metadata": {},
     "output_type": "execute_result"
    }
   ],
   "source": [
    "df"
   ]
  },
  {
   "cell_type": "markdown",
   "id": "03134552-b205-4ba6-8b30-49d1b63f6e8d",
   "metadata": {
    "tags": []
   },
   "source": [
    "### 檢查重複值、空值"
   ]
  },
  {
   "cell_type": "code",
   "execution_count": 5,
   "id": "cf01f08b-66b4-48dc-b539-f963be31ec24",
   "metadata": {},
   "outputs": [
    {
     "name": "stdout",
     "output_type": "stream",
     "text": [
      "Empty DataFrame\n",
      "Columns: [reviews, value, comfort, location, cleanliness, service, facilities, ws_pos_reviews, filtered_word]\n",
      "Index: []\n"
     ]
    }
   ],
   "source": [
    "#印出重複資料\n",
    "print(df[df.duplicated()])"
   ]
  },
  {
   "cell_type": "code",
   "execution_count": 6,
   "id": "1fcd3385-74b6-4e0e-8a68-48f139e3161d",
   "metadata": {},
   "outputs": [],
   "source": [
    "#移除重複值\n",
    "#df = df.drop_duplicates()\n",
    "#print(df.shape)"
   ]
  },
  {
   "cell_type": "code",
   "execution_count": 7,
   "id": "57541fcf-3859-4b9d-a6af-68c3a1b7a1d7",
   "metadata": {},
   "outputs": [],
   "source": [
    "#印出空值資料\n",
    "#df_train[df_train.isnull().T.any()]"
   ]
  },
  {
   "cell_type": "markdown",
   "id": "9ef2dd09-a1d4-408b-af22-a11cdd6829a9",
   "metadata": {
    "tags": []
   },
   "source": [
    "### 切分為6個資料集"
   ]
  },
  {
   "cell_type": "code",
   "execution_count": 8,
   "id": "e466b400-44e6-442f-914f-148dc9f2cd2c",
   "metadata": {},
   "outputs": [],
   "source": [
    "def split_df(df):\n",
    "    df_value = df[['value','filtered_word']]\n",
    "    df_value.rename(columns={'value': 'label'}, inplace=True)\n",
    "    df_comfort = df[['comfort','filtered_word']]\n",
    "    df_comfort.rename(columns={'comfort': 'label'}, inplace=True)\n",
    "    df_location = df[['location','filtered_word']]\n",
    "    df_location.rename(columns={'location': 'label'}, inplace=True)\n",
    "    df_cleanliness = df[['cleanliness','filtered_word']]\n",
    "    df_cleanliness.rename(columns={'cleanliness': 'label'}, inplace=True)\n",
    "    df_service = df[['service','filtered_word']]\n",
    "    df_service.rename(columns={'service': 'label'}, inplace=True)\n",
    "    df_facilities = df[['facilities','filtered_word']]\n",
    "    df_facilities.rename(columns={'facilities': 'label'}, inplace=True)\n",
    "    return df_value, df_comfort, df_location, df_cleanliness, df_service, df_facilities"
   ]
  },
  {
   "cell_type": "code",
   "execution_count": 9,
   "id": "f74887e2-a787-4bba-af45-b6824ebbf6e5",
   "metadata": {},
   "outputs": [
    {
     "name": "stderr",
     "output_type": "stream",
     "text": [
      "C:\\Users\\g3190\\AppData\\Local\\Temp/ipykernel_17156/3099386144.py:3: SettingWithCopyWarning: \n",
      "A value is trying to be set on a copy of a slice from a DataFrame\n",
      "\n",
      "See the caveats in the documentation: https://pandas.pydata.org/pandas-docs/stable/user_guide/indexing.html#returning-a-view-versus-a-copy\n",
      "  df_value.rename(columns={'value': 'label'}, inplace=True)\n",
      "C:\\Users\\g3190\\AppData\\Local\\Temp/ipykernel_17156/3099386144.py:5: SettingWithCopyWarning: \n",
      "A value is trying to be set on a copy of a slice from a DataFrame\n",
      "\n",
      "See the caveats in the documentation: https://pandas.pydata.org/pandas-docs/stable/user_guide/indexing.html#returning-a-view-versus-a-copy\n",
      "  df_comfort.rename(columns={'comfort': 'label'}, inplace=True)\n",
      "C:\\Users\\g3190\\AppData\\Local\\Temp/ipykernel_17156/3099386144.py:7: SettingWithCopyWarning: \n",
      "A value is trying to be set on a copy of a slice from a DataFrame\n",
      "\n",
      "See the caveats in the documentation: https://pandas.pydata.org/pandas-docs/stable/user_guide/indexing.html#returning-a-view-versus-a-copy\n",
      "  df_location.rename(columns={'location': 'label'}, inplace=True)\n",
      "C:\\Users\\g3190\\AppData\\Local\\Temp/ipykernel_17156/3099386144.py:9: SettingWithCopyWarning: \n",
      "A value is trying to be set on a copy of a slice from a DataFrame\n",
      "\n",
      "See the caveats in the documentation: https://pandas.pydata.org/pandas-docs/stable/user_guide/indexing.html#returning-a-view-versus-a-copy\n",
      "  df_cleanliness.rename(columns={'cleanliness': 'label'}, inplace=True)\n",
      "C:\\Users\\g3190\\AppData\\Local\\Temp/ipykernel_17156/3099386144.py:11: SettingWithCopyWarning: \n",
      "A value is trying to be set on a copy of a slice from a DataFrame\n",
      "\n",
      "See the caveats in the documentation: https://pandas.pydata.org/pandas-docs/stable/user_guide/indexing.html#returning-a-view-versus-a-copy\n",
      "  df_service.rename(columns={'service': 'label'}, inplace=True)\n",
      "C:\\Users\\g3190\\AppData\\Local\\Temp/ipykernel_17156/3099386144.py:13: SettingWithCopyWarning: \n",
      "A value is trying to be set on a copy of a slice from a DataFrame\n",
      "\n",
      "See the caveats in the documentation: https://pandas.pydata.org/pandas-docs/stable/user_guide/indexing.html#returning-a-view-versus-a-copy\n",
      "  df_facilities.rename(columns={'facilities': 'label'}, inplace=True)\n"
     ]
    }
   ],
   "source": [
    "#df_value_train, df_comfort_train, df_location_train, df_cleanliness_train, df_service_train ,df_facilities_train = split_df(df_train)\n",
    "#df_value_test, df_comfort_test, df_location_test, df_cleanliness_test, df_service_test, df_facilities_test = split_df(df_test)\n",
    "df_value, df_comfort, df_location, df_cleanliness, df_service ,df_facilities = split_df(df)"
   ]
  },
  {
   "cell_type": "code",
   "execution_count": 10,
   "id": "bbc20206-24d9-43f4-96c9-ab61f326eec8",
   "metadata": {},
   "outputs": [
    {
     "data": {
      "text/html": [
       "<div>\n",
       "<style scoped>\n",
       "    .dataframe tbody tr th:only-of-type {\n",
       "        vertical-align: middle;\n",
       "    }\n",
       "\n",
       "    .dataframe tbody tr th {\n",
       "        vertical-align: top;\n",
       "    }\n",
       "\n",
       "    .dataframe thead th {\n",
       "        text-align: right;\n",
       "    }\n",
       "</style>\n",
       "<table border=\"1\" class=\"dataframe\">\n",
       "  <thead>\n",
       "    <tr style=\"text-align: right;\">\n",
       "      <th></th>\n",
       "      <th>label</th>\n",
       "      <th>filtered_word</th>\n",
       "    </tr>\n",
       "  </thead>\n",
       "  <tbody>\n",
       "    <tr>\n",
       "      <th>0</th>\n",
       "      <td>1.0</td>\n",
       "      <td>價格(Na)/合理(VH)/舒適(VH)/房間(Nc)/老闆娘(Na)/人(Na)/好(VH...</td>\n",
       "    </tr>\n",
       "    <tr>\n",
       "      <th>1</th>\n",
       "      <td>0.0</td>\n",
       "      <td>內部(Ncd)/房間(Nc)/乾淨(VH)/有(V_2)/大(VH)/場地(Na)/讓(VL...</td>\n",
       "    </tr>\n",
       "    <tr>\n",
       "      <th>2</th>\n",
       "      <td>0.0</td>\n",
       "      <td>隔音(A)/房間(Nc)/小(VH)/美中不足(VH)/沒有(VJ)/乾(VH)/濕(VH)...</td>\n",
       "    </tr>\n",
       "    <tr>\n",
       "      <th>3</th>\n",
       "      <td>1.0</td>\n",
       "      <td>房子(Na)/設計(VC)/棒(VH)/房間(Nc)/採光(Na)/好(VH)/大廳(Nc)...</td>\n",
       "    </tr>\n",
       "    <tr>\n",
       "      <th>4</th>\n",
       "      <td>1.0</td>\n",
       "      <td>Cp值(FW)/高(VH)/乾淨(VH)/舒適(VH)/空間(Na)/大(VH)/樓下(Nc...</td>\n",
       "    </tr>\n",
       "    <tr>\n",
       "      <th>...</th>\n",
       "      <td>...</td>\n",
       "      <td>...</td>\n",
       "    </tr>\n",
       "    <tr>\n",
       "      <th>1267</th>\n",
       "      <td>0.0</td>\n",
       "      <td>港式(Na)/飲茶(VA)/餐廳(Nc)/口味(Na)/棒(VH)/環境(Na)/乾淨(VH...</td>\n",
       "    </tr>\n",
       "    <tr>\n",
       "      <th>1268</th>\n",
       "      <td>0.0</td>\n",
       "      <td>場地(Na)/氣派(VH)/丁香魚(Na)/酥脆(VH)/服務(Nv)/親切(VH)/蠟味(...</td>\n",
       "    </tr>\n",
       "    <tr>\n",
       "      <th>1269</th>\n",
       "      <td>0.0</td>\n",
       "      <td>交通(Na)/方便(VH)/地下室(Nc)/停車場(Nc)/良好(VH)/菜色(Na)/好(...</td>\n",
       "    </tr>\n",
       "    <tr>\n",
       "      <th>1270</th>\n",
       "      <td>0.0</td>\n",
       "      <td>地點(Na)/佳(VH)/離(P)/逢甲(Nb)/夜市(Nc)/近(VH)/老闆娘(Na)/...</td>\n",
       "    </tr>\n",
       "    <tr>\n",
       "      <th>1271</th>\n",
       "      <td>1.0</td>\n",
       "      <td>房間(Nc)/大(VH)/乾淨(VH)/價格(Na)/公道(VH)/老闆娘(Na)/親切(V...</td>\n",
       "    </tr>\n",
       "  </tbody>\n",
       "</table>\n",
       "<p>1272 rows × 2 columns</p>\n",
       "</div>"
      ],
      "text/plain": [
       "      label                                      filtered_word\n",
       "0       1.0  價格(Na)/合理(VH)/舒適(VH)/房間(Nc)/老闆娘(Na)/人(Na)/好(VH...\n",
       "1       0.0  內部(Ncd)/房間(Nc)/乾淨(VH)/有(V_2)/大(VH)/場地(Na)/讓(VL...\n",
       "2       0.0  隔音(A)/房間(Nc)/小(VH)/美中不足(VH)/沒有(VJ)/乾(VH)/濕(VH)...\n",
       "3       1.0  房子(Na)/設計(VC)/棒(VH)/房間(Nc)/採光(Na)/好(VH)/大廳(Nc)...\n",
       "4       1.0  Cp值(FW)/高(VH)/乾淨(VH)/舒適(VH)/空間(Na)/大(VH)/樓下(Nc...\n",
       "...     ...                                                ...\n",
       "1267    0.0  港式(Na)/飲茶(VA)/餐廳(Nc)/口味(Na)/棒(VH)/環境(Na)/乾淨(VH...\n",
       "1268    0.0  場地(Na)/氣派(VH)/丁香魚(Na)/酥脆(VH)/服務(Nv)/親切(VH)/蠟味(...\n",
       "1269    0.0  交通(Na)/方便(VH)/地下室(Nc)/停車場(Nc)/良好(VH)/菜色(Na)/好(...\n",
       "1270    0.0  地點(Na)/佳(VH)/離(P)/逢甲(Nb)/夜市(Nc)/近(VH)/老闆娘(Na)/...\n",
       "1271    1.0  房間(Nc)/大(VH)/乾淨(VH)/價格(Na)/公道(VH)/老闆娘(Na)/親切(V...\n",
       "\n",
       "[1272 rows x 2 columns]"
      ]
     },
     "execution_count": 10,
     "metadata": {},
     "output_type": "execute_result"
    }
   ],
   "source": [
    "df_value"
   ]
  },
  {
   "cell_type": "markdown",
   "id": "c59ec4bf-a42d-406c-a15e-54431ef328fd",
   "metadata": {
    "tags": []
   },
   "source": [
    "### 清理資料(移除詞性標註的文字)"
   ]
  },
  {
   "cell_type": "code",
   "execution_count": 11,
   "id": "2cb95288-72e7-4508-aa53-1684ff8a63e1",
   "metadata": {},
   "outputs": [],
   "source": [
    "def remove_N_comma(sentence):\n",
    "    # 把後面(N..)(V..)(F..)拿掉\n",
    "    sentence = str(sentence)\n",
    "    pattern = re.compile(r\"\\([N,V,F,P].*?\\)\") #移除詞性標示\n",
    "    sentence = re.sub(pattern, '', sentence)\n",
    "    pattern = re.compile(r\"/\") #將逗號替換為空格\n",
    "    sentence = re.sub(pattern, ' ', sentence)\n",
    "    return sentence\n",
    "pd.options.mode.chained_assignment = None  # 忽略警告"
   ]
  },
  {
   "cell_type": "code",
   "execution_count": 12,
   "id": "f29d4e13-b275-406a-96c1-fd46f70772bc",
   "metadata": {},
   "outputs": [],
   "source": [
    "#訓練集\n",
    "df_value['filtered_word'] = df_value.apply(lambda x: remove_N_comma(x['filtered_word']),axis=1)"
   ]
  },
  {
   "cell_type": "code",
   "execution_count": 14,
   "id": "9b8e2ab1-0301-4b55-8bfa-712174215cbf",
   "metadata": {},
   "outputs": [],
   "source": [
    "df_value.to_csv(\"df_value.csv\", encoding='utf_8_sig', index=False)"
   ]
  },
  {
   "cell_type": "code",
   "execution_count": null,
   "id": "96657345-dcdf-40d4-b09b-2904f3ea0281",
   "metadata": {
    "tags": []
   },
   "outputs": [],
   "source": [
    "# print(df_value.shape)\n",
    "# df_value"
   ]
  },
  {
   "cell_type": "markdown",
   "id": "85f5dea5-298a-4819-8ac5-520b79eb20c2",
   "metadata": {
    "tags": []
   },
   "source": [
    "### 套件引用"
   ]
  },
  {
   "cell_type": "code",
   "execution_count": 15,
   "id": "9f68cb11-c4ef-4366-9a3f-9af34c9dd711",
   "metadata": {},
   "outputs": [],
   "source": [
    "#import package\n",
    "#轉向量用\n",
    "from sklearn.feature_extraction.text import CountVectorizer\n",
    "from sklearn.feature_extraction.text import TfidfTransformer\n",
    "from sklearn.feature_extraction.text import TfidfVectorizer \n",
    "from scipy.sparse import coo_matrix\n",
    "\n",
    "from imblearn.pipeline import Pipeline, make_pipeline\n",
    "from sklearn.model_selection import cross_validate\n",
    "import pickle #儲存模型用\n",
    "from sklearn.model_selection import train_test_split\n",
    "#類別採樣\n",
    "import imblearn.over_sampling as over_sampling\n",
    "import imblearn.under_sampling as under_sampling\n",
    "import imblearn.combine as combine\n",
    "from imblearn.pipeline import make_pipeline as make_pipeline_imb\n",
    "\n",
    "\n",
    "#模型\n",
    "from sklearn.metrics import classification_report\n",
    "from sklearn.linear_model import LogisticRegression\n",
    "from sklearn.ensemble import RandomForestClassifier\n",
    "from sklearn import svm\n",
    "from sklearn.ensemble import AdaBoostClassifier\n",
    "#from xgboost.sklearn import XGBClassifier\n",
    "\n",
    "#模型效能表現\n",
    "import sklearn.metrics as metrics"
   ]
  },
  {
   "cell_type": "markdown",
   "id": "05bca335-929e-46d6-b8e6-447621d41d8c",
   "metadata": {
    "tags": []
   },
   "source": [
    "### 顯示訓練結果"
   ]
  },
  {
   "cell_type": "code",
   "execution_count": 37,
   "id": "9ad34b64-c7c9-4cce-8b62-0a266a165a3e",
   "metadata": {},
   "outputs": [],
   "source": [
    "def classification_report(y_test, pre):\n",
    "    #混淆矩陣\n",
    "    confusion = metrics.confusion_matrix(y_test, pre)\n",
    "    TP = confusion[1,1]\n",
    "    TN = confusion[0,0]\n",
    "    FP = confusion[0,1]\n",
    "    FN = confusion[1,0]\n",
    "    print(\"TP:\",TP)\n",
    "    print(\"TN:\",TN)\n",
    "    print(\"FP:\",FP)\n",
    "    print(\"FN:\",FN)\n",
    "    #Accuracy\n",
    "    accuracy = (TP+TN)/float(TP+TN+FN+FP)\n",
    "    print(\"Accuracy：\", accuracy)\n",
    "    #Sensitivity(Recall)\n",
    "    recall = TP/float(TP+FN)\n",
    "    print(\"Recall：\", recall)\n",
    "    #Specificity\n",
    "    specificity = TN/float(TN+FP)\n",
    "    print(\"Specificity：\", specificity)\n",
    "    #Precision\n",
    "    precision = TP/float(TP+FP)\n",
    "    print(\"Precision：\", precision)\n",
    "    #f1-score\n",
    "    f1_score = ((2*precision*recall)/(precision+recall))\n",
    "    print(\"f1_score：\", f1_score)\n",
    "    #AUC\n",
    "    print(\"AUC：\", metrics.roc_auc_score(y_test, pre))"
   ]
  },
  {
   "cell_type": "markdown",
   "id": "6b8636ec-e7a7-433b-a876-342010132df4",
   "metadata": {
    "tags": []
   },
   "source": [
    "## 切分訓練、測試數據"
   ]
  },
  {
   "cell_type": "code",
   "execution_count": 30,
   "id": "ce72c298-701c-4007-9cff-6555b3c30490",
   "metadata": {},
   "outputs": [],
   "source": [
    "from sklearn.model_selection import train_test_split\n",
    "def split_label(df,seed):\n",
    "    X = df.filtered_word.tolist()\n",
    "    y = df.label\n",
    "    X_train,X_test,y_train,y_test=train_test_split(X,y,test_size=1/3,random_state=seed)\n",
    "    return X_train,X_test,y_train,y_test"
   ]
  },
  {
   "cell_type": "code",
   "execution_count": 31,
   "id": "936320a6-0c24-47de-8acb-13d32d05d4f9",
   "metadata": {},
   "outputs": [],
   "source": [
    "X_train_1,X_test_1,y_train_1,y_test_1 = split_label(df_value,1)\n",
    "X_train_2,X_test_2,y_train_2,y_test_2 = split_label(df_value,2)\n",
    "X_train_3,X_test_3,y_train_3,y_test_3 = split_label(df_value,3)"
   ]
  },
  {
   "cell_type": "code",
   "execution_count": 32,
   "id": "25654090-f10c-4123-8506-d80314fa1c55",
   "metadata": {},
   "outputs": [
    {
     "name": "stdout",
     "output_type": "stream",
     "text": [
      "0.0    688\n",
      "1.0    160\n",
      "Name: label, dtype: int64\n",
      "0.0    697\n",
      "1.0    151\n",
      "Name: label, dtype: int64\n",
      "0.0    697\n",
      "1.0    151\n",
      "Name: label, dtype: int64\n"
     ]
    }
   ],
   "source": [
    "s1 = pd.Series(y_train_1)\n",
    "freq1 = s1.value_counts() \n",
    "print(freq1) \n",
    "s2 = pd.Series(y_train_2)\n",
    "freq2 = s2.value_counts() \n",
    "print(freq2) \n",
    "s3 = pd.Series(y_train_3)\n",
    "freq3 = s3.value_counts() \n",
    "print(freq3) "
   ]
  },
  {
   "cell_type": "markdown",
   "id": "6d0fee28-9feb-4801-bb55-f2e537ac12d8",
   "metadata": {
    "tags": []
   },
   "source": [
    "## 模型設計"
   ]
  },
  {
   "cell_type": "code",
   "execution_count": 33,
   "id": "2141b91d-713b-41db-b751-0f29231cc476",
   "metadata": {},
   "outputs": [],
   "source": [
    "#import package\n",
    "#轉向量用\n",
    "from sklearn.feature_extraction.text import CountVectorizer\n",
    "from sklearn.feature_extraction.text import TfidfTransformer\n",
    "from sklearn.feature_extraction.text import TfidfVectorizer \n",
    "from scipy.sparse import coo_matrix\n",
    "\n",
    "from imblearn.pipeline import Pipeline, make_pipeline\n",
    "from sklearn.model_selection import cross_validate\n",
    "import pickle #儲存模型用\n",
    "from sklearn.model_selection import train_test_split\n",
    "#類別採樣\n",
    "import imblearn.over_sampling as over_sampling\n",
    "import imblearn.under_sampling as under_sampling\n",
    "import imblearn.combine as combine\n",
    "from imblearn.pipeline import make_pipeline as make_pipeline_imb\n",
    "\n",
    "\n",
    "#模型\n",
    "from sklearn.metrics import classification_report\n",
    "from sklearn.linear_model import LogisticRegression\n",
    "from sklearn.ensemble import RandomForestClassifier\n",
    "from sklearn import svm\n",
    "from sklearn.ensemble import AdaBoostClassifier\n",
    "from sklearn.neural_network import MLPClassifier\n",
    "\n",
    "#from xgboost.sklearn import XGBClassifier\n",
    "\n",
    "#模型效能表現\n",
    "import sklearn.metrics as metrics"
   ]
  },
  {
   "cell_type": "code",
   "execution_count": 34,
   "id": "3a68f02d-3701-4cc6-8260-ec38fe75a7a8",
   "metadata": {},
   "outputs": [],
   "source": [
    "stop_words_list = ['ㄧ些', '一下', '一些','一點','一點點','bb','9oo']"
   ]
  },
  {
   "cell_type": "code",
   "execution_count": 38,
   "id": "ef4c1d09-9c26-489a-b946-f3eb16cdca9e",
   "metadata": {},
   "outputs": [],
   "source": [
    "def AdaBoost_model(X_train,X_test,y_train,y_test):\n",
    "    print(\"AdaBoost_model\")\n",
    "    \n",
    "    #模型架構\n",
    "    model = make_pipeline_imb(TfidfVectorizer(stop_words=stop_words_list,max_features=2000), over_sampling.SMOTE(), AdaBoostClassifier(n_estimators=200))\n",
    "    model.fit(X_train, y_train)\n",
    "    \n",
    "    #取词袋模型中的所有词语\n",
    "    feature_names = model.named_steps[\"tfidfvectorizer\"].get_feature_names()\n",
    "    #print(feature_names)\n",
    "    \n",
    "    #将tf-idf矩阵抽取出来，元素w[i][j]表示j词在i类文本中的tf-idf权重\n",
    "    #weight = model.named_steps[\"tfidfvectorizer\"].fit_transform(X_train)\n",
    "    #print(weight.shape)\n",
    "    \n",
    "    \n",
    "    #模型預測\n",
    "    pre = model.predict(X_test)\n",
    "    df_predict = pd.DataFrame(data={'X_test': X_test, 'y_test': y_test, 'pre':pre}) \n",
    "    df_predict.to_csv('../data/0414/predict_value.csv', encoding='utf_8_sig', index=False)\n",
    "    #麼行評估\n",
    "    classification_report(y_test, pre)\n",
    "    print(\"\\n\")"
   ]
  },
  {
   "cell_type": "code",
   "execution_count": 39,
   "id": "50171187-5ee5-4eb3-866f-5d4fd8e06710",
   "metadata": {},
   "outputs": [
    {
     "name": "stdout",
     "output_type": "stream",
     "text": [
      "AdaBoost_model\n",
      "TP: 47\n",
      "TN: 348\n",
      "FP: 13\n",
      "FN: 16\n",
      "Accuracy： 0.9316037735849056\n",
      "Recall： 0.746031746031746\n",
      "Specificity： 0.96398891966759\n",
      "Precision： 0.7833333333333333\n",
      "f1_score： 0.7642276422764228\n",
      "AUC： 0.855010332849668\n",
      "\n",
      "\n"
     ]
    }
   ],
   "source": [
    "AdaBoost_model(X_train_1,X_test_1,y_train_1,y_test_1)"
   ]
  },
  {
   "cell_type": "code",
   "execution_count": null,
   "id": "23cd106e-8f37-48cf-b026-f7277a074f9e",
   "metadata": {},
   "outputs": [],
   "source": []
  },
  {
   "cell_type": "code",
   "execution_count": null,
   "id": "f11d5d1f-7247-427b-8700-fa7b5551356a",
   "metadata": {},
   "outputs": [],
   "source": []
  }
 ],
 "metadata": {
  "kernelspec": {
   "display_name": "Python 3 (ipykernel)",
   "language": "python",
   "name": "python3"
  },
  "language_info": {
   "codemirror_mode": {
    "name": "ipython",
    "version": 3
   },
   "file_extension": ".py",
   "mimetype": "text/x-python",
   "name": "python",
   "nbconvert_exporter": "python",
   "pygments_lexer": "ipython3",
   "version": "3.8.12"
  }
 },
 "nbformat": 4,
 "nbformat_minor": 5
}
