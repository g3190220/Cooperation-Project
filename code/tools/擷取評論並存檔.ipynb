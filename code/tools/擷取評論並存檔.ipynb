{
 "cells": [
  {
   "cell_type": "code",
   "execution_count": 241,
   "id": "78854b85",
   "metadata": {},
   "outputs": [],
   "source": [
    "import pandas as pd\n",
    "import json"
   ]
  },
  {
   "cell_type": "code",
   "execution_count": 242,
   "id": "c9c73046",
   "metadata": {},
   "outputs": [],
   "source": [
    "file_name = 'google_hotel_data20211027_3'\n",
    "path = 'clean_data/'+ file_name + '.csv'"
   ]
  },
  {
   "cell_type": "code",
   "execution_count": 243,
   "id": "58234512",
   "metadata": {},
   "outputs": [],
   "source": [
    "df = pd.read_csv(path)"
   ]
  },
  {
   "cell_type": "code",
   "execution_count": 244,
   "id": "1931845c",
   "metadata": {},
   "outputs": [],
   "source": [
    "df = df.drop_duplicates(subset=['hotelName'],keep='first')"
   ]
  },
  {
   "cell_type": "code",
   "execution_count": 245,
   "id": "314c4def",
   "metadata": {},
   "outputs": [],
   "source": [
    "review_list = df['summary_reviews'].tolist()"
   ]
  },
  {
   "cell_type": "code",
   "execution_count": 246,
   "id": "f4c974c6",
   "metadata": {},
   "outputs": [
    {
     "data": {
      "text/plain": [
       "['一進到房間就讓人有放鬆的感覺!會是我再造訪一中商圈首選民宿。老闆真的很親切唷',\n",
       " '服務貼心，住宿距離夜市很近，值得推薦',\n",
       " '漂亮老闆娘服務親切，還介紹了很多附近美食和景點']"
      ]
     },
     "execution_count": 246,
     "metadata": {},
     "output_type": "execute_result"
    }
   ],
   "source": [
    "m = review_list[0]\n",
    "list1 = m[1:-1].split('\"')\n",
    "clear_review = list1[1::2] # 取得偶數位置\n",
    "clear_review"
   ]
  },
  {
   "cell_type": "code",
   "execution_count": 247,
   "id": "be28297b",
   "metadata": {},
   "outputs": [],
   "source": [
    "total_review=[]\n",
    "for element in review_list:\n",
    "    list1 = element[1:-1].split('\"')\n",
    "    clear_review = list1[1::2] # 取得偶數位置\n",
    "    for i in clear_review:\n",
    "        total_review.append(i)"
   ]
  },
  {
   "cell_type": "code",
   "execution_count": 248,
   "id": "75a1918d",
   "metadata": {},
   "outputs": [],
   "source": [
    "review_df = pd.DataFrame(total_review,columns=['reviews'])"
   ]
  },
  {
   "cell_type": "code",
   "execution_count": 249,
   "id": "f184dbe1",
   "metadata": {},
   "outputs": [],
   "source": [
    "file_name2 = \"review/\"+ file_name +\".csv\"\n",
    "review_df.to_csv(file_name2, index=False, encoding='utf_8_sig')"
   ]
  },
  {
   "cell_type": "markdown",
   "id": "9943b235",
   "metadata": {},
   "source": [
    "### 使用正規化"
   ]
  },
  {
   "cell_type": "code",
   "execution_count": 250,
   "id": "35d6aa40",
   "metadata": {},
   "outputs": [],
   "source": [
    "file_name = 'google_hotel_data20211025'\n",
    "path = 'clean_data/'+ file_name + '.csv'\n",
    "df = pd.read_csv(path)\n",
    "df = df.drop_duplicates(subset=['hotelName'],keep='first')\n",
    "review_list = df['summary_reviews'].tolist()"
   ]
  },
  {
   "cell_type": "code",
   "execution_count": 253,
   "id": "5fca7ee0",
   "metadata": {},
   "outputs": [
    {
     "name": "stdout",
     "output_type": "stream",
     "text": [
      "['陳遊客\"價格合理 舒適的房間 老闆娘人很好還會自己做早餐給旅客 重點是早餐吃到飽\"', '李威翰\"內部房間滿乾淨的，還有大場地，可以讓團體來使用，我覺得很棒\"', '陳姵樺\"隔音還可以，房間不小，但美中不足沒有乾濕分離\"']\n"
     ]
    }
   ],
   "source": [
    "import re\n",
    "print(review_list[0])"
   ]
  },
  {
   "cell_type": "code",
   "execution_count": null,
   "id": "a650f681",
   "metadata": {},
   "outputs": [],
   "source": []
  }
 ],
 "metadata": {
  "kernelspec": {
   "display_name": "Python 3 (ipykernel)",
   "language": "python",
   "name": "python3"
  },
  "language_info": {
   "codemirror_mode": {
    "name": "ipython",
    "version": 3
   },
   "file_extension": ".py",
   "mimetype": "text/x-python",
   "name": "python",
   "nbconvert_exporter": "python",
   "pygments_lexer": "ipython3",
   "version": "3.8.12"
  }
 },
 "nbformat": 4,
 "nbformat_minor": 5
}
