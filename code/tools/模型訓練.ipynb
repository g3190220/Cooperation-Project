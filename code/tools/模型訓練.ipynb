{
 "cells": [
  {
   "cell_type": "markdown",
   "id": "608f9531-d9c0-47a4-bf7b-fcfe91992f8e",
   "metadata": {
    "tags": []
   },
   "source": [
    "## 幾種思路"
   ]
  },
  {
   "cell_type": "markdown",
   "id": "aae267fd-f953-442a-88cc-e2bfb9aff87d",
   "metadata": {},
   "source": [
    "思路1：TF-IDF + 機器學習分類器\n",
    "直接使用TF-IDF對文本提取特徵，並使用分類器進行分類。在分類器的選擇上，可以使用SVM、LR、或者XGBoost。\n",
    "\n",
    "思路2：FastText\n",
    "FastText是入門款的詞向量，利用Facebook提供的FastText工具，可以快速構建出分類器。\n",
    "\n",
    "思路3：WordVec + 深度學習分類器\n",
    "WordVec是進階款的詞向量，並通過構建深度學習分類完成分類。深度學習分類的網絡結構可以選擇TextCNN、TextRNN或者BiLSTM。\n",
    "\n",
    "思路4：Bert詞向量\n",
    "Bert是高配款的詞向量，具有強大的建模學習能力。"
   ]
  },
  {
   "cell_type": "markdown",
   "id": "10abf616-467b-4883-8210-339068693e2b",
   "metadata": {
    "tags": []
   },
   "source": [
    "## 獲取五種模型的資料集"
   ]
  },
  {
   "cell_type": "code",
   "execution_count": 2,
   "id": "3f1556b9-10a8-4230-910e-2e0851184854",
   "metadata": {},
   "outputs": [],
   "source": [
    "import matplotlib.pyplot as plt\n",
    "import os\n",
    "import pandas as pd\n",
    "import numpy as np\n",
    "import re\n",
    "path = '../data/0407/review_data(seg+pos+stopwords)_train_n+v+f+p.csv'\n",
    "df_train = pd.read_csv(path)\n",
    "path = '../data/0407/review_data(seg+pos+stopwords)_test_n+v+f+p.csv'\n",
    "df_test = pd.read_csv(path)"
   ]
  },
  {
   "cell_type": "markdown",
   "id": "03134552-b205-4ba6-8b30-49d1b63f6e8d",
   "metadata": {
    "tags": []
   },
   "source": [
    "### 檢查重複值、空值"
   ]
  },
  {
   "cell_type": "code",
   "execution_count": 4,
   "id": "1531ac1b-eef7-41b4-bfed-f05450051de3",
   "metadata": {},
   "outputs": [
    {
     "data": {
      "text/html": [
       "<div>\n",
       "<style scoped>\n",
       "    .dataframe tbody tr th:only-of-type {\n",
       "        vertical-align: middle;\n",
       "    }\n",
       "\n",
       "    .dataframe tbody tr th {\n",
       "        vertical-align: top;\n",
       "    }\n",
       "\n",
       "    .dataframe thead th {\n",
       "        text-align: right;\n",
       "    }\n",
       "</style>\n",
       "<table border=\"1\" class=\"dataframe\">\n",
       "  <thead>\n",
       "    <tr style=\"text-align: right;\">\n",
       "      <th></th>\n",
       "      <th>reviews</th>\n",
       "      <th>value</th>\n",
       "      <th>comfort</th>\n",
       "      <th>location</th>\n",
       "      <th>cleanliness</th>\n",
       "      <th>service</th>\n",
       "      <th>facilities</th>\n",
       "      <th>ws_pos_reviews</th>\n",
       "      <th>filtered</th>\n",
       "      <th>filtered_word</th>\n",
       "    </tr>\n",
       "  </thead>\n",
       "  <tbody>\n",
       "    <tr>\n",
       "      <th>0</th>\n",
       "      <td>而且廚房有提供餅乾飲料可以買其實也可以不用去到全家買</td>\n",
       "      <td>0.0</td>\n",
       "      <td>0.0</td>\n",
       "      <td>0.0</td>\n",
       "      <td>0.0</td>\n",
       "      <td>1.0</td>\n",
       "      <td>0.0</td>\n",
       "      <td>而且(Cbb),廚房(Nc),有(V_2),提供(VD),餅乾(Na),飲料(Na),可以(...</td>\n",
       "      <td>廚房(Nc),提供(VD),餅乾(Na),飲料(Na),買(VC),不用(D),全(Neqa...</td>\n",
       "      <td>廚房(Nc),提供(VD),餅乾(Na),飲料(Na),買(VC),全(Neqa),家(Nc...</td>\n",
       "    </tr>\n",
       "    <tr>\n",
       "      <th>1</th>\n",
       "      <td>而且離車站客運站都很近有機會會想回住</td>\n",
       "      <td>0.0</td>\n",
       "      <td>0.0</td>\n",
       "      <td>1.0</td>\n",
       "      <td>0.0</td>\n",
       "      <td>0.0</td>\n",
       "      <td>0.0</td>\n",
       "      <td>而且(Cbb),離(P),車站(Nc),客運站(Nc),都(D),很(Dfa),近(VH),...</td>\n",
       "      <td>離(P),車站(Nc),客運站(Nc),機會(Na),想(VE),回住(VCL)</td>\n",
       "      <td>離(P),車站(Nc),客運站(Nc),機會(Na),想(VE),回住(VCL)</td>\n",
       "    </tr>\n",
       "    <tr>\n",
       "      <th>2</th>\n",
       "      <td>離車站好近房間很大隨時訂放都有人接洽雖然不是主題民宿推薦洽公背包客住宿</td>\n",
       "      <td>0.0</td>\n",
       "      <td>1.0</td>\n",
       "      <td>1.0</td>\n",
       "      <td>0.0</td>\n",
       "      <td>1.0</td>\n",
       "      <td>0.0</td>\n",
       "      <td>離(P),車站(Nc),好(Dfa),近(VH),房間(Nc),很(Dfa),大(VH),隨...</td>\n",
       "      <td>離(P),車站(Nc),好(Dfa),房間(Nc),隨時(D),訂放(VC),人(Na),接...</td>\n",
       "      <td>離(P),車站(Nc),房間(Nc),訂放(VC),人(Na),接洽(VC),主題(Na),...</td>\n",
       "    </tr>\n",
       "    <tr>\n",
       "      <th>3</th>\n",
       "      <td>4人房空間超大床埔也大整體乾淨舒適超讚</td>\n",
       "      <td>0.0</td>\n",
       "      <td>1.0</td>\n",
       "      <td>0.0</td>\n",
       "      <td>1.0</td>\n",
       "      <td>0.0</td>\n",
       "      <td>0.0</td>\n",
       "      <td>4(Neu),人(Na),房(Na),空間(Na),超大(A),床埔(Nc),也(D),大(...</td>\n",
       "      <td>人(Na),房(Na),空間(Na),超大(A),床埔(Nc),整體(Na),乾淨(VH),...</td>\n",
       "      <td>人(Na),房(Na),空間(Na),床埔(Nc),整體(Na),乾淨(VH),舒適(VH)</td>\n",
       "    </tr>\n",
       "    <tr>\n",
       "      <th>4</th>\n",
       "      <td>價格公道的背包客民宿老闆也蠻客氣的旁邊還有機車等代步工具可租乘</td>\n",
       "      <td>1.0</td>\n",
       "      <td>0.0</td>\n",
       "      <td>0.0</td>\n",
       "      <td>0.0</td>\n",
       "      <td>1.0</td>\n",
       "      <td>1.0</td>\n",
       "      <td>價格(Na),公道(VH),的(DE),背包客(Na),民宿(Nc),老闆(Na),也(D)...</td>\n",
       "      <td>價格(Na),公道(VH),背包客(Na),民宿(Nc),老闆(Na),客氣(VH),旁邊(...</td>\n",
       "      <td>價格(Na),公道(VH),背包客(Na),民宿(Nc),老闆(Na),客氣(VH),旁邊(...</td>\n",
       "    </tr>\n",
       "    <tr>\n",
       "      <th>...</th>\n",
       "      <td>...</td>\n",
       "      <td>...</td>\n",
       "      <td>...</td>\n",
       "      <td>...</td>\n",
       "      <td>...</td>\n",
       "      <td>...</td>\n",
       "      <td>...</td>\n",
       "      <td>...</td>\n",
       "      <td>...</td>\n",
       "      <td>...</td>\n",
       "    </tr>\n",
       "    <tr>\n",
       "      <th>415</th>\n",
       "      <td>房間就可以看到海馬哥非常熱情民宿風格簡約很多ikea的東西</td>\n",
       "      <td>0.0</td>\n",
       "      <td>0.0</td>\n",
       "      <td>1.0</td>\n",
       "      <td>0.0</td>\n",
       "      <td>1.0</td>\n",
       "      <td>1.0</td>\n",
       "      <td>房間(Nc),就(D),可以(D),看到(VE),海馬哥(Nb),非常(Dfa),熱情(VH...</td>\n",
       "      <td>房間(Nc),看到(VE),海馬哥(Nb),熱情(VH),民宿(Nc),風格(Na),簡約(...</td>\n",
       "      <td>房間(Nc),看到(VE),海馬哥(Nb),熱情(VH),民宿(Nc),風格(Na),簡約(...</td>\n",
       "    </tr>\n",
       "    <tr>\n",
       "      <th>416</th>\n",
       "      <td>老闆娘還說如果先問可以借嬰兒小推車我們就不用帶了帶小孩吃烤肉必備</td>\n",
       "      <td>0.0</td>\n",
       "      <td>0.0</td>\n",
       "      <td>0.0</td>\n",
       "      <td>0.0</td>\n",
       "      <td>0.0</td>\n",
       "      <td>1.0</td>\n",
       "      <td>老闆娘(Na),還(D),說(VE),如果(Cbb),先(D),問(VE),可以(D),借(...</td>\n",
       "      <td>老闆娘(Na),說(VE),先(D),問(VE),嬰兒(Na),小推車(VH),不用(D),...</td>\n",
       "      <td>老闆娘(Na),說(VE),問(VE),嬰兒(Na),小推車(VH),小孩(Na),吃(VC...</td>\n",
       "    </tr>\n",
       "    <tr>\n",
       "      <th>417</th>\n",
       "      <td>乾淨舒適闆娘和小幫手超熱情推薦在地景點及美食招待的水果好甜好好吃完食</td>\n",
       "      <td>0.0</td>\n",
       "      <td>1.0</td>\n",
       "      <td>0.0</td>\n",
       "      <td>1.0</td>\n",
       "      <td>1.0</td>\n",
       "      <td>0.0</td>\n",
       "      <td>乾淨(VH),舒適(VH),闆娘(Na),和(Caa),小(VH),幫手(Na),超(Dfa...</td>\n",
       "      <td>乾淨(VH),舒適(VH),闆娘(Na),小(VH),幫手(Na),超(Dfa),熱情(VH...</td>\n",
       "      <td>乾淨(VH),舒適(VH),闆娘(Na),小(VH),幫手(Na),熱情(VH),推薦(VC...</td>\n",
       "    </tr>\n",
       "    <tr>\n",
       "      <th>418</th>\n",
       "      <td>老闆娘親切贈予水果點心房間舒適整潔小孩很喜歡</td>\n",
       "      <td>0.0</td>\n",
       "      <td>1.0</td>\n",
       "      <td>0.0</td>\n",
       "      <td>1.0</td>\n",
       "      <td>1.0</td>\n",
       "      <td>0.0</td>\n",
       "      <td>老闆娘(Na),親切(VH),贈予(VD),水果(Na),點心(Na),房間(Nc),舒適(...</td>\n",
       "      <td>老闆娘(Na),親切(VH),贈予(VD),水果(Na),點心(Na),房間(Nc),舒適(...</td>\n",
       "      <td>老闆娘(Na),親切(VH),贈予(VD),水果(Na),點心(Na),房間(Nc),舒適(...</td>\n",
       "    </tr>\n",
       "    <tr>\n",
       "      <th>419</th>\n",
       "      <td>交通方便地點好近火車站近711房間大床非常舒適價格便宜</td>\n",
       "      <td>1.0</td>\n",
       "      <td>1.0</td>\n",
       "      <td>1.0</td>\n",
       "      <td>0.0</td>\n",
       "      <td>0.0</td>\n",
       "      <td>0.0</td>\n",
       "      <td>交通(Na),方便(VH),地點(Na),好(Dfa),近(VJ),火車站(Nc),近(Da...</td>\n",
       "      <td>交通(Na),方便(VH),地點(Na),好(Dfa),火車站(Nc),711(Neu),房...</td>\n",
       "      <td>交通(Na),方便(VH),地點(Na),火車站(Nc),711(Neu),房間(Nc),床...</td>\n",
       "    </tr>\n",
       "  </tbody>\n",
       "</table>\n",
       "<p>420 rows × 10 columns</p>\n",
       "</div>"
      ],
      "text/plain": [
       "                                 reviews  value  comfort  location  \\\n",
       "0             而且廚房有提供餅乾飲料可以買其實也可以不用去到全家買    0.0      0.0       0.0   \n",
       "1                     而且離車站客運站都很近有機會會想回住    0.0      0.0       1.0   \n",
       "2    離車站好近房間很大隨時訂放都有人接洽雖然不是主題民宿推薦洽公背包客住宿    0.0      1.0       1.0   \n",
       "3                    4人房空間超大床埔也大整體乾淨舒適超讚    0.0      1.0       0.0   \n",
       "4        價格公道的背包客民宿老闆也蠻客氣的旁邊還有機車等代步工具可租乘    1.0      0.0       0.0   \n",
       "..                                   ...    ...      ...       ...   \n",
       "415        房間就可以看到海馬哥非常熱情民宿風格簡約很多ikea的東西    0.0      0.0       1.0   \n",
       "416     老闆娘還說如果先問可以借嬰兒小推車我們就不用帶了帶小孩吃烤肉必備    0.0      0.0       0.0   \n",
       "417   乾淨舒適闆娘和小幫手超熱情推薦在地景點及美食招待的水果好甜好好吃完食    0.0      1.0       0.0   \n",
       "418               老闆娘親切贈予水果點心房間舒適整潔小孩很喜歡    0.0      1.0       0.0   \n",
       "419          交通方便地點好近火車站近711房間大床非常舒適價格便宜    1.0      1.0       1.0   \n",
       "\n",
       "     cleanliness  service  facilities  \\\n",
       "0            0.0      1.0         0.0   \n",
       "1            0.0      0.0         0.0   \n",
       "2            0.0      1.0         0.0   \n",
       "3            1.0      0.0         0.0   \n",
       "4            0.0      1.0         1.0   \n",
       "..           ...      ...         ...   \n",
       "415          0.0      1.0         1.0   \n",
       "416          0.0      0.0         1.0   \n",
       "417          1.0      1.0         0.0   \n",
       "418          1.0      1.0         0.0   \n",
       "419          0.0      0.0         0.0   \n",
       "\n",
       "                                        ws_pos_reviews  \\\n",
       "0    而且(Cbb),廚房(Nc),有(V_2),提供(VD),餅乾(Na),飲料(Na),可以(...   \n",
       "1    而且(Cbb),離(P),車站(Nc),客運站(Nc),都(D),很(Dfa),近(VH),...   \n",
       "2    離(P),車站(Nc),好(Dfa),近(VH),房間(Nc),很(Dfa),大(VH),隨...   \n",
       "3    4(Neu),人(Na),房(Na),空間(Na),超大(A),床埔(Nc),也(D),大(...   \n",
       "4    價格(Na),公道(VH),的(DE),背包客(Na),民宿(Nc),老闆(Na),也(D)...   \n",
       "..                                                 ...   \n",
       "415  房間(Nc),就(D),可以(D),看到(VE),海馬哥(Nb),非常(Dfa),熱情(VH...   \n",
       "416  老闆娘(Na),還(D),說(VE),如果(Cbb),先(D),問(VE),可以(D),借(...   \n",
       "417  乾淨(VH),舒適(VH),闆娘(Na),和(Caa),小(VH),幫手(Na),超(Dfa...   \n",
       "418  老闆娘(Na),親切(VH),贈予(VD),水果(Na),點心(Na),房間(Nc),舒適(...   \n",
       "419  交通(Na),方便(VH),地點(Na),好(Dfa),近(VJ),火車站(Nc),近(Da...   \n",
       "\n",
       "                                              filtered  \\\n",
       "0    廚房(Nc),提供(VD),餅乾(Na),飲料(Na),買(VC),不用(D),全(Neqa...   \n",
       "1             離(P),車站(Nc),客運站(Nc),機會(Na),想(VE),回住(VCL)   \n",
       "2    離(P),車站(Nc),好(Dfa),房間(Nc),隨時(D),訂放(VC),人(Na),接...   \n",
       "3    人(Na),房(Na),空間(Na),超大(A),床埔(Nc),整體(Na),乾淨(VH),...   \n",
       "4    價格(Na),公道(VH),背包客(Na),民宿(Nc),老闆(Na),客氣(VH),旁邊(...   \n",
       "..                                                 ...   \n",
       "415  房間(Nc),看到(VE),海馬哥(Nb),熱情(VH),民宿(Nc),風格(Na),簡約(...   \n",
       "416  老闆娘(Na),說(VE),先(D),問(VE),嬰兒(Na),小推車(VH),不用(D),...   \n",
       "417  乾淨(VH),舒適(VH),闆娘(Na),小(VH),幫手(Na),超(Dfa),熱情(VH...   \n",
       "418  老闆娘(Na),親切(VH),贈予(VD),水果(Na),點心(Na),房間(Nc),舒適(...   \n",
       "419  交通(Na),方便(VH),地點(Na),好(Dfa),火車站(Nc),711(Neu),房...   \n",
       "\n",
       "                                         filtered_word  \n",
       "0    廚房(Nc),提供(VD),餅乾(Na),飲料(Na),買(VC),全(Neqa),家(Nc...  \n",
       "1             離(P),車站(Nc),客運站(Nc),機會(Na),想(VE),回住(VCL)  \n",
       "2    離(P),車站(Nc),房間(Nc),訂放(VC),人(Na),接洽(VC),主題(Na),...  \n",
       "3       人(Na),房(Na),空間(Na),床埔(Nc),整體(Na),乾淨(VH),舒適(VH)  \n",
       "4    價格(Na),公道(VH),背包客(Na),民宿(Nc),老闆(Na),客氣(VH),旁邊(...  \n",
       "..                                                 ...  \n",
       "415  房間(Nc),看到(VE),海馬哥(Nb),熱情(VH),民宿(Nc),風格(Na),簡約(...  \n",
       "416  老闆娘(Na),說(VE),問(VE),嬰兒(Na),小推車(VH),小孩(Na),吃(VC...  \n",
       "417  乾淨(VH),舒適(VH),闆娘(Na),小(VH),幫手(Na),熱情(VH),推薦(VC...  \n",
       "418  老闆娘(Na),親切(VH),贈予(VD),水果(Na),點心(Na),房間(Nc),舒適(...  \n",
       "419  交通(Na),方便(VH),地點(Na),火車站(Nc),711(Neu),房間(Nc),床...  \n",
       "\n",
       "[420 rows x 10 columns]"
      ]
     },
     "execution_count": 4,
     "metadata": {},
     "output_type": "execute_result"
    }
   ],
   "source": [
    "df_test"
   ]
  },
  {
   "cell_type": "code",
   "execution_count": 6,
   "id": "cf01f08b-66b4-48dc-b539-f963be31ec24",
   "metadata": {},
   "outputs": [
    {
     "name": "stdout",
     "output_type": "stream",
     "text": [
      "Empty DataFrame\n",
      "Columns: [reviews, value, comfort, location, cleanliness, service, facilities, ws_pos_reviews, filtered, filtered_word]\n",
      "Index: []\n",
      "Empty DataFrame\n",
      "Columns: [reviews, value, comfort, location, cleanliness, service, facilities, ws_pos_reviews, filtered, filtered_word]\n",
      "Index: []\n"
     ]
    }
   ],
   "source": [
    "#印出重複資料\n",
    "print(df_test[df_test.duplicated()])\n",
    "print(df_train[df_train.duplicated()])"
   ]
  },
  {
   "cell_type": "code",
   "execution_count": 10,
   "id": "1fcd3385-74b6-4e0e-8a68-48f139e3161d",
   "metadata": {},
   "outputs": [],
   "source": [
    "#移除重複值\n",
    "#df = df.drop_duplicates()\n",
    "#print(df.shape)"
   ]
  },
  {
   "cell_type": "code",
   "execution_count": 11,
   "id": "57541fcf-3859-4b9d-a6af-68c3a1b7a1d7",
   "metadata": {},
   "outputs": [],
   "source": [
    "#印出空值資料\n",
    "#df_train[df_train.isnull().T.any()]"
   ]
  },
  {
   "cell_type": "markdown",
   "id": "9ef2dd09-a1d4-408b-af22-a11cdd6829a9",
   "metadata": {},
   "source": [
    "### 切分為五個資料集"
   ]
  },
  {
   "cell_type": "code",
   "execution_count": 12,
   "id": "e466b400-44e6-442f-914f-148dc9f2cd2c",
   "metadata": {},
   "outputs": [
    {
     "name": "stderr",
     "output_type": "stream",
     "text": [
      "C:\\Users\\g3190\\AppData\\Local\\Temp/ipykernel_13172/4192095093.py:2: SettingWithCopyWarning: \n",
      "A value is trying to be set on a copy of a slice from a DataFrame\n",
      "\n",
      "See the caveats in the documentation: https://pandas.pydata.org/pandas-docs/stable/user_guide/indexing.html#returning-a-view-versus-a-copy\n",
      "  df_value.rename(columns={'value': 'label'}, inplace=True)\n",
      "C:\\Users\\g3190\\AppData\\Local\\Temp/ipykernel_13172/4192095093.py:4: SettingWithCopyWarning: \n",
      "A value is trying to be set on a copy of a slice from a DataFrame\n",
      "\n",
      "See the caveats in the documentation: https://pandas.pydata.org/pandas-docs/stable/user_guide/indexing.html#returning-a-view-versus-a-copy\n",
      "  df_comfort.rename(columns={'comfort': 'label'}, inplace=True)\n",
      "C:\\Users\\g3190\\AppData\\Local\\Temp/ipykernel_13172/4192095093.py:6: SettingWithCopyWarning: \n",
      "A value is trying to be set on a copy of a slice from a DataFrame\n",
      "\n",
      "See the caveats in the documentation: https://pandas.pydata.org/pandas-docs/stable/user_guide/indexing.html#returning-a-view-versus-a-copy\n",
      "  df_location.rename(columns={'location': 'label'}, inplace=True)\n",
      "C:\\Users\\g3190\\AppData\\Local\\Temp/ipykernel_13172/4192095093.py:8: SettingWithCopyWarning: \n",
      "A value is trying to be set on a copy of a slice from a DataFrame\n",
      "\n",
      "See the caveats in the documentation: https://pandas.pydata.org/pandas-docs/stable/user_guide/indexing.html#returning-a-view-versus-a-copy\n",
      "  df_cleanliness.rename(columns={'cleanliness': 'label'}, inplace=True)\n",
      "C:\\Users\\g3190\\AppData\\Local\\Temp/ipykernel_13172/4192095093.py:10: SettingWithCopyWarning: \n",
      "A value is trying to be set on a copy of a slice from a DataFrame\n",
      "\n",
      "See the caveats in the documentation: https://pandas.pydata.org/pandas-docs/stable/user_guide/indexing.html#returning-a-view-versus-a-copy\n",
      "  df_service.rename(columns={'service': 'label'}, inplace=True)\n"
     ]
    }
   ],
   "source": [
    "df_value = df_train[['value','filtered_word']]\n",
    "df_value.rename(columns={'value': 'label'}, inplace=True)\n",
    "df_comfort = df_train[['comfort','filtered_word']]\n",
    "df_comfort.rename(columns={'comfort': 'label'}, inplace=True)\n",
    "df_location = df_train[['location','filtered_word']]\n",
    "df_location.rename(columns={'location': 'label'}, inplace=True)\n",
    "df_cleanliness = df_train[['cleanliness','filtered_word']]\n",
    "df_cleanliness.rename(columns={'cleanliness': 'label'}, inplace=True)\n",
    "df_service = df_train[['service','filtered_word']]\n",
    "df_service.rename(columns={'service': 'label'}, inplace=True)"
   ]
  },
  {
   "cell_type": "markdown",
   "id": "c59ec4bf-a42d-406c-a15e-54431ef328fd",
   "metadata": {},
   "source": [
    "### 清理資料"
   ]
  },
  {
   "cell_type": "code",
   "execution_count": 14,
   "id": "2cb95288-72e7-4508-aa53-1684ff8a63e1",
   "metadata": {},
   "outputs": [],
   "source": [
    "def remove_N_comma(sentence):\n",
    "    # 把後面(N..)(V..)(F..)拿掉\n",
    "    sentence = str(sentence)\n",
    "    pattern = re.compile(r\"\\([N,V,F,P].*?\\)\") #移除詞性標示\n",
    "    sentence = re.sub(pattern, '', sentence)\n",
    "    pattern = re.compile(r\",\") #將逗號替換為空格\n",
    "    sentence = re.sub(pattern, ' ', sentence)\n",
    "    return sentence\n",
    "pd.options.mode.chained_assignment = None  # 忽略警告\n",
    "df_value['filtered_word'] = df_value.apply(lambda x: remove_N_comma(x['filtered_word']),axis=1)\n",
    "df_comfort['filtered_word'] = df_value.apply(lambda x: remove_N_comma(x['filtered_word']),axis=1)\n",
    "df_location['filtered_word'] = df_value.apply(lambda x: remove_N_comma(x['filtered_word']),axis=1)\n",
    "df_cleanliness['filtered_word'] = df_value.apply(lambda x: remove_N_comma(x['filtered_word']),axis=1)\n",
    "df_service['filtered_word'] = df_value.apply(lambda x: remove_N_comma(x['filtered_word']),axis=1)"
   ]
  },
  {
   "cell_type": "code",
   "execution_count": 325,
   "id": "7e6d5012-fdfe-4645-98c2-c0ce57af0f1d",
   "metadata": {},
   "outputs": [],
   "source": [
    "#df_location.to_csv('../data/review_data(df_location)_n+v+f+p.csv', encoding='utf_8_sig', index=False)"
   ]
  },
  {
   "cell_type": "code",
   "execution_count": 327,
   "id": "96657345-dcdf-40d4-b09b-2904f3ea0281",
   "metadata": {},
   "outputs": [],
   "source": [
    "#df_location.loc[df_location['filtered_noun'].str.contains('在') & df_location['label']==1]"
   ]
  },
  {
   "cell_type": "markdown",
   "id": "41b21127-7864-4ea5-bbc6-872b5ce25697",
   "metadata": {
    "tags": []
   },
   "source": [
    "## 模型訓練"
   ]
  },
  {
   "cell_type": "code",
   "execution_count": 382,
   "id": "9f68cb11-c4ef-4366-9a3f-9af34c9dd711",
   "metadata": {},
   "outputs": [],
   "source": [
    "#import package\n",
    "from sklearn.feature_extraction.text import CountVectorizer\n",
    "from sklearn.feature_extraction.text import TfidfTransformer\n",
    "from sklearn.feature_extraction.text import TfidfVectorizer \n",
    "from imblearn.pipeline import Pipeline, make_pipeline\n",
    "from sklearn.model_selection import cross_validate\n",
    "import pickle #儲存模型用\n",
    "from sklearn.model_selection import train_test_split\n",
    "from imblearn.over_sampling import SMOTE,ADASYN\n",
    "from imblearn.combine import SMOTEENN\n",
    "\n",
    "#模型\n",
    "from sklearn.svm import SVC\n",
    "from sklearn.linear_model import LogisticRegression\n",
    "from sklearn.ensemble import RandomForestClassifier"
   ]
  },
  {
   "cell_type": "markdown",
   "id": "45a10c18-970c-4367-ab42-07e12c76306f",
   "metadata": {
    "tags": []
   },
   "source": [
    "### 切分資料集 (X為特徵；y為label)"
   ]
  },
  {
   "cell_type": "code",
   "execution_count": 383,
   "id": "b1998b3d-00ce-4527-b5a1-3eaae7382db3",
   "metadata": {},
   "outputs": [],
   "source": [
    "def split_data(df):\n",
    "    x = df.filtered_noun\n",
    "    y = df.label\n",
    "    # x_train, x_test, y_train, y_test = train_test_split(x, y, test_size=0.2) #訓練集：測試集 = 8:2\n",
    "    return x,y"
   ]
  },
  {
   "cell_type": "markdown",
   "id": "6d0fee28-9feb-4801-bb55-f2e537ac12d8",
   "metadata": {
    "tags": []
   },
   "source": [
    "### 三種模型驗證訓練"
   ]
  },
  {
   "cell_type": "code",
   "execution_count": 384,
   "id": "9eb1c08f-d71f-4152-b55e-280bfaf07269",
   "metadata": {},
   "outputs": [],
   "source": [
    "def train_SVM(X,y):\n",
    "    #向量化\n",
    "    vectorizer = TfidfVectorizer()\n",
    "    #clf = make_pipeline(vectorizer, SVC(kernel='linear'))\n",
    "    clf = make_pipeline(vectorizer, ADASYN(random_state=12), SVC(kernel='linear'))\n",
    "    # clf = Pipeline([\n",
    "    #   ('vect', CountVectorizer()),\n",
    "    #    ('tfidf', TfidfTransformer()),\n",
    "    #    ('smote', SMOTE(random_state=42)),\n",
    "    #    ('svc', SVC(kernel='linear'))\n",
    "    # ])\n",
    "    scores = cross_validate(clf, X, y, scoring=['accuracy','recall','precision','f1','roc_auc'], cv=10, return_train_score=False)\n",
    "    return scores\n",
    "def train_LR(X,y):\n",
    "    #向量化\n",
    "    vectorizer = TfidfVectorizer()\n",
    "    #clf = make_pipeline(vectorizer, LogisticRegression(random_state=0))\n",
    "    clf = make_pipeline(vectorizer, ADASYN(random_state=12), LogisticRegression(random_state=0))\n",
    "    scores = cross_validate(clf, X, y, scoring=['accuracy','recall','precision','f1','roc_auc'], cv=10, return_train_score=False)\n",
    "    return scores\n",
    "def train_RF(X,y):\n",
    "    #向量化\n",
    "    vectorizer = TfidfVectorizer()\n",
    "    #clf = make_pipeline(vectorizer, RandomForestClassifier(n_estimators=200, max_depth=3, random_state=0))\n",
    "    clf = make_pipeline(vectorizer, ADASYN(random_state=12), RandomForestClassifier(n_estimators=200, max_depth=3, random_state=0))\n",
    "    scores = cross_validate(clf, X, y, scoring=['accuracy','recall','precision','f1','roc_auc'], cv=10, return_train_score=False)\n",
    "    return scores"
   ]
  },
  {
   "cell_type": "markdown",
   "id": "05bca335-929e-46d6-b8e6-447621d41d8c",
   "metadata": {
    "tags": []
   },
   "source": [
    "### 顯示訓練結果"
   ]
  },
  {
   "cell_type": "code",
   "execution_count": 385,
   "id": "9ad34b64-c7c9-4cce-8b62-0a266a165a3e",
   "metadata": {},
   "outputs": [],
   "source": [
    "def show_output(scores_SVM,scores_LR,scores_RF):\n",
    "    total_score=[]\n",
    "    SVM_list = [scores_SVM['test_accuracy'].mean(),\n",
    "                scores_SVM['test_recall'].mean(),\n",
    "                scores_SVM['test_precision'].mean(),\n",
    "                scores_SVM['test_f1'].mean(),\n",
    "                scores_SVM['test_roc_auc'].mean(),]\n",
    "    LR_list = [scores_LR['test_accuracy'].mean(),\n",
    "                scores_LR['test_recall'].mean(),\n",
    "                scores_LR['test_precision'].mean(),\n",
    "                scores_LR['test_f1'].mean(),\n",
    "               scores_LR['test_roc_auc'].mean(),]\n",
    "    RF_list = [scores_RF['test_accuracy'].mean(),\n",
    "                scores_RF['test_recall'].mean(),\n",
    "                scores_RF['test_precision'].mean(),\n",
    "                scores_RF['test_f1'].mean(),\n",
    "               scores_RF['test_roc_auc'].mean()]\n",
    "    total_score.append(SVM_list)\n",
    "    total_score.append(LR_list)\n",
    "    total_score.append(RF_list)\n",
    "    df_scores = pd.DataFrame(total_score, columns=[\"accuracy\", \"recall\", \"precision\", \"f1_score\",'AUC'],index=['SVM','LR','RF'])\n",
    "    return df_scores"
   ]
  },
  {
   "cell_type": "markdown",
   "id": "a8465954-51b1-4f56-9650-9670379c1b3d",
   "metadata": {
    "tags": []
   },
   "source": [
    "## 模型一、value"
   ]
  },
  {
   "cell_type": "code",
   "execution_count": 386,
   "id": "b6b86762-dc7a-4c5c-9f6f-82b83a7266fc",
   "metadata": {},
   "outputs": [
    {
     "data": {
      "text/html": [
       "<div>\n",
       "<style scoped>\n",
       "    .dataframe tbody tr th:only-of-type {\n",
       "        vertical-align: middle;\n",
       "    }\n",
       "\n",
       "    .dataframe tbody tr th {\n",
       "        vertical-align: top;\n",
       "    }\n",
       "\n",
       "    .dataframe thead th {\n",
       "        text-align: right;\n",
       "    }\n",
       "</style>\n",
       "<table border=\"1\" class=\"dataframe\">\n",
       "  <thead>\n",
       "    <tr style=\"text-align: right;\">\n",
       "      <th></th>\n",
       "      <th>label</th>\n",
       "      <th>filtered_noun</th>\n",
       "    </tr>\n",
       "  </thead>\n",
       "  <tbody>\n",
       "    <tr>\n",
       "      <th>0</th>\n",
       "      <td>1.0</td>\n",
       "      <td>價格 合理 舒適 房間 老闆娘 人 好 做 早餐 旅客 重點 早餐 吃到飽</td>\n",
       "    </tr>\n",
       "    <tr>\n",
       "      <th>1</th>\n",
       "      <td>0.0</td>\n",
       "      <td>內部 房間 乾淨 場地 團體 使用 覺得 棒</td>\n",
       "    </tr>\n",
       "    <tr>\n",
       "      <th>2</th>\n",
       "      <td>0.0</td>\n",
       "      <td>房間 小 美中不足 乾 濕 分離</td>\n",
       "    </tr>\n",
       "    <tr>\n",
       "      <th>3</th>\n",
       "      <td>1.0</td>\n",
       "      <td>房子 設計 棒 房間 採光 好 大廳 挑高 氣派 房價 合理 台東 住 民宿</td>\n",
       "    </tr>\n",
       "    <tr>\n",
       "      <th>4</th>\n",
       "      <td>1.0</td>\n",
       "      <td>Cp值 高 乾淨 舒適 空間 大樓 下 免費 吐司 咖啡 老闆 回復 速度</td>\n",
       "    </tr>\n",
       "  </tbody>\n",
       "</table>\n",
       "</div>"
      ],
      "text/plain": [
       "   label                           filtered_noun\n",
       "0    1.0   價格 合理 舒適 房間 老闆娘 人 好 做 早餐 旅客 重點 早餐 吃到飽\n",
       "1    0.0                  內部 房間 乾淨 場地 團體 使用 覺得 棒\n",
       "2    0.0                        房間 小 美中不足 乾 濕 分離\n",
       "3    1.0  房子 設計 棒 房間 採光 好 大廳 挑高 氣派 房價 合理 台東 住 民宿\n",
       "4    1.0   Cp值 高 乾淨 舒適 空間 大樓 下 免費 吐司 咖啡 老闆 回復 速度"
      ]
     },
     "execution_count": 386,
     "metadata": {},
     "output_type": "execute_result"
    }
   ],
   "source": [
    "df_value.head()"
   ]
  },
  {
   "cell_type": "code",
   "execution_count": 387,
   "id": "d6cb2327-b90b-4cd6-b6f7-beaff81aa447",
   "metadata": {},
   "outputs": [],
   "source": [
    "x, y = split_data(df_value)\n",
    "scores_SVM = train_SVM(x,y)\n",
    "scores_LR = train_LR(x,y)\n",
    "scores_RF = train_RF(x,y)"
   ]
  },
  {
   "cell_type": "code",
   "execution_count": 388,
   "id": "627cb24d-f9ba-454a-8a44-fdeb2d333b5e",
   "metadata": {},
   "outputs": [
    {
     "data": {
      "text/html": [
       "<div>\n",
       "<style scoped>\n",
       "    .dataframe tbody tr th:only-of-type {\n",
       "        vertical-align: middle;\n",
       "    }\n",
       "\n",
       "    .dataframe tbody tr th {\n",
       "        vertical-align: top;\n",
       "    }\n",
       "\n",
       "    .dataframe thead th {\n",
       "        text-align: right;\n",
       "    }\n",
       "</style>\n",
       "<table border=\"1\" class=\"dataframe\">\n",
       "  <thead>\n",
       "    <tr style=\"text-align: right;\">\n",
       "      <th></th>\n",
       "      <th>accuracy</th>\n",
       "      <th>recall</th>\n",
       "      <th>precision</th>\n",
       "      <th>f1_score</th>\n",
       "      <th>AUC</th>\n",
       "    </tr>\n",
       "  </thead>\n",
       "  <tbody>\n",
       "    <tr>\n",
       "      <th>SVM</th>\n",
       "      <td>0.910402</td>\n",
       "      <td>0.692450</td>\n",
       "      <td>0.777919</td>\n",
       "      <td>0.726484</td>\n",
       "      <td>0.903338</td>\n",
       "    </tr>\n",
       "    <tr>\n",
       "      <th>LR</th>\n",
       "      <td>0.905173</td>\n",
       "      <td>0.688746</td>\n",
       "      <td>0.747411</td>\n",
       "      <td>0.715407</td>\n",
       "      <td>0.898178</td>\n",
       "    </tr>\n",
       "    <tr>\n",
       "      <th>RF</th>\n",
       "      <td>0.867909</td>\n",
       "      <td>0.402991</td>\n",
       "      <td>0.755979</td>\n",
       "      <td>0.513457</td>\n",
       "      <td>0.834358</td>\n",
       "    </tr>\n",
       "  </tbody>\n",
       "</table>\n",
       "</div>"
      ],
      "text/plain": [
       "     accuracy    recall  precision  f1_score       AUC\n",
       "SVM  0.910402  0.692450   0.777919  0.726484  0.903338\n",
       "LR   0.905173  0.688746   0.747411  0.715407  0.898178\n",
       "RF   0.867909  0.402991   0.755979  0.513457  0.834358"
      ]
     },
     "execution_count": 388,
     "metadata": {},
     "output_type": "execute_result"
    }
   ],
   "source": [
    "show_output(scores_SVM,scores_LR,scores_RF)"
   ]
  },
  {
   "cell_type": "markdown",
   "id": "4b2bc90e-7aad-4d96-8edd-5b2f8ea90601",
   "metadata": {
    "tags": []
   },
   "source": [
    "## 模型二、comfort"
   ]
  },
  {
   "cell_type": "code",
   "execution_count": 389,
   "id": "8c2d30f5-6279-4d1d-990d-6e4831814ca7",
   "metadata": {},
   "outputs": [
    {
     "data": {
      "text/html": [
       "<div>\n",
       "<style scoped>\n",
       "    .dataframe tbody tr th:only-of-type {\n",
       "        vertical-align: middle;\n",
       "    }\n",
       "\n",
       "    .dataframe tbody tr th {\n",
       "        vertical-align: top;\n",
       "    }\n",
       "\n",
       "    .dataframe thead th {\n",
       "        text-align: right;\n",
       "    }\n",
       "</style>\n",
       "<table border=\"1\" class=\"dataframe\">\n",
       "  <thead>\n",
       "    <tr style=\"text-align: right;\">\n",
       "      <th></th>\n",
       "      <th>label</th>\n",
       "      <th>filtered_noun</th>\n",
       "    </tr>\n",
       "  </thead>\n",
       "  <tbody>\n",
       "    <tr>\n",
       "      <th>0</th>\n",
       "      <td>1.0</td>\n",
       "      <td>價格 合理 舒適 房間 老闆娘 人 好 做 早餐 旅客 重點 早餐 吃到飽</td>\n",
       "    </tr>\n",
       "    <tr>\n",
       "      <th>1</th>\n",
       "      <td>1.0</td>\n",
       "      <td>內部 房間 乾淨 場地 團體 使用 覺得 棒</td>\n",
       "    </tr>\n",
       "    <tr>\n",
       "      <th>2</th>\n",
       "      <td>1.0</td>\n",
       "      <td>房間 小 美中不足 乾 濕 分離</td>\n",
       "    </tr>\n",
       "    <tr>\n",
       "      <th>3</th>\n",
       "      <td>1.0</td>\n",
       "      <td>房子 設計 棒 房間 採光 好 大廳 挑高 氣派 房價 合理 台東 住 民宿</td>\n",
       "    </tr>\n",
       "    <tr>\n",
       "      <th>4</th>\n",
       "      <td>1.0</td>\n",
       "      <td>Cp值 高 乾淨 舒適 空間 大樓 下 免費 吐司 咖啡 老闆 回復 速度</td>\n",
       "    </tr>\n",
       "  </tbody>\n",
       "</table>\n",
       "</div>"
      ],
      "text/plain": [
       "   label                           filtered_noun\n",
       "0    1.0   價格 合理 舒適 房間 老闆娘 人 好 做 早餐 旅客 重點 早餐 吃到飽\n",
       "1    1.0                  內部 房間 乾淨 場地 團體 使用 覺得 棒\n",
       "2    1.0                        房間 小 美中不足 乾 濕 分離\n",
       "3    1.0  房子 設計 棒 房間 採光 好 大廳 挑高 氣派 房價 合理 台東 住 民宿\n",
       "4    1.0   Cp值 高 乾淨 舒適 空間 大樓 下 免費 吐司 咖啡 老闆 回復 速度"
      ]
     },
     "execution_count": 389,
     "metadata": {},
     "output_type": "execute_result"
    }
   ],
   "source": [
    "df_comfort.head()"
   ]
  },
  {
   "cell_type": "code",
   "execution_count": 390,
   "id": "71752d5b-a7c5-4a35-ac1c-5093ba1c0553",
   "metadata": {},
   "outputs": [],
   "source": [
    "x, y = split_data(df_comfort)\n",
    "scores_SVM = train_SVM(x,y)\n",
    "scores_LR = train_LR(x,y)\n",
    "scores_RF = train_RF(x,y)"
   ]
  },
  {
   "cell_type": "code",
   "execution_count": 391,
   "id": "8f0ba56a-77cf-48d7-a851-a3093906acbf",
   "metadata": {},
   "outputs": [
    {
     "data": {
      "text/html": [
       "<div>\n",
       "<style scoped>\n",
       "    .dataframe tbody tr th:only-of-type {\n",
       "        vertical-align: middle;\n",
       "    }\n",
       "\n",
       "    .dataframe tbody tr th {\n",
       "        vertical-align: top;\n",
       "    }\n",
       "\n",
       "    .dataframe thead th {\n",
       "        text-align: right;\n",
       "    }\n",
       "</style>\n",
       "<table border=\"1\" class=\"dataframe\">\n",
       "  <thead>\n",
       "    <tr style=\"text-align: right;\">\n",
       "      <th></th>\n",
       "      <th>accuracy</th>\n",
       "      <th>recall</th>\n",
       "      <th>precision</th>\n",
       "      <th>f1_score</th>\n",
       "      <th>AUC</th>\n",
       "    </tr>\n",
       "  </thead>\n",
       "  <tbody>\n",
       "    <tr>\n",
       "      <th>SVM</th>\n",
       "      <td>0.752116</td>\n",
       "      <td>0.769676</td>\n",
       "      <td>0.834968</td>\n",
       "      <td>0.799402</td>\n",
       "      <td>0.824699</td>\n",
       "    </tr>\n",
       "    <tr>\n",
       "      <th>LR</th>\n",
       "      <td>0.765871</td>\n",
       "      <td>0.767646</td>\n",
       "      <td>0.857291</td>\n",
       "      <td>0.807632</td>\n",
       "      <td>0.839008</td>\n",
       "    </tr>\n",
       "    <tr>\n",
       "      <th>RF</th>\n",
       "      <td>0.692647</td>\n",
       "      <td>0.609256</td>\n",
       "      <td>0.879216</td>\n",
       "      <td>0.716653</td>\n",
       "      <td>0.800910</td>\n",
       "    </tr>\n",
       "  </tbody>\n",
       "</table>\n",
       "</div>"
      ],
      "text/plain": [
       "     accuracy    recall  precision  f1_score       AUC\n",
       "SVM  0.752116  0.769676   0.834968  0.799402  0.824699\n",
       "LR   0.765871  0.767646   0.857291  0.807632  0.839008\n",
       "RF   0.692647  0.609256   0.879216  0.716653  0.800910"
      ]
     },
     "execution_count": 391,
     "metadata": {},
     "output_type": "execute_result"
    }
   ],
   "source": [
    "show_output(scores_SVM,scores_LR,scores_RF)"
   ]
  },
  {
   "cell_type": "markdown",
   "id": "1aad33af-f4c3-44a3-a4ca-8fc749de4c41",
   "metadata": {
    "tags": []
   },
   "source": [
    "## 模型三、location"
   ]
  },
  {
   "cell_type": "code",
   "execution_count": 392,
   "id": "7a26f076-0ca3-46b8-8a33-3f71ab0fbf4b",
   "metadata": {},
   "outputs": [
    {
     "data": {
      "text/html": [
       "<div>\n",
       "<style scoped>\n",
       "    .dataframe tbody tr th:only-of-type {\n",
       "        vertical-align: middle;\n",
       "    }\n",
       "\n",
       "    .dataframe tbody tr th {\n",
       "        vertical-align: top;\n",
       "    }\n",
       "\n",
       "    .dataframe thead th {\n",
       "        text-align: right;\n",
       "    }\n",
       "</style>\n",
       "<table border=\"1\" class=\"dataframe\">\n",
       "  <thead>\n",
       "    <tr style=\"text-align: right;\">\n",
       "      <th></th>\n",
       "      <th>label</th>\n",
       "      <th>filtered_noun</th>\n",
       "    </tr>\n",
       "  </thead>\n",
       "  <tbody>\n",
       "    <tr>\n",
       "      <th>0</th>\n",
       "      <td>0.0</td>\n",
       "      <td>價格 合理 舒適 房間 老闆娘 人 好 做 早餐 旅客 重點 早餐 吃到飽</td>\n",
       "    </tr>\n",
       "    <tr>\n",
       "      <th>1</th>\n",
       "      <td>0.0</td>\n",
       "      <td>內部 房間 乾淨 場地 團體 使用 覺得 棒</td>\n",
       "    </tr>\n",
       "    <tr>\n",
       "      <th>2</th>\n",
       "      <td>0.0</td>\n",
       "      <td>房間 小 美中不足 乾 濕 分離</td>\n",
       "    </tr>\n",
       "    <tr>\n",
       "      <th>3</th>\n",
       "      <td>0.0</td>\n",
       "      <td>房子 設計 棒 房間 採光 好 大廳 挑高 氣派 房價 合理 台東 住 民宿</td>\n",
       "    </tr>\n",
       "    <tr>\n",
       "      <th>4</th>\n",
       "      <td>0.0</td>\n",
       "      <td>Cp值 高 乾淨 舒適 空間 大樓 下 免費 吐司 咖啡 老闆 回復 速度</td>\n",
       "    </tr>\n",
       "  </tbody>\n",
       "</table>\n",
       "</div>"
      ],
      "text/plain": [
       "   label                           filtered_noun\n",
       "0    0.0   價格 合理 舒適 房間 老闆娘 人 好 做 早餐 旅客 重點 早餐 吃到飽\n",
       "1    0.0                  內部 房間 乾淨 場地 團體 使用 覺得 棒\n",
       "2    0.0                        房間 小 美中不足 乾 濕 分離\n",
       "3    0.0  房子 設計 棒 房間 採光 好 大廳 挑高 氣派 房價 合理 台東 住 民宿\n",
       "4    0.0   Cp值 高 乾淨 舒適 空間 大樓 下 免費 吐司 咖啡 老闆 回復 速度"
      ]
     },
     "execution_count": 392,
     "metadata": {},
     "output_type": "execute_result"
    }
   ],
   "source": [
    "df_location.head()"
   ]
  },
  {
   "cell_type": "code",
   "execution_count": 393,
   "id": "1d4f192a-4f59-4dc5-8ed2-72950390d8a7",
   "metadata": {},
   "outputs": [],
   "source": [
    "x, y = split_data(df_location)\n",
    "scores_SVM = train_SVM(x,y)\n",
    "scores_LR = train_LR(x,y)\n",
    "scores_RF = train_RF(x,y)"
   ]
  },
  {
   "cell_type": "code",
   "execution_count": 394,
   "id": "916274f0-6987-4fab-9ede-c908b244b50f",
   "metadata": {},
   "outputs": [
    {
     "data": {
      "text/html": [
       "<div>\n",
       "<style scoped>\n",
       "    .dataframe tbody tr th:only-of-type {\n",
       "        vertical-align: middle;\n",
       "    }\n",
       "\n",
       "    .dataframe tbody tr th {\n",
       "        vertical-align: top;\n",
       "    }\n",
       "\n",
       "    .dataframe thead th {\n",
       "        text-align: right;\n",
       "    }\n",
       "</style>\n",
       "<table border=\"1\" class=\"dataframe\">\n",
       "  <thead>\n",
       "    <tr style=\"text-align: right;\">\n",
       "      <th></th>\n",
       "      <th>accuracy</th>\n",
       "      <th>recall</th>\n",
       "      <th>precision</th>\n",
       "      <th>f1_score</th>\n",
       "      <th>AUC</th>\n",
       "    </tr>\n",
       "  </thead>\n",
       "  <tbody>\n",
       "    <tr>\n",
       "      <th>SVM</th>\n",
       "      <td>0.872454</td>\n",
       "      <td>0.754348</td>\n",
       "      <td>0.810912</td>\n",
       "      <td>0.779634</td>\n",
       "      <td>0.910829</td>\n",
       "    </tr>\n",
       "    <tr>\n",
       "      <th>LR</th>\n",
       "      <td>0.875056</td>\n",
       "      <td>0.767391</td>\n",
       "      <td>0.811933</td>\n",
       "      <td>0.787581</td>\n",
       "      <td>0.915442</td>\n",
       "    </tr>\n",
       "    <tr>\n",
       "      <th>RF</th>\n",
       "      <td>0.818180</td>\n",
       "      <td>0.769565</td>\n",
       "      <td>0.677654</td>\n",
       "      <td>0.718379</td>\n",
       "      <td>0.881553</td>\n",
       "    </tr>\n",
       "  </tbody>\n",
       "</table>\n",
       "</div>"
      ],
      "text/plain": [
       "     accuracy    recall  precision  f1_score       AUC\n",
       "SVM  0.872454  0.754348   0.810912  0.779634  0.910829\n",
       "LR   0.875056  0.767391   0.811933  0.787581  0.915442\n",
       "RF   0.818180  0.769565   0.677654  0.718379  0.881553"
      ]
     },
     "execution_count": 394,
     "metadata": {},
     "output_type": "execute_result"
    }
   ],
   "source": [
    "show_output(scores_SVM,scores_LR,scores_RF)"
   ]
  },
  {
   "cell_type": "markdown",
   "id": "b69d22a0-b6e9-44ca-80eb-f19a7cbb2b45",
   "metadata": {
    "tags": []
   },
   "source": [
    "## 模型四、cleanliness"
   ]
  },
  {
   "cell_type": "code",
   "execution_count": 395,
   "id": "4a2520c6-f86f-4272-9efc-2bfd67c4ce01",
   "metadata": {},
   "outputs": [
    {
     "data": {
      "text/html": [
       "<div>\n",
       "<style scoped>\n",
       "    .dataframe tbody tr th:only-of-type {\n",
       "        vertical-align: middle;\n",
       "    }\n",
       "\n",
       "    .dataframe tbody tr th {\n",
       "        vertical-align: top;\n",
       "    }\n",
       "\n",
       "    .dataframe thead th {\n",
       "        text-align: right;\n",
       "    }\n",
       "</style>\n",
       "<table border=\"1\" class=\"dataframe\">\n",
       "  <thead>\n",
       "    <tr style=\"text-align: right;\">\n",
       "      <th></th>\n",
       "      <th>label</th>\n",
       "      <th>filtered_noun</th>\n",
       "    </tr>\n",
       "  </thead>\n",
       "  <tbody>\n",
       "    <tr>\n",
       "      <th>0</th>\n",
       "      <td>0.0</td>\n",
       "      <td>價格 合理 舒適 房間 老闆娘 人 好 做 早餐 旅客 重點 早餐 吃到飽</td>\n",
       "    </tr>\n",
       "    <tr>\n",
       "      <th>1</th>\n",
       "      <td>1.0</td>\n",
       "      <td>內部 房間 乾淨 場地 團體 使用 覺得 棒</td>\n",
       "    </tr>\n",
       "    <tr>\n",
       "      <th>2</th>\n",
       "      <td>0.0</td>\n",
       "      <td>房間 小 美中不足 乾 濕 分離</td>\n",
       "    </tr>\n",
       "    <tr>\n",
       "      <th>3</th>\n",
       "      <td>0.0</td>\n",
       "      <td>房子 設計 棒 房間 採光 好 大廳 挑高 氣派 房價 合理 台東 住 民宿</td>\n",
       "    </tr>\n",
       "    <tr>\n",
       "      <th>4</th>\n",
       "      <td>0.0</td>\n",
       "      <td>Cp值 高 乾淨 舒適 空間 大樓 下 免費 吐司 咖啡 老闆 回復 速度</td>\n",
       "    </tr>\n",
       "  </tbody>\n",
       "</table>\n",
       "</div>"
      ],
      "text/plain": [
       "   label                           filtered_noun\n",
       "0    0.0   價格 合理 舒適 房間 老闆娘 人 好 做 早餐 旅客 重點 早餐 吃到飽\n",
       "1    1.0                  內部 房間 乾淨 場地 團體 使用 覺得 棒\n",
       "2    0.0                        房間 小 美中不足 乾 濕 分離\n",
       "3    0.0  房子 設計 棒 房間 採光 好 大廳 挑高 氣派 房價 合理 台東 住 民宿\n",
       "4    0.0   Cp值 高 乾淨 舒適 空間 大樓 下 免費 吐司 咖啡 老闆 回復 速度"
      ]
     },
     "execution_count": 395,
     "metadata": {},
     "output_type": "execute_result"
    }
   ],
   "source": [
    "df_cleanliness.head()"
   ]
  },
  {
   "cell_type": "code",
   "execution_count": 396,
   "id": "108b3b0d-5acf-4080-8fae-c0853c4fb7ca",
   "metadata": {},
   "outputs": [],
   "source": [
    "x, y = split_data(df_cleanliness)\n",
    "scores_SVM = train_SVM(x,y)\n",
    "scores_LR = train_LR(x,y)\n",
    "scores_RF = train_RF(x,y)"
   ]
  },
  {
   "cell_type": "code",
   "execution_count": 397,
   "id": "0af23316-a63d-42f3-904c-09e9f7f5c6fe",
   "metadata": {},
   "outputs": [
    {
     "data": {
      "text/html": [
       "<div>\n",
       "<style scoped>\n",
       "    .dataframe tbody tr th:only-of-type {\n",
       "        vertical-align: middle;\n",
       "    }\n",
       "\n",
       "    .dataframe tbody tr th {\n",
       "        vertical-align: top;\n",
       "    }\n",
       "\n",
       "    .dataframe thead th {\n",
       "        text-align: right;\n",
       "    }\n",
       "</style>\n",
       "<table border=\"1\" class=\"dataframe\">\n",
       "  <thead>\n",
       "    <tr style=\"text-align: right;\">\n",
       "      <th></th>\n",
       "      <th>accuracy</th>\n",
       "      <th>recall</th>\n",
       "      <th>precision</th>\n",
       "      <th>f1_score</th>\n",
       "      <th>AUC</th>\n",
       "    </tr>\n",
       "  </thead>\n",
       "  <tbody>\n",
       "    <tr>\n",
       "      <th>SVM</th>\n",
       "      <td>0.964044</td>\n",
       "      <td>0.888232</td>\n",
       "      <td>0.973694</td>\n",
       "      <td>0.927889</td>\n",
       "      <td>0.976417</td>\n",
       "    </tr>\n",
       "    <tr>\n",
       "      <th>LR</th>\n",
       "      <td>0.938528</td>\n",
       "      <td>0.808841</td>\n",
       "      <td>0.951103</td>\n",
       "      <td>0.873570</td>\n",
       "      <td>0.971489</td>\n",
       "    </tr>\n",
       "    <tr>\n",
       "      <th>RF</th>\n",
       "      <td>0.885548</td>\n",
       "      <td>0.674451</td>\n",
       "      <td>0.863391</td>\n",
       "      <td>0.749991</td>\n",
       "      <td>0.934350</td>\n",
       "    </tr>\n",
       "  </tbody>\n",
       "</table>\n",
       "</div>"
      ],
      "text/plain": [
       "     accuracy    recall  precision  f1_score       AUC\n",
       "SVM  0.964044  0.888232   0.973694  0.927889  0.976417\n",
       "LR   0.938528  0.808841   0.951103  0.873570  0.971489\n",
       "RF   0.885548  0.674451   0.863391  0.749991  0.934350"
      ]
     },
     "execution_count": 397,
     "metadata": {},
     "output_type": "execute_result"
    }
   ],
   "source": [
    "show_output(scores_SVM,scores_LR,scores_RF)"
   ]
  },
  {
   "cell_type": "markdown",
   "id": "6c20978a-33aa-4659-923b-d56929017936",
   "metadata": {
    "tags": []
   },
   "source": [
    "## 模型五、service"
   ]
  },
  {
   "cell_type": "code",
   "execution_count": 398,
   "id": "7e9c098f-70fb-4cb6-8913-78c234b6c87d",
   "metadata": {},
   "outputs": [
    {
     "data": {
      "text/html": [
       "<div>\n",
       "<style scoped>\n",
       "    .dataframe tbody tr th:only-of-type {\n",
       "        vertical-align: middle;\n",
       "    }\n",
       "\n",
       "    .dataframe tbody tr th {\n",
       "        vertical-align: top;\n",
       "    }\n",
       "\n",
       "    .dataframe thead th {\n",
       "        text-align: right;\n",
       "    }\n",
       "</style>\n",
       "<table border=\"1\" class=\"dataframe\">\n",
       "  <thead>\n",
       "    <tr style=\"text-align: right;\">\n",
       "      <th></th>\n",
       "      <th>label</th>\n",
       "      <th>filtered_noun</th>\n",
       "    </tr>\n",
       "  </thead>\n",
       "  <tbody>\n",
       "    <tr>\n",
       "      <th>0</th>\n",
       "      <td>1.0</td>\n",
       "      <td>價格 合理 舒適 房間 老闆娘 人 好 做 早餐 旅客 重點 早餐 吃到飽</td>\n",
       "    </tr>\n",
       "    <tr>\n",
       "      <th>1</th>\n",
       "      <td>0.0</td>\n",
       "      <td>內部 房間 乾淨 場地 團體 使用 覺得 棒</td>\n",
       "    </tr>\n",
       "    <tr>\n",
       "      <th>2</th>\n",
       "      <td>0.0</td>\n",
       "      <td>房間 小 美中不足 乾 濕 分離</td>\n",
       "    </tr>\n",
       "    <tr>\n",
       "      <th>3</th>\n",
       "      <td>0.0</td>\n",
       "      <td>房子 設計 棒 房間 採光 好 大廳 挑高 氣派 房價 合理 台東 住 民宿</td>\n",
       "    </tr>\n",
       "    <tr>\n",
       "      <th>4</th>\n",
       "      <td>1.0</td>\n",
       "      <td>Cp值 高 乾淨 舒適 空間 大樓 下 免費 吐司 咖啡 老闆 回復 速度</td>\n",
       "    </tr>\n",
       "  </tbody>\n",
       "</table>\n",
       "</div>"
      ],
      "text/plain": [
       "   label                           filtered_noun\n",
       "0    1.0   價格 合理 舒適 房間 老闆娘 人 好 做 早餐 旅客 重點 早餐 吃到飽\n",
       "1    0.0                  內部 房間 乾淨 場地 團體 使用 覺得 棒\n",
       "2    0.0                        房間 小 美中不足 乾 濕 分離\n",
       "3    0.0  房子 設計 棒 房間 採光 好 大廳 挑高 氣派 房價 合理 台東 住 民宿\n",
       "4    1.0   Cp值 高 乾淨 舒適 空間 大樓 下 免費 吐司 咖啡 老闆 回復 速度"
      ]
     },
     "execution_count": 398,
     "metadata": {},
     "output_type": "execute_result"
    }
   ],
   "source": [
    "df_service.head()"
   ]
  },
  {
   "cell_type": "code",
   "execution_count": 399,
   "id": "292d6caa-0cf4-4c3e-a0fa-b2d78dfeea7b",
   "metadata": {},
   "outputs": [],
   "source": [
    "x, y = split_data(df_service)\n",
    "scores_SVM = train_SVM(x,y)\n",
    "scores_LR = train_LR(x,y)\n",
    "scores_RF = train_RF(x,y)"
   ]
  },
  {
   "cell_type": "code",
   "execution_count": 400,
   "id": "e553c74c-056d-4cd4-86ae-37fa193dba7c",
   "metadata": {},
   "outputs": [
    {
     "data": {
      "text/html": [
       "<div>\n",
       "<style scoped>\n",
       "    .dataframe tbody tr th:only-of-type {\n",
       "        vertical-align: middle;\n",
       "    }\n",
       "\n",
       "    .dataframe tbody tr th {\n",
       "        vertical-align: top;\n",
       "    }\n",
       "\n",
       "    .dataframe thead th {\n",
       "        text-align: right;\n",
       "    }\n",
       "</style>\n",
       "<table border=\"1\" class=\"dataframe\">\n",
       "  <thead>\n",
       "    <tr style=\"text-align: right;\">\n",
       "      <th></th>\n",
       "      <th>accuracy</th>\n",
       "      <th>recall</th>\n",
       "      <th>precision</th>\n",
       "      <th>f1_score</th>\n",
       "      <th>AUC</th>\n",
       "    </tr>\n",
       "  </thead>\n",
       "  <tbody>\n",
       "    <tr>\n",
       "      <th>SVM</th>\n",
       "      <td>0.888145</td>\n",
       "      <td>0.891304</td>\n",
       "      <td>0.922456</td>\n",
       "      <td>0.905691</td>\n",
       "      <td>0.947073</td>\n",
       "    </tr>\n",
       "    <tr>\n",
       "      <th>LR</th>\n",
       "      <td>0.889469</td>\n",
       "      <td>0.870652</td>\n",
       "      <td>0.942770</td>\n",
       "      <td>0.904527</td>\n",
       "      <td>0.951755</td>\n",
       "    </tr>\n",
       "    <tr>\n",
       "      <th>RF</th>\n",
       "      <td>0.847609</td>\n",
       "      <td>0.789130</td>\n",
       "      <td>0.950145</td>\n",
       "      <td>0.861413</td>\n",
       "      <td>0.928545</td>\n",
       "    </tr>\n",
       "  </tbody>\n",
       "</table>\n",
       "</div>"
      ],
      "text/plain": [
       "     accuracy    recall  precision  f1_score       AUC\n",
       "SVM  0.888145  0.891304   0.922456  0.905691  0.947073\n",
       "LR   0.889469  0.870652   0.942770  0.904527  0.951755\n",
       "RF   0.847609  0.789130   0.950145  0.861413  0.928545"
      ]
     },
     "execution_count": 400,
     "metadata": {},
     "output_type": "execute_result"
    }
   ],
   "source": [
    "show_output(scores_SVM,scores_LR,scores_RF)"
   ]
  },
  {
   "cell_type": "code",
   "execution_count": null,
   "id": "f3cb6596-24d3-4d98-bd48-f6c2b1b4fdd1",
   "metadata": {},
   "outputs": [],
   "source": []
  },
  {
   "cell_type": "code",
   "execution_count": null,
   "id": "335fbe29-6d52-4081-9b05-e8e9e0c1d167",
   "metadata": {},
   "outputs": [],
   "source": []
  },
  {
   "cell_type": "code",
   "execution_count": null,
   "id": "0130091e-7ba0-4dc9-ba44-c06517cdfbb2",
   "metadata": {},
   "outputs": [],
   "source": []
  },
  {
   "cell_type": "code",
   "execution_count": null,
   "id": "87772564-2741-4ff5-a7a2-cccd0f4bad47",
   "metadata": {},
   "outputs": [],
   "source": []
  },
  {
   "cell_type": "code",
   "execution_count": null,
   "id": "09f8bd6f-ca57-47b4-88e9-6e930df690ad",
   "metadata": {},
   "outputs": [],
   "source": []
  }
 ],
 "metadata": {
  "kernelspec": {
   "display_name": "Python 3 (ipykernel)",
   "language": "python",
   "name": "python3"
  },
  "language_info": {
   "codemirror_mode": {
    "name": "ipython",
    "version": 3
   },
   "file_extension": ".py",
   "mimetype": "text/x-python",
   "name": "python",
   "nbconvert_exporter": "python",
   "pygments_lexer": "ipython3",
   "version": "3.8.12"
  }
 },
 "nbformat": 4,
 "nbformat_minor": 5
}
